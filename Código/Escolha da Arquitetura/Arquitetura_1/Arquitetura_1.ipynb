{
 "cells": [
  {
   "cell_type": "markdown",
   "metadata": {
    "id": "UkI0941Krg0i"
   },
   "source": [
    "---\n",
    "\n",
    "W = 250 -> **Isso aqui sou eu assumindo que o comportamento da moeda pode ser comparada com o comportamento dela dos ultimos 200 dias**\n",
    "\n",
    "w = 14 -> **Isso aqui sou eu assumindo que o retorno é influenciado e pode ser derivado das informações dos ultimos 14 dias**\n",
    "\n",
    "numero de dias a se analisar: 250\n",
    "\n",
    "---\n",
    "\n",
    "Arquitetura 0:\n",
    "\n",
    "LSTM, 1 || Dropout 0.2 || Dense 1\n",
    "\n",
    "* 1 Feature\n",
    "* 50 epochs\n",
    "\n",
    "---\n",
    "\n",
    "Arquitetura 0.5:\n",
    "\n",
    "LSTM, 1 || Dropout 0.2 || Dense 1\n",
    "\n",
    "* 2 Features :  ROI e ROI_BTC\n",
    "* RMSProp, 1e-3\n",
    "* 100 epochs + metodo de parada\n",
    "\n",
    "---\n",
    "\n",
    "Arquitetura 1:\n",
    "\n",
    "LSTM, 64, l2=0.001 || Drop 0.3 || Batch Norm || LSTM, 32 || Drop 0.3 || Dense 1\n",
    "\n",
    "* 2 Atributos, ROI e ROI_BTC\n",
    "* RMSProp, 1e-3\n",
    "* 200 epochs +  metodo de parada\n",
    "\n",
    "---\n",
    "\n",
    "Arquitetura 2:\n",
    "\n",
    "CNN 15 || Pooling Layer 2 ||  LSTM 50 || Batch Norm || dropout 0.5 || Dense 128 || Batch Norm || Drop 0.2 || Dense 1\n",
    "\n",
    "* 2 Atributos, ROI e ROI_BTC\n",
    "* RMSProp, 1e-3\n",
    "* 200 epochs + metodo de parada\n",
    "\n",
    "---\n",
    "\n",
    "Arquitetura 3:\n",
    "\n",
    "A construir\n"
   ]
  },
  {
   "cell_type": "code",
   "execution_count": 1,
   "metadata": {
    "id": "ivpY4XBa4m-p"
   },
   "outputs": [],
   "source": [
    "import pandas as pd\n",
    "import numpy as np\n",
    "import yfinance as yf\n",
    "import tensorflow as tf\n",
    "from tensorflow.keras.models import Sequential\n",
    "from tensorflow.keras.layers import LSTM, Dense\n",
    "from sklearn.model_selection import train_test_split\n",
    "from tensorflow.keras.callbacks import EarlyStopping\n",
    "from sklearn.preprocessing import MinMaxScaler\n",
    "import time\n",
    "import matplotlib.pyplot as plt\n",
    "import math\n",
    "import copy\n",
    "from concurrent.futures import ThreadPoolExecutor\n",
    "from concurrent.futures import ProcessPoolExecutor\n",
    "from tensorflow.keras.layers import Input\n",
    "from sklearn.preprocessing import StandardScaler\n",
    "from keras.layers import Dropout"
   ]
  },
  {
   "cell_type": "code",
   "execution_count": 2,
   "metadata": {
    "id": "rU7httQh4m-4"
   },
   "outputs": [],
   "source": [
    "# HIPERPARÂMETROS:\n",
    "start_date = '2014-08-21'\n",
    "W = 250  # Lembrando que o tamanho do treinamento será W - w\n",
    "w = 14  "
   ]
  },
  {
   "cell_type": "code",
   "execution_count": 3,
   "metadata": {
    "id": "CcAdcDbn4m_G"
   },
   "outputs": [],
   "source": [
    "# Criptomoedas que vamos escolher para nosso portifólio\n",
    "cryptos = [\n",
    "    'BTC-USD', 'LTC-USD'\n",
    "]"
   ]
  },
  {
   "cell_type": "code",
   "execution_count": 4,
   "metadata": {
    "id": "yRmQyU5d4m_H"
   },
   "outputs": [],
   "source": [
    "## Função para calcular o retorno logarítmico\n",
    "def log_return(series):\n",
    "    return np.log(series['Close'] / series['Open'])"
   ]
  },
  {
   "cell_type": "code",
   "execution_count": 5,
   "metadata": {
    "colab": {
     "base_uri": "https://localhost:8080/"
    },
    "collapsed": true,
    "id": "OwC8TZu-4m_I",
    "outputId": "f2baa2f3-fae4-4f97-ac96-6bdbbe2c0031"
   },
   "outputs": [
    {
     "name": "stderr",
     "output_type": "stream",
     "text": [
      "[*********************100%%**********************]  1 of 1 completed\n",
      "[*********************100%%**********************]  1 of 1 completed\n"
     ]
    }
   ],
   "source": [
    "data = {}\n",
    "for crypto in cryptos:\n",
    "    # Baixar dados e calcular retorno logarítmico\n",
    "    df = yf.download(crypto, start=start_date, end=pd.to_datetime(\"today\").strftime(\"%Y-%m-%d\"), interval='1d')\n",
    "    df['Return'] = log_return(df)\n",
    "\n",
    "    # Construir DataFrame final, pegando o retorno do dia anterior e o atual\n",
    "    df_final = pd.DataFrame({\n",
    "        #'Volume': df['Volume'],\n",
    "        'Crypto_Return_Today': df['Return']\n",
    "    }).dropna()\n",
    "\n",
    "    data[crypto] = df_final"
   ]
  },
  {
   "cell_type": "code",
   "execution_count": 6,
   "metadata": {
    "colab": {
     "base_uri": "https://localhost:8080/"
    },
    "id": "4xmM6IjZ4m_K",
    "outputId": "780d2719-8923-4547-a030-b5cc158b7916"
   },
   "outputs": [
    {
     "name": "stderr",
     "output_type": "stream",
     "text": [
      "[*********************100%%**********************]  1 of 1 completed\n",
      "[*********************100%%**********************]  1 of 1 completed\n"
     ]
    }
   ],
   "source": [
    "aux = yf.download('BTC-USD', start=start_date, end=pd.to_datetime(\"today\").strftime(\"%Y-%m-%d\"), interval='1d')\n",
    "aux['Return'] = log_return(aux)\n",
    "aux = pd.DataFrame({'BTC-Return': aux['Return']})\n",
    "\n",
    "data['LTC-USD'] = pd.merge(aux, data['LTC-USD'],  left_index=True, right_index=True, how='outer').dropna()\n",
    "\n",
    "aux = yf.download('LTC-USD', start=start_date, end=pd.to_datetime(\"today\").strftime(\"%Y-%m-%d\"), interval='1d')\n",
    "aux['Return'] = log_return(aux)\n",
    "aux = pd.DataFrame({'LTC-Return': aux['Return']})\n",
    "\n",
    "data['BTC-USD'] = pd.merge(aux, data['BTC-USD'],  left_index=True, right_index=True, how='outer').dropna()"
   ]
  },
  {
   "cell_type": "code",
   "execution_count": 7,
   "metadata": {
    "colab": {
     "base_uri": "https://localhost:8080/",
     "height": 455
    },
    "id": "4l8DJdOj_wfn",
    "outputId": "61981f1d-49c4-4d81-bfbe-77617c07c715"
   },
   "outputs": [
    {
     "data": {
      "text/html": [
       "<div>\n",
       "<style scoped>\n",
       "    .dataframe tbody tr th:only-of-type {\n",
       "        vertical-align: middle;\n",
       "    }\n",
       "\n",
       "    .dataframe tbody tr th {\n",
       "        vertical-align: top;\n",
       "    }\n",
       "\n",
       "    .dataframe thead th {\n",
       "        text-align: right;\n",
       "    }\n",
       "</style>\n",
       "<table border=\"1\" class=\"dataframe\">\n",
       "  <thead>\n",
       "    <tr style=\"text-align: right;\">\n",
       "      <th></th>\n",
       "      <th>BTC-Return</th>\n",
       "      <th>Crypto_Return_Today</th>\n",
       "    </tr>\n",
       "    <tr>\n",
       "      <th>Date</th>\n",
       "      <th></th>\n",
       "      <th></th>\n",
       "    </tr>\n",
       "  </thead>\n",
       "  <tbody>\n",
       "    <tr>\n",
       "      <th>2014-09-17</th>\n",
       "      <td>-0.018480</td>\n",
       "      <td>-0.005390</td>\n",
       "    </tr>\n",
       "    <tr>\n",
       "      <th>2014-09-18</th>\n",
       "      <td>-0.073606</td>\n",
       "      <td>-0.078024</td>\n",
       "    </tr>\n",
       "    <tr>\n",
       "      <th>2014-09-19</th>\n",
       "      <td>-0.071607</td>\n",
       "      <td>-0.079802</td>\n",
       "    </tr>\n",
       "    <tr>\n",
       "      <th>2014-09-20</th>\n",
       "      <td>0.035423</td>\n",
       "      <td>-0.009926</td>\n",
       "    </tr>\n",
       "    <tr>\n",
       "      <th>2014-09-21</th>\n",
       "      <td>-0.022963</td>\n",
       "      <td>-0.004031</td>\n",
       "    </tr>\n",
       "    <tr>\n",
       "      <th>...</th>\n",
       "      <td>...</td>\n",
       "      <td>...</td>\n",
       "    </tr>\n",
       "    <tr>\n",
       "      <th>2024-10-28</th>\n",
       "      <td>0.028807</td>\n",
       "      <td>-0.005068</td>\n",
       "    </tr>\n",
       "    <tr>\n",
       "      <th>2024-10-29</th>\n",
       "      <td>0.039414</td>\n",
       "      <td>0.045062</td>\n",
       "    </tr>\n",
       "    <tr>\n",
       "      <th>2024-10-30</th>\n",
       "      <td>-0.005182</td>\n",
       "      <td>-0.029316</td>\n",
       "    </tr>\n",
       "    <tr>\n",
       "      <th>2024-10-31</th>\n",
       "      <td>-0.029744</td>\n",
       "      <td>-0.037382</td>\n",
       "    </tr>\n",
       "    <tr>\n",
       "      <th>2024-11-01</th>\n",
       "      <td>-0.010515</td>\n",
       "      <td>0.014388</td>\n",
       "    </tr>\n",
       "  </tbody>\n",
       "</table>\n",
       "<p>3699 rows × 2 columns</p>\n",
       "</div>"
      ],
      "text/plain": [
       "            BTC-Return  Crypto_Return_Today\n",
       "Date                                       \n",
       "2014-09-17   -0.018480            -0.005390\n",
       "2014-09-18   -0.073606            -0.078024\n",
       "2014-09-19   -0.071607            -0.079802\n",
       "2014-09-20    0.035423            -0.009926\n",
       "2014-09-21   -0.022963            -0.004031\n",
       "...                ...                  ...\n",
       "2024-10-28    0.028807            -0.005068\n",
       "2024-10-29    0.039414             0.045062\n",
       "2024-10-30   -0.005182            -0.029316\n",
       "2024-10-31   -0.029744            -0.037382\n",
       "2024-11-01   -0.010515             0.014388\n",
       "\n",
       "[3699 rows x 2 columns]"
      ]
     },
     "execution_count": 7,
     "metadata": {},
     "output_type": "execute_result"
    }
   ],
   "source": [
    "data['LTC-USD']"
   ]
  },
  {
   "cell_type": "code",
   "execution_count": 8,
   "metadata": {
    "colab": {
     "base_uri": "https://localhost:8080/"
    },
    "collapsed": true,
    "id": "sKhDAT8P4m_M",
    "outputId": "b41746f5-844b-434f-9cfc-1fa4442cb57f"
   },
   "outputs": [
    {
     "name": "stderr",
     "output_type": "stream",
     "text": [
      "[*********************100%%**********************]  1 of 1 completed\n",
      "[*********************100%%**********************]  1 of 1 completed\n"
     ]
    }
   ],
   "source": [
    "data_complete = {}\n",
    "for crypto in cryptos:\n",
    "    # Baixar dados e calcular retorno logarítmico\n",
    "    df = yf.download(crypto, start=start_date, end=pd.to_datetime(\"today\").strftime(\"%Y-%m-%d\"), interval='1d')\n",
    "    df['Return'] = log_return(df)\n",
    "\n",
    "    # Construir DataFrame final, pegando o retorno do dia anterior e o atual\n",
    "    df_final = pd.DataFrame({\n",
    "        #'Volume': df['Volume'],\n",
    "        'Crypto_Return_Today': df['Return']\n",
    "    }).dropna()\n",
    "\n",
    "    # Adicionar a coluna 'exp_value' com valores NaN\n",
    "    df_final['exp_value'] = np.nan\n",
    "\n",
    "    # Armazenar no dicionário\n",
    "    data_complete[crypto] = df_final"
   ]
  },
  {
   "cell_type": "code",
   "execution_count": 9,
   "metadata": {
    "colab": {
     "base_uri": "https://localhost:8080/",
     "height": 472
    },
    "id": "kf9c4Ib34m_M",
    "outputId": "c607d5c6-05d0-4671-fd0f-d3dc3bf9cd49"
   },
   "outputs": [
    {
     "name": "stdout",
     "output_type": "stream",
     "text": [
      "3699\n"
     ]
    },
    {
     "data": {
      "text/html": [
       "<div>\n",
       "<style scoped>\n",
       "    .dataframe tbody tr th:only-of-type {\n",
       "        vertical-align: middle;\n",
       "    }\n",
       "\n",
       "    .dataframe tbody tr th {\n",
       "        vertical-align: top;\n",
       "    }\n",
       "\n",
       "    .dataframe thead th {\n",
       "        text-align: right;\n",
       "    }\n",
       "</style>\n",
       "<table border=\"1\" class=\"dataframe\">\n",
       "  <thead>\n",
       "    <tr style=\"text-align: right;\">\n",
       "      <th></th>\n",
       "      <th>Crypto_Return_Today</th>\n",
       "      <th>exp_value</th>\n",
       "    </tr>\n",
       "    <tr>\n",
       "      <th>Date</th>\n",
       "      <th></th>\n",
       "      <th></th>\n",
       "    </tr>\n",
       "  </thead>\n",
       "  <tbody>\n",
       "    <tr>\n",
       "      <th>2014-09-17</th>\n",
       "      <td>-0.005390</td>\n",
       "      <td>NaN</td>\n",
       "    </tr>\n",
       "    <tr>\n",
       "      <th>2014-09-18</th>\n",
       "      <td>-0.078024</td>\n",
       "      <td>NaN</td>\n",
       "    </tr>\n",
       "    <tr>\n",
       "      <th>2014-09-19</th>\n",
       "      <td>-0.079802</td>\n",
       "      <td>NaN</td>\n",
       "    </tr>\n",
       "    <tr>\n",
       "      <th>2014-09-20</th>\n",
       "      <td>-0.009926</td>\n",
       "      <td>NaN</td>\n",
       "    </tr>\n",
       "    <tr>\n",
       "      <th>2014-09-21</th>\n",
       "      <td>-0.004031</td>\n",
       "      <td>NaN</td>\n",
       "    </tr>\n",
       "    <tr>\n",
       "      <th>...</th>\n",
       "      <td>...</td>\n",
       "      <td>...</td>\n",
       "    </tr>\n",
       "    <tr>\n",
       "      <th>2024-10-28</th>\n",
       "      <td>-0.005068</td>\n",
       "      <td>NaN</td>\n",
       "    </tr>\n",
       "    <tr>\n",
       "      <th>2024-10-29</th>\n",
       "      <td>0.045062</td>\n",
       "      <td>NaN</td>\n",
       "    </tr>\n",
       "    <tr>\n",
       "      <th>2024-10-30</th>\n",
       "      <td>-0.029316</td>\n",
       "      <td>NaN</td>\n",
       "    </tr>\n",
       "    <tr>\n",
       "      <th>2024-10-31</th>\n",
       "      <td>-0.037382</td>\n",
       "      <td>NaN</td>\n",
       "    </tr>\n",
       "    <tr>\n",
       "      <th>2024-11-01</th>\n",
       "      <td>0.014388</td>\n",
       "      <td>NaN</td>\n",
       "    </tr>\n",
       "  </tbody>\n",
       "</table>\n",
       "<p>3699 rows × 2 columns</p>\n",
       "</div>"
      ],
      "text/plain": [
       "            Crypto_Return_Today  exp_value\n",
       "Date                                      \n",
       "2014-09-17            -0.005390        NaN\n",
       "2014-09-18            -0.078024        NaN\n",
       "2014-09-19            -0.079802        NaN\n",
       "2014-09-20            -0.009926        NaN\n",
       "2014-09-21            -0.004031        NaN\n",
       "...                         ...        ...\n",
       "2024-10-28            -0.005068        NaN\n",
       "2024-10-29             0.045062        NaN\n",
       "2024-10-30            -0.029316        NaN\n",
       "2024-10-31            -0.037382        NaN\n",
       "2024-11-01             0.014388        NaN\n",
       "\n",
       "[3699 rows x 2 columns]"
      ]
     },
     "execution_count": 9,
     "metadata": {},
     "output_type": "execute_result"
    }
   ],
   "source": [
    "print(len(data_complete['LTC-USD']))\n",
    "data_complete['LTC-USD']"
   ]
  },
  {
   "cell_type": "code",
   "execution_count": 10,
   "metadata": {
    "id": "gTA-G3hd4m_N"
   },
   "outputs": [],
   "source": [
    "# Criando a função First Transformation, que recebe uma tabela contendo os retornos de todos os dias dos ultimos X anos e retorno um vetor, que cada elemento\n",
    "# é uma tabela do retorno de W+1 dias.\n",
    "def FirstTransform(df, W):\n",
    "    vet = []\n",
    "    Linhas, Colunas = df.shape\n",
    "    for i in range(Linhas, W+1, -1):\n",
    "        vet.append(df.iloc[(i-W-1):i])\n",
    "    return vet"
   ]
  },
  {
   "cell_type": "code",
   "execution_count": 11,
   "metadata": {
    "id": "yM6Ooo734m_O"
   },
   "outputs": [],
   "source": [
    "# Aqui eu perco W+1 dias do meu dataset\n",
    "for crypto in cryptos:\n",
    "    data[crypto] = FirstTransform(data[crypto], W)"
   ]
  },
  {
   "cell_type": "code",
   "execution_count": 12,
   "metadata": {
    "colab": {
     "base_uri": "https://localhost:8080/",
     "height": 472
    },
    "id": "nu2vkqx84m_O",
    "outputId": "a21026c7-3485-4110-aacb-dfee6f2f2421"
   },
   "outputs": [
    {
     "name": "stdout",
     "output_type": "stream",
     "text": [
      "3448\n"
     ]
    },
    {
     "data": {
      "text/html": [
       "<div>\n",
       "<style scoped>\n",
       "    .dataframe tbody tr th:only-of-type {\n",
       "        vertical-align: middle;\n",
       "    }\n",
       "\n",
       "    .dataframe tbody tr th {\n",
       "        vertical-align: top;\n",
       "    }\n",
       "\n",
       "    .dataframe thead th {\n",
       "        text-align: right;\n",
       "    }\n",
       "</style>\n",
       "<table border=\"1\" class=\"dataframe\">\n",
       "  <thead>\n",
       "    <tr style=\"text-align: right;\">\n",
       "      <th></th>\n",
       "      <th>BTC-Return</th>\n",
       "      <th>Crypto_Return_Today</th>\n",
       "    </tr>\n",
       "    <tr>\n",
       "      <th>Date</th>\n",
       "      <th></th>\n",
       "      <th></th>\n",
       "    </tr>\n",
       "  </thead>\n",
       "  <tbody>\n",
       "    <tr>\n",
       "      <th>2024-02-25</th>\n",
       "      <td>0.003253</td>\n",
       "      <td>-0.004336</td>\n",
       "    </tr>\n",
       "    <tr>\n",
       "      <th>2024-02-26</th>\n",
       "      <td>0.052563</td>\n",
       "      <td>0.026062</td>\n",
       "    </tr>\n",
       "    <tr>\n",
       "      <th>2024-02-27</th>\n",
       "      <td>0.045992</td>\n",
       "      <td>0.028612</td>\n",
       "    </tr>\n",
       "    <tr>\n",
       "      <th>2024-02-28</th>\n",
       "      <td>0.090945</td>\n",
       "      <td>0.007628</td>\n",
       "    </tr>\n",
       "    <tr>\n",
       "      <th>2024-02-29</th>\n",
       "      <td>-0.021033</td>\n",
       "      <td>0.069407</td>\n",
       "    </tr>\n",
       "    <tr>\n",
       "      <th>...</th>\n",
       "      <td>...</td>\n",
       "      <td>...</td>\n",
       "    </tr>\n",
       "    <tr>\n",
       "      <th>2024-10-28</th>\n",
       "      <td>0.028807</td>\n",
       "      <td>-0.005068</td>\n",
       "    </tr>\n",
       "    <tr>\n",
       "      <th>2024-10-29</th>\n",
       "      <td>0.039414</td>\n",
       "      <td>0.045062</td>\n",
       "    </tr>\n",
       "    <tr>\n",
       "      <th>2024-10-30</th>\n",
       "      <td>-0.005182</td>\n",
       "      <td>-0.029316</td>\n",
       "    </tr>\n",
       "    <tr>\n",
       "      <th>2024-10-31</th>\n",
       "      <td>-0.029744</td>\n",
       "      <td>-0.037382</td>\n",
       "    </tr>\n",
       "    <tr>\n",
       "      <th>2024-11-01</th>\n",
       "      <td>-0.010515</td>\n",
       "      <td>0.014388</td>\n",
       "    </tr>\n",
       "  </tbody>\n",
       "</table>\n",
       "<p>251 rows × 2 columns</p>\n",
       "</div>"
      ],
      "text/plain": [
       "            BTC-Return  Crypto_Return_Today\n",
       "Date                                       \n",
       "2024-02-25    0.003253            -0.004336\n",
       "2024-02-26    0.052563             0.026062\n",
       "2024-02-27    0.045992             0.028612\n",
       "2024-02-28    0.090945             0.007628\n",
       "2024-02-29   -0.021033             0.069407\n",
       "...                ...                  ...\n",
       "2024-10-28    0.028807            -0.005068\n",
       "2024-10-29    0.039414             0.045062\n",
       "2024-10-30   -0.005182            -0.029316\n",
       "2024-10-31   -0.029744            -0.037382\n",
       "2024-11-01   -0.010515             0.014388\n",
       "\n",
       "[251 rows x 2 columns]"
      ]
     },
     "execution_count": 12,
     "metadata": {},
     "output_type": "execute_result"
    }
   ],
   "source": [
    "print(len(data['LTC-USD']))\n",
    "data['LTC-USD'][0]"
   ]
  },
  {
   "cell_type": "markdown",
   "metadata": {
    "id": "emUzQ7oT4m_O"
   },
   "source": [
    "## 2.2 Separar em treinamento e teste - Permitir Bagging"
   ]
  },
  {
   "cell_type": "code",
   "execution_count": 13,
   "metadata": {
    "id": "Evamk5LK4m_O"
   },
   "outputs": [],
   "source": [
    "test_target = {}\n",
    "for crypto in cryptos:\n",
    "    row = []\n",
    "    for i in range(len(data[crypto])):\n",
    "        row.append((pd.DataFrame(data[crypto][i].iloc[-1])).T)\n",
    "        data[crypto][i] = data[crypto][i].drop(data[crypto][i].index[-1])\n",
    "    test_target[crypto] = row"
   ]
  },
  {
   "cell_type": "code",
   "execution_count": 14,
   "metadata": {
    "colab": {
     "base_uri": "https://localhost:8080/"
    },
    "id": "U-oxtp4r4m_O",
    "outputId": "3dc76b36-b25b-4930-b4d7-c427b22c6ab7"
   },
   "outputs": [
    {
     "data": {
      "text/plain": [
       "(            BTC-Return  Crypto_Return_Today\n",
       " Date                                       \n",
       " 2024-02-25    0.003253            -0.004336\n",
       " 2024-02-26    0.052563             0.026062\n",
       " 2024-02-27    0.045992             0.028612\n",
       " 2024-02-28    0.090945             0.007628\n",
       " 2024-02-29   -0.021033             0.069407\n",
       " ...                ...                  ...\n",
       " 2024-10-27    0.013424             0.038447\n",
       " 2024-10-28    0.028807            -0.005068\n",
       " 2024-10-29    0.039414             0.045062\n",
       " 2024-10-30   -0.005182            -0.029316\n",
       " 2024-10-31   -0.029744            -0.037382\n",
       " \n",
       " [250 rows x 2 columns],\n",
       " 2024-11-01    0.014388\n",
       " Name: Crypto_Return_Today, dtype: float64)"
      ]
     },
     "execution_count": 14,
     "metadata": {},
     "output_type": "execute_result"
    }
   ],
   "source": [
    "data['LTC-USD'][0], test_target['LTC-USD'][0]['Crypto_Return_Today']"
   ]
  },
  {
   "cell_type": "markdown",
   "metadata": {
    "id": "GzKbsiqG4m_P"
   },
   "source": [
    "## 2.3 Bagging"
   ]
  },
  {
   "cell_type": "code",
   "execution_count": 15,
   "metadata": {
    "id": "fbWiBtka4m_P"
   },
   "outputs": [],
   "source": [
    "# Definindo uma função bagging, que recebe um dataframe e retorna um vetor de dataframes.\n",
    "def Bagging(df, n, gamma):\n",
    "    df_bagged = []\n",
    "    for i in range(gamma):\n",
    "        aux = df.sample(n = n, random_state = i)\n",
    "        aux = aux.sort_index()\n",
    "        df_bagged.append(aux)\n",
    "    return df_bagged"
   ]
  },
  {
   "cell_type": "markdown",
   "metadata": {
    "id": "yvyFl8gs4m_P"
   },
   "source": [
    "# 3. Machine Learning"
   ]
  },
  {
   "cell_type": "markdown",
   "metadata": {
    "id": "4FTPX1Ph4m_P"
   },
   "source": [
    "* vamos peimeiro fazer do modo 1 para todos os dias\n",
    "* depois aplicar para os ultimos 290 dias o modo 2 (contém bagging e purge K-Fold-CV)"
   ]
  },
  {
   "cell_type": "markdown",
   "metadata": {
    "id": "9zUoSh9g4m_P"
   },
   "source": [
    "## 3.1 Função do Modelo\n"
   ]
  },
  {
   "cell_type": "code",
   "execution_count": 16,
   "metadata": {
    "id": "7HDF-f2F4m_Q"
   },
   "outputs": [],
   "source": [
    "from tensorflow.keras.models import Sequential\n",
    "from tensorflow.keras.layers import LSTM, Dense, Dropout, BatchNormalization, Input\n",
    "from tensorflow.keras.optimizers import Adam, RMSprop\n",
    "from tensorflow.keras.regularizers import l2\n",
    "from tensorflow.keras.callbacks import ReduceLROnPlateau\n",
    "# Arquitetura 1 e 2:\n",
    "def create_model(a, b):\n",
    "    model = Sequential([\n",
    "        Input(shape=(a, b)),\n",
    "        LSTM(units=64, return_sequences=True, kernel_regularizer=l2(0.002)),\n",
    "        Dropout(0.3),\n",
    "        BatchNormalization(),\n",
    "        LSTM(units=32, return_sequences=False),\n",
    "        Dropout(0.3),\n",
    "        Dense(units=1)\n",
    "    ])\n",
    "    optimizer = RMSprop(learning_rate=1e-3)\n",
    "    model.compile(optimizer=optimizer, loss='mean_squared_error')\n",
    "    return model\n"
   ]
  },
  {
   "cell_type": "code",
   "execution_count": 17,
   "metadata": {
    "id": "o7csbit-4m_Q"
   },
   "outputs": [],
   "source": [
    "# Função do modelo LSTM\n",
    "def Model(df, time_step, features, model=None):\n",
    "    # Normalizando o dataframe\n",
    "    #scaler = StandardScaler()\n",
    "    #df_scaled = scaler.fit_transform(df)\n",
    "    #df_array = np.array(df_scaled)\n",
    "    df_array = np.array(df)\n",
    "\n",
    "    # Transformando no formato LSTM\n",
    "    X_lstm = []\n",
    "    y_lstm = []\n",
    "    for i in range(time_step, len(df_array)):\n",
    "        X_lstm.append(df_array[i-time_step:i, :])  # Pega 'timesteps' linhas anteriores\n",
    "        y_lstm.append(df_array[i])  # Alvo é o valor do dia seguinte\n",
    "    X_lstm = np.array(X_lstm)\n",
    "    y_lstm = np.array(y_lstm)\n",
    "\n",
    "    # Separar o X_train (todos exceto o último elemento)\n",
    "    X_train = X_lstm[:-1]\n",
    "    y_train = y_lstm[:-1]\n",
    "    y_train = pd.DataFrame(y_train)[features - 1].to_numpy()\n",
    "    y_train = y_train.reshape((len(y_train), 1))\n",
    "    y_train.shape\n",
    "\n",
    "    # X_test e y_test\n",
    "    X_test = X_lstm[-1:]\n",
    "    y_test = y_lstm[-1:]\n",
    "    y_test = y_lstm[-1:]\n",
    "    y_test = pd.DataFrame(y_test)[features - 1].to_numpy()\n",
    "    y_test = y_test.reshape((len(y_test), 1))\n",
    "\n",
    "    # Treinar o modelo específico para a criptomoeda\n",
    "\n",
    "    # Arquitetura 1:\n",
    "    #reduce_lr = ReduceLROnPlateau(monitor='loss', factor=0.5, patience=3, min_lr=1e-6, verbose=0)\n",
    "    #model.fit(X_train, y_train, epochs=200, batch_size=32, verbose=0, callbacks=[reduce_lr])\n",
    "\n",
    "\n",
    "    # Arquitetura 2:\n",
    "    model.fit(X_train, y_train, epochs=200, verbose=0)\n",
    "    # Fazer a previsão\n",
    "    y_hat_scaled = model.predict(X_test)\n",
    "\n",
    "\n",
    "    return y_hat_scaled"
   ]
  },
  {
   "cell_type": "markdown",
   "metadata": {
    "id": "MJcsYqyk4m_Q"
   },
   "source": [
    "##  3.2 Treinamento com Paralelismo e Geração dos Expected Values"
   ]
  },
  {
   "cell_type": "code",
   "execution_count": 18,
   "metadata": {
    "id": "HXI8wihE4m_Q"
   },
   "outputs": [],
   "source": [
    "def Add(y_hat, data_complete, ind, crypto):\n",
    "    data_complete[crypto].at[ind, 'exp_value'] = y_hat"
   ]
  },
  {
   "cell_type": "code",
   "execution_count": 19,
   "metadata": {
    "colab": {
     "base_uri": "https://localhost:8080/"
    },
    "id": "44TACuZj4m_Q",
    "outputId": "9e4e76a9-048d-4318-9809-21ae0f8eeb67"
   },
   "outputs": [
    {
     "name": "stdout",
     "output_type": "stream",
     "text": [
      "Usando CPU\n"
     ]
    }
   ],
   "source": [
    "import tensorflow as tf\n",
    "physical_devices = tf.config.list_physical_devices('GPU')\n",
    "if physical_devices:\n",
    "    tf.config.experimental.set_memory_growth(physical_devices[0], True)\n",
    "    print(\"Usando GPU:\", physical_devices[0])\n",
    "else:\n",
    "    print(\"Usando CPU\")"
   ]
  },
  {
   "cell_type": "code",
   "execution_count": 20,
   "metadata": {
    "colab": {
     "base_uri": "https://localhost:8080/"
    },
    "id": "QY6MGz6a4m_Q",
    "outputId": "d0e7b2cd-768b-4fb2-f300-ecc449c44d69"
   },
   "outputs": [
    {
     "name": "stdout",
     "output_type": "stream",
     "text": [
      "3448\n",
      "3448\n"
     ]
    },
    {
     "data": {
      "text/plain": [
       "250"
      ]
     },
     "execution_count": 20,
     "metadata": {},
     "output_type": "execute_result"
    }
   ],
   "source": [
    "for crypto in cryptos:\n",
    "    print(len(data[crypto]))\n",
    "len(data['LTC-USD'][0])"
   ]
  },
  {
   "cell_type": "code",
   "execution_count": 21,
   "metadata": {
    "colab": {
     "base_uri": "https://localhost:8080/",
     "height": 81
    },
    "id": "PORdVJtg5D10",
    "outputId": "10c70a00-181e-4510-bb77-3a168c40726c"
   },
   "outputs": [
    {
     "data": {
      "text/html": [
       "<div>\n",
       "<style scoped>\n",
       "    .dataframe tbody tr th:only-of-type {\n",
       "        vertical-align: middle;\n",
       "    }\n",
       "\n",
       "    .dataframe tbody tr th {\n",
       "        vertical-align: top;\n",
       "    }\n",
       "\n",
       "    .dataframe thead th {\n",
       "        text-align: right;\n",
       "    }\n",
       "</style>\n",
       "<table border=\"1\" class=\"dataframe\">\n",
       "  <thead>\n",
       "    <tr style=\"text-align: right;\">\n",
       "      <th></th>\n",
       "      <th>BTC-Return</th>\n",
       "      <th>Crypto_Return_Today</th>\n",
       "    </tr>\n",
       "  </thead>\n",
       "  <tbody>\n",
       "    <tr>\n",
       "      <th>2018-09-04</th>\n",
       "      <td>0.013493</td>\n",
       "      <td>0.035936</td>\n",
       "    </tr>\n",
       "  </tbody>\n",
       "</table>\n",
       "</div>"
      ],
      "text/plain": [
       "            BTC-Return  Crypto_Return_Today\n",
       "2018-09-04    0.013493             0.035936"
      ]
     },
     "execution_count": 21,
     "metadata": {},
     "output_type": "execute_result"
    }
   ],
   "source": [
    "test_target['LTC-USD'][2550]\n",
    "test_target['LTC-USD'][2250]"
   ]
  },
  {
   "cell_type": "code",
   "execution_count": 22,
   "metadata": {},
   "outputs": [
    {
     "name": "stdout",
     "output_type": "stream",
     "text": [
      "\n",
      "\n",
      "--------------------------------------------------------\n",
      "\n",
      "\n",
      "Criptomoeda:  LTC\n",
      "\n",
      "                              Real\n",
      "\n",
      "Numero de Subidas:  140    |    46.51162790697674 %\n",
      "\n",
      "Numero de Quedas :  161    |    53.48837209302326 %\n"
     ]
    }
   ],
   "source": [
    "aux = data_complete['LTC-USD'].loc['2017-11-08':'2018-09-04']\n",
    "num_positive = (aux['Crypto_Return_Today'] > 0).sum()\n",
    "num_negative = (aux['Crypto_Return_Today'] < 0).sum()\n",
    "\n",
    "print(\"\\n\\n--------------------------------------------------------\")\n",
    "print(\"\\n\\nCriptomoeda: \", 'LTC')\n",
    "print(\"\\n                              Real\")\n",
    "print(\"\\nNumero de Subidas: \",num_positive,\"   |   \",100*num_positive / (num_negative + num_positive),\"%\")\n",
    "print(\"\\nNumero de Quedas : \",num_negative,\"   |   \",100*num_negative / (num_negative + num_positive),\"%\")"
   ]
  },
  {
   "cell_type": "code",
   "execution_count": 23,
   "metadata": {
    "colab": {
     "base_uri": "https://localhost:8080/"
    },
    "id": "SXaruqzt4m_W",
    "outputId": "97ef470e-8508-49d6-8a1e-4f03b6debbac"
   },
   "outputs": [
    {
     "name": "stdout",
     "output_type": "stream",
     "text": [
      "\u001b[1m1/1\u001b[0m \u001b[32m━━━━━━━━━━━━━━━━━━━━\u001b[0m\u001b[37m\u001b[0m \u001b[1m0s\u001b[0m 434ms/step\n",
      "\u001b[1m1/1\u001b[0m \u001b[32m━━━━━━━━━━━━━━━━━━━━\u001b[0m\u001b[37m\u001b[0m \u001b[1m0s\u001b[0m 434ms/step\n",
      "\u001b[1m1/1\u001b[0m \u001b[32m━━━━━━━━━━━━━━━━━━━━\u001b[0m\u001b[37m\u001b[0m \u001b[1m0s\u001b[0m 368ms/step\n",
      "\u001b[1m1/1\u001b[0m \u001b[32m━━━━━━━━━━━━━━━━━━━━\u001b[0m\u001b[37m\u001b[0m \u001b[1m0s\u001b[0m 363ms/step\n",
      "WARNING:tensorflow:5 out of the last 5 calls to <function TensorFlowTrainer.make_predict_function.<locals>.one_step_on_data_distributed at 0x000001866DBA7EC0> triggered tf.function retracing. Tracing is expensive and the excessive number of tracings could be due to (1) creating @tf.function repeatedly in a loop, (2) passing tensors with different shapes, (3) passing Python objects instead of tensors. For (1), please define your @tf.function outside of the loop. For (2), @tf.function has reduce_retracing=True option that can avoid unnecessary retracing. For (3), please refer to https://www.tensorflow.org/guide/function#controlling_retracing and https://www.tensorflow.org/api_docs/python/tf/function for  more details.\n",
      "\u001b[1m1/1\u001b[0m \u001b[32m━━━━━━━━━━━━━━━━━━━━\u001b[0m\u001b[37m\u001b[0m \u001b[1m0s\u001b[0m 401ms/step\n",
      "WARNING:tensorflow:6 out of the last 6 calls to <function TensorFlowTrainer.make_predict_function.<locals>.one_step_on_data_distributed at 0x0000018672ACB380> triggered tf.function retracing. Tracing is expensive and the excessive number of tracings could be due to (1) creating @tf.function repeatedly in a loop, (2) passing tensors with different shapes, (3) passing Python objects instead of tensors. For (1), please define your @tf.function outside of the loop. For (2), @tf.function has reduce_retracing=True option that can avoid unnecessary retracing. For (3), please refer to https://www.tensorflow.org/guide/function#controlling_retracing and https://www.tensorflow.org/api_docs/python/tf/function for  more details.\n",
      "\u001b[1m1/1\u001b[0m \u001b[32m━━━━━━━━━━━━━━━━━━━━\u001b[0m\u001b[37m\u001b[0m \u001b[1m0s\u001b[0m 397ms/step\n",
      "\u001b[1m1/1\u001b[0m \u001b[32m━━━━━━━━━━━━━━━━━━━━\u001b[0m\u001b[37m\u001b[0m \u001b[1m0s\u001b[0m 294ms/step\n",
      "\u001b[1m1/1\u001b[0m \u001b[32m━━━━━━━━━━━━━━━━━━━━\u001b[0m\u001b[37m\u001b[0m \u001b[1m1s\u001b[0m 520ms/step\n",
      "\u001b[1m1/1\u001b[0m \u001b[32m━━━━━━━━━━━━━━━━━━━━\u001b[0m\u001b[37m\u001b[0m \u001b[1m0s\u001b[0m 361ms/step\n",
      "\u001b[1m1/1\u001b[0m \u001b[32m━━━━━━━━━━━━━━━━━━━━\u001b[0m\u001b[37m\u001b[0m \u001b[1m0s\u001b[0m 392ms/step\n",
      "\u001b[1m1/1\u001b[0m \u001b[32m━━━━━━━━━━━━━━━━━━━━\u001b[0m\u001b[37m\u001b[0m \u001b[1m0s\u001b[0m 408ms/step\n",
      "\u001b[1m1/1\u001b[0m \u001b[32m━━━━━━━━━━━━━━━━━━━━\u001b[0m\u001b[37m\u001b[0m \u001b[1m0s\u001b[0m 423ms/step\n",
      "\u001b[1m1/1\u001b[0m \u001b[32m━━━━━━━━━━━━━━━━━━━━\u001b[0m\u001b[37m\u001b[0m \u001b[1m1s\u001b[0m 575ms/step\n",
      "\u001b[1m1/1\u001b[0m \u001b[32m━━━━━━━━━━━━━━━━━━━━\u001b[0m\u001b[37m\u001b[0m \u001b[1m1s\u001b[0m 559ms/step\n",
      "\u001b[1m1/1\u001b[0m \u001b[32m━━━━━━━━━━━━━━━━━━━━\u001b[0m\u001b[37m\u001b[0m \u001b[1m0s\u001b[0m 301ms/step\n",
      "\u001b[1m1/1\u001b[0m \u001b[32m━━━━━━━━━━━━━━━━━━━━\u001b[0m\u001b[37m\u001b[0m \u001b[1m0s\u001b[0m 387ms/step\n",
      "\u001b[1m1/1\u001b[0m \u001b[32m━━━━━━━━━━━━━━━━━━━━\u001b[0m\u001b[37m\u001b[0m \u001b[1m0s\u001b[0m 350ms/step\n",
      "\u001b[1m1/1\u001b[0m \u001b[32m━━━━━━━━━━━━━━━━━━━━\u001b[0m\u001b[37m\u001b[0m \u001b[1m0s\u001b[0m 355ms/step\n",
      "\u001b[1m1/1\u001b[0m \u001b[32m━━━━━━━━━━━━━━━━━━━━\u001b[0m\u001b[37m\u001b[0m \u001b[1m0s\u001b[0m 384ms/step\n",
      "\u001b[1m1/1\u001b[0m \u001b[32m━━━━━━━━━━━━━━━━━━━━\u001b[0m\u001b[37m\u001b[0m \u001b[1m0s\u001b[0m 367ms/step\n",
      "\u001b[1m1/1\u001b[0m \u001b[32m━━━━━━━━━━━━━━━━━━━━\u001b[0m\u001b[37m\u001b[0m \u001b[1m0s\u001b[0m 336ms/step\n",
      "\u001b[1m1/1\u001b[0m \u001b[32m━━━━━━━━━━━━━━━━━━━━\u001b[0m\u001b[37m\u001b[0m \u001b[1m0s\u001b[0m 317ms/step\n",
      "\u001b[1m1/1\u001b[0m \u001b[32m━━━━━━━━━━━━━━━━━━━━\u001b[0m\u001b[37m\u001b[0m \u001b[1m0s\u001b[0m 365ms/step\n",
      "\u001b[1m1/1\u001b[0m \u001b[32m━━━━━━━━━━━━━━━━━━━━\u001b[0m\u001b[37m\u001b[0m \u001b[1m0s\u001b[0m 350ms/step\n",
      "\u001b[1m1/1\u001b[0m \u001b[32m━━━━━━━━━━━━━━━━━━━━\u001b[0m\u001b[37m\u001b[0m \u001b[1m0s\u001b[0m 382ms/step\n",
      "\u001b[1m1/1\u001b[0m \u001b[32m━━━━━━━━━━━━━━━━━━━━\u001b[0m\u001b[37m\u001b[0m \u001b[1m0s\u001b[0m 412ms/step\n",
      "\u001b[1m1/1\u001b[0m \u001b[32m━━━━━━━━━━━━━━━━━━━━\u001b[0m\u001b[37m\u001b[0m \u001b[1m0s\u001b[0m 372ms/step\n",
      "\u001b[1m1/1\u001b[0m \u001b[32m━━━━━━━━━━━━━━━━━━━━\u001b[0m\u001b[37m\u001b[0m \u001b[1m1s\u001b[0m 926ms/step\n",
      "\u001b[1m1/1\u001b[0m \u001b[32m━━━━━━━━━━━━━━━━━━━━\u001b[0m\u001b[37m\u001b[0m \u001b[1m0s\u001b[0m 371ms/step\n",
      "\u001b[1m1/1\u001b[0m \u001b[32m━━━━━━━━━━━━━━━━━━━━\u001b[0m\u001b[37m\u001b[0m \u001b[1m0s\u001b[0m 365ms/step\n",
      "\u001b[1m1/1\u001b[0m \u001b[32m━━━━━━━━━━━━━━━━━━━━\u001b[0m\u001b[37m\u001b[0m \u001b[1m0s\u001b[0m 345ms/step\n",
      "\u001b[1m1/1\u001b[0m \u001b[32m━━━━━━━━━━━━━━━━━━━━\u001b[0m\u001b[37m\u001b[0m \u001b[1m0s\u001b[0m 375ms/step\n",
      "\u001b[1m1/1\u001b[0m \u001b[32m━━━━━━━━━━━━━━━━━━━━\u001b[0m\u001b[37m\u001b[0m \u001b[1m0s\u001b[0m 362ms/step\n",
      "\u001b[1m1/1\u001b[0m \u001b[32m━━━━━━━━━━━━━━━━━━━━\u001b[0m\u001b[37m\u001b[0m \u001b[1m0s\u001b[0m 398ms/step\n",
      "\u001b[1m1/1\u001b[0m \u001b[32m━━━━━━━━━━━━━━━━━━━━\u001b[0m\u001b[37m\u001b[0m \u001b[1m0s\u001b[0m 376ms/step\n",
      "\u001b[1m1/1\u001b[0m \u001b[32m━━━━━━━━━━━━━━━━━━━━\u001b[0m\u001b[37m\u001b[0m \u001b[1m0s\u001b[0m 359ms/step\n",
      "\u001b[1m1/1\u001b[0m \u001b[32m━━━━━━━━━━━━━━━━━━━━\u001b[0m\u001b[37m\u001b[0m \u001b[1m0s\u001b[0m 392ms/step\n",
      "\u001b[1m1/1\u001b[0m \u001b[32m━━━━━━━━━━━━━━━━━━━━\u001b[0m\u001b[37m\u001b[0m \u001b[1m0s\u001b[0m 361ms/step\n",
      "\u001b[1m1/1\u001b[0m \u001b[32m━━━━━━━━━━━━━━━━━━━━\u001b[0m\u001b[37m\u001b[0m \u001b[1m0s\u001b[0m 376ms/step\n",
      "\u001b[1m1/1\u001b[0m \u001b[32m━━━━━━━━━━━━━━━━━━━━\u001b[0m\u001b[37m\u001b[0m \u001b[1m0s\u001b[0m 394ms/step\n",
      "\u001b[1m1/1\u001b[0m \u001b[32m━━━━━━━━━━━━━━━━━━━━\u001b[0m\u001b[37m\u001b[0m \u001b[1m0s\u001b[0m 498ms/step\n",
      "\u001b[1m1/1\u001b[0m \u001b[32m━━━━━━━━━━━━━━━━━━━━\u001b[0m\u001b[37m\u001b[0m \u001b[1m0s\u001b[0m 486ms/step\n",
      "\u001b[1m1/1\u001b[0m \u001b[32m━━━━━━━━━━━━━━━━━━━━\u001b[0m\u001b[37m\u001b[0m \u001b[1m0s\u001b[0m 368ms/step\n",
      "\u001b[1m1/1\u001b[0m \u001b[32m━━━━━━━━━━━━━━━━━━━━\u001b[0m\u001b[37m\u001b[0m \u001b[1m0s\u001b[0m 406ms/step\n",
      "\u001b[1m1/1\u001b[0m \u001b[32m━━━━━━━━━━━━━━━━━━━━\u001b[0m\u001b[37m\u001b[0m \u001b[1m0s\u001b[0m 375ms/step\n",
      "\u001b[1m1/1\u001b[0m \u001b[32m━━━━━━━━━━━━━━━━━━━━\u001b[0m\u001b[37m\u001b[0m \u001b[1m0s\u001b[0m 488ms/step\n",
      "\u001b[1m1/1\u001b[0m \u001b[32m━━━━━━━━━━━━━━━━━━━━\u001b[0m\u001b[37m\u001b[0m \u001b[1m0s\u001b[0m 376ms/step\n",
      "\u001b[1m1/1\u001b[0m \u001b[32m━━━━━━━━━━━━━━━━━━━━\u001b[0m\u001b[37m\u001b[0m \u001b[1m0s\u001b[0m 397ms/step\n",
      "\u001b[1m1/1\u001b[0m \u001b[32m━━━━━━━━━━━━━━━━━━━━\u001b[0m\u001b[37m\u001b[0m \u001b[1m0s\u001b[0m 373ms/step\n",
      "\u001b[1m1/1\u001b[0m \u001b[32m━━━━━━━━━━━━━━━━━━━━\u001b[0m\u001b[37m\u001b[0m \u001b[1m0s\u001b[0m 414ms/step\n",
      "\u001b[1m1/1\u001b[0m \u001b[32m━━━━━━━━━━━━━━━━━━━━\u001b[0m\u001b[37m\u001b[0m \u001b[1m0s\u001b[0m 369ms/step\n",
      "\u001b[1m1/1\u001b[0m \u001b[32m━━━━━━━━━━━━━━━━━━━━\u001b[0m\u001b[37m\u001b[0m \u001b[1m0s\u001b[0m 387ms/step\n",
      "\u001b[1m1/1\u001b[0m \u001b[32m━━━━━━━━━━━━━━━━━━━━\u001b[0m\u001b[37m\u001b[0m \u001b[1m0s\u001b[0m 353ms/step\n",
      "\u001b[1m1/1\u001b[0m \u001b[32m━━━━━━━━━━━━━━━━━━━━\u001b[0m\u001b[37m\u001b[0m \u001b[1m0s\u001b[0m 422ms/step\n",
      "\u001b[1m1/1\u001b[0m \u001b[32m━━━━━━━━━━━━━━━━━━━━\u001b[0m\u001b[37m\u001b[0m \u001b[1m0s\u001b[0m 375ms/step\n",
      "\u001b[1m1/1\u001b[0m \u001b[32m━━━━━━━━━━━━━━━━━━━━\u001b[0m\u001b[37m\u001b[0m \u001b[1m0s\u001b[0m 419ms/step\n",
      "\u001b[1m1/1\u001b[0m \u001b[32m━━━━━━━━━━━━━━━━━━━━\u001b[0m\u001b[37m\u001b[0m \u001b[1m0s\u001b[0m 368ms/step\n",
      "\u001b[1m1/1\u001b[0m \u001b[32m━━━━━━━━━━━━━━━━━━━━\u001b[0m\u001b[37m\u001b[0m \u001b[1m0s\u001b[0m 405ms/step\n",
      "\u001b[1m1/1\u001b[0m \u001b[32m━━━━━━━━━━━━━━━━━━━━\u001b[0m\u001b[37m\u001b[0m \u001b[1m0s\u001b[0m 365ms/step\n",
      "\u001b[1m1/1\u001b[0m \u001b[32m━━━━━━━━━━━━━━━━━━━━\u001b[0m\u001b[37m\u001b[0m \u001b[1m0s\u001b[0m 400ms/step\n",
      "\u001b[1m1/1\u001b[0m \u001b[32m━━━━━━━━━━━━━━━━━━━━\u001b[0m\u001b[37m\u001b[0m \u001b[1m0s\u001b[0m 370ms/step\n",
      "\u001b[1m1/1\u001b[0m \u001b[32m━━━━━━━━━━━━━━━━━━━━\u001b[0m\u001b[37m\u001b[0m \u001b[1m0s\u001b[0m 490ms/step\n",
      "\u001b[1m1/1\u001b[0m \u001b[32m━━━━━━━━━━━━━━━━━━━━\u001b[0m\u001b[37m\u001b[0m \u001b[1m0s\u001b[0m 384ms/step\n",
      "\u001b[1m1/1\u001b[0m \u001b[32m━━━━━━━━━━━━━━━━━━━━\u001b[0m\u001b[37m\u001b[0m \u001b[1m0s\u001b[0m 438ms/step\n",
      "\u001b[1m1/1\u001b[0m \u001b[32m━━━━━━━━━━━━━━━━━━━━\u001b[0m\u001b[37m\u001b[0m \u001b[1m0s\u001b[0m 384ms/step\n",
      "\u001b[1m1/1\u001b[0m \u001b[32m━━━━━━━━━━━━━━━━━━━━\u001b[0m\u001b[37m\u001b[0m \u001b[1m0s\u001b[0m 400ms/step\n",
      "\u001b[1m1/1\u001b[0m \u001b[32m━━━━━━━━━━━━━━━━━━━━\u001b[0m\u001b[37m\u001b[0m \u001b[1m0s\u001b[0m 385ms/step\n",
      "\u001b[1m1/1\u001b[0m \u001b[32m━━━━━━━━━━━━━━━━━━━━\u001b[0m\u001b[37m\u001b[0m \u001b[1m0s\u001b[0m 463ms/step\n",
      "\u001b[1m1/1\u001b[0m \u001b[32m━━━━━━━━━━━━━━━━━━━━\u001b[0m\u001b[37m\u001b[0m \u001b[1m0s\u001b[0m 300ms/step\n",
      "\u001b[1m1/1\u001b[0m \u001b[32m━━━━━━━━━━━━━━━━━━━━\u001b[0m\u001b[37m\u001b[0m \u001b[1m0s\u001b[0m 400ms/step\n",
      "\u001b[1m1/1\u001b[0m \u001b[32m━━━━━━━━━━━━━━━━━━━━\u001b[0m\u001b[37m\u001b[0m \u001b[1m0s\u001b[0m 383ms/step\n",
      "\u001b[1m1/1\u001b[0m \u001b[32m━━━━━━━━━━━━━━━━━━━━\u001b[0m\u001b[37m\u001b[0m \u001b[1m0s\u001b[0m 417ms/step\n",
      "\u001b[1m1/1\u001b[0m \u001b[32m━━━━━━━━━━━━━━━━━━━━\u001b[0m\u001b[37m\u001b[0m \u001b[1m0s\u001b[0m 364ms/step\n",
      "\u001b[1m1/1\u001b[0m \u001b[32m━━━━━━━━━━━━━━━━━━━━\u001b[0m\u001b[37m\u001b[0m \u001b[1m0s\u001b[0m 432ms/step\n",
      "\u001b[1m1/1\u001b[0m \u001b[32m━━━━━━━━━━━━━━━━━━━━\u001b[0m\u001b[37m\u001b[0m \u001b[1m0s\u001b[0m 384ms/step\n",
      "\u001b[1m1/1\u001b[0m \u001b[32m━━━━━━━━━━━━━━━━━━━━\u001b[0m\u001b[37m\u001b[0m \u001b[1m0s\u001b[0m 451ms/step\n",
      "\u001b[1m1/1\u001b[0m \u001b[32m━━━━━━━━━━━━━━━━━━━━\u001b[0m\u001b[37m\u001b[0m \u001b[1m0s\u001b[0m 367ms/step\n",
      "\u001b[1m1/1\u001b[0m \u001b[32m━━━━━━━━━━━━━━━━━━━━\u001b[0m\u001b[37m\u001b[0m \u001b[1m0s\u001b[0m 456ms/step\n",
      "\u001b[1m1/1\u001b[0m \u001b[32m━━━━━━━━━━━━━━━━━━━━\u001b[0m\u001b[37m\u001b[0m \u001b[1m0s\u001b[0m 417ms/step\n",
      "\u001b[1m1/1\u001b[0m \u001b[32m━━━━━━━━━━━━━━━━━━━━\u001b[0m\u001b[37m\u001b[0m \u001b[1m1s\u001b[0m 500ms/step\n",
      "\u001b[1m1/1\u001b[0m \u001b[32m━━━━━━━━━━━━━━━━━━━━\u001b[0m\u001b[37m\u001b[0m \u001b[1m0s\u001b[0m 305ms/step\n",
      "\u001b[1m1/1\u001b[0m \u001b[32m━━━━━━━━━━━━━━━━━━━━\u001b[0m\u001b[37m\u001b[0m \u001b[1m2s\u001b[0m 2s/step\n",
      "\u001b[1m1/1\u001b[0m \u001b[32m━━━━━━━━━━━━━━━━━━━━\u001b[0m\u001b[37m\u001b[0m \u001b[1m0s\u001b[0m 376ms/step\n",
      "\u001b[1m1/1\u001b[0m \u001b[32m━━━━━━━━━━━━━━━━━━━━\u001b[0m\u001b[37m\u001b[0m \u001b[1m0s\u001b[0m 417ms/step\n",
      "\u001b[1m1/1\u001b[0m \u001b[32m━━━━━━━━━━━━━━━━━━━━\u001b[0m\u001b[37m\u001b[0m \u001b[1m0s\u001b[0m 366ms/step\n",
      "\u001b[1m1/1\u001b[0m \u001b[32m━━━━━━━━━━━━━━━━━━━━\u001b[0m\u001b[37m\u001b[0m \u001b[1m0s\u001b[0m 425ms/step\n",
      "\u001b[1m1/1\u001b[0m \u001b[32m━━━━━━━━━━━━━━━━━━━━\u001b[0m\u001b[37m\u001b[0m \u001b[1m0s\u001b[0m 374ms/step\n",
      "\u001b[1m1/1\u001b[0m \u001b[32m━━━━━━━━━━━━━━━━━━━━\u001b[0m\u001b[37m\u001b[0m \u001b[1m0s\u001b[0m 477ms/step\n",
      "\u001b[1m1/1\u001b[0m \u001b[32m━━━━━━━━━━━━━━━━━━━━\u001b[0m\u001b[37m\u001b[0m \u001b[1m0s\u001b[0m 383ms/step\n",
      "\u001b[1m1/1\u001b[0m \u001b[32m━━━━━━━━━━━━━━━━━━━━\u001b[0m\u001b[37m\u001b[0m \u001b[1m0s\u001b[0m 451ms/step\n",
      "\u001b[1m1/1\u001b[0m \u001b[32m━━━━━━━━━━━━━━━━━━━━\u001b[0m\u001b[37m\u001b[0m \u001b[1m0s\u001b[0m 373ms/step\n",
      "\u001b[1m1/1\u001b[0m \u001b[32m━━━━━━━━━━━━━━━━━━━━\u001b[0m\u001b[37m\u001b[0m \u001b[1m0s\u001b[0m 384ms/step\n",
      "\u001b[1m1/1\u001b[0m \u001b[32m━━━━━━━━━━━━━━━━━━━━\u001b[0m\u001b[37m\u001b[0m \u001b[1m0s\u001b[0m 397ms/step\n",
      "\u001b[1m1/1\u001b[0m \u001b[32m━━━━━━━━━━━━━━━━━━━━\u001b[0m\u001b[37m\u001b[0m \u001b[1m0s\u001b[0m 366ms/step\n",
      "\u001b[1m1/1\u001b[0m \u001b[32m━━━━━━━━━━━━━━━━━━━━\u001b[0m\u001b[37m\u001b[0m \u001b[1m0s\u001b[0m 367ms/step\n",
      "\u001b[1m1/1\u001b[0m \u001b[32m━━━━━━━━━━━━━━━━━━━━\u001b[0m\u001b[37m\u001b[0m \u001b[1m0s\u001b[0m 434ms/step\n",
      "\u001b[1m1/1\u001b[0m \u001b[32m━━━━━━━━━━━━━━━━━━━━\u001b[0m\u001b[37m\u001b[0m \u001b[1m0s\u001b[0m 418ms/step\n",
      "\u001b[1m1/1\u001b[0m \u001b[32m━━━━━━━━━━━━━━━━━━━━\u001b[0m\u001b[37m\u001b[0m \u001b[1m0s\u001b[0m 430ms/step\n",
      "\u001b[1m1/1\u001b[0m \u001b[32m━━━━━━━━━━━━━━━━━━━━\u001b[0m\u001b[37m\u001b[0m \u001b[1m0s\u001b[0m 434ms/step\n",
      "\u001b[1m1/1\u001b[0m \u001b[32m━━━━━━━━━━━━━━━━━━━━\u001b[0m\u001b[37m\u001b[0m \u001b[1m0s\u001b[0m 400ms/step\n",
      "\u001b[1m1/1\u001b[0m \u001b[32m━━━━━━━━━━━━━━━━━━━━\u001b[0m\u001b[37m\u001b[0m \u001b[1m0s\u001b[0m 366ms/step\n",
      "\u001b[1m1/1\u001b[0m \u001b[32m━━━━━━━━━━━━━━━━━━━━\u001b[0m\u001b[37m\u001b[0m \u001b[1m0s\u001b[0m 382ms/step\n",
      "\u001b[1m1/1\u001b[0m \u001b[32m━━━━━━━━━━━━━━━━━━━━\u001b[0m\u001b[37m\u001b[0m \u001b[1m0s\u001b[0m 384ms/step\n",
      "\u001b[1m1/1\u001b[0m \u001b[32m━━━━━━━━━━━━━━━━━━━━\u001b[0m\u001b[37m\u001b[0m \u001b[1m0s\u001b[0m 406ms/step\n",
      "\u001b[1m1/1\u001b[0m \u001b[32m━━━━━━━━━━━━━━━━━━━━\u001b[0m\u001b[37m\u001b[0m \u001b[1m0s\u001b[0m 380ms/step\n",
      "\u001b[1m1/1\u001b[0m \u001b[32m━━━━━━━━━━━━━━━━━━━━\u001b[0m\u001b[37m\u001b[0m \u001b[1m0s\u001b[0m 375ms/step\n",
      "\u001b[1m1/1\u001b[0m \u001b[32m━━━━━━━━━━━━━━━━━━━━\u001b[0m\u001b[37m\u001b[0m \u001b[1m0s\u001b[0m 349ms/step\n",
      "\u001b[1m1/1\u001b[0m \u001b[32m━━━━━━━━━━━━━━━━━━━━\u001b[0m\u001b[37m\u001b[0m \u001b[1m0s\u001b[0m 313ms/step\n",
      "\u001b[1m1/1\u001b[0m \u001b[32m━━━━━━━━━━━━━━━━━━━━\u001b[0m\u001b[37m\u001b[0m \u001b[1m0s\u001b[0m 348ms/step\n",
      "\u001b[1m1/1\u001b[0m \u001b[32m━━━━━━━━━━━━━━━━━━━━\u001b[0m\u001b[37m\u001b[0m \u001b[1m0s\u001b[0m 319ms/step\n",
      "\u001b[1m1/1\u001b[0m \u001b[32m━━━━━━━━━━━━━━━━━━━━\u001b[0m\u001b[37m\u001b[0m \u001b[1m0s\u001b[0m 367ms/step\n",
      "\u001b[1m1/1\u001b[0m \u001b[32m━━━━━━━━━━━━━━━━━━━━\u001b[0m\u001b[37m\u001b[0m \u001b[1m0s\u001b[0m 384ms/step\n",
      "\u001b[1m1/1\u001b[0m \u001b[32m━━━━━━━━━━━━━━━━━━━━\u001b[0m\u001b[37m\u001b[0m \u001b[1m0s\u001b[0m 382ms/step\n",
      "\u001b[1m1/1\u001b[0m \u001b[32m━━━━━━━━━━━━━━━━━━━━\u001b[0m\u001b[37m\u001b[0m \u001b[1m1s\u001b[0m 544ms/step\n",
      "\u001b[1m1/1\u001b[0m \u001b[32m━━━━━━━━━━━━━━━━━━━━\u001b[0m\u001b[37m\u001b[0m \u001b[1m0s\u001b[0m 394ms/step\n",
      "\u001b[1m1/1\u001b[0m \u001b[32m━━━━━━━━━━━━━━━━━━━━\u001b[0m\u001b[37m\u001b[0m \u001b[1m0s\u001b[0m 477ms/step\n",
      "\u001b[1m1/1\u001b[0m \u001b[32m━━━━━━━━━━━━━━━━━━━━\u001b[0m\u001b[37m\u001b[0m \u001b[1m0s\u001b[0m 383ms/step\n",
      "\u001b[1m1/1\u001b[0m \u001b[32m━━━━━━━━━━━━━━━━━━━━\u001b[0m\u001b[37m\u001b[0m \u001b[1m0s\u001b[0m 445ms/step\n",
      "\u001b[1m1/1\u001b[0m \u001b[32m━━━━━━━━━━━━━━━━━━━━\u001b[0m\u001b[37m\u001b[0m \u001b[1m0s\u001b[0m 373ms/step\n",
      "\u001b[1m1/1\u001b[0m \u001b[32m━━━━━━━━━━━━━━━━━━━━\u001b[0m\u001b[37m\u001b[0m \u001b[1m0s\u001b[0m 472ms/step\n",
      "\u001b[1m1/1\u001b[0m \u001b[32m━━━━━━━━━━━━━━━━━━━━\u001b[0m\u001b[37m\u001b[0m \u001b[1m0s\u001b[0m 418ms/step\n",
      "\u001b[1m1/1\u001b[0m \u001b[32m━━━━━━━━━━━━━━━━━━━━\u001b[0m\u001b[37m\u001b[0m \u001b[1m0s\u001b[0m 385ms/step\n",
      "\u001b[1m1/1\u001b[0m \u001b[32m━━━━━━━━━━━━━━━━━━━━\u001b[0m\u001b[37m\u001b[0m \u001b[1m0s\u001b[0m 367ms/step\n",
      "\u001b[1m1/1\u001b[0m \u001b[32m━━━━━━━━━━━━━━━━━━━━\u001b[0m\u001b[37m\u001b[0m \u001b[1m0s\u001b[0m 419ms/step\n",
      "\u001b[1m1/1\u001b[0m \u001b[32m━━━━━━━━━━━━━━━━━━━━\u001b[0m\u001b[37m\u001b[0m \u001b[1m0s\u001b[0m 315ms/step\n",
      "\u001b[1m1/1\u001b[0m \u001b[32m━━━━━━━━━━━━━━━━━━━━\u001b[0m\u001b[37m\u001b[0m \u001b[1m0s\u001b[0m 402ms/step\n",
      "\u001b[1m1/1\u001b[0m \u001b[32m━━━━━━━━━━━━━━━━━━━━\u001b[0m\u001b[37m\u001b[0m \u001b[1m0s\u001b[0m 290ms/step\n",
      "\u001b[1m1/1\u001b[0m \u001b[32m━━━━━━━━━━━━━━━━━━━━\u001b[0m\u001b[37m\u001b[0m \u001b[1m1s\u001b[0m 505ms/step\n",
      "\u001b[1m1/1\u001b[0m \u001b[32m━━━━━━━━━━━━━━━━━━━━\u001b[0m\u001b[37m\u001b[0m \u001b[1m0s\u001b[0m 383ms/step\n",
      "\u001b[1m1/1\u001b[0m \u001b[32m━━━━━━━━━━━━━━━━━━━━\u001b[0m\u001b[37m\u001b[0m \u001b[1m0s\u001b[0m 389ms/step\n",
      "\u001b[1m1/1\u001b[0m \u001b[32m━━━━━━━━━━━━━━━━━━━━\u001b[0m\u001b[37m\u001b[0m \u001b[1m0s\u001b[0m 367ms/step\n",
      "\u001b[1m1/1\u001b[0m \u001b[32m━━━━━━━━━━━━━━━━━━━━\u001b[0m\u001b[37m\u001b[0m \u001b[1m0s\u001b[0m 431ms/step\n",
      "\u001b[1m1/1\u001b[0m \u001b[32m━━━━━━━━━━━━━━━━━━━━\u001b[0m\u001b[37m\u001b[0m \u001b[1m0s\u001b[0m 370ms/step\n",
      "\u001b[1m1/1\u001b[0m \u001b[32m━━━━━━━━━━━━━━━━━━━━\u001b[0m\u001b[37m\u001b[0m \u001b[1m1s\u001b[0m 883ms/step\n",
      "\u001b[1m1/1\u001b[0m \u001b[32m━━━━━━━━━━━━━━━━━━━━\u001b[0m\u001b[37m\u001b[0m \u001b[1m0s\u001b[0m 368ms/step\n",
      "\u001b[1m1/1\u001b[0m \u001b[32m━━━━━━━━━━━━━━━━━━━━\u001b[0m\u001b[37m\u001b[0m \u001b[1m0s\u001b[0m 401ms/step\n",
      "\u001b[1m1/1\u001b[0m \u001b[32m━━━━━━━━━━━━━━━━━━━━\u001b[0m\u001b[37m\u001b[0m \u001b[1m0s\u001b[0m 409ms/step\n",
      "\u001b[1m1/1\u001b[0m \u001b[32m━━━━━━━━━━━━━━━━━━━━\u001b[0m\u001b[37m\u001b[0m \u001b[1m0s\u001b[0m 395ms/step\n",
      "\u001b[1m1/1\u001b[0m \u001b[32m━━━━━━━━━━━━━━━━━━━━\u001b[0m\u001b[37m\u001b[0m \u001b[1m0s\u001b[0m 366ms/step\n",
      "\u001b[1m1/1\u001b[0m \u001b[32m━━━━━━━━━━━━━━━━━━━━\u001b[0m\u001b[37m\u001b[0m \u001b[1m0s\u001b[0m 418ms/step\n",
      "\u001b[1m1/1\u001b[0m \u001b[32m━━━━━━━━━━━━━━━━━━━━\u001b[0m\u001b[37m\u001b[0m \u001b[1m0s\u001b[0m 366ms/step\n",
      "\u001b[1m1/1\u001b[0m \u001b[32m━━━━━━━━━━━━━━━━━━━━\u001b[0m\u001b[37m\u001b[0m \u001b[1m0s\u001b[0m 417ms/step\n",
      "\u001b[1m1/1\u001b[0m \u001b[32m━━━━━━━━━━━━━━━━━━━━\u001b[0m\u001b[37m\u001b[0m \u001b[1m0s\u001b[0m 383ms/step\n",
      "\u001b[1m1/1\u001b[0m \u001b[32m━━━━━━━━━━━━━━━━━━━━\u001b[0m\u001b[37m\u001b[0m \u001b[1m0s\u001b[0m 417ms/step\n",
      "\u001b[1m1/1\u001b[0m \u001b[32m━━━━━━━━━━━━━━━━━━━━\u001b[0m\u001b[37m\u001b[0m \u001b[1m0s\u001b[0m 365ms/step\n",
      "\u001b[1m1/1\u001b[0m \u001b[32m━━━━━━━━━━━━━━━━━━━━\u001b[0m\u001b[37m\u001b[0m \u001b[1m0s\u001b[0m 430ms/step\n",
      "\u001b[1m1/1\u001b[0m \u001b[32m━━━━━━━━━━━━━━━━━━━━\u001b[0m\u001b[37m\u001b[0m \u001b[1m0s\u001b[0m 373ms/step\n",
      "\u001b[1m1/1\u001b[0m \u001b[32m━━━━━━━━━━━━━━━━━━━━\u001b[0m\u001b[37m\u001b[0m \u001b[1m0s\u001b[0m 430ms/step\n",
      "\u001b[1m1/1\u001b[0m \u001b[32m━━━━━━━━━━━━━━━━━━━━\u001b[0m\u001b[37m\u001b[0m \u001b[1m0s\u001b[0m 381ms/step\n",
      "\u001b[1m1/1\u001b[0m \u001b[32m━━━━━━━━━━━━━━━━━━━━\u001b[0m\u001b[37m\u001b[0m \u001b[1m0s\u001b[0m 478ms/step\n",
      "\u001b[1m1/1\u001b[0m \u001b[32m━━━━━━━━━━━━━━━━━━━━\u001b[0m\u001b[37m\u001b[0m \u001b[1m0s\u001b[0m 384ms/step\n",
      "\u001b[1m1/1\u001b[0m \u001b[32m━━━━━━━━━━━━━━━━━━━━\u001b[0m\u001b[37m\u001b[0m \u001b[1m0s\u001b[0m 390ms/step\n",
      "\u001b[1m1/1\u001b[0m \u001b[32m━━━━━━━━━━━━━━━━━━━━\u001b[0m\u001b[37m\u001b[0m \u001b[1m0s\u001b[0m 383ms/step\n",
      "\u001b[1m1/1\u001b[0m \u001b[32m━━━━━━━━━━━━━━━━━━━━\u001b[0m\u001b[37m\u001b[0m \u001b[1m0s\u001b[0m 411ms/step\n",
      "\u001b[1m1/1\u001b[0m \u001b[32m━━━━━━━━━━━━━━━━━━━━\u001b[0m\u001b[37m\u001b[0m \u001b[1m0s\u001b[0m 390ms/step\n",
      "\u001b[1m1/1\u001b[0m \u001b[32m━━━━━━━━━━━━━━━━━━━━\u001b[0m\u001b[37m\u001b[0m \u001b[1m1s\u001b[0m 561ms/step\n",
      "\u001b[1m1/1\u001b[0m \u001b[32m━━━━━━━━━━━━━━━━━━━━\u001b[0m\u001b[37m\u001b[0m \u001b[1m0s\u001b[0m 367ms/step\n",
      "\u001b[1m1/1\u001b[0m \u001b[32m━━━━━━━━━━━━━━━━━━━━\u001b[0m\u001b[37m\u001b[0m \u001b[1m0s\u001b[0m 466ms/step\n",
      "\u001b[1m1/1\u001b[0m \u001b[32m━━━━━━━━━━━━━━━━━━━━\u001b[0m\u001b[37m\u001b[0m \u001b[1m0s\u001b[0m 400ms/step\n",
      "\u001b[1m1/1\u001b[0m \u001b[32m━━━━━━━━━━━━━━━━━━━━\u001b[0m\u001b[37m\u001b[0m \u001b[1m0s\u001b[0m 381ms/step\n",
      "\u001b[1m1/1\u001b[0m \u001b[32m━━━━━━━━━━━━━━━━━━━━\u001b[0m\u001b[37m\u001b[0m \u001b[1m0s\u001b[0m 406ms/step\n",
      "\u001b[1m1/1\u001b[0m \u001b[32m━━━━━━━━━━━━━━━━━━━━\u001b[0m\u001b[37m\u001b[0m \u001b[1m0s\u001b[0m 384ms/step\n",
      "\u001b[1m1/1\u001b[0m \u001b[32m━━━━━━━━━━━━━━━━━━━━\u001b[0m\u001b[37m\u001b[0m \u001b[1m0s\u001b[0m 400ms/step\n",
      "\u001b[1m1/1\u001b[0m \u001b[32m━━━━━━━━━━━━━━━━━━━━\u001b[0m\u001b[37m\u001b[0m \u001b[1m0s\u001b[0m 383ms/step\n",
      "\u001b[1m1/1\u001b[0m \u001b[32m━━━━━━━━━━━━━━━━━━━━\u001b[0m\u001b[37m\u001b[0m \u001b[1m0s\u001b[0m 366ms/step\n",
      "\u001b[1m1/1\u001b[0m \u001b[32m━━━━━━━━━━━━━━━━━━━━\u001b[0m\u001b[37m\u001b[0m \u001b[1m0s\u001b[0m 433ms/step\n",
      "\u001b[1m1/1\u001b[0m \u001b[32m━━━━━━━━━━━━━━━━━━━━\u001b[0m\u001b[37m\u001b[0m \u001b[1m0s\u001b[0m 412ms/step\n",
      "\u001b[1m1/1\u001b[0m \u001b[32m━━━━━━━━━━━━━━━━━━━━\u001b[0m\u001b[37m\u001b[0m \u001b[1m1s\u001b[0m 531ms/step\n",
      "\u001b[1m1/1\u001b[0m \u001b[32m━━━━━━━━━━━━━━━━━━━━\u001b[0m\u001b[37m\u001b[0m \u001b[1m0s\u001b[0m 366ms/step\n",
      "\u001b[1m1/1\u001b[0m \u001b[32m━━━━━━━━━━━━━━━━━━━━\u001b[0m\u001b[37m\u001b[0m \u001b[1m0s\u001b[0m 429ms/step\n",
      "\u001b[1m1/1\u001b[0m \u001b[32m━━━━━━━━━━━━━━━━━━━━\u001b[0m\u001b[37m\u001b[0m \u001b[1m0s\u001b[0m 367ms/step\n",
      "\u001b[1m1/1\u001b[0m \u001b[32m━━━━━━━━━━━━━━━━━━━━\u001b[0m\u001b[37m\u001b[0m \u001b[1m0s\u001b[0m 400ms/step\n",
      "\u001b[1m1/1\u001b[0m \u001b[32m━━━━━━━━━━━━━━━━━━━━\u001b[0m\u001b[37m\u001b[0m \u001b[1m0s\u001b[0m 366ms/step\n",
      "\u001b[1m1/1\u001b[0m \u001b[32m━━━━━━━━━━━━━━━━━━━━\u001b[0m\u001b[37m\u001b[0m \u001b[1m0s\u001b[0m 374ms/step\n",
      "\u001b[1m1/1\u001b[0m \u001b[32m━━━━━━━━━━━━━━━━━━━━\u001b[0m\u001b[37m\u001b[0m \u001b[1m0s\u001b[0m 383ms/step\n",
      "\u001b[1m1/1\u001b[0m \u001b[32m━━━━━━━━━━━━━━━━━━━━\u001b[0m\u001b[37m\u001b[0m \u001b[1m0s\u001b[0m 434ms/step\n",
      "\u001b[1m1/1\u001b[0m \u001b[32m━━━━━━━━━━━━━━━━━━━━\u001b[0m\u001b[37m\u001b[0m \u001b[1m0s\u001b[0m 300ms/step\n",
      "\u001b[1m1/1\u001b[0m \u001b[32m━━━━━━━━━━━━━━━━━━━━\u001b[0m\u001b[37m\u001b[0m \u001b[1m0s\u001b[0m 445ms/step\n",
      "\u001b[1m1/1\u001b[0m \u001b[32m━━━━━━━━━━━━━━━━━━━━\u001b[0m\u001b[37m\u001b[0m \u001b[1m0s\u001b[0m 402ms/step\n",
      "\u001b[1m1/1\u001b[0m \u001b[32m━━━━━━━━━━━━━━━━━━━━\u001b[0m\u001b[37m\u001b[0m \u001b[1m0s\u001b[0m 413ms/step\n",
      "\u001b[1m1/1\u001b[0m \u001b[32m━━━━━━━━━━━━━━━━━━━━\u001b[0m\u001b[37m\u001b[0m \u001b[1m0s\u001b[0m 424ms/step\n",
      "\u001b[1m1/1\u001b[0m \u001b[32m━━━━━━━━━━━━━━━━━━━━\u001b[0m\u001b[37m\u001b[0m \u001b[1m0s\u001b[0m 412ms/step\n",
      "\u001b[1m1/1\u001b[0m \u001b[32m━━━━━━━━━━━━━━━━━━━━\u001b[0m\u001b[37m\u001b[0m \u001b[1m0s\u001b[0m 373ms/step\n",
      "\u001b[1m1/1\u001b[0m \u001b[32m━━━━━━━━━━━━━━━━━━━━\u001b[0m\u001b[37m\u001b[0m \u001b[1m0s\u001b[0m 425ms/step\n",
      "\u001b[1m1/1\u001b[0m \u001b[32m━━━━━━━━━━━━━━━━━━━━\u001b[0m\u001b[37m\u001b[0m \u001b[1m0s\u001b[0m 362ms/step\n",
      "\u001b[1m1/1\u001b[0m \u001b[32m━━━━━━━━━━━━━━━━━━━━\u001b[0m\u001b[37m\u001b[0m \u001b[1m0s\u001b[0m 441ms/step\n",
      "\u001b[1m1/1\u001b[0m \u001b[32m━━━━━━━━━━━━━━━━━━━━\u001b[0m\u001b[37m\u001b[0m \u001b[1m0s\u001b[0m 436ms/step\n",
      "\u001b[1m1/1\u001b[0m \u001b[32m━━━━━━━━━━━━━━━━━━━━\u001b[0m\u001b[37m\u001b[0m \u001b[1m0s\u001b[0m 444ms/step\n",
      "\u001b[1m1/1\u001b[0m \u001b[32m━━━━━━━━━━━━━━━━━━━━\u001b[0m\u001b[37m\u001b[0m \u001b[1m0s\u001b[0m 431ms/step\n",
      "\u001b[1m1/1\u001b[0m \u001b[32m━━━━━━━━━━━━━━━━━━━━\u001b[0m\u001b[37m\u001b[0m \u001b[1m0s\u001b[0m 439ms/step\n",
      "\u001b[1m1/1\u001b[0m \u001b[32m━━━━━━━━━━━━━━━━━━━━\u001b[0m\u001b[37m\u001b[0m \u001b[1m0s\u001b[0m 346ms/step\n",
      "\u001b[1m1/1\u001b[0m \u001b[32m━━━━━━━━━━━━━━━━━━━━\u001b[0m\u001b[37m\u001b[0m \u001b[1m1s\u001b[0m 500ms/step\n",
      "\u001b[1m1/1\u001b[0m \u001b[32m━━━━━━━━━━━━━━━━━━━━\u001b[0m\u001b[37m\u001b[0m \u001b[1m1s\u001b[0m 510ms/step\n",
      "\u001b[1m1/1\u001b[0m \u001b[32m━━━━━━━━━━━━━━━━━━━━\u001b[0m\u001b[37m\u001b[0m \u001b[1m1s\u001b[0m 803ms/step\n",
      "\u001b[1m1/1\u001b[0m \u001b[32m━━━━━━━━━━━━━━━━━━━━\u001b[0m\u001b[37m\u001b[0m \u001b[1m0s\u001b[0m 369ms/step\n",
      "\u001b[1m1/1\u001b[0m \u001b[32m━━━━━━━━━━━━━━━━━━━━\u001b[0m\u001b[37m\u001b[0m \u001b[1m0s\u001b[0m 483ms/step\n",
      "\u001b[1m1/1\u001b[0m \u001b[32m━━━━━━━━━━━━━━━━━━━━\u001b[0m\u001b[37m\u001b[0m \u001b[1m0s\u001b[0m 450ms/step\n",
      "\u001b[1m1/1\u001b[0m \u001b[32m━━━━━━━━━━━━━━━━━━━━\u001b[0m\u001b[37m\u001b[0m \u001b[1m1s\u001b[0m 600ms/step\n",
      "\u001b[1m1/1\u001b[0m \u001b[32m━━━━━━━━━━━━━━━━━━━━\u001b[0m\u001b[37m\u001b[0m \u001b[1m1s\u001b[0m 553ms/step\n",
      "\n",
      "Moeda:  BTC-USD  processada\n",
      "\u001b[1m1/1\u001b[0m \u001b[32m━━━━━━━━━━━━━━━━━━━━\u001b[0m\u001b[37m\u001b[0m \u001b[1m0s\u001b[0m 355ms/step\n",
      "\n",
      "Moeda:  LTC-USD  processada\n",
      "Processamento em paralelo finalizado.\n"
     ]
    }
   ],
   "source": [
    "# Função que processa cada criptomoeda (paralelismo será aplicado aqui)\n",
    "def process_crypto(crypto, data, test_target, data_complete, time_step, features):\n",
    "    # Criar um modelo para cada criptomoeda\n",
    "    for day in range(2450, 2550):\n",
    "        model = create_model(time_step, features)\n",
    "\n",
    "        df_train = data[crypto][day].copy()  # df é uma tabela de 300 linhas e uma coluna\n",
    "        df_test = test_target[crypto][day].copy()  # df_test é uma tabela com 1 linha e uma coluna\n",
    "        df = pd.concat([df_train, df_test], ignore_index=True)  # Unindo as duas tabelas\n",
    "\n",
    "        scaler = StandardScaler()\n",
    "        df = scaler.fit_transform(df)\n",
    "\n",
    "        y_hat_scaled = Model(df, time_step, features, model=model)  # Chamar o modelo para previsão\n",
    "\n",
    "        y_hat_scaled = np.repeat(y_hat_scaled, features, axis=1)\n",
    "        y_hat_scaled = pd.DataFrame(y_hat_scaled, columns=(['Predictions_1'], ['Predictions_2']))\n",
    "\n",
    "        y_hat = scaler.inverse_transform(y_hat_scaled)[0][features - 1]\n",
    "\n",
    "        Add(y_hat, data_complete, df_test.index[0], crypto)  # Adicionar o resultado na tabela final\n",
    "\n",
    "    print(\"\\nMoeda: \", crypto, \" processada\")\n",
    "\n",
    "# Número de samples que vamos testar o modelo\n",
    "time_step = w\n",
    "features = 2\n",
    "\n",
    "# Criar o executor para rodar as criptomoedas em paralelo\n",
    "with ThreadPoolExecutor() as executor:\n",
    "    # Executar o processo para cada criptomoeda simultaneamente\n",
    "    futures = [\n",
    "        executor.submit(process_crypto, crypto, data, test_target, data_complete, time_step, features)\n",
    "        for crypto in cryptos\n",
    "    ]\n",
    "\n",
    "    # Aguardar a conclusão de todas as threads\n",
    "    for future in futures:\n",
    "        future.result()\n",
    "\n",
    "print(\"Processamento em paralelo finalizado.\")"
   ]
  },
  {
   "cell_type": "markdown",
   "metadata": {
    "id": "l5P8MZMpg_ic"
   },
   "source": [
    "42min para 100 dias\n"
   ]
  },
  {
   "cell_type": "code",
   "execution_count": 24,
   "metadata": {
    "colab": {
     "base_uri": "https://localhost:8080/",
     "height": 159
    },
    "id": "Z5B_u6sF4m_X",
    "outputId": "baaf9e9d-2941-415f-f807-fba8375fb1c3"
   },
   "outputs": [
    {
     "data": {
      "text/html": [
       "<div>\n",
       "<style scoped>\n",
       "    .dataframe tbody tr th:only-of-type {\n",
       "        vertical-align: middle;\n",
       "    }\n",
       "\n",
       "    .dataframe tbody tr th {\n",
       "        vertical-align: top;\n",
       "    }\n",
       "\n",
       "    .dataframe thead th {\n",
       "        text-align: right;\n",
       "    }\n",
       "</style>\n",
       "<table border=\"1\" class=\"dataframe\">\n",
       "  <thead>\n",
       "    <tr style=\"text-align: right;\">\n",
       "      <th></th>\n",
       "      <th>Crypto_Return_Today</th>\n",
       "      <th>exp_value</th>\n",
       "    </tr>\n",
       "    <tr>\n",
       "      <th>Date</th>\n",
       "      <th></th>\n",
       "      <th></th>\n",
       "    </tr>\n",
       "  </thead>\n",
       "  <tbody>\n",
       "    <tr>\n",
       "      <th>2017-11-09</th>\n",
       "      <td>-0.041574</td>\n",
       "      <td>0.006826</td>\n",
       "    </tr>\n",
       "    <tr>\n",
       "      <th>2017-11-10</th>\n",
       "      <td>-0.080611</td>\n",
       "      <td>0.004853</td>\n",
       "    </tr>\n",
       "    <tr>\n",
       "      <th>2017-11-11</th>\n",
       "      <td>-0.040234</td>\n",
       "      <td>-0.026469</td>\n",
       "    </tr>\n",
       "    <tr>\n",
       "      <th>2017-11-12</th>\n",
       "      <td>-0.056424</td>\n",
       "      <td>-0.018350</td>\n",
       "    </tr>\n",
       "    <tr>\n",
       "      <th>2017-11-13</th>\n",
       "      <td>0.099498</td>\n",
       "      <td>0.016696</td>\n",
       "    </tr>\n",
       "    <tr>\n",
       "      <th>...</th>\n",
       "      <td>...</td>\n",
       "      <td>...</td>\n",
       "    </tr>\n",
       "    <tr>\n",
       "      <th>2018-02-12</th>\n",
       "      <td>0.092066</td>\n",
       "      <td>-0.054224</td>\n",
       "    </tr>\n",
       "    <tr>\n",
       "      <th>2018-02-13</th>\n",
       "      <td>-0.037483</td>\n",
       "      <td>-0.037884</td>\n",
       "    </tr>\n",
       "    <tr>\n",
       "      <th>2018-02-14</th>\n",
       "      <td>0.098973</td>\n",
       "      <td>-0.001617</td>\n",
       "    </tr>\n",
       "    <tr>\n",
       "      <th>2018-02-15</th>\n",
       "      <td>0.069027</td>\n",
       "      <td>-0.047034</td>\n",
       "    </tr>\n",
       "    <tr>\n",
       "      <th>2018-02-16</th>\n",
       "      <td>0.009642</td>\n",
       "      <td>0.030803</td>\n",
       "    </tr>\n",
       "  </tbody>\n",
       "</table>\n",
       "<p>100 rows × 2 columns</p>\n",
       "</div>"
      ],
      "text/plain": [
       "            Crypto_Return_Today  exp_value\n",
       "Date                                      \n",
       "2017-11-09            -0.041574   0.006826\n",
       "2017-11-10            -0.080611   0.004853\n",
       "2017-11-11            -0.040234  -0.026469\n",
       "2017-11-12            -0.056424  -0.018350\n",
       "2017-11-13             0.099498   0.016696\n",
       "...                         ...        ...\n",
       "2018-02-12             0.092066  -0.054224\n",
       "2018-02-13            -0.037483  -0.037884\n",
       "2018-02-14             0.098973  -0.001617\n",
       "2018-02-15             0.069027  -0.047034\n",
       "2018-02-16             0.009642   0.030803\n",
       "\n",
       "[100 rows x 2 columns]"
      ]
     },
     "execution_count": 24,
     "metadata": {},
     "output_type": "execute_result"
    }
   ],
   "source": [
    "df = data_complete['BTC-USD']\n",
    "df.dropna()"
   ]
  },
  {
   "cell_type": "code",
   "execution_count": 25,
   "metadata": {
    "id": "VZq53cUFkNEL"
   },
   "outputs": [],
   "source": [
    "data_visual = data_complete"
   ]
  },
  {
   "cell_type": "code",
   "execution_count": 26,
   "metadata": {},
   "outputs": [],
   "source": [
    "results = []\n",
    "\n",
    "for crypto in cryptos:\n",
    "    df = data_visual[crypto]\n",
    "    df['ae'] = df['exp_value'] - df['Crypto_Return_Today']\n",
    "    df['ae'] = abs(df['ae'])\n",
    "    df = df.dropna()\n",
    "    \n",
    "    # Cálculos dos valores\n",
    "    num_positive = (df['Crypto_Return_Today'] > 0).sum()\n",
    "    num_negative = (df['Crypto_Return_Today'] < 0).sum()\n",
    "    hat_pos = (df['exp_value'] > 0).sum()\n",
    "    hat_neg = (df['exp_value'] < 0).sum()\n",
    "\n",
    "    # Calcula a porcentagem de subidas e quedas reais e previstas\n",
    "    total_real = num_positive + num_negative\n",
    "    total_pred = hat_pos + hat_neg\n",
    "    perc_positive_real = (100 * num_positive / total_real) if total_real > 0 else None\n",
    "    perc_positive_pred = (100 * hat_pos / total_pred) if total_pred > 0 else None\n",
    "    \n",
    "    # Calcular métricas de avaliação\n",
    "    TP = ((df['Crypto_Return_Today'] > 0) & (df['exp_value'] > 0)).sum()\n",
    "    TN = ((df['Crypto_Return_Today'] < 0) & (df['exp_value'] < 0)).sum()\n",
    "    FP = ((df['Crypto_Return_Today'] < 0) & (df['exp_value'] > 0)).sum()\n",
    "    FN = ((df['Crypto_Return_Today'] > 0) & (df['exp_value'] < 0)).sum()\n",
    "    mae = df['ae'].mean()\n",
    "    acc = (TP + TN) / (TP + FP + FN + FP) if (TP + FP + FN + FP) > 0 else None\n",
    "    sen = TP / (TP + FN) if (TP + FN) > 0 else None\n",
    "    spe = TN / (TN + FP) if (TN + FP) > 0 else None\n",
    "    pre = TP / (TP + FP) if (TP + FP) > 0 else None\n",
    "\n",
    "    # Lower bound dos 10% maiores\n",
    "    limite_90 = df['exp_value'].quantile(0.9)\n",
    "    menor_valor_10_maiores = df[df['exp_value'] >= limite_90]['exp_value'].min()\n",
    "\n",
    "    # Precisão para valores maiores que 0.008\n",
    "    TP_threshold = ((df['Crypto_Return_Today'] > 0) & (df['exp_value'] > 0) & (df['exp_value'] >= 0.0002)).sum()\n",
    "    FP_threshold = ((df['Crypto_Return_Today'] < 0) & (df['exp_value'] > 0) & (df['exp_value'] >= 0.0002)).sum()\n",
    "    prec_maior_008 = TP_threshold / (TP_threshold + FP_threshold) if (TP_threshold + FP_threshold) > 0 else None\n",
    "\n",
    "    # Adicionando os resultados para a criptomoeda atual\n",
    "    results.append({\n",
    "        \"Crypto\": crypto,\n",
    "        \"Num Subidas (Real)\": num_positive,\n",
    "        \"Perc Subidas (Real)\": perc_positive_real,\n",
    "        \"Num Quedas (Real)\": num_negative,\n",
    "        \"Num Subidas (Pred)\": hat_pos,\n",
    "        \"Perc Subidas (Pred)\": perc_positive_pred,\n",
    "        \"Num Quedas (Pred)\": hat_neg,\n",
    "        \"MAE\": mae,\n",
    "        \"Acc\": acc,\n",
    "        \"Sen\": sen,\n",
    "        \"Spe\": spe,\n",
    "        \"Pre\": pre,\n",
    "        \"Lower bound dos 10% maiores\": menor_valor_10_maiores,\n",
    "        \"Precisao para maiores que 0.008\": prec_maior_008\n",
    "    })\n",
    "\n",
    "# Criando um DataFrame com os resultados\n",
    "results_df = pd.DataFrame(results)\n",
    "\n",
    "# Exibindo a tabela com os resultados\n",
    "\n",
    "# Exibindo a tabela com os resultados\n",
    "#results_df.to_csv(\"resultado_arquitetura_1.csv\", index = True)"
   ]
  },
  {
   "cell_type": "code",
   "execution_count": 27,
   "metadata": {
    "id": "DOsSsKY64m_Y"
   },
   "outputs": [],
   "source": [
    "data_aux = {}\n",
    "for crypto in cryptos:\n",
    "    data_aux[crypto] = pd.read_csv(f\"{crypto}.csv\", index_col='Date')"
   ]
  },
  {
   "cell_type": "code",
   "execution_count": 28,
   "metadata": {
    "id": "0bsOIKxm4m_Y"
   },
   "outputs": [
    {
     "data": {
      "text/html": [
       "<div>\n",
       "<style scoped>\n",
       "    .dataframe tbody tr th:only-of-type {\n",
       "        vertical-align: middle;\n",
       "    }\n",
       "\n",
       "    .dataframe tbody tr th {\n",
       "        vertical-align: top;\n",
       "    }\n",
       "\n",
       "    .dataframe thead th {\n",
       "        text-align: right;\n",
       "    }\n",
       "</style>\n",
       "<table border=\"1\" class=\"dataframe\">\n",
       "  <thead>\n",
       "    <tr style=\"text-align: right;\">\n",
       "      <th></th>\n",
       "      <th>Crypto_Return_Today</th>\n",
       "      <th>exp_value</th>\n",
       "      <th>ae</th>\n",
       "    </tr>\n",
       "    <tr>\n",
       "      <th>Date</th>\n",
       "      <th></th>\n",
       "      <th></th>\n",
       "      <th></th>\n",
       "    </tr>\n",
       "  </thead>\n",
       "  <tbody>\n",
       "    <tr>\n",
       "      <th>2018-02-17</th>\n",
       "      <td>0.084966</td>\n",
       "      <td>0.025762</td>\n",
       "      <td>0.059204</td>\n",
       "    </tr>\n",
       "    <tr>\n",
       "      <th>2018-02-18</th>\n",
       "      <td>-0.052755</td>\n",
       "      <td>0.024665</td>\n",
       "      <td>0.077419</td>\n",
       "    </tr>\n",
       "    <tr>\n",
       "      <th>2018-02-19</th>\n",
       "      <td>0.061798</td>\n",
       "      <td>0.028592</td>\n",
       "      <td>0.033206</td>\n",
       "    </tr>\n",
       "    <tr>\n",
       "      <th>2018-02-20</th>\n",
       "      <td>0.015189</td>\n",
       "      <td>0.079546</td>\n",
       "      <td>0.064357</td>\n",
       "    </tr>\n",
       "    <tr>\n",
       "      <th>2018-02-21</th>\n",
       "      <td>-0.061826</td>\n",
       "      <td>0.062799</td>\n",
       "      <td>0.124625</td>\n",
       "    </tr>\n",
       "    <tr>\n",
       "      <th>...</th>\n",
       "      <td>...</td>\n",
       "      <td>...</td>\n",
       "      <td>...</td>\n",
       "    </tr>\n",
       "    <tr>\n",
       "      <th>2018-08-31</th>\n",
       "      <td>0.009080</td>\n",
       "      <td>-0.027051</td>\n",
       "      <td>0.036130</td>\n",
       "    </tr>\n",
       "    <tr>\n",
       "      <th>2018-09-01</th>\n",
       "      <td>0.020852</td>\n",
       "      <td>0.030304</td>\n",
       "      <td>0.009452</td>\n",
       "    </tr>\n",
       "    <tr>\n",
       "      <th>2018-09-02</th>\n",
       "      <td>0.011498</td>\n",
       "      <td>-0.002834</td>\n",
       "      <td>0.014331</td>\n",
       "    </tr>\n",
       "    <tr>\n",
       "      <th>2018-09-03</th>\n",
       "      <td>-0.002609</td>\n",
       "      <td>-0.012028</td>\n",
       "      <td>0.009419</td>\n",
       "    </tr>\n",
       "    <tr>\n",
       "      <th>2018-09-04</th>\n",
       "      <td>0.013493</td>\n",
       "      <td>0.006053</td>\n",
       "      <td>0.007439</td>\n",
       "    </tr>\n",
       "  </tbody>\n",
       "</table>\n",
       "<p>200 rows × 3 columns</p>\n",
       "</div>"
      ],
      "text/plain": [
       "            Crypto_Return_Today  exp_value        ae\n",
       "Date                                                \n",
       "2018-02-17             0.084966   0.025762  0.059204\n",
       "2018-02-18            -0.052755   0.024665  0.077419\n",
       "2018-02-19             0.061798   0.028592  0.033206\n",
       "2018-02-20             0.015189   0.079546  0.064357\n",
       "2018-02-21            -0.061826   0.062799  0.124625\n",
       "...                         ...        ...       ...\n",
       "2018-08-31             0.009080  -0.027051  0.036130\n",
       "2018-09-01             0.020852   0.030304  0.009452\n",
       "2018-09-02             0.011498  -0.002834  0.014331\n",
       "2018-09-03            -0.002609  -0.012028  0.009419\n",
       "2018-09-04             0.013493   0.006053  0.007439\n",
       "\n",
       "[200 rows x 3 columns]"
      ]
     },
     "execution_count": 28,
     "metadata": {},
     "output_type": "execute_result"
    }
   ],
   "source": [
    "data_aux['BTC-USD'].dropna()"
   ]
  },
  {
   "cell_type": "code",
   "execution_count": 30,
   "metadata": {
    "id": "qKXPffH04m_Y"
   },
   "outputs": [
    {
     "data": {
      "text/html": [
       "<div>\n",
       "<style scoped>\n",
       "    .dataframe tbody tr th:only-of-type {\n",
       "        vertical-align: middle;\n",
       "    }\n",
       "\n",
       "    .dataframe tbody tr th {\n",
       "        vertical-align: top;\n",
       "    }\n",
       "\n",
       "    .dataframe thead th {\n",
       "        text-align: right;\n",
       "    }\n",
       "</style>\n",
       "<table border=\"1\" class=\"dataframe\">\n",
       "  <thead>\n",
       "    <tr style=\"text-align: right;\">\n",
       "      <th></th>\n",
       "      <th>Crypto_Return_Today</th>\n",
       "      <th>exp_value</th>\n",
       "      <th>ae</th>\n",
       "    </tr>\n",
       "    <tr>\n",
       "      <th>Date</th>\n",
       "      <th></th>\n",
       "      <th></th>\n",
       "      <th></th>\n",
       "    </tr>\n",
       "  </thead>\n",
       "  <tbody>\n",
       "    <tr>\n",
       "      <th>2014-09-17</th>\n",
       "      <td>-0.018480</td>\n",
       "      <td>NaN</td>\n",
       "      <td>NaN</td>\n",
       "    </tr>\n",
       "    <tr>\n",
       "      <th>2014-09-18</th>\n",
       "      <td>-0.073606</td>\n",
       "      <td>NaN</td>\n",
       "      <td>NaN</td>\n",
       "    </tr>\n",
       "    <tr>\n",
       "      <th>2014-09-19</th>\n",
       "      <td>-0.071607</td>\n",
       "      <td>NaN</td>\n",
       "      <td>NaN</td>\n",
       "    </tr>\n",
       "    <tr>\n",
       "      <th>2014-09-20</th>\n",
       "      <td>0.035423</td>\n",
       "      <td>NaN</td>\n",
       "      <td>NaN</td>\n",
       "    </tr>\n",
       "    <tr>\n",
       "      <th>2014-09-21</th>\n",
       "      <td>-0.022963</td>\n",
       "      <td>NaN</td>\n",
       "      <td>NaN</td>\n",
       "    </tr>\n",
       "    <tr>\n",
       "      <th>...</th>\n",
       "      <td>...</td>\n",
       "      <td>...</td>\n",
       "      <td>...</td>\n",
       "    </tr>\n",
       "    <tr>\n",
       "      <th>2018-02-12</th>\n",
       "      <td>0.092066</td>\n",
       "      <td>-0.054224</td>\n",
       "      <td>0.146291</td>\n",
       "    </tr>\n",
       "    <tr>\n",
       "      <th>2018-02-13</th>\n",
       "      <td>-0.037483</td>\n",
       "      <td>-0.037884</td>\n",
       "      <td>0.000400</td>\n",
       "    </tr>\n",
       "    <tr>\n",
       "      <th>2018-02-14</th>\n",
       "      <td>0.098973</td>\n",
       "      <td>-0.001617</td>\n",
       "      <td>0.100590</td>\n",
       "    </tr>\n",
       "    <tr>\n",
       "      <th>2018-02-15</th>\n",
       "      <td>0.069027</td>\n",
       "      <td>-0.047034</td>\n",
       "      <td>0.116060</td>\n",
       "    </tr>\n",
       "    <tr>\n",
       "      <th>2018-02-16</th>\n",
       "      <td>0.009642</td>\n",
       "      <td>0.030803</td>\n",
       "      <td>0.021161</td>\n",
       "    </tr>\n",
       "  </tbody>\n",
       "</table>\n",
       "<p>1249 rows × 3 columns</p>\n",
       "</div>"
      ],
      "text/plain": [
       "            Crypto_Return_Today  exp_value        ae\n",
       "Date                                                \n",
       "2014-09-17            -0.018480        NaN       NaN\n",
       "2014-09-18            -0.073606        NaN       NaN\n",
       "2014-09-19            -0.071607        NaN       NaN\n",
       "2014-09-20             0.035423        NaN       NaN\n",
       "2014-09-21            -0.022963        NaN       NaN\n",
       "...                         ...        ...       ...\n",
       "2018-02-12             0.092066  -0.054224  0.146291\n",
       "2018-02-13            -0.037483  -0.037884  0.000400\n",
       "2018-02-14             0.098973  -0.001617  0.100590\n",
       "2018-02-15             0.069027  -0.047034  0.116060\n",
       "2018-02-16             0.009642   0.030803  0.021161\n",
       "\n",
       "[1249 rows x 3 columns]"
      ]
     },
     "execution_count": 30,
     "metadata": {},
     "output_type": "execute_result"
    }
   ],
   "source": [
    "data_aux['BTC-USD'][-2450:]\n",
    "data_complete['BTC-USD'][:-2450]"
   ]
  },
  {
   "cell_type": "code",
   "execution_count": 31,
   "metadata": {
    "id": "icM_K8yJ4m_Y"
   },
   "outputs": [],
   "source": [
    "for crypto in cryptos:\n",
    "    df_aux = data_complete[crypto]\n",
    "    df_aux = pd.concat([df_aux[:-2450], data_aux[crypto][-2450:]])\n",
    "    df_aux.index = pd.to_datetime(df_aux.index)\n",
    "    data_complete[crypto] = df_aux\n"
   ]
  },
  {
   "cell_type": "code",
   "execution_count": 32,
   "metadata": {
    "id": "We9JjEsm4m_Z"
   },
   "outputs": [],
   "source": [
    "for crypto in cryptos:\n",
    "    data_complete[crypto]= data_complete[crypto][~data_complete[crypto].index.duplicated(keep='first')]"
   ]
  },
  {
   "cell_type": "code",
   "execution_count": 33,
   "metadata": {
    "id": "PGFhRpKg4m_Z"
   },
   "outputs": [
    {
     "data": {
      "text/html": [
       "<div>\n",
       "<style scoped>\n",
       "    .dataframe tbody tr th:only-of-type {\n",
       "        vertical-align: middle;\n",
       "    }\n",
       "\n",
       "    .dataframe tbody tr th {\n",
       "        vertical-align: top;\n",
       "    }\n",
       "\n",
       "    .dataframe thead th {\n",
       "        text-align: right;\n",
       "    }\n",
       "</style>\n",
       "<table border=\"1\" class=\"dataframe\">\n",
       "  <thead>\n",
       "    <tr style=\"text-align: right;\">\n",
       "      <th></th>\n",
       "      <th>Crypto_Return_Today</th>\n",
       "      <th>exp_value</th>\n",
       "      <th>ae</th>\n",
       "    </tr>\n",
       "    <tr>\n",
       "      <th>Date</th>\n",
       "      <th></th>\n",
       "      <th></th>\n",
       "      <th></th>\n",
       "    </tr>\n",
       "  </thead>\n",
       "  <tbody>\n",
       "    <tr>\n",
       "      <th>2017-11-09</th>\n",
       "      <td>-0.041574</td>\n",
       "      <td>0.006826</td>\n",
       "      <td>0.048401</td>\n",
       "    </tr>\n",
       "    <tr>\n",
       "      <th>2017-11-10</th>\n",
       "      <td>-0.080611</td>\n",
       "      <td>0.004853</td>\n",
       "      <td>0.085464</td>\n",
       "    </tr>\n",
       "    <tr>\n",
       "      <th>2017-11-11</th>\n",
       "      <td>-0.040234</td>\n",
       "      <td>-0.026469</td>\n",
       "      <td>0.013766</td>\n",
       "    </tr>\n",
       "    <tr>\n",
       "      <th>2017-11-12</th>\n",
       "      <td>-0.056424</td>\n",
       "      <td>-0.018350</td>\n",
       "      <td>0.038074</td>\n",
       "    </tr>\n",
       "    <tr>\n",
       "      <th>2017-11-13</th>\n",
       "      <td>0.099498</td>\n",
       "      <td>0.016696</td>\n",
       "      <td>0.082803</td>\n",
       "    </tr>\n",
       "    <tr>\n",
       "      <th>...</th>\n",
       "      <td>...</td>\n",
       "      <td>...</td>\n",
       "      <td>...</td>\n",
       "    </tr>\n",
       "    <tr>\n",
       "      <th>2018-08-31</th>\n",
       "      <td>0.009080</td>\n",
       "      <td>-0.027051</td>\n",
       "      <td>0.036130</td>\n",
       "    </tr>\n",
       "    <tr>\n",
       "      <th>2018-09-01</th>\n",
       "      <td>0.020852</td>\n",
       "      <td>0.030304</td>\n",
       "      <td>0.009452</td>\n",
       "    </tr>\n",
       "    <tr>\n",
       "      <th>2018-09-02</th>\n",
       "      <td>0.011498</td>\n",
       "      <td>-0.002834</td>\n",
       "      <td>0.014331</td>\n",
       "    </tr>\n",
       "    <tr>\n",
       "      <th>2018-09-03</th>\n",
       "      <td>-0.002609</td>\n",
       "      <td>-0.012028</td>\n",
       "      <td>0.009419</td>\n",
       "    </tr>\n",
       "    <tr>\n",
       "      <th>2018-09-04</th>\n",
       "      <td>0.013493</td>\n",
       "      <td>0.006053</td>\n",
       "      <td>0.007439</td>\n",
       "    </tr>\n",
       "  </tbody>\n",
       "</table>\n",
       "<p>300 rows × 3 columns</p>\n",
       "</div>"
      ],
      "text/plain": [
       "            Crypto_Return_Today  exp_value        ae\n",
       "Date                                                \n",
       "2017-11-09            -0.041574   0.006826  0.048401\n",
       "2017-11-10            -0.080611   0.004853  0.085464\n",
       "2017-11-11            -0.040234  -0.026469  0.013766\n",
       "2017-11-12            -0.056424  -0.018350  0.038074\n",
       "2017-11-13             0.099498   0.016696  0.082803\n",
       "...                         ...        ...       ...\n",
       "2018-08-31             0.009080  -0.027051  0.036130\n",
       "2018-09-01             0.020852   0.030304  0.009452\n",
       "2018-09-02             0.011498  -0.002834  0.014331\n",
       "2018-09-03            -0.002609  -0.012028  0.009419\n",
       "2018-09-04             0.013493   0.006053  0.007439\n",
       "\n",
       "[300 rows x 3 columns]"
      ]
     },
     "execution_count": 33,
     "metadata": {},
     "output_type": "execute_result"
    }
   ],
   "source": [
    "data_complete['BTC-USD'].dropna()"
   ]
  },
  {
   "cell_type": "code",
   "execution_count": 34,
   "metadata": {
    "colab": {
     "base_uri": "https://localhost:8080/"
    },
    "id": "SSHTFWTU4m_Z",
    "outputId": "a86a7ecc-cc7b-41bc-de90-93b5e5e21ee5"
   },
   "outputs": [
    {
     "name": "stdout",
     "output_type": "stream",
     "text": [
      "Arquivo BTC-USD.csv salvo com sucesso!\n",
      "Arquivo LTC-USD.csv salvo com sucesso!\n"
     ]
    }
   ],
   "source": [
    "for crypto in cryptos:\n",
    "    # Define o nome do arquivo como o nome da criptomoeda seguido de .csv\n",
    "    filename = f\"{crypto}.csv\"\n",
    "\n",
    "    # Salva o DataFrame data_complete[crypto] no arquivo .csv\n",
    "    data_complete[crypto].to_csv(filename, index=True)\n",
    "\n",
    "    print(f\"Arquivo {filename} salvo com sucesso!\")"
   ]
  },
  {
   "cell_type": "code",
   "execution_count": 35,
   "metadata": {},
   "outputs": [],
   "source": [
    "data_visual = data_complete.copy()"
   ]
  },
  {
   "cell_type": "code",
   "execution_count": 36,
   "metadata": {},
   "outputs": [
    {
     "data": {
      "text/html": [
       "<div>\n",
       "<style scoped>\n",
       "    .dataframe tbody tr th:only-of-type {\n",
       "        vertical-align: middle;\n",
       "    }\n",
       "\n",
       "    .dataframe tbody tr th {\n",
       "        vertical-align: top;\n",
       "    }\n",
       "\n",
       "    .dataframe thead th {\n",
       "        text-align: right;\n",
       "    }\n",
       "</style>\n",
       "<table border=\"1\" class=\"dataframe\">\n",
       "  <thead>\n",
       "    <tr style=\"text-align: right;\">\n",
       "      <th></th>\n",
       "      <th>Crypto</th>\n",
       "      <th>Num Subidas (Real)</th>\n",
       "      <th>Perc Subidas (Real)</th>\n",
       "      <th>Num Quedas (Real)</th>\n",
       "      <th>Num Subidas (Pred)</th>\n",
       "      <th>Perc Subidas (Pred)</th>\n",
       "      <th>Num Quedas (Pred)</th>\n",
       "      <th>MAE</th>\n",
       "      <th>Acc</th>\n",
       "      <th>Sen</th>\n",
       "      <th>Spe</th>\n",
       "      <th>Pre</th>\n",
       "      <th>Lower bound dos 10% maiores</th>\n",
       "      <th>Precisao para maiores que 0.008</th>\n",
       "    </tr>\n",
       "  </thead>\n",
       "  <tbody>\n",
       "    <tr>\n",
       "      <th>0</th>\n",
       "      <td>BTC-USD</td>\n",
       "      <td>165</td>\n",
       "      <td>55.000000</td>\n",
       "      <td>135</td>\n",
       "      <td>155</td>\n",
       "      <td>51.666667</td>\n",
       "      <td>145</td>\n",
       "      <td>0.045133</td>\n",
       "      <td>0.552901</td>\n",
       "      <td>0.551515</td>\n",
       "      <td>0.525926</td>\n",
       "      <td>0.587097</td>\n",
       "      <td>0.038706</td>\n",
       "      <td>0.595745</td>\n",
       "    </tr>\n",
       "    <tr>\n",
       "      <th>1</th>\n",
       "      <td>LTC-USD</td>\n",
       "      <td>139</td>\n",
       "      <td>46.333333</td>\n",
       "      <td>161</td>\n",
       "      <td>133</td>\n",
       "      <td>44.333333</td>\n",
       "      <td>167</td>\n",
       "      <td>0.057803</td>\n",
       "      <td>0.498270</td>\n",
       "      <td>0.417266</td>\n",
       "      <td>0.534161</td>\n",
       "      <td>0.436090</td>\n",
       "      <td>0.038668</td>\n",
       "      <td>0.478261</td>\n",
       "    </tr>\n",
       "  </tbody>\n",
       "</table>\n",
       "</div>"
      ],
      "text/plain": [
       "    Crypto  Num Subidas (Real)  Perc Subidas (Real)  Num Quedas (Real)  \\\n",
       "0  BTC-USD                 165            55.000000                135   \n",
       "1  LTC-USD                 139            46.333333                161   \n",
       "\n",
       "   Num Subidas (Pred)  Perc Subidas (Pred)  Num Quedas (Pred)       MAE  \\\n",
       "0                 155            51.666667                145  0.045133   \n",
       "1                 133            44.333333                167  0.057803   \n",
       "\n",
       "        Acc       Sen       Spe       Pre  Lower bound dos 10% maiores  \\\n",
       "0  0.552901  0.551515  0.525926  0.587097                     0.038706   \n",
       "1  0.498270  0.417266  0.534161  0.436090                     0.038668   \n",
       "\n",
       "   Precisao para maiores que 0.008  \n",
       "0                         0.595745  \n",
       "1                         0.478261  "
      ]
     },
     "execution_count": 36,
     "metadata": {},
     "output_type": "execute_result"
    }
   ],
   "source": [
    "results = []\n",
    "\n",
    "for crypto in cryptos:\n",
    "    df = data_visual[crypto]\n",
    "    df['ae'] = df['exp_value'] - df['Crypto_Return_Today']\n",
    "    df['ae'] = abs(df['ae'])\n",
    "    df = df.dropna()\n",
    "    \n",
    "    # Cálculos dos valores\n",
    "    num_positive = (df['Crypto_Return_Today'] > 0).sum()\n",
    "    num_negative = (df['Crypto_Return_Today'] < 0).sum()\n",
    "    hat_pos = (df['exp_value'] > 0).sum()\n",
    "    hat_neg = (df['exp_value'] < 0).sum()\n",
    "\n",
    "    # Calcula a porcentagem de subidas e quedas reais e previstas\n",
    "    total_real = num_positive + num_negative\n",
    "    total_pred = hat_pos + hat_neg\n",
    "    perc_positive_real = (100 * num_positive / total_real) if total_real > 0 else None\n",
    "    perc_positive_pred = (100 * hat_pos / total_pred) if total_pred > 0 else None\n",
    "    \n",
    "    # Calcular métricas de avaliação\n",
    "    TP = ((df['Crypto_Return_Today'] > 0) & (df['exp_value'] > 0)).sum()\n",
    "    TN = ((df['Crypto_Return_Today'] < 0) & (df['exp_value'] < 0)).sum()\n",
    "    FP = ((df['Crypto_Return_Today'] < 0) & (df['exp_value'] > 0)).sum()\n",
    "    FN = ((df['Crypto_Return_Today'] > 0) & (df['exp_value'] < 0)).sum()\n",
    "    mae = df['ae'].mean()\n",
    "    acc = (TP + TN) / (TP + FP + FN + FP) if (TP + FP + FN + FP) > 0 else None\n",
    "    sen = TP / (TP + FN) if (TP + FN) > 0 else None\n",
    "    spe = TN / (TN + FP) if (TN + FP) > 0 else None\n",
    "    pre = TP / (TP + FP) if (TP + FP) > 0 else None\n",
    "\n",
    "    # Lower bound dos 10% maiores\n",
    "    limite_90 = df['exp_value'].quantile(0.9)\n",
    "    menor_valor_10_maiores = df[df['exp_value'] >= limite_90]['exp_value'].min()\n",
    "\n",
    "    # Precisão para valores maiores que 0.008\n",
    "    TP_threshold = ((df['Crypto_Return_Today'] > 0) & (df['exp_value'] > 0) & (df['exp_value'] >= 0.03)).sum()\n",
    "    FP_threshold = ((df['Crypto_Return_Today'] < 0) & (df['exp_value'] > 0) & (df['exp_value'] >= 0.03)).sum()\n",
    "    prec_maior_008 = TP_threshold / (TP_threshold + FP_threshold) if (TP_threshold + FP_threshold) > 0 else None\n",
    "\n",
    "    # Adicionando os resultados para a criptomoeda atual\n",
    "    results.append({\n",
    "        \"Crypto\": crypto,\n",
    "        \"Num Subidas (Real)\": num_positive,\n",
    "        \"Perc Subidas (Real)\": perc_positive_real,\n",
    "        \"Num Quedas (Real)\": num_negative,\n",
    "        \"Num Subidas (Pred)\": hat_pos,\n",
    "        \"Perc Subidas (Pred)\": perc_positive_pred,\n",
    "        \"Num Quedas (Pred)\": hat_neg,\n",
    "        \"MAE\": mae,\n",
    "        \"Acc\": acc,\n",
    "        \"Sen\": sen,\n",
    "        \"Spe\": spe,\n",
    "        \"Pre\": pre,\n",
    "        \"Lower bound dos 10% maiores\": menor_valor_10_maiores,\n",
    "        \"Precisao para maiores que 0.008\": prec_maior_008\n",
    "    })\n",
    "\n",
    "# Criando um DataFrame com os resultados\n",
    "results_df = pd.DataFrame(results)\n",
    "\n",
    "# Exibindo a tabela com os resultados\n",
    "\n",
    "# Exibindo a tabela com os resultados\n",
    "results_df.to_csv(\"resultado_arquitetura_1.csv\", index = True)\n",
    "results_df"
   ]
  },
  {
   "cell_type": "markdown",
   "metadata": {
    "id": "khIrDIR44m_a"
   },
   "source": [
    "gerar uns graficos aqui"
   ]
  },
  {
   "cell_type": "markdown",
   "metadata": {
    "id": "2tVYBdoQ4m_a"
   },
   "source": [
    "## 3.3 Método 2 para os ultimos X intervalos"
   ]
  },
  {
   "cell_type": "markdown",
   "metadata": {
    "id": "6nsikEqU4m_a"
   },
   "source": [
    "* Aplicar bagging\n",
    "* Aplicar CV e Otimização de HP\n",
    "* Fazer treinamento para uma janela W maior de tempo"
   ]
  },
  {
   "cell_type": "code",
   "execution_count": null,
   "metadata": {
    "id": "Pgj_ZRMu4m_a"
   },
   "outputs": [],
   "source": [
    "# for day in data[crypto]:\n",
    "#       day = bagging(day)\n",
    "\n",
    "# for day in data[crypto]:\n",
    "#       for sample in day:\n",
    "#               sample = CV(sample) # transforma sample em um vetor de folds. Ultimos 10% do fold são validation e 90% são pure train\n",
    "\n",
    "# for day in data[crypto]:\n",
    "#       for sample in day:\n",
    "#               for fold in sample:\n",
    "#                       y_hat = model(fold)\n",
    "#               y_hat_mean = y_hat / len(sample)\n",
    "#       y_hat_mean_mean = y_hat_mean / len(day)"
   ]
  }
 ],
 "metadata": {
  "accelerator": "GPU",
  "colab": {
   "gpuType": "T4",
   "provenance": []
  },
  "kernelspec": {
   "display_name": "Python 3",
   "name": "python3"
  },
  "language_info": {
   "codemirror_mode": {
    "name": "ipython",
    "version": 3
   },
   "file_extension": ".py",
   "mimetype": "text/x-python",
   "name": "python",
   "nbconvert_exporter": "python",
   "pygments_lexer": "ipython3",
   "version": "3.11.9"
  }
 },
 "nbformat": 4,
 "nbformat_minor": 0
}
