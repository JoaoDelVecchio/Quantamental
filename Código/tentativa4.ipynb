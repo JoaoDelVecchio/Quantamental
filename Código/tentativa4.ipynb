{
 "cells": [
  {
   "cell_type": "markdown",
   "metadata": {},
   "source": [
    "Passos:\n",
    "1. Considerar que eu tenho uma tabela dataframe em pandas com W+1 linhas e C+1 colunas de uma determinada moeda_X\n",
    "2. Separar esse dataframe em 2, um com W linhas e C+1 colunas e o outro com a nossa linha que queremos atacar.\n",
    "3. Criar uma função de bagging e a partir dela gerar outros $\\gamma$ dataframes com n linhas\n",
    "4. Criar uma função que recebe um dataframe e te devolve um conjunto de K outros, sendo aplicado Purge K-Fold Cross Validation\n",
    "5. Criar uma função que aplica o modelo de LSTM para cada tabela que ela recebe, treinando, gerando um HP e retornando o valor esperado."
   ]
  },
  {
   "cell_type": "code",
   "execution_count": 1,
   "metadata": {},
   "outputs": [
    {
     "name": "stderr",
     "output_type": "stream",
     "text": [
      "[*********************100%%**********************]  1 of 1 completed\n",
      "[*********************100%%**********************]  1 of 1 completed\n",
      "[*********************100%%**********************]  1 of 1 completed\n"
     ]
    },
    {
     "data": {
      "text/plain": [
       "(1616, 92)"
      ]
     },
     "execution_count": 1,
     "metadata": {},
     "output_type": "execute_result"
    }
   ],
   "source": [
    "import pandas as pd\n",
    "import numpy as np\n",
    "import yfinance as yf\n",
    "\n",
    "# Parâmetro w ajustável\n",
    "w = 30      #####     HIPERMARÂMTRO       #####\n",
    "\n",
    "# Definindo o período dos últimos 5 anos\n",
    "end_date = pd.to_datetime(\"today\").strftime(\"%Y-%m-%d\")\n",
    "start_date = (pd.to_datetime(\"today\") - pd.DateOffset(years=5)).strftime(\"%Y-%m-%d\")\n",
    "\n",
    "# Função para calcular o retorno logarítmico\n",
    "def log_return(series):\n",
    "    return np.log(series / series.shift(1))\n",
    "\n",
    "# Baixando os dados históricos do Ethereum, Bitcoin e Solana\n",
    "eth_data = yf.download(\"ETH-USD\", start=start_date, end=end_date)\n",
    "btc_data = yf.download(\"BTC-USD\", start=start_date, end=end_date)\n",
    "sol_data = yf.download(\"SOL-USD\", start=start_date, end=end_date)\n",
    "\n",
    "# Calculando o retorno logarítmico diário e fazendo o shift para corrigir as datas\n",
    "eth_data['Return'] = log_return(eth_data['Close']).shift(-2)\n",
    "btc_data['Return'] = log_return(btc_data['Close']).shift(-2)\n",
    "sol_data['Return'] = log_return(sol_data['Close']).shift(-2)\n",
    "\n",
    "# Sincronizando os dados para garantir que todas as moedas tenham os mesmos dias\n",
    "combined_data = pd.concat([eth_data['Return'], btc_data['Return'], sol_data['Return']], axis=1, keys=['ETH_Return', 'BTC_Return', 'SOL_Return']).dropna()\n",
    "\n",
    "# Criando o dataframe final\n",
    "rows = []\n",
    "for i in range(w, len(combined_data)):\n",
    "    eth_returns = combined_data['ETH_Return'].iloc[i-w:i].values\n",
    "    btc_returns = combined_data['BTC_Return'].iloc[i-w:i].values\n",
    "    sol_returns = combined_data['SOL_Return'].iloc[i-w:i].values\n",
    "    eth_age = (combined_data.index[i] - eth_data.index[0]).days\n",
    "    eth_return_today = combined_data['ETH_Return'].iloc[i]\n",
    "    \n",
    "    # Concatenando os dados na linha\n",
    "    row = np.concatenate([eth_returns, btc_returns, sol_returns, [eth_age], [eth_return_today]])\n",
    "    rows.append(row)\n",
    "\n",
    "# Nome das colunas\n",
    "columns = [f\"ETH_Return_Day_{j+1}\" for j in range(w)] + \\\n",
    "          [f\"BTC_Return_Day_{j+1}\" for j in range(w)] + \\\n",
    "          [f\"SOL_Return_Day_{j+1}\" for j in range(w)] + \\\n",
    "          ['ETH_Age', 'ETH_Return_Today']\n",
    "\n",
    "# Criando o DataFrame final com a data correta como índice\n",
    "df_final = pd.DataFrame(rows, columns=columns, index=combined_data.index[w:])\n",
    "\n",
    "df_final.tail()\n",
    "df_final.shape\n"
   ]
  },
  {
   "cell_type": "markdown",
   "metadata": {},
   "source": [
    "## Agora temos esse dataframe, de modo reduzido, para a moeda etherium.\n",
    "\n",
    "### Proxima etapa é uma função que itere sobre esse df, para cada iteração criando outro df que contem os ultimos W dias."
   ]
  },
  {
   "cell_type": "code",
   "execution_count": 2,
   "metadata": {},
   "outputs": [],
   "source": [
    "# Criando a função First Transformation\n",
    "def FirstTransform(df, W):\n",
    "    vet = []\n",
    "    Linhas, Colunas = df.shape\n",
    "    for i in range(Linhas, W+1, -1):\n",
    "        vet.append(df.iloc[(i-W-1):i])\n",
    "    return vet"
   ]
  },
  {
   "cell_type": "code",
   "execution_count": 3,
   "metadata": {},
   "outputs": [
    {
     "data": {
      "text/plain": [
       "1515"
      ]
     },
     "execution_count": 3,
     "metadata": {},
     "output_type": "execute_result"
    }
   ],
   "source": [
    "df = df_final\n",
    "W = 100      ####     HIPER PARAMETRO     #####\n",
    "vetor  = FirstTransform(df, W)\n",
    "len(vetor)"
   ]
  },
  {
   "cell_type": "markdown",
   "metadata": {},
   "source": [
    "## Agora temos vetor, que é um vetor cujos elementos são tabelas com W+1 linhas e C+1 Colunas\n",
    "\n",
    "### Proxima etapa é separar o alvo e depois realizar um bagging para cada elemento desse vetor, criando $\\gamma$ outras tabelas"
   ]
  },
  {
   "cell_type": "code",
   "execution_count": 4,
   "metadata": {},
   "outputs": [
    {
     "data": {
      "text/html": [
       "<div>\n",
       "<style scoped>\n",
       "    .dataframe tbody tr th:only-of-type {\n",
       "        vertical-align: middle;\n",
       "    }\n",
       "\n",
       "    .dataframe tbody tr th {\n",
       "        vertical-align: top;\n",
       "    }\n",
       "\n",
       "    .dataframe thead th {\n",
       "        text-align: right;\n",
       "    }\n",
       "</style>\n",
       "<table border=\"1\" class=\"dataframe\">\n",
       "  <thead>\n",
       "    <tr style=\"text-align: right;\">\n",
       "      <th></th>\n",
       "      <th>ETH_Return_Day_1</th>\n",
       "      <th>ETH_Return_Day_2</th>\n",
       "      <th>ETH_Return_Day_3</th>\n",
       "      <th>ETH_Return_Day_4</th>\n",
       "      <th>ETH_Return_Day_5</th>\n",
       "      <th>ETH_Return_Day_6</th>\n",
       "      <th>ETH_Return_Day_7</th>\n",
       "      <th>ETH_Return_Day_8</th>\n",
       "      <th>ETH_Return_Day_9</th>\n",
       "      <th>ETH_Return_Day_10</th>\n",
       "      <th>...</th>\n",
       "      <th>SOL_Return_Day_23</th>\n",
       "      <th>SOL_Return_Day_24</th>\n",
       "      <th>SOL_Return_Day_25</th>\n",
       "      <th>SOL_Return_Day_26</th>\n",
       "      <th>SOL_Return_Day_27</th>\n",
       "      <th>SOL_Return_Day_28</th>\n",
       "      <th>SOL_Return_Day_29</th>\n",
       "      <th>SOL_Return_Day_30</th>\n",
       "      <th>ETH_Age</th>\n",
       "      <th>ETH_Return_Today</th>\n",
       "    </tr>\n",
       "  </thead>\n",
       "  <tbody>\n",
       "    <tr>\n",
       "      <th>2024-10-11</th>\n",
       "      <td>0.03324</td>\n",
       "      <td>-0.009469</td>\n",
       "      <td>-0.041233</td>\n",
       "      <td>-0.011097</td>\n",
       "      <td>0.020024</td>\n",
       "      <td>0.011895</td>\n",
       "      <td>0.039316</td>\n",
       "      <td>0.038335</td>\n",
       "      <td>0.021166</td>\n",
       "      <td>-0.012694</td>\n",
       "      <td>...</td>\n",
       "      <td>-0.003222</td>\n",
       "      <td>0.025805</td>\n",
       "      <td>-0.016876</td>\n",
       "      <td>-0.004157</td>\n",
       "      <td>-0.028858</td>\n",
       "      <td>-0.003071</td>\n",
       "      <td>0.045688</td>\n",
       "      <td>0.007668</td>\n",
       "      <td>1824.0</td>\n",
       "      <td>-0.003578</td>\n",
       "    </tr>\n",
       "  </tbody>\n",
       "</table>\n",
       "<p>1 rows × 92 columns</p>\n",
       "</div>"
      ],
      "text/plain": [
       "            ETH_Return_Day_1  ETH_Return_Day_2  ETH_Return_Day_3  \\\n",
       "2024-10-11           0.03324         -0.009469         -0.041233   \n",
       "\n",
       "            ETH_Return_Day_4  ETH_Return_Day_5  ETH_Return_Day_6  \\\n",
       "2024-10-11         -0.011097          0.020024          0.011895   \n",
       "\n",
       "            ETH_Return_Day_7  ETH_Return_Day_8  ETH_Return_Day_9  \\\n",
       "2024-10-11          0.039316          0.038335          0.021166   \n",
       "\n",
       "            ETH_Return_Day_10  ...  SOL_Return_Day_23  SOL_Return_Day_24  \\\n",
       "2024-10-11          -0.012694  ...          -0.003222           0.025805   \n",
       "\n",
       "            SOL_Return_Day_25  SOL_Return_Day_26  SOL_Return_Day_27  \\\n",
       "2024-10-11          -0.016876          -0.004157          -0.028858   \n",
       "\n",
       "            SOL_Return_Day_28  SOL_Return_Day_29  SOL_Return_Day_30  ETH_Age  \\\n",
       "2024-10-11          -0.003071           0.045688           0.007668   1824.0   \n",
       "\n",
       "            ETH_Return_Today  \n",
       "2024-10-11         -0.003578  \n",
       "\n",
       "[1 rows x 92 columns]"
      ]
     },
     "execution_count": 4,
     "metadata": {},
     "output_type": "execute_result"
    }
   ],
   "source": [
    "x = vetor[0].iloc[-1]\n",
    "x = pd.DataFrame(x)\n",
    "x = x.T\n",
    "x\n"
   ]
  },
  {
   "cell_type": "code",
   "execution_count": 5,
   "metadata": {},
   "outputs": [],
   "source": [
    "vetor_alvos = []\n",
    "for i in range(len(vetor)):\n",
    "    vetor_alvos.append((pd.DataFrame(vetor[i].iloc[-1])).T)\n",
    "    vetor[i] = vetor[i].drop(vetor[i].index[-1])"
   ]
  },
  {
   "cell_type": "code",
   "execution_count": 6,
   "metadata": {},
   "outputs": [],
   "source": [
    "def Bagging(df, n, gamma):\n",
    "    df_bagged = []\n",
    "    for i in range(gamma):\n",
    "        aux = df.sample(n = n, random_state = i)\n",
    "        aux = aux.sort_index()\n",
    "        df_bagged.append(aux)\n",
    "    return df_bagged\n"
   ]
  },
  {
   "cell_type": "code",
   "execution_count": 8,
   "metadata": {},
   "outputs": [
    {
     "data": {
      "text/plain": [
       "50"
      ]
     },
     "execution_count": 8,
     "metadata": {},
     "output_type": "execute_result"
    }
   ],
   "source": [
    "n = 80       #####       HIPERPARÂMETRO      #####\n",
    "gamma = 50      #####       HIPERPARÂMETRO      #####\n",
    "\n",
    "X_inicial = vetor[0] # depois para backtest basta fazer um for e plotar num grafico sei la\n",
    "alvo = vetor_alvos[0]\n",
    "X_bagged = Bagging(X_inicial, n, gamma)\n",
    "len(X_bagged)\n"
   ]
  },
  {
   "cell_type": "markdown",
   "metadata": {},
   "source": [
    "## Agora temos o X_bagged, um vetor com gamma elementos, que cada elemento contem n linhas e C colunas\n",
    "\n",
    "### Proxima etapa é para cada um desses elementos de X_bagged, separar em K tuplas de Training e Validation, em uma proporção 90-10."
   ]
  },
  {
   "cell_type": "code",
   "execution_count": 15,
   "metadata": {},
   "outputs": [
    {
     "ename": "TypeError",
     "evalue": "cannot do positional indexing on DatetimeIndex with these indexers [5.0] of type float",
     "output_type": "error",
     "traceback": [
      "\u001b[1;31m---------------------------------------------------------------------------\u001b[0m",
      "\u001b[1;31mTypeError\u001b[0m                                 Traceback (most recent call last)",
      "Cell \u001b[1;32mIn[15], line 4\u001b[0m\n\u001b[0;32m      2\u001b[0m \u001b[38;5;28;01mfor\u001b[39;00m i \u001b[38;5;129;01min\u001b[39;00m \u001b[38;5;28mrange\u001b[39m(\u001b[38;5;28mlen\u001b[39m(X_bagged)):\n\u001b[0;32m      3\u001b[0m     \u001b[38;5;28;01mfor\u001b[39;00m j \u001b[38;5;129;01min\u001b[39;00m \u001b[38;5;28mrange\u001b[39m(\u001b[38;5;28mint\u001b[39m(\u001b[38;5;28mlen\u001b[39m(X_bagged) \u001b[38;5;241m-\u001b[39m val_size) \u001b[38;5;241m+\u001b[39m \u001b[38;5;241m1\u001b[39m):\n\u001b[1;32m----> 4\u001b[0m         validation \u001b[38;5;241m=\u001b[39m \u001b[43mX_bagged\u001b[49m\u001b[43m[\u001b[49m\u001b[43mi\u001b[49m\u001b[43m]\u001b[49m\u001b[38;5;241;43m.\u001b[39;49m\u001b[43miloc\u001b[49m\u001b[43m[\u001b[49m\u001b[43mj\u001b[49m\u001b[43m \u001b[49m\u001b[43m:\u001b[49m\u001b[43m \u001b[49m\u001b[43mj\u001b[49m\u001b[43m \u001b[49m\u001b[38;5;241;43m+\u001b[39;49m\u001b[43m \u001b[49m\u001b[43mval_size\u001b[49m\u001b[43m]\u001b[49m\n\u001b[0;32m      5\u001b[0m         train \u001b[38;5;241m=\u001b[39m X_bagged[i]\u001b[38;5;241m.\u001b[39mdrop(X_bagged\u001b[38;5;241m.\u001b[39mindex[j : j \u001b[38;5;241m+\u001b[39m val_size])\n\u001b[0;32m      7\u001b[0m validation\n",
      "File \u001b[1;32m~\\AppData\\Local\\Packages\\PythonSoftwareFoundation.Python.3.11_qbz5n2kfra8p0\\LocalCache\\local-packages\\Python311\\site-packages\\pandas\\core\\indexing.py:1191\u001b[0m, in \u001b[0;36m_LocationIndexer.__getitem__\u001b[1;34m(self, key)\u001b[0m\n\u001b[0;32m   1189\u001b[0m maybe_callable \u001b[38;5;241m=\u001b[39m com\u001b[38;5;241m.\u001b[39mapply_if_callable(key, \u001b[38;5;28mself\u001b[39m\u001b[38;5;241m.\u001b[39mobj)\n\u001b[0;32m   1190\u001b[0m maybe_callable \u001b[38;5;241m=\u001b[39m \u001b[38;5;28mself\u001b[39m\u001b[38;5;241m.\u001b[39m_check_deprecated_callable_usage(key, maybe_callable)\n\u001b[1;32m-> 1191\u001b[0m \u001b[38;5;28;01mreturn\u001b[39;00m \u001b[38;5;28;43mself\u001b[39;49m\u001b[38;5;241;43m.\u001b[39;49m\u001b[43m_getitem_axis\u001b[49m\u001b[43m(\u001b[49m\u001b[43mmaybe_callable\u001b[49m\u001b[43m,\u001b[49m\u001b[43m \u001b[49m\u001b[43maxis\u001b[49m\u001b[38;5;241;43m=\u001b[39;49m\u001b[43maxis\u001b[49m\u001b[43m)\u001b[49m\n",
      "File \u001b[1;32m~\\AppData\\Local\\Packages\\PythonSoftwareFoundation.Python.3.11_qbz5n2kfra8p0\\LocalCache\\local-packages\\Python311\\site-packages\\pandas\\core\\indexing.py:1729\u001b[0m, in \u001b[0;36m_iLocIndexer._getitem_axis\u001b[1;34m(self, key, axis)\u001b[0m\n\u001b[0;32m   1723\u001b[0m     \u001b[38;5;28;01mraise\u001b[39;00m \u001b[38;5;167;01mIndexError\u001b[39;00m(\n\u001b[0;32m   1724\u001b[0m         \u001b[38;5;124m\"\u001b[39m\u001b[38;5;124mDataFrame indexer is not allowed for .iloc\u001b[39m\u001b[38;5;130;01m\\n\u001b[39;00m\u001b[38;5;124m\"\u001b[39m\n\u001b[0;32m   1725\u001b[0m         \u001b[38;5;124m\"\u001b[39m\u001b[38;5;124mConsider using .loc for automatic alignment.\u001b[39m\u001b[38;5;124m\"\u001b[39m\n\u001b[0;32m   1726\u001b[0m     )\n\u001b[0;32m   1728\u001b[0m \u001b[38;5;28;01mif\u001b[39;00m \u001b[38;5;28misinstance\u001b[39m(key, \u001b[38;5;28mslice\u001b[39m):\n\u001b[1;32m-> 1729\u001b[0m     \u001b[38;5;28;01mreturn\u001b[39;00m \u001b[38;5;28;43mself\u001b[39;49m\u001b[38;5;241;43m.\u001b[39;49m\u001b[43m_get_slice_axis\u001b[49m\u001b[43m(\u001b[49m\u001b[43mkey\u001b[49m\u001b[43m,\u001b[49m\u001b[43m \u001b[49m\u001b[43maxis\u001b[49m\u001b[38;5;241;43m=\u001b[39;49m\u001b[43maxis\u001b[49m\u001b[43m)\u001b[49m\n\u001b[0;32m   1731\u001b[0m \u001b[38;5;28;01mif\u001b[39;00m is_iterator(key):\n\u001b[0;32m   1732\u001b[0m     key \u001b[38;5;241m=\u001b[39m \u001b[38;5;28mlist\u001b[39m(key)\n",
      "File \u001b[1;32m~\\AppData\\Local\\Packages\\PythonSoftwareFoundation.Python.3.11_qbz5n2kfra8p0\\LocalCache\\local-packages\\Python311\\site-packages\\pandas\\core\\indexing.py:1764\u001b[0m, in \u001b[0;36m_iLocIndexer._get_slice_axis\u001b[1;34m(self, slice_obj, axis)\u001b[0m\n\u001b[0;32m   1761\u001b[0m     \u001b[38;5;28;01mreturn\u001b[39;00m obj\u001b[38;5;241m.\u001b[39mcopy(deep\u001b[38;5;241m=\u001b[39m\u001b[38;5;28;01mFalse\u001b[39;00m)\n\u001b[0;32m   1763\u001b[0m labels \u001b[38;5;241m=\u001b[39m obj\u001b[38;5;241m.\u001b[39m_get_axis(axis)\n\u001b[1;32m-> 1764\u001b[0m \u001b[43mlabels\u001b[49m\u001b[38;5;241;43m.\u001b[39;49m\u001b[43m_validate_positional_slice\u001b[49m\u001b[43m(\u001b[49m\u001b[43mslice_obj\u001b[49m\u001b[43m)\u001b[49m\n\u001b[0;32m   1765\u001b[0m \u001b[38;5;28;01mreturn\u001b[39;00m \u001b[38;5;28mself\u001b[39m\u001b[38;5;241m.\u001b[39mobj\u001b[38;5;241m.\u001b[39m_slice(slice_obj, axis\u001b[38;5;241m=\u001b[39maxis)\n",
      "File \u001b[1;32m~\\AppData\\Local\\Packages\\PythonSoftwareFoundation.Python.3.11_qbz5n2kfra8p0\\LocalCache\\local-packages\\Python311\\site-packages\\pandas\\core\\indexes\\base.py:4198\u001b[0m, in \u001b[0;36mIndex._validate_positional_slice\u001b[1;34m(self, key)\u001b[0m\n\u001b[0;32m   4193\u001b[0m \u001b[38;5;250m\u001b[39m\u001b[38;5;124;03m\"\"\"\u001b[39;00m\n\u001b[0;32m   4194\u001b[0m \u001b[38;5;124;03mFor positional indexing, a slice must have either int or None\u001b[39;00m\n\u001b[0;32m   4195\u001b[0m \u001b[38;5;124;03mfor each of start, stop, and step.\u001b[39;00m\n\u001b[0;32m   4196\u001b[0m \u001b[38;5;124;03m\"\"\"\u001b[39;00m\n\u001b[0;32m   4197\u001b[0m \u001b[38;5;28mself\u001b[39m\u001b[38;5;241m.\u001b[39m_validate_indexer(\u001b[38;5;124m\"\u001b[39m\u001b[38;5;124mpositional\u001b[39m\u001b[38;5;124m\"\u001b[39m, key\u001b[38;5;241m.\u001b[39mstart, \u001b[38;5;124m\"\u001b[39m\u001b[38;5;124miloc\u001b[39m\u001b[38;5;124m\"\u001b[39m)\n\u001b[1;32m-> 4198\u001b[0m \u001b[38;5;28;43mself\u001b[39;49m\u001b[38;5;241;43m.\u001b[39;49m\u001b[43m_validate_indexer\u001b[49m\u001b[43m(\u001b[49m\u001b[38;5;124;43m\"\u001b[39;49m\u001b[38;5;124;43mpositional\u001b[39;49m\u001b[38;5;124;43m\"\u001b[39;49m\u001b[43m,\u001b[49m\u001b[43m \u001b[49m\u001b[43mkey\u001b[49m\u001b[38;5;241;43m.\u001b[39;49m\u001b[43mstop\u001b[49m\u001b[43m,\u001b[49m\u001b[43m \u001b[49m\u001b[38;5;124;43m\"\u001b[39;49m\u001b[38;5;124;43miloc\u001b[39;49m\u001b[38;5;124;43m\"\u001b[39;49m\u001b[43m)\u001b[49m\n\u001b[0;32m   4199\u001b[0m \u001b[38;5;28mself\u001b[39m\u001b[38;5;241m.\u001b[39m_validate_indexer(\u001b[38;5;124m\"\u001b[39m\u001b[38;5;124mpositional\u001b[39m\u001b[38;5;124m\"\u001b[39m, key\u001b[38;5;241m.\u001b[39mstep, \u001b[38;5;124m\"\u001b[39m\u001b[38;5;124miloc\u001b[39m\u001b[38;5;124m\"\u001b[39m)\n",
      "File \u001b[1;32m~\\AppData\\Local\\Packages\\PythonSoftwareFoundation.Python.3.11_qbz5n2kfra8p0\\LocalCache\\local-packages\\Python311\\site-packages\\pandas\\core\\indexes\\base.py:6697\u001b[0m, in \u001b[0;36mIndex._validate_indexer\u001b[1;34m(self, form, key, kind)\u001b[0m\n\u001b[0;32m   6692\u001b[0m \u001b[38;5;250m\u001b[39m\u001b[38;5;124;03m\"\"\"\u001b[39;00m\n\u001b[0;32m   6693\u001b[0m \u001b[38;5;124;03mIf we are positional indexer, validate that we have appropriate\u001b[39;00m\n\u001b[0;32m   6694\u001b[0m \u001b[38;5;124;03mtyped bounds must be an integer.\u001b[39;00m\n\u001b[0;32m   6695\u001b[0m \u001b[38;5;124;03m\"\"\"\u001b[39;00m\n\u001b[0;32m   6696\u001b[0m \u001b[38;5;28;01mif\u001b[39;00m \u001b[38;5;129;01mnot\u001b[39;00m lib\u001b[38;5;241m.\u001b[39mis_int_or_none(key):\n\u001b[1;32m-> 6697\u001b[0m     \u001b[38;5;28;43mself\u001b[39;49m\u001b[38;5;241;43m.\u001b[39;49m\u001b[43m_raise_invalid_indexer\u001b[49m\u001b[43m(\u001b[49m\u001b[43mform\u001b[49m\u001b[43m,\u001b[49m\u001b[43m \u001b[49m\u001b[43mkey\u001b[49m\u001b[43m)\u001b[49m\n",
      "File \u001b[1;32m~\\AppData\\Local\\Packages\\PythonSoftwareFoundation.Python.3.11_qbz5n2kfra8p0\\LocalCache\\local-packages\\Python311\\site-packages\\pandas\\core\\indexes\\base.py:4301\u001b[0m, in \u001b[0;36mIndex._raise_invalid_indexer\u001b[1;34m(self, form, key, reraise)\u001b[0m\n\u001b[0;32m   4299\u001b[0m \u001b[38;5;28;01mif\u001b[39;00m reraise \u001b[38;5;129;01mis\u001b[39;00m \u001b[38;5;129;01mnot\u001b[39;00m lib\u001b[38;5;241m.\u001b[39mno_default:\n\u001b[0;32m   4300\u001b[0m     \u001b[38;5;28;01mraise\u001b[39;00m \u001b[38;5;167;01mTypeError\u001b[39;00m(msg) \u001b[38;5;28;01mfrom\u001b[39;00m \u001b[38;5;21;01mreraise\u001b[39;00m\n\u001b[1;32m-> 4301\u001b[0m \u001b[38;5;28;01mraise\u001b[39;00m \u001b[38;5;167;01mTypeError\u001b[39;00m(msg)\n",
      "\u001b[1;31mTypeError\u001b[0m: cannot do positional indexing on DatetimeIndex with these indexers [5.0] of type float"
     ]
    }
   ],
   "source": [
    "val_size = 0.1*len(X_bagged)\n",
    "for i in range(len(X_bagged)):\n",
    "    for j in range(int(len(X_bagged) - val_size) + 1):\n",
    "        validation = X_bagged[i].iloc[j : j + val_size]\n",
    "        train = X_bagged[i].drop(X_bagged.index[j : j + val_size])\n",
    "validation"
   ]
  }
 ],
 "metadata": {
  "kernelspec": {
   "display_name": "Python 3",
   "language": "python",
   "name": "python3"
  },
  "language_info": {
   "codemirror_mode": {
    "name": "ipython",
    "version": 3
   },
   "file_extension": ".py",
   "mimetype": "text/x-python",
   "name": "python",
   "nbconvert_exporter": "python",
   "pygments_lexer": "ipython3",
   "version": "3.11.9"
  }
 },
 "nbformat": 4,
 "nbformat_minor": 2
}
