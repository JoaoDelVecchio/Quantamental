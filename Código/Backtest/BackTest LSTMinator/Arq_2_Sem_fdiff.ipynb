{
 "cells": [
  {
   "cell_type": "code",
   "execution_count": 1,
   "metadata": {
    "id": "ivpY4XBa4m-p"
   },
   "outputs": [],
   "source": [
    "import pandas as pd\n",
    "import numpy as np\n",
    "import yfinance as yf\n",
    "import tensorflow as tf\n",
    "from tensorflow.keras.models import Sequential\n",
    "from tensorflow.keras.layers import LSTM, Dense\n",
    "from sklearn.model_selection import train_test_split\n",
    "from tensorflow.keras.callbacks import EarlyStopping\n",
    "from sklearn.preprocessing import MinMaxScaler\n",
    "import time\n",
    "import matplotlib.pyplot as plt\n",
    "import math\n",
    "import copy\n",
    "from concurrent.futures import ThreadPoolExecutor\n",
    "from concurrent.futures import ProcessPoolExecutor\n",
    "from tensorflow.keras.layers import Input\n",
    "from sklearn.preprocessing import StandardScaler\n",
    "from keras.layers import Dropout"
   ]
  },
  {
   "cell_type": "code",
   "execution_count": null,
   "metadata": {
    "id": "rU7httQh4m-4"
   },
   "outputs": [],
   "source": [
    "# HIPERPARÂMETROS:\n",
    "start_date = '2014-08-21'\n",
    "W = 400  # Lembrando que o tamanho do treinamento será W - w\n",
    "w = 30"
   ]
  },
  {
   "cell_type": "code",
   "execution_count": 3,
   "metadata": {
    "id": "CcAdcDbn4m_G"
   },
   "outputs": [],
   "source": [
    "cryptos = [\n",
    "    'BTC-USD', 'ETH-USD','LTC-USD', 'ADA-USD',\n",
    "    'DOT-USD', 'LINK-USD','SOL-USD',\n",
    "    'TRX-USD'\n",
    "]"
   ]
  },
  {
   "cell_type": "code",
   "execution_count": 4,
   "metadata": {
    "id": "yRmQyU5d4m_H"
   },
   "outputs": [],
   "source": [
    "## Função para calcular o retorno logarítmico\n",
    "def log_return(series):\n",
    "    return np.log(series['Close'] / series['Open'])"
   ]
  },
  {
   "cell_type": "code",
   "execution_count": 5,
   "metadata": {
    "colab": {
     "base_uri": "https://localhost:8080/"
    },
    "collapsed": true,
    "id": "OwC8TZu-4m_I",
    "outputId": "f2baa2f3-fae4-4f97-ac96-6bdbbe2c0031"
   },
   "outputs": [
    {
     "name": "stderr",
     "output_type": "stream",
     "text": [
      "[*********************100%%**********************]  1 of 1 completed\n",
      "[*********************100%%**********************]  1 of 1 completed\n",
      "[*********************100%%**********************]  1 of 1 completed\n",
      "[*********************100%%**********************]  1 of 1 completed\n",
      "[*********************100%%**********************]  1 of 1 completed\n",
      "[*********************100%%**********************]  1 of 1 completed\n",
      "[*********************100%%**********************]  1 of 1 completed\n",
      "[*********************100%%**********************]  1 of 1 completed\n"
     ]
    }
   ],
   "source": [
    "data = {}\n",
    "for crypto in cryptos:\n",
    "    # Baixar dados e calcular retorno logarítmico\n",
    "    df = yf.download(crypto, start=start_date, end=pd.to_datetime(\"today\").strftime(\"%Y-%m-%d\"), interval='1d')\n",
    "    df['Return'] = log_return(df)\n",
    "\n",
    "    # Construir DataFrame final, pegando o retorno do dia anterior e o atual\n",
    "    df_final = pd.DataFrame({\n",
    "        #'Volume': df['Volume'],\n",
    "        'Crypto_Return_Today': df['Return']\n",
    "    }).dropna()\n",
    "\n",
    "    data[crypto] = df_final"
   ]
  },
  {
   "cell_type": "code",
   "execution_count": 6,
   "metadata": {
    "colab": {
     "base_uri": "https://localhost:8080/"
    },
    "id": "4xmM6IjZ4m_K",
    "outputId": "780d2719-8923-4547-a030-b5cc158b7916"
   },
   "outputs": [
    {
     "name": "stderr",
     "output_type": "stream",
     "text": [
      "[*********************100%%**********************]  1 of 1 completed\n",
      "[*********************100%%**********************]  1 of 1 completed\n"
     ]
    }
   ],
   "source": [
    "aux = yf.download('BTC-USD', start=start_date, end=pd.to_datetime(\"today\").strftime(\"%Y-%m-%d\"), interval='1d')\n",
    "aux['Return'] = log_return(aux)\n",
    "aux = pd.DataFrame({'Aux_Return': aux['Return']})\n",
    "\n",
    "for crypto in cryptos:\n",
    "    if crypto != 'BTC-USD':\n",
    "        data[crypto] = pd.merge(aux, data[crypto],  left_index=True, right_index=True, how='outer').dropna()\n",
    "\n",
    "\n",
    "aux = yf.download('ETH-USD', start=start_date, end=pd.to_datetime(\"today\").strftime(\"%Y-%m-%d\"), interval='1d')\n",
    "aux['Return'] = log_return(aux)\n",
    "aux = pd.DataFrame({'Aux_Return': aux['Return']})\n",
    "\n",
    "data['BTC-USD'] = pd.merge(aux, data['BTC-USD'],  left_index=True, right_index=True, how='outer').dropna()"
   ]
  },
  {
   "cell_type": "code",
   "execution_count": 7,
   "metadata": {
    "colab": {
     "base_uri": "https://localhost:8080/",
     "height": 455
    },
    "id": "4l8DJdOj_wfn",
    "outputId": "61981f1d-49c4-4d81-bfbe-77617c07c715"
   },
   "outputs": [
    {
     "data": {
      "text/html": [
       "<div>\n",
       "<style scoped>\n",
       "    .dataframe tbody tr th:only-of-type {\n",
       "        vertical-align: middle;\n",
       "    }\n",
       "\n",
       "    .dataframe tbody tr th {\n",
       "        vertical-align: top;\n",
       "    }\n",
       "\n",
       "    .dataframe thead th {\n",
       "        text-align: right;\n",
       "    }\n",
       "</style>\n",
       "<table border=\"1\" class=\"dataframe\">\n",
       "  <thead>\n",
       "    <tr style=\"text-align: right;\">\n",
       "      <th></th>\n",
       "      <th>Aux_Return</th>\n",
       "      <th>Crypto_Return_Today</th>\n",
       "    </tr>\n",
       "    <tr>\n",
       "      <th>Date</th>\n",
       "      <th></th>\n",
       "      <th></th>\n",
       "    </tr>\n",
       "  </thead>\n",
       "  <tbody>\n",
       "    <tr>\n",
       "      <th>2017-11-09</th>\n",
       "      <td>-0.041574</td>\n",
       "      <td>0.038888</td>\n",
       "    </tr>\n",
       "    <tr>\n",
       "      <th>2017-11-10</th>\n",
       "      <td>-0.080611</td>\n",
       "      <td>-0.069126</td>\n",
       "    </tr>\n",
       "    <tr>\n",
       "      <th>2017-11-11</th>\n",
       "      <td>-0.040234</td>\n",
       "      <td>0.052501</td>\n",
       "    </tr>\n",
       "    <tr>\n",
       "      <th>2017-11-12</th>\n",
       "      <td>-0.056424</td>\n",
       "      <td>-0.021787</td>\n",
       "    </tr>\n",
       "    <tr>\n",
       "      <th>2017-11-13</th>\n",
       "      <td>0.099498</td>\n",
       "      <td>0.031076</td>\n",
       "    </tr>\n",
       "    <tr>\n",
       "      <th>...</th>\n",
       "      <td>...</td>\n",
       "      <td>...</td>\n",
       "    </tr>\n",
       "    <tr>\n",
       "      <th>2024-11-12</th>\n",
       "      <td>-0.008488</td>\n",
       "      <td>-0.038938</td>\n",
       "    </tr>\n",
       "    <tr>\n",
       "      <th>2024-11-13</th>\n",
       "      <td>0.029739</td>\n",
       "      <td>-0.016140</td>\n",
       "    </tr>\n",
       "    <tr>\n",
       "      <th>2024-11-14</th>\n",
       "      <td>-0.037394</td>\n",
       "      <td>-0.042739</td>\n",
       "    </tr>\n",
       "    <tr>\n",
       "      <th>2024-11-15</th>\n",
       "      <td>0.042415</td>\n",
       "      <td>0.014122</td>\n",
       "    </tr>\n",
       "    <tr>\n",
       "      <th>2024-11-16</th>\n",
       "      <td>-0.005571</td>\n",
       "      <td>0.013991</td>\n",
       "    </tr>\n",
       "  </tbody>\n",
       "</table>\n",
       "<p>2565 rows × 2 columns</p>\n",
       "</div>"
      ],
      "text/plain": [
       "            Aux_Return  Crypto_Return_Today\n",
       "Date                                       \n",
       "2017-11-09   -0.041574             0.038888\n",
       "2017-11-10   -0.080611            -0.069126\n",
       "2017-11-11   -0.040234             0.052501\n",
       "2017-11-12   -0.056424            -0.021787\n",
       "2017-11-13    0.099498             0.031076\n",
       "...                ...                  ...\n",
       "2024-11-12   -0.008488            -0.038938\n",
       "2024-11-13    0.029739            -0.016140\n",
       "2024-11-14   -0.037394            -0.042739\n",
       "2024-11-15    0.042415             0.014122\n",
       "2024-11-16   -0.005571             0.013991\n",
       "\n",
       "[2565 rows x 2 columns]"
      ]
     },
     "execution_count": 7,
     "metadata": {},
     "output_type": "execute_result"
    }
   ],
   "source": [
    "data['ETH-USD']"
   ]
  },
  {
   "cell_type": "code",
   "execution_count": 8,
   "metadata": {
    "colab": {
     "base_uri": "https://localhost:8080/"
    },
    "collapsed": true,
    "id": "sKhDAT8P4m_M",
    "outputId": "b41746f5-844b-434f-9cfc-1fa4442cb57f"
   },
   "outputs": [
    {
     "name": "stderr",
     "output_type": "stream",
     "text": [
      "[*********************100%%**********************]  1 of 1 completed\n",
      "[*********************100%%**********************]  1 of 1 completed\n",
      "[*********************100%%**********************]  1 of 1 completed\n",
      "[*********************100%%**********************]  1 of 1 completed\n",
      "[*********************100%%**********************]  1 of 1 completed\n",
      "[*********************100%%**********************]  1 of 1 completed\n",
      "[*********************100%%**********************]  1 of 1 completed\n",
      "[*********************100%%**********************]  1 of 1 completed\n"
     ]
    }
   ],
   "source": [
    "data_complete = {}\n",
    "for crypto in cryptos:\n",
    "    # Baixar dados e calcular retorno logarítmico\n",
    "    df = yf.download(crypto, start=start_date, end=pd.to_datetime(\"today\").strftime(\"%Y-%m-%d\"), interval='1d')\n",
    "    df['Return'] = log_return(df)\n",
    "\n",
    "    # Construir DataFrame final, pegando o retorno do dia anterior e o atual\n",
    "    df_final = pd.DataFrame({\n",
    "        #'Volume': df['Volume'],\n",
    "        'Crypto_Return_Today': df['Return']\n",
    "    }).dropna()\n",
    "\n",
    "    # Adicionar a coluna 'exp_value' com valores NaN\n",
    "    df_final['exp_value'] = np.nan\n",
    "\n",
    "    # Armazenar no dicionário\n",
    "    data_complete[crypto] = df_final"
   ]
  },
  {
   "cell_type": "code",
   "execution_count": 9,
   "metadata": {
    "colab": {
     "base_uri": "https://localhost:8080/",
     "height": 472
    },
    "id": "kf9c4Ib34m_M",
    "outputId": "c607d5c6-05d0-4671-fd0f-d3dc3bf9cd49"
   },
   "outputs": [
    {
     "name": "stdout",
     "output_type": "stream",
     "text": [
      "2565\n"
     ]
    },
    {
     "data": {
      "text/html": [
       "<div>\n",
       "<style scoped>\n",
       "    .dataframe tbody tr th:only-of-type {\n",
       "        vertical-align: middle;\n",
       "    }\n",
       "\n",
       "    .dataframe tbody tr th {\n",
       "        vertical-align: top;\n",
       "    }\n",
       "\n",
       "    .dataframe thead th {\n",
       "        text-align: right;\n",
       "    }\n",
       "</style>\n",
       "<table border=\"1\" class=\"dataframe\">\n",
       "  <thead>\n",
       "    <tr style=\"text-align: right;\">\n",
       "      <th></th>\n",
       "      <th>Crypto_Return_Today</th>\n",
       "      <th>exp_value</th>\n",
       "    </tr>\n",
       "    <tr>\n",
       "      <th>Date</th>\n",
       "      <th></th>\n",
       "      <th></th>\n",
       "    </tr>\n",
       "  </thead>\n",
       "  <tbody>\n",
       "    <tr>\n",
       "      <th>2017-11-09</th>\n",
       "      <td>0.038888</td>\n",
       "      <td>NaN</td>\n",
       "    </tr>\n",
       "    <tr>\n",
       "      <th>2017-11-10</th>\n",
       "      <td>-0.069126</td>\n",
       "      <td>NaN</td>\n",
       "    </tr>\n",
       "    <tr>\n",
       "      <th>2017-11-11</th>\n",
       "      <td>0.052501</td>\n",
       "      <td>NaN</td>\n",
       "    </tr>\n",
       "    <tr>\n",
       "      <th>2017-11-12</th>\n",
       "      <td>-0.021787</td>\n",
       "      <td>NaN</td>\n",
       "    </tr>\n",
       "    <tr>\n",
       "      <th>2017-11-13</th>\n",
       "      <td>0.031076</td>\n",
       "      <td>NaN</td>\n",
       "    </tr>\n",
       "    <tr>\n",
       "      <th>...</th>\n",
       "      <td>...</td>\n",
       "      <td>...</td>\n",
       "    </tr>\n",
       "    <tr>\n",
       "      <th>2024-11-12</th>\n",
       "      <td>-0.038938</td>\n",
       "      <td>NaN</td>\n",
       "    </tr>\n",
       "    <tr>\n",
       "      <th>2024-11-13</th>\n",
       "      <td>-0.016140</td>\n",
       "      <td>NaN</td>\n",
       "    </tr>\n",
       "    <tr>\n",
       "      <th>2024-11-14</th>\n",
       "      <td>-0.042739</td>\n",
       "      <td>NaN</td>\n",
       "    </tr>\n",
       "    <tr>\n",
       "      <th>2024-11-15</th>\n",
       "      <td>0.014122</td>\n",
       "      <td>NaN</td>\n",
       "    </tr>\n",
       "    <tr>\n",
       "      <th>2024-11-16</th>\n",
       "      <td>0.013991</td>\n",
       "      <td>NaN</td>\n",
       "    </tr>\n",
       "  </tbody>\n",
       "</table>\n",
       "<p>2565 rows × 2 columns</p>\n",
       "</div>"
      ],
      "text/plain": [
       "            Crypto_Return_Today  exp_value\n",
       "Date                                      \n",
       "2017-11-09             0.038888        NaN\n",
       "2017-11-10            -0.069126        NaN\n",
       "2017-11-11             0.052501        NaN\n",
       "2017-11-12            -0.021787        NaN\n",
       "2017-11-13             0.031076        NaN\n",
       "...                         ...        ...\n",
       "2024-11-12            -0.038938        NaN\n",
       "2024-11-13            -0.016140        NaN\n",
       "2024-11-14            -0.042739        NaN\n",
       "2024-11-15             0.014122        NaN\n",
       "2024-11-16             0.013991        NaN\n",
       "\n",
       "[2565 rows x 2 columns]"
      ]
     },
     "execution_count": 9,
     "metadata": {},
     "output_type": "execute_result"
    }
   ],
   "source": [
    "print(len(data_complete['ETH-USD']))\n",
    "data_complete['ETH-USD']"
   ]
  },
  {
   "cell_type": "code",
   "execution_count": 10,
   "metadata": {
    "id": "gTA-G3hd4m_N"
   },
   "outputs": [],
   "source": [
    "# Criando a função First Transformation, que recebe uma tabela contendo os retornos de todos os dias dos ultimos X anos e retorno um vetor, que cada elemento\n",
    "# é uma tabela do retorno de W+1 dias.\n",
    "def FirstTransform(df, W):\n",
    "    vet = []\n",
    "    Linhas, Colunas = df.shape\n",
    "    for i in range(Linhas, W+1, -1):\n",
    "        vet.append(df.iloc[(i-W-1):i])\n",
    "    return vet"
   ]
  },
  {
   "cell_type": "code",
   "execution_count": 11,
   "metadata": {
    "id": "yM6Ooo734m_O"
   },
   "outputs": [],
   "source": [
    "# Aqui eu perco W+1 dias do meu dataset\n",
    "for crypto in cryptos:\n",
    "    data[crypto] = FirstTransform(data[crypto], W)"
   ]
  },
  {
   "cell_type": "code",
   "execution_count": 12,
   "metadata": {
    "colab": {
     "base_uri": "https://localhost:8080/",
     "height": 472
    },
    "id": "nu2vkqx84m_O",
    "outputId": "a21026c7-3485-4110-aacb-dfee6f2f2421"
   },
   "outputs": [
    {
     "name": "stdout",
     "output_type": "stream",
     "text": [
      "2264\n"
     ]
    },
    {
     "data": {
      "text/html": [
       "<div>\n",
       "<style scoped>\n",
       "    .dataframe tbody tr th:only-of-type {\n",
       "        vertical-align: middle;\n",
       "    }\n",
       "\n",
       "    .dataframe tbody tr th {\n",
       "        vertical-align: top;\n",
       "    }\n",
       "\n",
       "    .dataframe thead th {\n",
       "        text-align: right;\n",
       "    }\n",
       "</style>\n",
       "<table border=\"1\" class=\"dataframe\">\n",
       "  <thead>\n",
       "    <tr style=\"text-align: right;\">\n",
       "      <th></th>\n",
       "      <th>Aux_Return</th>\n",
       "      <th>Crypto_Return_Today</th>\n",
       "    </tr>\n",
       "    <tr>\n",
       "      <th>Date</th>\n",
       "      <th></th>\n",
       "      <th></th>\n",
       "    </tr>\n",
       "  </thead>\n",
       "  <tbody>\n",
       "    <tr>\n",
       "      <th>2024-01-21</th>\n",
       "      <td>-0.003021</td>\n",
       "      <td>-0.006453</td>\n",
       "    </tr>\n",
       "    <tr>\n",
       "      <th>2024-01-22</th>\n",
       "      <td>-0.050498</td>\n",
       "      <td>-0.060516</td>\n",
       "    </tr>\n",
       "    <tr>\n",
       "      <th>2024-01-23</th>\n",
       "      <td>0.008236</td>\n",
       "      <td>-0.030877</td>\n",
       "    </tr>\n",
       "    <tr>\n",
       "      <th>2024-01-24</th>\n",
       "      <td>0.004990</td>\n",
       "      <td>-0.003659</td>\n",
       "    </tr>\n",
       "    <tr>\n",
       "      <th>2024-01-25</th>\n",
       "      <td>-0.003543</td>\n",
       "      <td>-0.007305</td>\n",
       "    </tr>\n",
       "    <tr>\n",
       "      <th>...</th>\n",
       "      <td>...</td>\n",
       "      <td>...</td>\n",
       "    </tr>\n",
       "    <tr>\n",
       "      <th>2024-11-12</th>\n",
       "      <td>-0.008488</td>\n",
       "      <td>-0.038938</td>\n",
       "    </tr>\n",
       "    <tr>\n",
       "      <th>2024-11-13</th>\n",
       "      <td>0.029739</td>\n",
       "      <td>-0.016140</td>\n",
       "    </tr>\n",
       "    <tr>\n",
       "      <th>2024-11-14</th>\n",
       "      <td>-0.037394</td>\n",
       "      <td>-0.042739</td>\n",
       "    </tr>\n",
       "    <tr>\n",
       "      <th>2024-11-15</th>\n",
       "      <td>0.042415</td>\n",
       "      <td>0.014122</td>\n",
       "    </tr>\n",
       "    <tr>\n",
       "      <th>2024-11-16</th>\n",
       "      <td>-0.005571</td>\n",
       "      <td>0.013991</td>\n",
       "    </tr>\n",
       "  </tbody>\n",
       "</table>\n",
       "<p>301 rows × 2 columns</p>\n",
       "</div>"
      ],
      "text/plain": [
       "            Aux_Return  Crypto_Return_Today\n",
       "Date                                       \n",
       "2024-01-21   -0.003021            -0.006453\n",
       "2024-01-22   -0.050498            -0.060516\n",
       "2024-01-23    0.008236            -0.030877\n",
       "2024-01-24    0.004990            -0.003659\n",
       "2024-01-25   -0.003543            -0.007305\n",
       "...                ...                  ...\n",
       "2024-11-12   -0.008488            -0.038938\n",
       "2024-11-13    0.029739            -0.016140\n",
       "2024-11-14   -0.037394            -0.042739\n",
       "2024-11-15    0.042415             0.014122\n",
       "2024-11-16   -0.005571             0.013991\n",
       "\n",
       "[301 rows x 2 columns]"
      ]
     },
     "execution_count": 12,
     "metadata": {},
     "output_type": "execute_result"
    }
   ],
   "source": [
    "print(len(data['ETH-USD']))\n",
    "data['ETH-USD'][0]"
   ]
  },
  {
   "cell_type": "markdown",
   "metadata": {
    "id": "emUzQ7oT4m_O"
   },
   "source": [
    "## 2.2 Separar em treinamento e teste - Permitir Bagging"
   ]
  },
  {
   "cell_type": "code",
   "execution_count": 13,
   "metadata": {
    "id": "Evamk5LK4m_O"
   },
   "outputs": [],
   "source": [
    "test_target = {}\n",
    "for crypto in cryptos:\n",
    "    row = []\n",
    "    for i in range(len(data[crypto])):\n",
    "        row.append((pd.DataFrame(data[crypto][i].iloc[-1])).T)\n",
    "        data[crypto][i] = data[crypto][i].drop(data[crypto][i].index[-1])\n",
    "    test_target[crypto] = row"
   ]
  },
  {
   "cell_type": "code",
   "execution_count": 14,
   "metadata": {
    "colab": {
     "base_uri": "https://localhost:8080/"
    },
    "id": "U-oxtp4r4m_O",
    "outputId": "3dc76b36-b25b-4930-b4d7-c427b22c6ab7"
   },
   "outputs": [
    {
     "data": {
      "text/plain": [
       "(            Aux_Return  Crypto_Return_Today\n",
       " Date                                       \n",
       " 2024-01-21   -0.003021            -0.006453\n",
       " 2024-01-22   -0.050498            -0.060516\n",
       " 2024-01-23    0.008236            -0.030877\n",
       " 2024-01-24    0.004990            -0.003659\n",
       " 2024-01-25   -0.003543            -0.007305\n",
       " ...                ...                  ...\n",
       " 2024-11-11    0.097375             0.055800\n",
       " 2024-11-12   -0.008488            -0.038938\n",
       " 2024-11-13    0.029739            -0.016140\n",
       " 2024-11-14   -0.037394            -0.042739\n",
       " 2024-11-15    0.042415             0.014122\n",
       " \n",
       " [300 rows x 2 columns],\n",
       "             Aux_Return  Crypto_Return_Today\n",
       " 2024-11-16   -0.005571             0.013991)"
      ]
     },
     "execution_count": 14,
     "metadata": {},
     "output_type": "execute_result"
    }
   ],
   "source": [
    "data['ETH-USD'][0], test_target['ETH-USD'][0]"
   ]
  },
  {
   "cell_type": "markdown",
   "metadata": {
    "id": "GzKbsiqG4m_P"
   },
   "source": [
    "## 2.3 Bagging"
   ]
  },
  {
   "cell_type": "code",
   "execution_count": 15,
   "metadata": {
    "id": "fbWiBtka4m_P"
   },
   "outputs": [],
   "source": [
    "# Definindo uma função bagging, que recebe um dataframe e retorna um vetor de dataframes.\n",
    "def Bagging(df, n, gamma):\n",
    "    df_bagged = []\n",
    "    for i in range(gamma):\n",
    "        aux = df.sample(n = n, random_state = i)\n",
    "        aux = aux.sort_index()\n",
    "        df_bagged.append(aux)\n",
    "    return df_bagged"
   ]
  },
  {
   "cell_type": "markdown",
   "metadata": {
    "id": "yvyFl8gs4m_P"
   },
   "source": [
    "# 3. Machine Learning"
   ]
  },
  {
   "cell_type": "markdown",
   "metadata": {
    "id": "4FTPX1Ph4m_P"
   },
   "source": [
    "* vamos peimeiro fazer do modo 1 para todos os dias\n",
    "* depois aplicar para os ultimos 290 dias o modo 2 (contém bagging e purge K-Fold-CV)"
   ]
  },
  {
   "cell_type": "markdown",
   "metadata": {
    "id": "9zUoSh9g4m_P"
   },
   "source": [
    "## 3.1 Função do Modelo\n"
   ]
  },
  {
   "cell_type": "code",
   "execution_count": 16,
   "metadata": {
    "id": "7HDF-f2F4m_Q"
   },
   "outputs": [],
   "source": [
    "from tensorflow.keras.models import Sequential\n",
    "from tensorflow.keras.layers import LSTM, Dense, Dropout, BatchNormalization, Conv1D, MaxPooling1D\n",
    "from tensorflow.keras.optimizers import Adam, RMSprop\n",
    "from tensorflow.keras.regularizers import l2\n",
    "from tensorflow.keras.callbacks import ReduceLROnPlateau\n",
    "\n",
    "\n",
    "def create_model(a, b):\n",
    "    model = Sequential([\n",
    "        Input(shape=(a, b)),\n",
    "        Conv1D(15, kernel_size=3, activation='relu'),\n",
    "        MaxPooling1D(pool_size=2),\n",
    "        LSTM(units=50, return_sequences=False),\n",
    "        BatchNormalization(),\n",
    "        Dropout(0.5),\n",
    "        Dense(units=128, activation='relu'),\n",
    "        BatchNormalization(),\n",
    "        Dropout(0.2),\n",
    "        Dense(units=1)\n",
    "    ])\n",
    "    optimizer = RMSprop(learning_rate=1e-4)\n",
    "    model.compile(optimizer=optimizer, loss='mean_squared_error')\n",
    "    return model\n",
    "\n",
    "\n",
    "\n"
   ]
  },
  {
   "cell_type": "code",
   "execution_count": 17,
   "metadata": {
    "id": "o7csbit-4m_Q"
   },
   "outputs": [],
   "source": [
    "# Função do modelo LSTM\n",
    "def Model(df, time_step, features, model=None):\n",
    "    # Normalizando o dataframe\n",
    "    #scaler = StandardScaler()\n",
    "    #df_scaled = scaler.fit_transform(df)\n",
    "    #df_array = np.array(df_scaled)\n",
    "    df_array = np.array(df)\n",
    "\n",
    "    # Transformando no formato LSTM\n",
    "    X_lstm = []\n",
    "    y_lstm = []\n",
    "    for i in range(time_step, len(df_array)):\n",
    "        X_lstm.append(df_array[i-time_step:i, :])  # Pega 'timesteps' linhas anteriores\n",
    "        y_lstm.append(df_array[i,-1])  # Alvo é o valor do dia seguinte\n",
    "    X_lstm = np.array(X_lstm)\n",
    "    y_lstm = np.array(y_lstm)\n",
    "\n",
    "    \n",
    "    # Conjunto de validação - primeiros 30 elementos\n",
    "    X_val = X_lstm[-20:-1]\n",
    "    y_val = y_lstm[-20:-1]\n",
    "    y_val = pd.DataFrame(y_val).to_numpy().reshape((len(y_val), 1))\n",
    "\n",
    "    # Separar o X_train (todos exceto o último elemento)\n",
    "    X_train = X_lstm[:-20]\n",
    "    y_train = y_lstm[:-20]\n",
    "    y_train = pd.DataFrame(y_train).to_numpy()\n",
    "    y_train = y_train.reshape((len(y_train), 1))\n",
    "    y_train.shape\n",
    "\n",
    "    # X_test e y_test\n",
    "    X_test = X_lstm[-1:]\n",
    "    y_test = y_lstm[-1:]\n",
    "    y_test = y_lstm[-1:]\n",
    "    y_test = pd.DataFrame(y_test).to_numpy()\n",
    "    y_test = y_test.reshape((len(y_test), 1))\n",
    "\n",
    "    # Treinar o modelo específico para a criptomoeda\n",
    "\n",
    "    # Arquitetura 1:\n",
    "    #reduce_lr = ReduceLROnPlateau(monitor='val_loss', factor=0.5, patience=20, min_lr=1e-6, verbose=0)\n",
    "    #model.fit(X_train, y_train, epochs=200, batch_size=32, verbose=0, callbacks=[reduce_lr])\n",
    "\n",
    "    early_stopping = EarlyStopping(monitor='val_loss', patience=40, restore_best_weights=True)\n",
    "    # Arquitetura 2:\n",
    "    model.fit(X_train, y_train, validation_data=(X_val, y_val), epochs= 300, verbose=0, callbacks=[early_stopping])\n",
    "    # Fazer a previsão\n",
    "    y_hat_scaled = model.predict(X_test)\n",
    "\n",
    "\n",
    "    return y_hat_scaled"
   ]
  },
  {
   "cell_type": "markdown",
   "metadata": {
    "id": "MJcsYqyk4m_Q"
   },
   "source": [
    "##  3.2 Treinamento com Paralelismo e Geração dos Expected Values"
   ]
  },
  {
   "cell_type": "code",
   "execution_count": 18,
   "metadata": {
    "id": "HXI8wihE4m_Q"
   },
   "outputs": [],
   "source": [
    "def Add(y_hat, data_complete, ind, crypto):\n",
    "    data_complete[crypto].at[ind, 'exp_value'] = y_hat"
   ]
  },
  {
   "cell_type": "code",
   "execution_count": 19,
   "metadata": {
    "colab": {
     "base_uri": "https://localhost:8080/"
    },
    "id": "44TACuZj4m_Q",
    "outputId": "9e4e76a9-048d-4318-9809-21ae0f8eeb67"
   },
   "outputs": [
    {
     "name": "stdout",
     "output_type": "stream",
     "text": [
      "Usando CPU\n"
     ]
    }
   ],
   "source": [
    "import tensorflow as tf\n",
    "physical_devices = tf.config.list_physical_devices('GPU')\n",
    "if physical_devices:\n",
    "    tf.config.experimental.set_memory_growth(physical_devices[0], True)\n",
    "    print(\"Usando GPU:\", physical_devices[0])\n",
    "else:\n",
    "    print(\"Usando CPU\")"
   ]
  },
  {
   "cell_type": "code",
   "execution_count": 20,
   "metadata": {
    "colab": {
     "base_uri": "https://localhost:8080/"
    },
    "id": "QY6MGz6a4m_Q",
    "outputId": "d0e7b2cd-768b-4fb2-f300-ecc449c44d69"
   },
   "outputs": [
    {
     "name": "stdout",
     "output_type": "stream",
     "text": [
      "2264\n",
      "2264\n",
      "3413\n",
      "2264\n",
      "1249\n",
      "2264\n",
      "1381\n",
      "2264\n"
     ]
    },
    {
     "data": {
      "text/plain": [
       "300"
      ]
     },
     "execution_count": 20,
     "metadata": {},
     "output_type": "execute_result"
    }
   ],
   "source": [
    "for crypto in cryptos:\n",
    "    print(len(data[crypto]))\n",
    "len(data['ETH-USD'][0])"
   ]
  },
  {
   "cell_type": "code",
   "execution_count": 21,
   "metadata": {
    "colab": {
     "base_uri": "https://localhost:8080/",
     "height": 81
    },
    "id": "PORdVJtg5D10",
    "outputId": "10c70a00-181e-4510-bb77-3a168c40726c"
   },
   "outputs": [
    {
     "data": {
      "text/html": [
       "<div>\n",
       "<style scoped>\n",
       "    .dataframe tbody tr th:only-of-type {\n",
       "        vertical-align: middle;\n",
       "    }\n",
       "\n",
       "    .dataframe tbody tr th {\n",
       "        vertical-align: top;\n",
       "    }\n",
       "\n",
       "    .dataframe thead th {\n",
       "        text-align: right;\n",
       "    }\n",
       "</style>\n",
       "<table border=\"1\" class=\"dataframe\">\n",
       "  <thead>\n",
       "    <tr style=\"text-align: right;\">\n",
       "      <th></th>\n",
       "      <th>Aux_Return</th>\n",
       "      <th>Crypto_Return_Today</th>\n",
       "    </tr>\n",
       "  </thead>\n",
       "  <tbody>\n",
       "    <tr>\n",
       "      <th>2019-09-04</th>\n",
       "      <td>-0.002516</td>\n",
       "      <td>-0.019687</td>\n",
       "    </tr>\n",
       "  </tbody>\n",
       "</table>\n",
       "</div>"
      ],
      "text/plain": [
       "            Aux_Return  Crypto_Return_Today\n",
       "2019-09-04   -0.002516            -0.019687"
      ]
     },
     "execution_count": 21,
     "metadata": {},
     "output_type": "execute_result"
    }
   ],
   "source": [
    "test_target['ETH-USD'][1900]\n",
    "#test_target['ETH-USD'][2100]"
   ]
  },
  {
   "cell_type": "code",
   "execution_count": 22,
   "metadata": {},
   "outputs": [
    {
     "name": "stdout",
     "output_type": "stream",
     "text": [
      "\n",
      "\n",
      "--------------------------------------------------------\n",
      "\n",
      "\n",
      "Criptomoeda:  LTC\n",
      "\n",
      "                              Real\n",
      "\n",
      "Numero de Subidas:  40    |    56.33802816901409 %\n",
      "\n",
      "Numero de Quedas :  31    |    43.66197183098591 %\n"
     ]
    }
   ],
   "source": [
    "aux = data_complete['BTC-USD'].loc['2018-06-01':'2018-08-10']\n",
    "num_positive = (aux['Crypto_Return_Today'] > 0).sum()\n",
    "num_negative = (aux['Crypto_Return_Today'] < 0).sum()\n",
    "\n",
    "print(\"\\n\\n--------------------------------------------------------\")\n",
    "print(\"\\n\\nCriptomoeda: \", 'LTC')\n",
    "print(\"\\n                              Real\")\n",
    "print(\"\\nNumero de Subidas: \",num_positive,\"   |   \",100*num_positive / (num_negative + num_positive),\"%\")\n",
    "print(\"\\nNumero de Quedas : \",num_negative,\"   |   \",100*num_negative / (num_negative + num_positive),\"%\")"
   ]
  },
  {
   "cell_type": "code",
   "execution_count": 23,
   "metadata": {
    "colab": {
     "base_uri": "https://localhost:8080/"
    },
    "id": "SXaruqzt4m_W",
    "outputId": "97ef470e-8508-49d6-8a1e-4f03b6debbac"
   },
   "outputs": [
    {
     "name": "stdout",
     "output_type": "stream",
     "text": [
      "\u001b[1m1/1\u001b[0m \u001b[32m━━━━━━━━━━━━━━━━━━━━\u001b[0m\u001b[37m\u001b[0m \u001b[1m0s\u001b[0m 217ms/step\n",
      "\u001b[1m1/1\u001b[0m \u001b[32m━━━━━━━━━━━━━━━━━━━━\u001b[0m\u001b[37m\u001b[0m \u001b[1m0s\u001b[0m 217ms/step\n",
      "\u001b[1m1/1\u001b[0m \u001b[32m━━━━━━━━━━━━━━━━━━━━\u001b[0m\u001b[37m\u001b[0m \u001b[1m0s\u001b[0m 216ms/step\n",
      "\u001b[1m1/1\u001b[0m \u001b[32m━━━━━━━━━━━━━━━━━━━━\u001b[0m\u001b[37m\u001b[0m \u001b[1m0s\u001b[0m 284ms/step\n",
      "WARNING:tensorflow:5 out of the last 5 calls to <function TensorFlowTrainer.make_predict_function.<locals>.one_step_on_data_distributed at 0x0000020B6089CE00> triggered tf.function retracing. Tracing is expensive and the excessive number of tracings could be due to (1) creating @tf.function repeatedly in a loop, (2) passing tensors with different shapes, (3) passing Python objects instead of tensors. For (1), please define your @tf.function outside of the loop. For (2), @tf.function has reduce_retracing=True option that can avoid unnecessary retracing. For (3), please refer to https://www.tensorflow.org/guide/function#controlling_retracing and https://www.tensorflow.org/api_docs/python/tf/function for  more details.\n",
      "\u001b[1m1/1\u001b[0m \u001b[32m━━━━━━━━━━━━━━━━━━━━\u001b[0m\u001b[37m\u001b[0m \u001b[1m0s\u001b[0m 248ms/step\n",
      "WARNING:tensorflow:6 out of the last 6 calls to <function TensorFlowTrainer.make_predict_function.<locals>.one_step_on_data_distributed at 0x0000020B65EDAB60> triggered tf.function retracing. Tracing is expensive and the excessive number of tracings could be due to (1) creating @tf.function repeatedly in a loop, (2) passing tensors with different shapes, (3) passing Python objects instead of tensors. For (1), please define your @tf.function outside of the loop. For (2), @tf.function has reduce_retracing=True option that can avoid unnecessary retracing. For (3), please refer to https://www.tensorflow.org/guide/function#controlling_retracing and https://www.tensorflow.org/api_docs/python/tf/function for  more details.\n",
      "\u001b[1m1/1\u001b[0m \u001b[32m━━━━━━━━━━━━━━━━━━━━\u001b[0m\u001b[37m\u001b[0m \u001b[1m0s\u001b[0m 301ms/step\n",
      "\u001b[1m1/1\u001b[0m \u001b[32m━━━━━━━━━━━━━━━━━━━━\u001b[0m\u001b[37m\u001b[0m \u001b[1m0s\u001b[0m 265ms/step\n",
      "\u001b[1m1/1\u001b[0m \u001b[32m━━━━━━━━━━━━━━━━━━━━\u001b[0m\u001b[37m\u001b[0m \u001b[1m0s\u001b[0m 250ms/step\n",
      "\u001b[1m1/1\u001b[0m \u001b[32m━━━━━━━━━━━━━━━━━━━━\u001b[0m\u001b[37m\u001b[0m \u001b[1m0s\u001b[0m 245ms/step\n",
      "\u001b[1m1/1\u001b[0m \u001b[32m━━━━━━━━━━━━━━━━━━━━\u001b[0m\u001b[37m\u001b[0m \u001b[1m0s\u001b[0m 316ms/step\n",
      "\u001b[1m1/1\u001b[0m \u001b[32m━━━━━━━━━━━━━━━━━━━━\u001b[0m\u001b[37m\u001b[0m \u001b[1m0s\u001b[0m 218ms/step\n",
      "\u001b[1m1/1\u001b[0m \u001b[32m━━━━━━━━━━━━━━━━━━━━\u001b[0m\u001b[37m\u001b[0m \u001b[1m0s\u001b[0m 324ms/step\n",
      "\u001b[1m1/1\u001b[0m \u001b[32m━━━━━━━━━━━━━━━━━━━━\u001b[0m\u001b[37m\u001b[0m \u001b[1m0s\u001b[0m 214ms/step\n",
      "\u001b[1m1/1\u001b[0m \u001b[32m━━━━━━━━━━━━━━━━━━━━\u001b[0m\u001b[37m\u001b[0m \u001b[1m0s\u001b[0m 367ms/step\n",
      "\u001b[1m1/1\u001b[0m \u001b[32m━━━━━━━━━━━━━━━━━━━━\u001b[0m\u001b[37m\u001b[0m \u001b[1m0s\u001b[0m 205ms/step\n",
      "\u001b[1m1/1\u001b[0m \u001b[32m━━━━━━━━━━━━━━━━━━━━\u001b[0m\u001b[37m\u001b[0m \u001b[1m0s\u001b[0m 229ms/step\n",
      "\u001b[1m1/1\u001b[0m \u001b[32m━━━━━━━━━━━━━━━━━━━━\u001b[0m\u001b[37m\u001b[0m \u001b[1m0s\u001b[0m 202ms/step\n",
      "\u001b[1m1/1\u001b[0m \u001b[32m━━━━━━━━━━━━━━━━━━━━\u001b[0m\u001b[37m\u001b[0m \u001b[1m0s\u001b[0m 296ms/step\n",
      "\u001b[1m1/1\u001b[0m \u001b[32m━━━━━━━━━━━━━━━━━━━━\u001b[0m\u001b[37m\u001b[0m \u001b[1m0s\u001b[0m 232ms/step\n",
      "\u001b[1m1/1\u001b[0m \u001b[32m━━━━━━━━━━━━━━━━━━━━\u001b[0m\u001b[37m\u001b[0m \u001b[1m0s\u001b[0m 331ms/step\n",
      "\u001b[1m1/1\u001b[0m \u001b[32m━━━━━━━━━━━━━━━━━━━━\u001b[0m\u001b[37m\u001b[0m \u001b[1m0s\u001b[0m 248ms/step\n",
      "\u001b[1m1/1\u001b[0m \u001b[32m━━━━━━━━━━━━━━━━━━━━\u001b[0m\u001b[37m\u001b[0m \u001b[1m0s\u001b[0m 248ms/step\n",
      "\u001b[1m1/1\u001b[0m \u001b[32m━━━━━━━━━━━━━━━━━━━━\u001b[0m\u001b[37m\u001b[0m \u001b[1m0s\u001b[0m 180ms/step\n",
      "\u001b[1m1/1\u001b[0m \u001b[32m━━━━━━━━━━━━━━━━━━━━\u001b[0m\u001b[37m\u001b[0m \u001b[1m0s\u001b[0m 231ms/step\n",
      "\u001b[1m1/1\u001b[0m \u001b[32m━━━━━━━━━━━━━━━━━━━━\u001b[0m\u001b[37m\u001b[0m \u001b[1m0s\u001b[0m 204ms/step\n",
      "\u001b[1m1/1\u001b[0m \u001b[32m━━━━━━━━━━━━━━━━━━━━\u001b[0m\u001b[37m\u001b[0m \u001b[1m0s\u001b[0m 256ms/step\n",
      "\u001b[1m1/1\u001b[0m \u001b[32m━━━━━━━━━━━━━━━━━━━━\u001b[0m\u001b[37m\u001b[0m \u001b[1m0s\u001b[0m 266ms/step\n",
      "\u001b[1m1/1\u001b[0m \u001b[32m━━━━━━━━━━━━━━━━━━━━\u001b[0m\u001b[37m\u001b[0m \u001b[1m0s\u001b[0m 227ms/step\n",
      "\u001b[1m1/1\u001b[0m \u001b[32m━━━━━━━━━━━━━━━━━━━━\u001b[0m\u001b[37m\u001b[0m \u001b[1m0s\u001b[0m 270ms/step\n",
      "\u001b[1m1/1\u001b[0m \u001b[32m━━━━━━━━━━━━━━━━━━━━\u001b[0m\u001b[37m\u001b[0m \u001b[1m0s\u001b[0m 255ms/step\n",
      "\u001b[1m1/1\u001b[0m \u001b[32m━━━━━━━━━━━━━━━━━━━━\u001b[0m\u001b[37m\u001b[0m \u001b[1m0s\u001b[0m 326ms/step\n",
      "\u001b[1m1/1\u001b[0m \u001b[32m━━━━━━━━━━━━━━━━━━━━\u001b[0m\u001b[37m\u001b[0m \u001b[1m0s\u001b[0m 418ms/step\n",
      "\u001b[1m1/1\u001b[0m \u001b[32m━━━━━━━━━━━━━━━━━━━━\u001b[0m\u001b[37m\u001b[0m \u001b[1m0s\u001b[0m 322ms/step\n",
      "\u001b[1m1/1\u001b[0m \u001b[32m━━━━━━━━━━━━━━━━━━━━\u001b[0m\u001b[37m\u001b[0m \u001b[1m0s\u001b[0m 218ms/step\n",
      "\u001b[1m1/1\u001b[0m \u001b[32m━━━━━━━━━━━━━━━━━━━━\u001b[0m\u001b[37m\u001b[0m \u001b[1m0s\u001b[0m 352ms/step\n",
      "\u001b[1m1/1\u001b[0m \u001b[32m━━━━━━━━━━━━━━━━━━━━\u001b[0m\u001b[37m\u001b[0m \u001b[1m0s\u001b[0m 273ms/step\n",
      "\u001b[1m1/1\u001b[0m \u001b[32m━━━━━━━━━━━━━━━━━━━━\u001b[0m\u001b[37m\u001b[0m \u001b[1m0s\u001b[0m 499ms/step\n",
      "\u001b[1m1/1\u001b[0m \u001b[32m━━━━━━━━━━━━━━━━━━━━\u001b[0m\u001b[37m\u001b[0m \u001b[1m0s\u001b[0m 273ms/step\n",
      "\u001b[1m1/1\u001b[0m \u001b[32m━━━━━━━━━━━━━━━━━━━━\u001b[0m\u001b[37m\u001b[0m \u001b[1m0s\u001b[0m 339ms/step\n",
      "\u001b[1m1/1\u001b[0m \u001b[32m━━━━━━━━━━━━━━━━━━━━\u001b[0m\u001b[37m\u001b[0m \u001b[1m0s\u001b[0m 217ms/step\n",
      "\u001b[1m1/1\u001b[0m \u001b[32m━━━━━━━━━━━━━━━━━━━━\u001b[0m\u001b[37m\u001b[0m \u001b[1m0s\u001b[0m 295ms/step\n",
      "\u001b[1m1/1\u001b[0m \u001b[32m━━━━━━━━━━━━━━━━━━━━\u001b[0m\u001b[37m\u001b[0m \u001b[1m0s\u001b[0m 303ms/step\n",
      "\u001b[1m1/1\u001b[0m \u001b[32m━━━━━━━━━━━━━━━━━━━━\u001b[0m\u001b[37m\u001b[0m \u001b[1m0s\u001b[0m 409ms/step\n",
      "\u001b[1m1/1\u001b[0m \u001b[32m━━━━━━━━━━━━━━━━━━━━\u001b[0m\u001b[37m\u001b[0m \u001b[1m0s\u001b[0m 237ms/step\n",
      "\u001b[1m1/1\u001b[0m \u001b[32m━━━━━━━━━━━━━━━━━━━━\u001b[0m\u001b[37m\u001b[0m \u001b[1m0s\u001b[0m 331ms/step\n",
      "\u001b[1m1/1\u001b[0m \u001b[32m━━━━━━━━━━━━━━━━━━━━\u001b[0m\u001b[37m\u001b[0m \u001b[1m0s\u001b[0m 218ms/step\n",
      "\u001b[1m1/1\u001b[0m \u001b[32m━━━━━━━━━━━━━━━━━━━━\u001b[0m\u001b[37m\u001b[0m \u001b[1m0s\u001b[0m 305ms/step\n",
      "\u001b[1m1/1\u001b[0m \u001b[32m━━━━━━━━━━━━━━━━━━━━\u001b[0m\u001b[37m\u001b[0m \u001b[1m0s\u001b[0m 258ms/step\n",
      "\u001b[1m1/1\u001b[0m \u001b[32m━━━━━━━━━━━━━━━━━━━━\u001b[0m\u001b[37m\u001b[0m \u001b[1m0s\u001b[0m 319ms/step\n",
      "\u001b[1m1/1\u001b[0m \u001b[32m━━━━━━━━━━━━━━━━━━━━\u001b[0m\u001b[37m\u001b[0m \u001b[1m0s\u001b[0m 231ms/step\n",
      "\u001b[1m1/1\u001b[0m \u001b[32m━━━━━━━━━━━━━━━━━━━━\u001b[0m\u001b[37m\u001b[0m \u001b[1m0s\u001b[0m 299ms/step\n",
      "\u001b[1m1/1\u001b[0m \u001b[32m━━━━━━━━━━━━━━━━━━━━\u001b[0m\u001b[37m\u001b[0m \u001b[1m0s\u001b[0m 233ms/step\n",
      "\u001b[1m1/1\u001b[0m \u001b[32m━━━━━━━━━━━━━━━━━━━━\u001b[0m\u001b[37m\u001b[0m \u001b[1m0s\u001b[0m 238ms/step\n",
      "\u001b[1m1/1\u001b[0m \u001b[32m━━━━━━━━━━━━━━━━━━━━\u001b[0m\u001b[37m\u001b[0m \u001b[1m0s\u001b[0m 349ms/step\n",
      "\u001b[1m1/1\u001b[0m \u001b[32m━━━━━━━━━━━━━━━━━━━━\u001b[0m\u001b[37m\u001b[0m \u001b[1m0s\u001b[0m 247ms/step\n",
      "\u001b[1m1/1\u001b[0m \u001b[32m━━━━━━━━━━━━━━━━━━━━\u001b[0m\u001b[37m\u001b[0m \u001b[1m0s\u001b[0m 314ms/step\n",
      "\u001b[1m1/1\u001b[0m \u001b[32m━━━━━━━━━━━━━━━━━━━━\u001b[0m\u001b[37m\u001b[0m \u001b[1m0s\u001b[0m 233ms/step\n",
      "\u001b[1m1/1\u001b[0m \u001b[32m━━━━━━━━━━━━━━━━━━━━\u001b[0m\u001b[37m\u001b[0m \u001b[1m0s\u001b[0m 314ms/step\n",
      "\u001b[1m1/1\u001b[0m \u001b[32m━━━━━━━━━━━━━━━━━━━━\u001b[0m\u001b[37m\u001b[0m \u001b[1m0s\u001b[0m 240ms/step\n",
      "\u001b[1m1/1\u001b[0m \u001b[32m━━━━━━━━━━━━━━━━━━━━\u001b[0m\u001b[37m\u001b[0m \u001b[1m0s\u001b[0m 442ms/step\n",
      "\u001b[1m1/1\u001b[0m \u001b[32m━━━━━━━━━━━━━━━━━━━━\u001b[0m\u001b[37m\u001b[0m \u001b[1m0s\u001b[0m 266ms/step\n",
      "\u001b[1m1/1\u001b[0m \u001b[32m━━━━━━━━━━━━━━━━━━━━\u001b[0m\u001b[37m\u001b[0m \u001b[1m0s\u001b[0m 250ms/step\n",
      "\u001b[1m1/1\u001b[0m \u001b[32m━━━━━━━━━━━━━━━━━━━━\u001b[0m\u001b[37m\u001b[0m \u001b[1m0s\u001b[0m 217ms/step\n",
      "\u001b[1m1/1\u001b[0m \u001b[32m━━━━━━━━━━━━━━━━━━━━\u001b[0m\u001b[37m\u001b[0m \u001b[1m0s\u001b[0m 296ms/step\n",
      "\u001b[1m1/1\u001b[0m \u001b[32m━━━━━━━━━━━━━━━━━━━━\u001b[0m\u001b[37m\u001b[0m \u001b[1m0s\u001b[0m 317ms/step\n",
      "\u001b[1m1/1\u001b[0m \u001b[32m━━━━━━━━━━━━━━━━━━━━\u001b[0m\u001b[37m\u001b[0m \u001b[1m0s\u001b[0m 270ms/step\n",
      "\u001b[1m1/1\u001b[0m \u001b[32m━━━━━━━━━━━━━━━━━━━━\u001b[0m\u001b[37m\u001b[0m \u001b[1m0s\u001b[0m 285ms/step\n",
      "\u001b[1m1/1\u001b[0m \u001b[32m━━━━━━━━━━━━━━━━━━━━\u001b[0m\u001b[37m\u001b[0m \u001b[1m0s\u001b[0m 232ms/step\n",
      "\u001b[1m1/1\u001b[0m \u001b[32m━━━━━━━━━━━━━━━━━━━━\u001b[0m\u001b[37m\u001b[0m \u001b[1m0s\u001b[0m 311ms/step\n",
      "\u001b[1m1/1\u001b[0m \u001b[32m━━━━━━━━━━━━━━━━━━━━\u001b[0m\u001b[37m\u001b[0m \u001b[1m0s\u001b[0m 357ms/step\n",
      "\u001b[1m1/1\u001b[0m \u001b[32m━━━━━━━━━━━━━━━━━━━━\u001b[0m\u001b[37m\u001b[0m \u001b[1m0s\u001b[0m 237ms/step\n",
      "\u001b[1m1/1\u001b[0m \u001b[32m━━━━━━━━━━━━━━━━━━━━\u001b[0m\u001b[37m\u001b[0m \u001b[1m0s\u001b[0m 307ms/step\n",
      "\u001b[1m1/1\u001b[0m \u001b[32m━━━━━━━━━━━━━━━━━━━━\u001b[0m\u001b[37m\u001b[0m \u001b[1m0s\u001b[0m 331ms/step\n",
      "\u001b[1m1/1\u001b[0m \u001b[32m━━━━━━━━━━━━━━━━━━━━\u001b[0m\u001b[37m\u001b[0m \u001b[1m0s\u001b[0m 286ms/step\n",
      "\u001b[1m1/1\u001b[0m \u001b[32m━━━━━━━━━━━━━━━━━━━━\u001b[0m\u001b[37m\u001b[0m \u001b[1m0s\u001b[0m 425ms/step\n",
      "\u001b[1m1/1\u001b[0m \u001b[32m━━━━━━━━━━━━━━━━━━━━\u001b[0m\u001b[37m\u001b[0m \u001b[1m0s\u001b[0m 245ms/step\n",
      "\u001b[1m1/1\u001b[0m \u001b[32m━━━━━━━━━━━━━━━━━━━━\u001b[0m\u001b[37m\u001b[0m \u001b[1m1s\u001b[0m 881ms/step\n",
      "\u001b[1m1/1\u001b[0m \u001b[32m━━━━━━━━━━━━━━━━━━━━\u001b[0m\u001b[37m\u001b[0m \u001b[1m0s\u001b[0m 432ms/step\n",
      "\u001b[1m1/1\u001b[0m \u001b[32m━━━━━━━━━━━━━━━━━━━━\u001b[0m\u001b[37m\u001b[0m \u001b[1m0s\u001b[0m 246ms/step\n",
      "\u001b[1m1/1\u001b[0m \u001b[32m━━━━━━━━━━━━━━━━━━━━\u001b[0m\u001b[37m\u001b[0m \u001b[1m0s\u001b[0m 333ms/step\n",
      "\u001b[1m1/1\u001b[0m \u001b[32m━━━━━━━━━━━━━━━━━━━━\u001b[0m\u001b[37m\u001b[0m \u001b[1m0s\u001b[0m 497ms/step\n",
      "\u001b[1m1/1\u001b[0m \u001b[32m━━━━━━━━━━━━━━━━━━━━\u001b[0m\u001b[37m\u001b[0m \u001b[1m0s\u001b[0m 288ms/step\n",
      "\u001b[1m1/1\u001b[0m \u001b[32m━━━━━━━━━━━━━━━━━━━━\u001b[0m\u001b[37m\u001b[0m \u001b[1m0s\u001b[0m 244ms/step\n",
      "\u001b[1m1/1\u001b[0m \u001b[32m━━━━━━━━━━━━━━━━━━━━\u001b[0m\u001b[37m\u001b[0m \u001b[1m0s\u001b[0m 304ms/step\n",
      "\u001b[1m1/1\u001b[0m \u001b[32m━━━━━━━━━━━━━━━━━━━━\u001b[0m\u001b[37m\u001b[0m \u001b[1m0s\u001b[0m 225ms/step\n",
      "\u001b[1m1/1\u001b[0m \u001b[32m━━━━━━━━━━━━━━━━━━━━\u001b[0m\u001b[37m\u001b[0m \u001b[1m0s\u001b[0m 288ms/step\n",
      "\u001b[1m1/1\u001b[0m \u001b[32m━━━━━━━━━━━━━━━━━━━━\u001b[0m\u001b[37m\u001b[0m \u001b[1m0s\u001b[0m 317ms/step\n",
      "\u001b[1m1/1\u001b[0m \u001b[32m━━━━━━━━━━━━━━━━━━━━\u001b[0m\u001b[37m\u001b[0m \u001b[1m0s\u001b[0m 338ms/step\n",
      "\u001b[1m1/1\u001b[0m \u001b[32m━━━━━━━━━━━━━━━━━━━━\u001b[0m\u001b[37m\u001b[0m \u001b[1m0s\u001b[0m 234ms/step\n",
      "\u001b[1m1/1\u001b[0m \u001b[32m━━━━━━━━━━━━━━━━━━━━\u001b[0m\u001b[37m\u001b[0m \u001b[1m0s\u001b[0m 289ms/step\n",
      "\u001b[1m1/1\u001b[0m \u001b[32m━━━━━━━━━━━━━━━━━━━━\u001b[0m\u001b[37m\u001b[0m \u001b[1m0s\u001b[0m 321ms/step\n",
      "\u001b[1m1/1\u001b[0m \u001b[32m━━━━━━━━━━━━━━━━━━━━\u001b[0m\u001b[37m\u001b[0m \u001b[1m0s\u001b[0m 267ms/step\n",
      "\u001b[1m1/1\u001b[0m \u001b[32m━━━━━━━━━━━━━━━━━━━━\u001b[0m\u001b[37m\u001b[0m \u001b[1m0s\u001b[0m 267ms/step\n",
      "\u001b[1m1/1\u001b[0m \u001b[32m━━━━━━━━━━━━━━━━━━━━\u001b[0m\u001b[37m\u001b[0m \u001b[1m0s\u001b[0m 266ms/step\n",
      "\u001b[1m1/1\u001b[0m \u001b[32m━━━━━━━━━━━━━━━━━━━━\u001b[0m\u001b[37m\u001b[0m \u001b[1m0s\u001b[0m 328ms/step\n",
      "\u001b[1m1/1\u001b[0m \u001b[32m━━━━━━━━━━━━━━━━━━━━\u001b[0m\u001b[37m\u001b[0m \u001b[1m0s\u001b[0m 281ms/step\n",
      "\u001b[1m1/1\u001b[0m \u001b[32m━━━━━━━━━━━━━━━━━━━━\u001b[0m\u001b[37m\u001b[0m \u001b[1m0s\u001b[0m 266ms/step\n",
      "\u001b[1m1/1\u001b[0m \u001b[32m━━━━━━━━━━━━━━━━━━━━\u001b[0m\u001b[37m\u001b[0m \u001b[1m0s\u001b[0m 373ms/step\n",
      "\u001b[1m1/1\u001b[0m \u001b[32m━━━━━━━━━━━━━━━━━━━━\u001b[0m\u001b[37m\u001b[0m \u001b[1m0s\u001b[0m 390ms/step\n",
      "\u001b[1m1/1\u001b[0m \u001b[32m━━━━━━━━━━━━━━━━━━━━\u001b[0m\u001b[37m\u001b[0m \u001b[1m0s\u001b[0m 359ms/step\n",
      "\u001b[1m1/1\u001b[0m \u001b[32m━━━━━━━━━━━━━━━━━━━━\u001b[0m\u001b[37m\u001b[0m \u001b[1m0s\u001b[0m 274ms/step\n",
      "\u001b[1m1/1\u001b[0m \u001b[32m━━━━━━━━━━━━━━━━━━━━\u001b[0m\u001b[37m\u001b[0m \u001b[1m0s\u001b[0m 326ms/step\n",
      "\u001b[1m1/1\u001b[0m \u001b[32m━━━━━━━━━━━━━━━━━━━━\u001b[0m\u001b[37m\u001b[0m \u001b[1m0s\u001b[0m 348ms/step\n",
      "\u001b[1m1/1\u001b[0m \u001b[32m━━━━━━━━━━━━━━━━━━━━\u001b[0m\u001b[37m\u001b[0m \u001b[1m1s\u001b[0m 502ms/step\n",
      "\u001b[1m1/1\u001b[0m \u001b[32m━━━━━━━━━━━━━━━━━━━━\u001b[0m\u001b[37m\u001b[0m \u001b[1m0s\u001b[0m 422ms/step\n",
      "\u001b[1m1/1\u001b[0m \u001b[32m━━━━━━━━━━━━━━━━━━━━\u001b[0m\u001b[37m\u001b[0m \u001b[1m0s\u001b[0m 226ms/step\n",
      "\u001b[1m1/1\u001b[0m \u001b[32m━━━━━━━━━━━━━━━━━━━━\u001b[0m\u001b[37m\u001b[0m \u001b[1m1s\u001b[0m 518ms/step\n",
      "\u001b[1m1/1\u001b[0m \u001b[32m━━━━━━━━━━━━━━━━━━━━\u001b[0m\u001b[37m\u001b[0m \u001b[1m0s\u001b[0m 359ms/step\n",
      "\u001b[1m1/1\u001b[0m \u001b[32m━━━━━━━━━━━━━━━━━━━━\u001b[0m\u001b[37m\u001b[0m \u001b[1m0s\u001b[0m 297ms/step\n",
      "\u001b[1m1/1\u001b[0m \u001b[32m━━━━━━━━━━━━━━━━━━━━\u001b[0m\u001b[37m\u001b[0m \u001b[1m0s\u001b[0m 281ms/step\n",
      "\u001b[1m1/1\u001b[0m \u001b[32m━━━━━━━━━━━━━━━━━━━━\u001b[0m\u001b[37m\u001b[0m \u001b[1m0s\u001b[0m 344ms/step\n",
      "\u001b[1m1/1\u001b[0m \u001b[32m━━━━━━━━━━━━━━━━━━━━\u001b[0m\u001b[37m\u001b[0m \u001b[1m3s\u001b[0m 3s/step\n",
      "\u001b[1m1/1\u001b[0m \u001b[32m━━━━━━━━━━━━━━━━━━━━\u001b[0m\u001b[37m\u001b[0m \u001b[1m0s\u001b[0m 219ms/step\n",
      "\u001b[1m1/1\u001b[0m \u001b[32m━━━━━━━━━━━━━━━━━━━━\u001b[0m\u001b[37m\u001b[0m \u001b[1m2s\u001b[0m 2s/step\n",
      "\u001b[1m1/1\u001b[0m \u001b[32m━━━━━━━━━━━━━━━━━━━━\u001b[0m\u001b[37m\u001b[0m \u001b[1m1s\u001b[0m 750ms/step\n",
      "\u001b[1m1/1\u001b[0m \u001b[32m━━━━━━━━━━━━━━━━━━━━\u001b[0m\u001b[37m\u001b[0m \u001b[1m0s\u001b[0m 297ms/step\n",
      "\u001b[1m1/1\u001b[0m \u001b[32m━━━━━━━━━━━━━━━━━━━━\u001b[0m\u001b[37m\u001b[0m \u001b[1m0s\u001b[0m 250ms/step\n",
      "\u001b[1m1/1\u001b[0m \u001b[32m━━━━━━━━━━━━━━━━━━━━\u001b[0m\u001b[37m\u001b[0m \u001b[1m0s\u001b[0m 281ms/step\n",
      "\u001b[1m1/1\u001b[0m \u001b[32m━━━━━━━━━━━━━━━━━━━━\u001b[0m\u001b[37m\u001b[0m \u001b[1m0s\u001b[0m 423ms/step\n",
      "\u001b[1m1/1\u001b[0m \u001b[32m━━━━━━━━━━━━━━━━━━━━\u001b[0m\u001b[37m\u001b[0m \u001b[1m0s\u001b[0m 254ms/step\n",
      "\u001b[1m1/1\u001b[0m \u001b[32m━━━━━━━━━━━━━━━━━━━━\u001b[0m\u001b[37m\u001b[0m \u001b[1m0s\u001b[0m 359ms/step\n",
      "\u001b[1m1/1\u001b[0m \u001b[32m━━━━━━━━━━━━━━━━━━━━\u001b[0m\u001b[37m\u001b[0m \u001b[1m0s\u001b[0m 281ms/step\n",
      "\u001b[1m1/1\u001b[0m \u001b[32m━━━━━━━━━━━━━━━━━━━━\u001b[0m\u001b[37m\u001b[0m \u001b[1m0s\u001b[0m 406ms/step\n",
      "\u001b[1m1/1\u001b[0m \u001b[32m━━━━━━━━━━━━━━━━━━━━\u001b[0m\u001b[37m\u001b[0m \u001b[1m0s\u001b[0m 282ms/step\n",
      "\u001b[1m1/1\u001b[0m \u001b[32m━━━━━━━━━━━━━━━━━━━━\u001b[0m\u001b[37m\u001b[0m \u001b[1m0s\u001b[0m 375ms/step\n",
      "\u001b[1m1/1\u001b[0m \u001b[32m━━━━━━━━━━━━━━━━━━━━\u001b[0m\u001b[37m\u001b[0m \u001b[1m0s\u001b[0m 281ms/step\n",
      "\u001b[1m1/1\u001b[0m \u001b[32m━━━━━━━━━━━━━━━━━━━━\u001b[0m\u001b[37m\u001b[0m \u001b[1m0s\u001b[0m 406ms/step\n",
      "\u001b[1m1/1\u001b[0m \u001b[32m━━━━━━━━━━━━━━━━━━━━\u001b[0m\u001b[37m\u001b[0m \u001b[1m0s\u001b[0m 281ms/step\n",
      "\u001b[1m1/1\u001b[0m \u001b[32m━━━━━━━━━━━━━━━━━━━━\u001b[0m\u001b[37m\u001b[0m \u001b[1m0s\u001b[0m 359ms/step\n",
      "\u001b[1m1/1\u001b[0m \u001b[32m━━━━━━━━━━━━━━━━━━━━\u001b[0m\u001b[37m\u001b[0m \u001b[1m0s\u001b[0m 248ms/step\n",
      "\u001b[1m1/1\u001b[0m \u001b[32m━━━━━━━━━━━━━━━━━━━━\u001b[0m\u001b[37m\u001b[0m \u001b[1m0s\u001b[0m 342ms/step\n",
      "\u001b[1m1/1\u001b[0m \u001b[32m━━━━━━━━━━━━━━━━━━━━\u001b[0m\u001b[37m\u001b[0m \u001b[1m0s\u001b[0m 342ms/step\n",
      "\u001b[1m1/1\u001b[0m \u001b[32m━━━━━━━━━━━━━━━━━━━━\u001b[0m\u001b[37m\u001b[0m \u001b[1m0s\u001b[0m 389ms/step\n",
      "\u001b[1m1/1\u001b[0m \u001b[32m━━━━━━━━━━━━━━━━━━━━\u001b[0m\u001b[37m\u001b[0m \u001b[1m0s\u001b[0m 261ms/step\n",
      "\u001b[1m1/1\u001b[0m \u001b[32m━━━━━━━━━━━━━━━━━━━━\u001b[0m\u001b[37m\u001b[0m \u001b[1m0s\u001b[0m 330ms/step\n",
      "\u001b[1m1/1\u001b[0m \u001b[32m━━━━━━━━━━━━━━━━━━━━\u001b[0m\u001b[37m\u001b[0m \u001b[1m0s\u001b[0m 247ms/step\n",
      "\u001b[1m1/1\u001b[0m \u001b[32m━━━━━━━━━━━━━━━━━━━━\u001b[0m\u001b[37m\u001b[0m \u001b[1m0s\u001b[0m 316ms/step\n",
      "\u001b[1m1/1\u001b[0m \u001b[32m━━━━━━━━━━━━━━━━━━━━\u001b[0m\u001b[37m\u001b[0m \u001b[1m0s\u001b[0m 285ms/step\n",
      "\u001b[1m1/1\u001b[0m \u001b[32m━━━━━━━━━━━━━━━━━━━━\u001b[0m\u001b[37m\u001b[0m \u001b[1m1s\u001b[0m 547ms/step\n",
      "\u001b[1m1/1\u001b[0m \u001b[32m━━━━━━━━━━━━━━━━━━━━\u001b[0m\u001b[37m\u001b[0m \u001b[1m0s\u001b[0m 315ms/step\n",
      "\u001b[1m1/1\u001b[0m \u001b[32m━━━━━━━━━━━━━━━━━━━━\u001b[0m\u001b[37m\u001b[0m \u001b[1m0s\u001b[0m 388ms/step\n",
      "\u001b[1m1/1\u001b[0m \u001b[32m━━━━━━━━━━━━━━━━━━━━\u001b[0m\u001b[37m\u001b[0m \u001b[1m0s\u001b[0m 312ms/step\n",
      "\u001b[1m1/1\u001b[0m \u001b[32m━━━━━━━━━━━━━━━━━━━━\u001b[0m\u001b[37m\u001b[0m \u001b[1m0s\u001b[0m 335ms/step\n",
      "\u001b[1m1/1\u001b[0m \u001b[32m━━━━━━━━━━━━━━━━━━━━\u001b[0m\u001b[37m\u001b[0m \u001b[1m0s\u001b[0m 379ms/step\n",
      "\u001b[1m1/1\u001b[0m \u001b[32m━━━━━━━━━━━━━━━━━━━━\u001b[0m\u001b[37m\u001b[0m \u001b[1m0s\u001b[0m 375ms/step\n",
      "\u001b[1m1/1\u001b[0m \u001b[32m━━━━━━━━━━━━━━━━━━━━\u001b[0m\u001b[37m\u001b[0m \u001b[1m0s\u001b[0m 408ms/step\n",
      "\u001b[1m1/1\u001b[0m \u001b[32m━━━━━━━━━━━━━━━━━━━━\u001b[0m\u001b[37m\u001b[0m \u001b[1m0s\u001b[0m 332ms/step\n",
      "\u001b[1m1/1\u001b[0m \u001b[32m━━━━━━━━━━━━━━━━━━━━\u001b[0m\u001b[37m\u001b[0m \u001b[1m0s\u001b[0m 258ms/step\n",
      "\u001b[1m1/1\u001b[0m \u001b[32m━━━━━━━━━━━━━━━━━━━━\u001b[0m\u001b[37m\u001b[0m \u001b[1m0s\u001b[0m 379ms/step\n",
      "\u001b[1m1/1\u001b[0m \u001b[32m━━━━━━━━━━━━━━━━━━━━\u001b[0m\u001b[37m\u001b[0m \u001b[1m1s\u001b[0m 681ms/step\n",
      "\u001b[1m1/1\u001b[0m \u001b[32m━━━━━━━━━━━━━━━━━━━━\u001b[0m\u001b[37m\u001b[0m \u001b[1m0s\u001b[0m 380ms/step\n",
      "\u001b[1m1/1\u001b[0m \u001b[32m━━━━━━━━━━━━━━━━━━━━\u001b[0m\u001b[37m\u001b[0m \u001b[1m0s\u001b[0m 444ms/step\n",
      "\u001b[1m1/1\u001b[0m \u001b[32m━━━━━━━━━━━━━━━━━━━━\u001b[0m\u001b[37m\u001b[0m \u001b[1m1s\u001b[0m 960ms/step\n",
      "\u001b[1m1/1\u001b[0m \u001b[32m━━━━━━━━━━━━━━━━━━━━\u001b[0m\u001b[37m\u001b[0m \u001b[1m23s\u001b[0m 23s/step\n",
      "\u001b[1m1/1\u001b[0m \u001b[32m━━━━━━━━━━━━━━━━━━━━\u001b[0m\u001b[37m\u001b[0m \u001b[1m0s\u001b[0m 272ms/step\n",
      "\u001b[1m1/1\u001b[0m \u001b[32m━━━━━━━━━━━━━━━━━━━━\u001b[0m\u001b[37m\u001b[0m \u001b[1m0s\u001b[0m 400ms/step\n",
      "\u001b[1m1/1\u001b[0m \u001b[32m━━━━━━━━━━━━━━━━━━━━\u001b[0m\u001b[37m\u001b[0m \u001b[1m0s\u001b[0m 318ms/step\n",
      "\u001b[1m1/1\u001b[0m \u001b[32m━━━━━━━━━━━━━━━━━━━━\u001b[0m\u001b[37m\u001b[0m \u001b[1m0s\u001b[0m 248ms/step\n",
      "\u001b[1m1/1\u001b[0m \u001b[32m━━━━━━━━━━━━━━━━━━━━\u001b[0m\u001b[37m\u001b[0m \u001b[1m0s\u001b[0m 303ms/step\n",
      "\u001b[1m1/1\u001b[0m \u001b[32m━━━━━━━━━━━━━━━━━━━━\u001b[0m\u001b[37m\u001b[0m \u001b[1m0s\u001b[0m 314ms/step\n",
      "\u001b[1m1/1\u001b[0m \u001b[32m━━━━━━━━━━━━━━━━━━━━\u001b[0m\u001b[37m\u001b[0m \u001b[1m0s\u001b[0m 485ms/step\n",
      "\u001b[1m1/1\u001b[0m \u001b[32m━━━━━━━━━━━━━━━━━━━━\u001b[0m\u001b[37m\u001b[0m \u001b[1m0s\u001b[0m 363ms/step\n",
      "\u001b[1m1/1\u001b[0m \u001b[32m━━━━━━━━━━━━━━━━━━━━\u001b[0m\u001b[37m\u001b[0m \u001b[1m0s\u001b[0m 253ms/step\n",
      "\u001b[1m1/1\u001b[0m \u001b[32m━━━━━━━━━━━━━━━━━━━━\u001b[0m\u001b[37m\u001b[0m \u001b[1m0s\u001b[0m 234ms/step\n",
      "\u001b[1m1/1\u001b[0m \u001b[32m━━━━━━━━━━━━━━━━━━━━\u001b[0m\u001b[37m\u001b[0m \u001b[1m0s\u001b[0m 269ms/step\n",
      "\u001b[1m1/1\u001b[0m \u001b[32m━━━━━━━━━━━━━━━━━━━━\u001b[0m\u001b[37m\u001b[0m \u001b[1m0s\u001b[0m 286ms/step\n",
      "\u001b[1m1/1\u001b[0m \u001b[32m━━━━━━━━━━━━━━━━━━━━\u001b[0m\u001b[37m\u001b[0m \u001b[1m0s\u001b[0m 303ms/step\n",
      "\u001b[1m1/1\u001b[0m \u001b[32m━━━━━━━━━━━━━━━━━━━━\u001b[0m\u001b[37m\u001b[0m \u001b[1m0s\u001b[0m 201ms/step\n",
      "\u001b[1m1/1\u001b[0m \u001b[32m━━━━━━━━━━━━━━━━━━━━\u001b[0m\u001b[37m\u001b[0m \u001b[1m0s\u001b[0m 340ms/step\n",
      "\u001b[1m1/1\u001b[0m \u001b[32m━━━━━━━━━━━━━━━━━━━━\u001b[0m\u001b[37m\u001b[0m \u001b[1m0s\u001b[0m 215ms/step\n",
      "\u001b[1m1/1\u001b[0m \u001b[32m━━━━━━━━━━━━━━━━━━━━\u001b[0m\u001b[37m\u001b[0m \u001b[1m1s\u001b[0m 926ms/step\n",
      "\u001b[1m1/1\u001b[0m \u001b[32m━━━━━━━━━━━━━━━━━━━━\u001b[0m\u001b[37m\u001b[0m \u001b[1m0s\u001b[0m 483ms/step\n",
      "\u001b[1m1/1\u001b[0m \u001b[32m━━━━━━━━━━━━━━━━━━━━\u001b[0m\u001b[37m\u001b[0m \u001b[1m1s\u001b[0m 657ms/step\n",
      "\u001b[1m1/1\u001b[0m \u001b[32m━━━━━━━━━━━━━━━━━━━━\u001b[0m\u001b[37m\u001b[0m \u001b[1m17s\u001b[0m 17s/step\n",
      "\u001b[1m1/1\u001b[0m \u001b[32m━━━━━━━━━━━━━━━━━━━━\u001b[0m\u001b[37m\u001b[0m \u001b[1m21s\u001b[0m 21s/step\n",
      "\u001b[1m1/1\u001b[0m \u001b[32m━━━━━━━━━━━━━━━━━━━━\u001b[0m\u001b[37m\u001b[0m \u001b[1m1s\u001b[0m 556ms/step\n",
      "\u001b[1m1/1\u001b[0m \u001b[32m━━━━━━━━━━━━━━━━━━━━\u001b[0m\u001b[37m\u001b[0m \u001b[1m1s\u001b[0m 567ms/step\n",
      "\u001b[1m1/1\u001b[0m \u001b[32m━━━━━━━━━━━━━━━━━━━━\u001b[0m\u001b[37m\u001b[0m \u001b[1m1s\u001b[0m 684ms/step\n",
      "\u001b[1m1/1\u001b[0m \u001b[32m━━━━━━━━━━━━━━━━━━━━\u001b[0m\u001b[37m\u001b[0m \u001b[1m2s\u001b[0m 2s/step\n",
      "\u001b[1m1/1\u001b[0m \u001b[32m━━━━━━━━━━━━━━━━━━━━\u001b[0m\u001b[37m\u001b[0m \u001b[1m0s\u001b[0m 262ms/step\n",
      "\u001b[1m1/1\u001b[0m \u001b[32m━━━━━━━━━━━━━━━━━━━━\u001b[0m\u001b[37m\u001b[0m \u001b[1m0s\u001b[0m 381ms/step\n",
      "\u001b[1m1/1\u001b[0m \u001b[32m━━━━━━━━━━━━━━━━━━━━\u001b[0m\u001b[37m\u001b[0m \u001b[1m0s\u001b[0m 266ms/step\n",
      "\u001b[1m1/1\u001b[0m \u001b[32m━━━━━━━━━━━━━━━━━━━━\u001b[0m\u001b[37m\u001b[0m \u001b[1m0s\u001b[0m 323ms/step\n",
      "\u001b[1m1/1\u001b[0m \u001b[32m━━━━━━━━━━━━━━━━━━━━\u001b[0m\u001b[37m\u001b[0m \u001b[1m0s\u001b[0m 329ms/step\n",
      "\u001b[1m1/1\u001b[0m \u001b[32m━━━━━━━━━━━━━━━━━━━━\u001b[0m\u001b[37m\u001b[0m \u001b[1m0s\u001b[0m 404ms/step\n",
      "\u001b[1m1/1\u001b[0m \u001b[32m━━━━━━━━━━━━━━━━━━━━\u001b[0m\u001b[37m\u001b[0m \u001b[1m0s\u001b[0m 300ms/step\n",
      "\u001b[1m1/1\u001b[0m \u001b[32m━━━━━━━━━━━━━━━━━━━━\u001b[0m\u001b[37m\u001b[0m \u001b[1m0s\u001b[0m 395ms/step\n",
      "\u001b[1m1/1\u001b[0m \u001b[32m━━━━━━━━━━━━━━━━━━━━\u001b[0m\u001b[37m\u001b[0m \u001b[1m0s\u001b[0m 272ms/step\n",
      "\u001b[1m1/1\u001b[0m \u001b[32m━━━━━━━━━━━━━━━━━━━━\u001b[0m\u001b[37m\u001b[0m \u001b[1m0s\u001b[0m 370ms/step\n",
      "\u001b[1m1/1\u001b[0m \u001b[32m━━━━━━━━━━━━━━━━━━━━\u001b[0m\u001b[37m\u001b[0m \u001b[1m0s\u001b[0m 269ms/step\n",
      "\u001b[1m1/1\u001b[0m \u001b[32m━━━━━━━━━━━━━━━━━━━━\u001b[0m\u001b[37m\u001b[0m \u001b[1m1s\u001b[0m 523ms/step\n",
      "\u001b[1m1/1\u001b[0m \u001b[32m━━━━━━━━━━━━━━━━━━━━\u001b[0m\u001b[37m\u001b[0m \u001b[1m0s\u001b[0m 252ms/step\n",
      "\u001b[1m1/1\u001b[0m \u001b[32m━━━━━━━━━━━━━━━━━━━━\u001b[0m\u001b[37m\u001b[0m \u001b[1m0s\u001b[0m 235ms/step\n",
      "\u001b[1m1/1\u001b[0m \u001b[32m━━━━━━━━━━━━━━━━━━━━\u001b[0m\u001b[37m\u001b[0m \u001b[1m1s\u001b[0m 628ms/step\n",
      "\u001b[1m1/1\u001b[0m \u001b[32m━━━━━━━━━━━━━━━━━━━━\u001b[0m\u001b[37m\u001b[0m \u001b[1m0s\u001b[0m 341ms/step\n",
      "\n",
      "Moeda:  BTC-USD  processada\n",
      "\u001b[1m1/1\u001b[0m \u001b[32m━━━━━━━━━━━━━━━━━━━━\u001b[0m\u001b[37m\u001b[0m \u001b[1m0s\u001b[0m 228ms/step\n",
      "\u001b[1m1/1\u001b[0m \u001b[32m━━━━━━━━━━━━━━━━━━━━\u001b[0m\u001b[37m\u001b[0m \u001b[1m0s\u001b[0m 282ms/step\n",
      "\u001b[1m1/1\u001b[0m \u001b[32m━━━━━━━━━━━━━━━━━━━━\u001b[0m\u001b[37m\u001b[0m \u001b[1m1s\u001b[0m 1s/step\n",
      "\u001b[1m1/1\u001b[0m \u001b[32m━━━━━━━━━━━━━━━━━━━━\u001b[0m\u001b[37m\u001b[0m \u001b[1m0s\u001b[0m 222ms/step\n",
      "\u001b[1m1/1\u001b[0m \u001b[32m━━━━━━━━━━━━━━━━━━━━\u001b[0m\u001b[37m\u001b[0m \u001b[1m0s\u001b[0m 362ms/step\n",
      "\n",
      "Moeda:  ETH-USD  processada\n",
      "Processamento em paralelo finalizado.\n"
     ]
    }
   ],
   "source": [
    "cryptos = ['BTC-USD', 'ETH-USD']\n",
    "# Função que processa cada criptomoeda (paralelismo será aplicado aqui)\n",
    "def process_crypto(crypto, data, test_target, data_complete, time_step, features):\n",
    "    # Criar um modelo para cada criptomoeda\n",
    "    for day in range(1900, 2000):\n",
    "        model = create_model(time_step, features)\n",
    "\n",
    "        df_train = data[crypto][day].copy()  # df é uma tabela de 300 linhas e uma coluna\n",
    "        df_test = test_target[crypto][day].copy()  # df_test é uma tabela com 1 linha e uma coluna\n",
    "        df = pd.concat([df_train, df_test], ignore_index=True)  # Unindo as duas tabelas\n",
    "\n",
    "        scaler = StandardScaler()\n",
    "        df = scaler.fit_transform(df)\n",
    "\n",
    "        y_hat_scaled = Model(df, time_step, features, model=model)  # Chamar o modelo para previsão\n",
    "\n",
    "        y_hat_scaled = np.repeat(y_hat_scaled, features, axis=1)\n",
    "        y_hat_scaled = pd.DataFrame(y_hat_scaled, columns=(['Predictions_1'], ['Predictions_2']))\n",
    "\n",
    "        y_hat = scaler.inverse_transform(y_hat_scaled)[0][features - 1]\n",
    "\n",
    "        Add(y_hat, data_complete, df_test.index[0], crypto)  # Adicionar o resultado na tabela final\n",
    "\n",
    "    print(\"\\nMoeda: \", crypto, \" processada\")\n",
    "\n",
    "# Número de samples que vamos testar o modelo\n",
    "time_step = w\n",
    "features = 2\n",
    "\n",
    "# Criar o executor para rodar as criptomoedas em paralelo\n",
    "with ThreadPoolExecutor() as executor:\n",
    "    # Executar o processo para cada criptomoeda simultaneamente\n",
    "    futures = [\n",
    "        executor.submit(process_crypto, crypto, data, test_target, data_complete, time_step, features)\n",
    "        for crypto in cryptos\n",
    "    ]\n",
    "\n",
    "    # Aguardar a conclusão de todas as threads\n",
    "    for future in futures:\n",
    "        future.result()\n",
    "\n",
    "print(\"Processamento em paralelo finalizado.\")"
   ]
  },
  {
   "cell_type": "markdown",
   "metadata": {
    "id": "l5P8MZMpg_ic"
   },
   "source": [
    "42min para 100 dias\n"
   ]
  },
  {
   "cell_type": "code",
   "execution_count": 24,
   "metadata": {},
   "outputs": [],
   "source": [
    "import winsound\n",
    "\n",
    "# Frequência em Hertz e duração em milissegundos\n",
    "frequencia = 1000  # 1 kHz\n",
    "duracao = 500      # 500 ms\n",
    "\n",
    "# Emite o som\n",
    "winsound.Beep(frequencia, duracao)"
   ]
  },
  {
   "cell_type": "code",
   "execution_count": 25,
   "metadata": {
    "colab": {
     "base_uri": "https://localhost:8080/",
     "height": 159
    },
    "id": "Z5B_u6sF4m_X",
    "outputId": "baaf9e9d-2941-415f-f807-fba8375fb1c3"
   },
   "outputs": [
    {
     "data": {
      "text/html": [
       "<div>\n",
       "<style scoped>\n",
       "    .dataframe tbody tr th:only-of-type {\n",
       "        vertical-align: middle;\n",
       "    }\n",
       "\n",
       "    .dataframe tbody tr th {\n",
       "        vertical-align: top;\n",
       "    }\n",
       "\n",
       "    .dataframe thead th {\n",
       "        text-align: right;\n",
       "    }\n",
       "</style>\n",
       "<table border=\"1\" class=\"dataframe\">\n",
       "  <thead>\n",
       "    <tr style=\"text-align: right;\">\n",
       "      <th></th>\n",
       "      <th>Crypto_Return_Today</th>\n",
       "      <th>exp_value</th>\n",
       "    </tr>\n",
       "    <tr>\n",
       "      <th>Date</th>\n",
       "      <th></th>\n",
       "      <th></th>\n",
       "    </tr>\n",
       "  </thead>\n",
       "  <tbody>\n",
       "    <tr>\n",
       "      <th>2019-05-28</th>\n",
       "      <td>-0.009450</td>\n",
       "      <td>0.008158</td>\n",
       "    </tr>\n",
       "    <tr>\n",
       "      <th>2019-05-29</th>\n",
       "      <td>-0.006802</td>\n",
       "      <td>-0.001159</td>\n",
       "    </tr>\n",
       "    <tr>\n",
       "      <th>2019-05-30</th>\n",
       "      <td>-0.040319</td>\n",
       "      <td>0.002534</td>\n",
       "    </tr>\n",
       "    <tr>\n",
       "      <th>2019-05-31</th>\n",
       "      <td>0.030096</td>\n",
       "      <td>0.010237</td>\n",
       "    </tr>\n",
       "    <tr>\n",
       "      <th>2019-06-01</th>\n",
       "      <td>-0.001146</td>\n",
       "      <td>-0.001186</td>\n",
       "    </tr>\n",
       "    <tr>\n",
       "      <th>...</th>\n",
       "      <td>...</td>\n",
       "      <td>...</td>\n",
       "    </tr>\n",
       "    <tr>\n",
       "      <th>2019-08-31</th>\n",
       "      <td>0.003445</td>\n",
       "      <td>0.000073</td>\n",
       "    </tr>\n",
       "    <tr>\n",
       "      <th>2019-09-01</th>\n",
       "      <td>0.013140</td>\n",
       "      <td>0.001154</td>\n",
       "    </tr>\n",
       "    <tr>\n",
       "      <th>2019-09-02</th>\n",
       "      <td>0.058640</td>\n",
       "      <td>0.002596</td>\n",
       "    </tr>\n",
       "    <tr>\n",
       "      <th>2019-09-03</th>\n",
       "      <td>0.026499</td>\n",
       "      <td>0.000288</td>\n",
       "    </tr>\n",
       "    <tr>\n",
       "      <th>2019-09-04</th>\n",
       "      <td>-0.002516</td>\n",
       "      <td>0.002137</td>\n",
       "    </tr>\n",
       "  </tbody>\n",
       "</table>\n",
       "<p>100 rows × 2 columns</p>\n",
       "</div>"
      ],
      "text/plain": [
       "            Crypto_Return_Today  exp_value\n",
       "Date                                      \n",
       "2019-05-28            -0.009450   0.008158\n",
       "2019-05-29            -0.006802  -0.001159\n",
       "2019-05-30            -0.040319   0.002534\n",
       "2019-05-31             0.030096   0.010237\n",
       "2019-06-01            -0.001146  -0.001186\n",
       "...                         ...        ...\n",
       "2019-08-31             0.003445   0.000073\n",
       "2019-09-01             0.013140   0.001154\n",
       "2019-09-02             0.058640   0.002596\n",
       "2019-09-03             0.026499   0.000288\n",
       "2019-09-04            -0.002516   0.002137\n",
       "\n",
       "[100 rows x 2 columns]"
      ]
     },
     "execution_count": 25,
     "metadata": {},
     "output_type": "execute_result"
    }
   ],
   "source": [
    "df = data_complete['BTC-USD']\n",
    "df.dropna()"
   ]
  },
  {
   "cell_type": "code",
   "execution_count": 88,
   "metadata": {
    "id": "VZq53cUFkNEL"
   },
   "outputs": [],
   "source": [
    "data_visual = data_complete"
   ]
  },
  {
   "cell_type": "code",
   "execution_count": 47,
   "metadata": {},
   "outputs": [
    {
     "name": "stdout",
     "output_type": "stream",
     "text": [
      "\n",
      "\n",
      "--------------------------------------------------------\n",
      "\n",
      "\n",
      "Criptomoeda:  BTC-USD\n",
      "\n",
      "                              Real\n",
      "\n",
      "Numero de Subidas:  121    |    60.5 %\n",
      "\n",
      "Numero de Quedas :  79    |    39.5 %\n",
      "\n",
      "                              Predito\n",
      "\n",
      "Numero de Subidas:  126    |    63.0 %\n",
      "\n",
      "Numero de Quedas :  74    |    37.0 %\n",
      "\n",
      "Mean Absolute Error MAE:  0.0274026423349081\n",
      "\n",
      "Acc:  0.545\n",
      "\n",
      "Sen:  0.6446280991735537\n",
      "\n",
      "Spe:  0.6446280991735537\n",
      "\n",
      "Pre:  0.6190476190476191\n",
      "\n",
      "Lower bound dos 10% maiores:  0.010071350261569023\n",
      "\n",
      "Precisao para maiores que 0.008:  0.6\n",
      "\n",
      "\n",
      "--------------------------------------------------------\n",
      "\n",
      "\n",
      "Criptomoeda:  ETH-USD\n",
      "\n",
      "                              Real\n",
      "\n",
      "Numero de Subidas:  105    |    52.5 %\n",
      "\n",
      "Numero de Quedas :  95    |    47.5 %\n",
      "\n",
      "                              Predito\n",
      "\n",
      "Numero de Subidas:  82    |    41.0 %\n",
      "\n",
      "Numero de Quedas :  118    |    59.0 %\n",
      "\n",
      "Mean Absolute Error MAE:  0.03059184442343308\n",
      "\n",
      "Acc:  0.535\n",
      "\n",
      "Sen:  0.44761904761904764\n",
      "\n",
      "Spe:  0.44761904761904764\n",
      "\n",
      "Pre:  0.573170731707317\n",
      "\n",
      "Lower bound dos 10% maiores:  0.0074117062613368034\n",
      "\n",
      "Precisao para maiores que 0.008:  0.7\n"
     ]
    }
   ],
   "source": [
    "for crypto in cryptos:\n",
    "    df = data_visual[crypto]\n",
    "    df['ae'] = df['exp_value'] - df['Crypto_Return_Today']\n",
    "    df['ae'] = abs(df['ae'])\n",
    "    df = df.dropna()\n",
    "    num_positive = (df['Crypto_Return_Today'] > 0).sum()\n",
    "    num_negative = (df['Crypto_Return_Today'] < 0).sum()\n",
    "\n",
    "    hat_pos = (df['exp_value'] > 0).sum()\n",
    "    hat_neg = (df['exp_value'] < 0).sum()\n",
    "\n",
    "\n",
    "    TP = ((df['Crypto_Return_Today'] > 0)  & (df['exp_value'] > 0)).sum()\n",
    "    TN = ((df['Crypto_Return_Today'] < 0)  & (df['exp_value'] < 0)).sum()\n",
    "    FP = ((df['Crypto_Return_Today'] < 0)  & (df['exp_value'] > 0)).sum()\n",
    "    FN = ((df['Crypto_Return_Today'] > 0)  & (df['exp_value'] < 0)).sum()\n",
    "\n",
    "    #rmse = np.sqrt(((df['Crypto_Return_Today'] - df['exp_value']) ** 2).mean())\n",
    "    print(\"\\n\\n--------------------------------------------------------\")\n",
    "    print(\"\\n\\nCriptomoeda: \", crypto)\n",
    "    print(\"\\n                              Real\")\n",
    "    print(\"\\nNumero de Subidas: \",num_positive,\"   |   \",100*num_positive / (num_negative + num_positive),\"%\")\n",
    "    print(\"\\nNumero de Quedas : \",num_negative,\"   |   \",100*num_negative / (num_negative + num_positive),\"%\")\n",
    "\n",
    "    print(\"\\n                              Predito\")\n",
    "    print(\"\\nNumero de Subidas: \",hat_pos,\"   |   \", 100*hat_pos / (hat_neg + hat_pos),\"%\")\n",
    "    print(\"\\nNumero de Quedas : \",hat_neg,\"   |   \", 100*hat_neg / (hat_neg + hat_pos),\"%\")\n",
    "\n",
    "    print(\"\\nMean Absolute Error MAE: \", df['ae'].mean())\n",
    "    #print(\"\\nRoot Mean Squared Error RMSE: \", rmse)\n",
    "    print(\"\\nAcc: \", (TP+TN) / (TP + TN + FN + FP))\n",
    "    print(\"\\nSen: \", (TP) / (TP + FN)) # significa, entre os que subiram, quantos % eu consegui identificar que realmente subiu\n",
    "    print(\"\\nSpe: \", (TP) / (TP + FN)) # significa, entre os que cairam, quantos % eu consegui identificar que realmente caiu\n",
    "    print(\"\\nPre: \", (TP) / (TP + FP)) # significa, entre os que eu disse que ia subir, quantos % realmente subiram\n",
    "    limite_90 = df['exp_value'].quantile(0.9)\n",
    "\n",
    "    TP = ((df['Crypto_Return_Today'] > 0)  & (df['exp_value'] > 0) & (df['exp_value'] >= limite_90)).sum()\n",
    "    FP = (((df['Crypto_Return_Today'] < 0)  & (df['exp_value'] > 0)) & (df['exp_value'] >= limite_90)).sum()\n",
    "\n",
    "    \n",
    "    menor_valor_10_maiores = df[df['exp_value'] >= limite_90]['exp_value'].min()\n",
    "    print(\"\\nLower bound dos 10% maiores: \", menor_valor_10_maiores)\n",
    "\n",
    "    print(\"\\nPrecisao para maiores que 0.008: \", (TP) / (TP + FP)) # significa, entre os que eu disse que ia subir, quantos % realmente subiram"
   ]
  },
  {
   "cell_type": "code",
   "execution_count": 27,
   "metadata": {
    "id": "DOsSsKY64m_Y"
   },
   "outputs": [],
   "source": [
    "data_aux = {}\n",
    "for crypto in cryptos:\n",
    "    data_aux[crypto] = pd.read_csv(f\"{crypto}.csv\", index_col='Date')"
   ]
  },
  {
   "cell_type": "code",
   "execution_count": 28,
   "metadata": {
    "id": "0bsOIKxm4m_Y"
   },
   "outputs": [
    {
     "data": {
      "text/html": [
       "<div>\n",
       "<style scoped>\n",
       "    .dataframe tbody tr th:only-of-type {\n",
       "        vertical-align: middle;\n",
       "    }\n",
       "\n",
       "    .dataframe tbody tr th {\n",
       "        vertical-align: top;\n",
       "    }\n",
       "\n",
       "    .dataframe thead th {\n",
       "        text-align: right;\n",
       "    }\n",
       "</style>\n",
       "<table border=\"1\" class=\"dataframe\">\n",
       "  <thead>\n",
       "    <tr style=\"text-align: right;\">\n",
       "      <th></th>\n",
       "      <th>Crypto_Return_Today</th>\n",
       "      <th>exp_value</th>\n",
       "      <th>ae</th>\n",
       "    </tr>\n",
       "    <tr>\n",
       "      <th>Date</th>\n",
       "      <th></th>\n",
       "      <th></th>\n",
       "      <th></th>\n",
       "    </tr>\n",
       "  </thead>\n",
       "  <tbody>\n",
       "    <tr>\n",
       "      <th>2017-10-01</th>\n",
       "      <td>0.014338</td>\n",
       "      <td>0.009009</td>\n",
       "      <td>0.005329</td>\n",
       "    </tr>\n",
       "    <tr>\n",
       "      <th>2017-10-02</th>\n",
       "      <td>0.003069</td>\n",
       "      <td>-0.005200</td>\n",
       "      <td>0.008269</td>\n",
       "    </tr>\n",
       "    <tr>\n",
       "      <th>2017-10-03</th>\n",
       "      <td>-0.020854</td>\n",
       "      <td>0.007968</td>\n",
       "      <td>0.028821</td>\n",
       "    </tr>\n",
       "    <tr>\n",
       "      <th>2017-10-04</th>\n",
       "      <td>-0.021059</td>\n",
       "      <td>0.018761</td>\n",
       "      <td>0.039820</td>\n",
       "    </tr>\n",
       "    <tr>\n",
       "      <th>2017-10-05</th>\n",
       "      <td>0.023027</td>\n",
       "      <td>0.003959</td>\n",
       "      <td>0.019067</td>\n",
       "    </tr>\n",
       "    <tr>\n",
       "      <th>...</th>\n",
       "      <td>...</td>\n",
       "      <td>...</td>\n",
       "      <td>...</td>\n",
       "    </tr>\n",
       "    <tr>\n",
       "      <th>2019-10-29</th>\n",
       "      <td>0.019196</td>\n",
       "      <td>0.005857</td>\n",
       "      <td>0.013339</td>\n",
       "    </tr>\n",
       "    <tr>\n",
       "      <th>2019-10-30</th>\n",
       "      <td>-0.023271</td>\n",
       "      <td>0.004103</td>\n",
       "      <td>0.027373</td>\n",
       "    </tr>\n",
       "    <tr>\n",
       "      <th>2019-10-31</th>\n",
       "      <td>-0.000312</td>\n",
       "      <td>0.005313</td>\n",
       "      <td>0.005625</td>\n",
       "    </tr>\n",
       "    <tr>\n",
       "      <th>2019-11-01</th>\n",
       "      <td>0.007273</td>\n",
       "      <td>-0.000666</td>\n",
       "      <td>0.007939</td>\n",
       "    </tr>\n",
       "    <tr>\n",
       "      <th>2019-11-02</th>\n",
       "      <td>0.006988</td>\n",
       "      <td>0.006134</td>\n",
       "      <td>0.000854</td>\n",
       "    </tr>\n",
       "  </tbody>\n",
       "</table>\n",
       "<p>763 rows × 3 columns</p>\n",
       "</div>"
      ],
      "text/plain": [
       "            Crypto_Return_Today  exp_value        ae\n",
       "Date                                                \n",
       "2017-10-01             0.014338   0.009009  0.005329\n",
       "2017-10-02             0.003069  -0.005200  0.008269\n",
       "2017-10-03            -0.020854   0.007968  0.028821\n",
       "2017-10-04            -0.021059   0.018761  0.039820\n",
       "2017-10-05             0.023027   0.003959  0.019067\n",
       "...                         ...        ...       ...\n",
       "2019-10-29             0.019196   0.005857  0.013339\n",
       "2019-10-30            -0.023271   0.004103  0.027373\n",
       "2019-10-31            -0.000312   0.005313  0.005625\n",
       "2019-11-01             0.007273  -0.000666  0.007939\n",
       "2019-11-02             0.006988   0.006134  0.000854\n",
       "\n",
       "[763 rows x 3 columns]"
      ]
     },
     "execution_count": 28,
     "metadata": {},
     "output_type": "execute_result"
    }
   ],
   "source": [
    "data_aux['BTC-USD'].dropna()"
   ]
  },
  {
   "cell_type": "code",
   "execution_count": 34,
   "metadata": {
    "id": "qKXPffH04m_Y"
   },
   "outputs": [
    {
     "data": {
      "text/html": [
       "<div>\n",
       "<style scoped>\n",
       "    .dataframe tbody tr th:only-of-type {\n",
       "        vertical-align: middle;\n",
       "    }\n",
       "\n",
       "    .dataframe tbody tr th {\n",
       "        vertical-align: top;\n",
       "    }\n",
       "\n",
       "    .dataframe thead th {\n",
       "        text-align: right;\n",
       "    }\n",
       "</style>\n",
       "<table border=\"1\" class=\"dataframe\">\n",
       "  <thead>\n",
       "    <tr style=\"text-align: right;\">\n",
       "      <th></th>\n",
       "      <th>Crypto_Return_Today</th>\n",
       "      <th>exp_value</th>\n",
       "      <th>ae</th>\n",
       "    </tr>\n",
       "    <tr>\n",
       "      <th>Date</th>\n",
       "      <th></th>\n",
       "      <th></th>\n",
       "      <th></th>\n",
       "    </tr>\n",
       "  </thead>\n",
       "  <tbody>\n",
       "    <tr>\n",
       "      <th>2014-09-17</th>\n",
       "      <td>-0.018480</td>\n",
       "      <td>NaN</td>\n",
       "      <td>NaN</td>\n",
       "    </tr>\n",
       "    <tr>\n",
       "      <th>2014-09-18</th>\n",
       "      <td>-0.073606</td>\n",
       "      <td>NaN</td>\n",
       "      <td>NaN</td>\n",
       "    </tr>\n",
       "    <tr>\n",
       "      <th>2014-09-19</th>\n",
       "      <td>-0.071607</td>\n",
       "      <td>NaN</td>\n",
       "      <td>NaN</td>\n",
       "    </tr>\n",
       "    <tr>\n",
       "      <th>2014-09-20</th>\n",
       "      <td>0.035423</td>\n",
       "      <td>NaN</td>\n",
       "      <td>NaN</td>\n",
       "    </tr>\n",
       "    <tr>\n",
       "      <th>2014-09-21</th>\n",
       "      <td>-0.022963</td>\n",
       "      <td>NaN</td>\n",
       "      <td>NaN</td>\n",
       "    </tr>\n",
       "    <tr>\n",
       "      <th>...</th>\n",
       "      <td>...</td>\n",
       "      <td>...</td>\n",
       "      <td>...</td>\n",
       "    </tr>\n",
       "    <tr>\n",
       "      <th>2017-09-26</th>\n",
       "      <td>-0.009222</td>\n",
       "      <td>-0.003654</td>\n",
       "      <td>0.005568</td>\n",
       "    </tr>\n",
       "    <tr>\n",
       "      <th>2017-09-27</th>\n",
       "      <td>0.076079</td>\n",
       "      <td>-0.000183</td>\n",
       "      <td>0.076263</td>\n",
       "    </tr>\n",
       "    <tr>\n",
       "      <th>2017-09-28</th>\n",
       "      <td>-0.005351</td>\n",
       "      <td>0.008771</td>\n",
       "      <td>0.014122</td>\n",
       "    </tr>\n",
       "    <tr>\n",
       "      <th>2017-09-29</th>\n",
       "      <td>-0.002052</td>\n",
       "      <td>0.006037</td>\n",
       "      <td>0.008089</td>\n",
       "    </tr>\n",
       "    <tr>\n",
       "      <th>2017-09-30</th>\n",
       "      <td>0.040594</td>\n",
       "      <td>0.016726</td>\n",
       "      <td>0.023868</td>\n",
       "    </tr>\n",
       "  </tbody>\n",
       "</table>\n",
       "<p>1110 rows × 3 columns</p>\n",
       "</div>"
      ],
      "text/plain": [
       "            Crypto_Return_Today  exp_value        ae\n",
       "Date                                                \n",
       "2014-09-17            -0.018480        NaN       NaN\n",
       "2014-09-18            -0.073606        NaN       NaN\n",
       "2014-09-19            -0.071607        NaN       NaN\n",
       "2014-09-20             0.035423        NaN       NaN\n",
       "2014-09-21            -0.022963        NaN       NaN\n",
       "...                         ...        ...       ...\n",
       "2017-09-26            -0.009222  -0.003654  0.005568\n",
       "2017-09-27             0.076079  -0.000183  0.076263\n",
       "2017-09-28            -0.005351   0.008771  0.014122\n",
       "2017-09-29            -0.002052   0.006037  0.008089\n",
       "2017-09-30             0.040594   0.016726  0.023868\n",
       "\n",
       "[1110 rows x 3 columns]"
      ]
     },
     "execution_count": 34,
     "metadata": {},
     "output_type": "execute_result"
    }
   ],
   "source": [
    "data_aux['BTC-USD'][-2600:]\n",
    "data_complete['BTC-USD'][:-2601]"
   ]
  },
  {
   "cell_type": "code",
   "execution_count": 35,
   "metadata": {
    "id": "icM_K8yJ4m_Y"
   },
   "outputs": [],
   "source": [
    "for crypto in cryptos:\n",
    "    df_aux = data_complete[crypto]\n",
    "    df_aux = pd.concat([df_aux[:-2600], data_aux[crypto][-2601:]])\n",
    "    df_aux.index = pd.to_datetime(df_aux.index)\n",
    "    data_complete[crypto] = df_aux\n"
   ]
  },
  {
   "cell_type": "code",
   "execution_count": 36,
   "metadata": {
    "id": "We9JjEsm4m_Z"
   },
   "outputs": [],
   "source": [
    "for crypto in cryptos:\n",
    "    data_complete[crypto]= data_complete[crypto][~data_complete[crypto].index.duplicated(keep='first')]"
   ]
  },
  {
   "cell_type": "code",
   "execution_count": 37,
   "metadata": {
    "id": "PGFhRpKg4m_Z"
   },
   "outputs": [
    {
     "data": {
      "text/html": [
       "<div>\n",
       "<style scoped>\n",
       "    .dataframe tbody tr th:only-of-type {\n",
       "        vertical-align: middle;\n",
       "    }\n",
       "\n",
       "    .dataframe tbody tr th {\n",
       "        vertical-align: top;\n",
       "    }\n",
       "\n",
       "    .dataframe thead th {\n",
       "        text-align: right;\n",
       "    }\n",
       "</style>\n",
       "<table border=\"1\" class=\"dataframe\">\n",
       "  <thead>\n",
       "    <tr style=\"text-align: right;\">\n",
       "      <th></th>\n",
       "      <th>Crypto_Return_Today</th>\n",
       "      <th>exp_value</th>\n",
       "      <th>ae</th>\n",
       "    </tr>\n",
       "    <tr>\n",
       "      <th>Date</th>\n",
       "      <th></th>\n",
       "      <th></th>\n",
       "      <th></th>\n",
       "    </tr>\n",
       "  </thead>\n",
       "  <tbody>\n",
       "    <tr>\n",
       "      <th>2017-06-06</th>\n",
       "      <td>0.062086</td>\n",
       "      <td>0.005989</td>\n",
       "      <td>0.056097</td>\n",
       "    </tr>\n",
       "    <tr>\n",
       "      <th>2017-06-07</th>\n",
       "      <td>-0.049003</td>\n",
       "      <td>0.013090</td>\n",
       "      <td>0.062093</td>\n",
       "    </tr>\n",
       "    <tr>\n",
       "      <th>2017-06-08</th>\n",
       "      <td>0.030813</td>\n",
       "      <td>0.003476</td>\n",
       "      <td>0.027336</td>\n",
       "    </tr>\n",
       "    <tr>\n",
       "      <th>2017-06-09</th>\n",
       "      <td>0.005814</td>\n",
       "      <td>0.014305</td>\n",
       "      <td>0.008491</td>\n",
       "    </tr>\n",
       "    <tr>\n",
       "      <th>2017-06-10</th>\n",
       "      <td>0.041409</td>\n",
       "      <td>0.016063</td>\n",
       "      <td>0.025347</td>\n",
       "    </tr>\n",
       "    <tr>\n",
       "      <th>...</th>\n",
       "      <td>...</td>\n",
       "      <td>...</td>\n",
       "      <td>...</td>\n",
       "    </tr>\n",
       "    <tr>\n",
       "      <th>2019-10-29</th>\n",
       "      <td>0.019196</td>\n",
       "      <td>0.005857</td>\n",
       "      <td>0.013339</td>\n",
       "    </tr>\n",
       "    <tr>\n",
       "      <th>2019-10-30</th>\n",
       "      <td>-0.023271</td>\n",
       "      <td>0.004103</td>\n",
       "      <td>0.027373</td>\n",
       "    </tr>\n",
       "    <tr>\n",
       "      <th>2019-10-31</th>\n",
       "      <td>-0.000312</td>\n",
       "      <td>0.005313</td>\n",
       "      <td>0.005625</td>\n",
       "    </tr>\n",
       "    <tr>\n",
       "      <th>2019-11-01</th>\n",
       "      <td>0.007273</td>\n",
       "      <td>-0.000666</td>\n",
       "      <td>0.007939</td>\n",
       "    </tr>\n",
       "    <tr>\n",
       "      <th>2019-11-02</th>\n",
       "      <td>0.006988</td>\n",
       "      <td>0.006134</td>\n",
       "      <td>0.000854</td>\n",
       "    </tr>\n",
       "  </tbody>\n",
       "</table>\n",
       "<p>880 rows × 3 columns</p>\n",
       "</div>"
      ],
      "text/plain": [
       "            Crypto_Return_Today  exp_value        ae\n",
       "Date                                                \n",
       "2017-06-06             0.062086   0.005989  0.056097\n",
       "2017-06-07            -0.049003   0.013090  0.062093\n",
       "2017-06-08             0.030813   0.003476  0.027336\n",
       "2017-06-09             0.005814   0.014305  0.008491\n",
       "2017-06-10             0.041409   0.016063  0.025347\n",
       "...                         ...        ...       ...\n",
       "2019-10-29             0.019196   0.005857  0.013339\n",
       "2019-10-30            -0.023271   0.004103  0.027373\n",
       "2019-10-31            -0.000312   0.005313  0.005625\n",
       "2019-11-01             0.007273  -0.000666  0.007939\n",
       "2019-11-02             0.006988   0.006134  0.000854\n",
       "\n",
       "[880 rows x 3 columns]"
      ]
     },
     "execution_count": 37,
     "metadata": {},
     "output_type": "execute_result"
    }
   ],
   "source": [
    "data_complete['BTC-USD'].dropna()"
   ]
  },
  {
   "cell_type": "code",
   "execution_count": 38,
   "metadata": {
    "colab": {
     "base_uri": "https://localhost:8080/"
    },
    "id": "SSHTFWTU4m_Z",
    "outputId": "a86a7ecc-cc7b-41bc-de90-93b5e5e21ee5"
   },
   "outputs": [
    {
     "name": "stdout",
     "output_type": "stream",
     "text": [
      "Arquivo BTC-USD.csv salvo com sucesso!\n",
      "Arquivo LTC-USD.csv salvo com sucesso!\n"
     ]
    }
   ],
   "source": [
    "for crypto in cryptos:\n",
    "    # Define o nome do arquivo como o nome da criptomoeda seguido de .csv\n",
    "    filename = f\"{crypto}.csv\"\n",
    "\n",
    "    # Salva o DataFrame data_complete[crypto] no arquivo .csv\n",
    "    data_complete[crypto].to_csv(filename, index=True)\n",
    "\n",
    "    print(f\"Arquivo {filename} salvo com sucesso!\")"
   ]
  },
  {
   "cell_type": "code",
   "execution_count": 26,
   "metadata": {},
   "outputs": [],
   "source": [
    "data_visual = data_complete.copy()"
   ]
  },
  {
   "cell_type": "code",
   "execution_count": 27,
   "metadata": {},
   "outputs": [
    {
     "data": {
      "text/html": [
       "<div>\n",
       "<style scoped>\n",
       "    .dataframe tbody tr th:only-of-type {\n",
       "        vertical-align: middle;\n",
       "    }\n",
       "\n",
       "    .dataframe tbody tr th {\n",
       "        vertical-align: top;\n",
       "    }\n",
       "\n",
       "    .dataframe thead th {\n",
       "        text-align: right;\n",
       "    }\n",
       "</style>\n",
       "<table border=\"1\" class=\"dataframe\">\n",
       "  <thead>\n",
       "    <tr style=\"text-align: right;\">\n",
       "      <th></th>\n",
       "      <th>Crypto</th>\n",
       "      <th>Num Subidas (Real)</th>\n",
       "      <th>Perc Subidas (Real)</th>\n",
       "      <th>Num Quedas (Real)</th>\n",
       "      <th>Num Subidas (Pred)</th>\n",
       "      <th>Perc Subidas (Pred)</th>\n",
       "      <th>Num Quedas (Pred)</th>\n",
       "      <th>MAE</th>\n",
       "      <th>Acc</th>\n",
       "      <th>Sen</th>\n",
       "      <th>Spe</th>\n",
       "      <th>Pre</th>\n",
       "      <th>Lower bound dos 10% maiores</th>\n",
       "      <th>Precisao para maiores que 0.008</th>\n",
       "    </tr>\n",
       "  </thead>\n",
       "  <tbody>\n",
       "    <tr>\n",
       "      <th>0</th>\n",
       "      <td>BTC-USD</td>\n",
       "      <td>55</td>\n",
       "      <td>55.0</td>\n",
       "      <td>45</td>\n",
       "      <td>69</td>\n",
       "      <td>69.0</td>\n",
       "      <td>31</td>\n",
       "      <td>0.034644</td>\n",
       "      <td>0.52</td>\n",
       "      <td>0.690909</td>\n",
       "      <td>0.311111</td>\n",
       "      <td>0.550725</td>\n",
       "      <td>0.004473</td>\n",
       "      <td>0.44</td>\n",
       "    </tr>\n",
       "    <tr>\n",
       "      <th>1</th>\n",
       "      <td>ETH-USD</td>\n",
       "      <td>51</td>\n",
       "      <td>51.0</td>\n",
       "      <td>49</td>\n",
       "      <td>45</td>\n",
       "      <td>45.0</td>\n",
       "      <td>55</td>\n",
       "      <td>0.033836</td>\n",
       "      <td>0.52</td>\n",
       "      <td>0.470588</td>\n",
       "      <td>0.571429</td>\n",
       "      <td>0.533333</td>\n",
       "      <td>0.002538</td>\n",
       "      <td>0.36</td>\n",
       "    </tr>\n",
       "  </tbody>\n",
       "</table>\n",
       "</div>"
      ],
      "text/plain": [
       "    Crypto  Num Subidas (Real)  Perc Subidas (Real)  Num Quedas (Real)  \\\n",
       "0  BTC-USD                  55                 55.0                 45   \n",
       "1  ETH-USD                  51                 51.0                 49   \n",
       "\n",
       "   Num Subidas (Pred)  Perc Subidas (Pred)  Num Quedas (Pred)       MAE   Acc  \\\n",
       "0                  69                 69.0                 31  0.034644  0.52   \n",
       "1                  45                 45.0                 55  0.033836  0.52   \n",
       "\n",
       "        Sen       Spe       Pre  Lower bound dos 10% maiores  \\\n",
       "0  0.690909  0.311111  0.550725                     0.004473   \n",
       "1  0.470588  0.571429  0.533333                     0.002538   \n",
       "\n",
       "   Precisao para maiores que 0.008  \n",
       "0                             0.44  \n",
       "1                             0.36  "
      ]
     },
     "execution_count": 27,
     "metadata": {},
     "output_type": "execute_result"
    }
   ],
   "source": [
    "results = []\n",
    "\n",
    "for crypto in cryptos:\n",
    "    df = data_visual[crypto]\n",
    "    df['ae'] = df['exp_value'] - df['Crypto_Return_Today']\n",
    "    df['ae'] = abs(df['ae'])\n",
    "    df = df.dropna()\n",
    "    \n",
    "    # Cálculos dos valores\n",
    "    num_positive = (df['Crypto_Return_Today'] > 0).sum()\n",
    "    num_negative = (df['Crypto_Return_Today'] < 0).sum()\n",
    "    hat_pos = (df['exp_value'] > 0).sum()\n",
    "    hat_neg = (df['exp_value'] < 0).sum()\n",
    "\n",
    "    # Calcula a porcentagem de subidas e quedas reais e previstas\n",
    "    total_real = num_positive + num_negative\n",
    "    total_pred = hat_pos + hat_neg\n",
    "    perc_positive_real = (100 * num_positive / total_real) if total_real > 0 else None\n",
    "    perc_positive_pred = (100 * hat_pos / total_pred) if total_pred > 0 else None\n",
    "    \n",
    "    # Calcular métricas de avaliação\n",
    "    TP = ((df['Crypto_Return_Today'] > 0) & (df['exp_value'] > 0)).sum()\n",
    "    TN = ((df['Crypto_Return_Today'] < 0) & (df['exp_value'] < 0)).sum()\n",
    "    FP = ((df['Crypto_Return_Today'] < 0) & (df['exp_value'] > 0)).sum()\n",
    "    FN = ((df['Crypto_Return_Today'] > 0) & (df['exp_value'] < 0)).sum()\n",
    "    mae = df['ae'].mean()\n",
    "    acc = (TP + TN) / (TP + FP + FN + TN) if (TP + FP + FN + FP) > 0 else None\n",
    "    sen = TP / (TP + FN) if (TP + FN) > 0 else None\n",
    "    spe = TN / (TN + FP) if (TN + FP) > 0 else None\n",
    "    pre = TP / (TP + FP) if (TP + FP) > 0 else None\n",
    "\n",
    "    # Lower bound dos 10% maiores\n",
    "    limite_90 = df['exp_value'].quantile(0.75)\n",
    "    menor_valor_10_maiores = df[df['exp_value'] >= limite_90]['exp_value'].min()\n",
    "\n",
    "    # Precisão para valores maiores que 0.008\n",
    "    TP_threshold = ((df['Crypto_Return_Today'] > 0) & (df['exp_value'] > 0) & (df['exp_value'] >= limite_90)).sum()\n",
    "    FP_threshold = ((df['Crypto_Return_Today'] < 0) & (df['exp_value'] > 0) & (df['exp_value'] >= limite_90)).sum()\n",
    "    prec_maior_008 = TP_threshold / (TP_threshold + FP_threshold) if (TP_threshold + FP_threshold) > 0 else None\n",
    "\n",
    "    # Adicionando os resultados para a criptomoeda atual\n",
    "    results.append({\n",
    "        \"Crypto\": crypto,\n",
    "        \"Num Subidas (Real)\": num_positive,\n",
    "        \"Perc Subidas (Real)\": perc_positive_real,\n",
    "        \"Num Quedas (Real)\": num_negative,\n",
    "        \"Num Subidas (Pred)\": hat_pos,\n",
    "        \"Perc Subidas (Pred)\": perc_positive_pred,\n",
    "        \"Num Quedas (Pred)\": hat_neg,\n",
    "        \"MAE\": mae,\n",
    "        \"Acc\": acc,\n",
    "        \"Sen\": sen,\n",
    "        \"Spe\": spe,\n",
    "        \"Pre\": pre,\n",
    "        \"Lower bound dos 10% maiores\": menor_valor_10_maiores,\n",
    "        \"Precisao para maiores que 0.008\": prec_maior_008\n",
    "    })\n",
    "\n",
    "# Criando um DataFrame com os resultados\n",
    "results_df = pd.DataFrame(results)\n",
    "\n",
    "# Exibindo a tabela com os resultados\n",
    "\n",
    "# Exibindo a tabela com os resultados\n",
    "results_df.to_csv(\"resultado_arquitetura_2.csv\", index = True)\n",
    "results_df"
   ]
  },
  {
   "cell_type": "code",
   "execution_count": 50,
   "metadata": {},
   "outputs": [
    {
     "name": "stdout",
     "output_type": "stream",
     "text": [
      "Pre_media  0.5961091753774681\n",
      "Acc_media  0.54\n",
      "MAE_media  0.02899724337917059\n",
      "Precisao_25_media 0.61\n"
     ]
    }
   ],
   "source": [
    "Pre_media = results_df['Pre'].mean()\n",
    "Acc_media = results_df['Acc'].mean()\n",
    "MAE_media = results_df['MAE'].mean()\n",
    "Precisao_25_media = results_df['Precisao para maiores que 0.008'].mean()\n",
    "print(\"Pre_media \", Pre_media)\n",
    "print(\"Acc_media \", Acc_media)\n",
    "print(\"MAE_media \", MAE_media)\n",
    "print(\"Precisao_25_media\", Precisao_25_media)"
   ]
  },
  {
   "cell_type": "markdown",
   "metadata": {
    "id": "2tVYBdoQ4m_a"
   },
   "source": [
    "## 3.3 Método 2 para os ultimos X intervalos"
   ]
  },
  {
   "cell_type": "markdown",
   "metadata": {
    "id": "6nsikEqU4m_a"
   },
   "source": [
    "* Aplicar bagging\n",
    "* Aplicar CV e Otimização de HP\n",
    "* Fazer treinamento para uma janela W maior de tempo"
   ]
  },
  {
   "cell_type": "code",
   "execution_count": null,
   "metadata": {
    "id": "Pgj_ZRMu4m_a"
   },
   "outputs": [],
   "source": [
    "# for day in data[crypto]:\n",
    "#       day = bagging(day)\n",
    "\n",
    "# for day in data[crypto]:\n",
    "#       for sample in day:\n",
    "#               sample = CV(sample) # transforma sample em um vetor de folds. Ultimos 10% do fold são validation e 90% são pure train\n",
    "\n",
    "# for day in data[crypto]:\n",
    "#       for sample in day:\n",
    "#               for fold in sample:\n",
    "#                       y_hat = model(fold)\n",
    "#               y_hat_mean = y_hat / len(sample)\n",
    "#       y_hat_mean_mean = y_hat_mean / len(day)"
   ]
  }
 ],
 "metadata": {
  "accelerator": "GPU",
  "colab": {
   "gpuType": "T4",
   "provenance": []
  },
  "kernelspec": {
   "display_name": "Python 3",
   "name": "python3"
  },
  "language_info": {
   "codemirror_mode": {
    "name": "ipython",
    "version": 3
   },
   "file_extension": ".py",
   "mimetype": "text/x-python",
   "name": "python",
   "nbconvert_exporter": "python",
   "pygments_lexer": "ipython3",
   "version": "3.11.9"
  }
 },
 "nbformat": 4,
 "nbformat_minor": 0
}
