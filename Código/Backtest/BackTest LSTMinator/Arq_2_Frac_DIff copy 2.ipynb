{
 "cells": [
  {
   "cell_type": "code",
   "execution_count": 1,
   "metadata": {
    "id": "ivpY4XBa4m-p"
   },
   "outputs": [],
   "source": [
    "import pandas as pd\n",
    "import numpy as np\n",
    "import yfinance as yf\n",
    "import tensorflow as tf\n",
    "from tensorflow.keras.models import Sequential\n",
    "from tensorflow.keras.layers import LSTM, Dense\n",
    "from sklearn.model_selection import train_test_split\n",
    "from tensorflow.keras.callbacks import EarlyStopping\n",
    "from sklearn.preprocessing import MinMaxScaler\n",
    "import time\n",
    "import matplotlib.pyplot as plt\n",
    "import math\n",
    "import copy\n",
    "from concurrent.futures import ThreadPoolExecutor\n",
    "from concurrent.futures import ProcessPoolExecutor\n",
    "from tensorflow.keras.layers import Input\n",
    "from sklearn.preprocessing import StandardScaler\n",
    "from keras.layers import Dropout"
   ]
  },
  {
   "cell_type": "code",
   "execution_count": 2,
   "metadata": {
    "id": "rU7httQh4m-4"
   },
   "outputs": [],
   "source": [
    "# HIPERPARÂMETROS:\n",
    "start_date = '2014-08-21'\n",
    "W = 500  # Lembrando que o tamanho do treinamento será W - w\n",
    "w = 30"
   ]
  },
  {
   "cell_type": "code",
   "execution_count": 3,
   "metadata": {
    "id": "CcAdcDbn4m_G"
   },
   "outputs": [],
   "source": [
    "# Criptomoedas que vamos escolher para nosso portifólio\n",
    "cryptos = [\n",
    "    'BTC-USD', 'ETH-USD','LTC-USD', 'ADA-USD',\n",
    "    'DOT-USD', 'LINK-USD','SOL-USD',\n",
    "    'TRX-USD'\n",
    "]"
   ]
  },
  {
   "cell_type": "code",
   "execution_count": 4,
   "metadata": {
    "id": "yRmQyU5d4m_H"
   },
   "outputs": [],
   "source": [
    "## Função para calcular o retorno logarítmico\n",
    "def log_return(series):\n",
    "    return np.log(series['Close'] / series['Open'])"
   ]
  },
  {
   "cell_type": "code",
   "execution_count": 5,
   "metadata": {
    "id": "Wi4436nCYXHr"
   },
   "outputs": [],
   "source": [
    "def fracdiff_weights(d, size):\n",
    "    we = [1.0]\n",
    "    for k in range(1, size):\n",
    "        we.append(-we[-1] * ((d - k + 1)) / k)\n",
    "    return np.array(we[::-1])"
   ]
  },
  {
   "cell_type": "code",
   "execution_count": 6,
   "metadata": {
    "colab": {
     "base_uri": "https://localhost:8080/"
    },
    "id": "OwC8TZu-4m_I",
    "outputId": "b2acc10c-b623-4ac9-c8e6-9468adf77487"
   },
   "outputs": [
    {
     "name": "stderr",
     "output_type": "stream",
     "text": [
      "[*********************100%%**********************]  1 of 1 completed\n",
      "[*********************100%%**********************]  1 of 1 completed\n",
      "[*********************100%%**********************]  1 of 1 completed\n",
      "[*********************100%%**********************]  1 of 1 completed\n",
      "[*********************100%%**********************]  1 of 1 completed\n",
      "[*********************100%%**********************]  1 of 1 completed\n",
      "[*********************100%%**********************]  1 of 1 completed\n",
      "[*********************100%%**********************]  1 of 1 completed\n"
     ]
    }
   ],
   "source": [
    "data = {}\n",
    "for crypto in cryptos:\n",
    "    # Baixar dados e calcular retorno logarítmico\n",
    "    df = yf.download(crypto, start=start_date, end=pd.to_datetime(\"today\").strftime(\"%Y-%m-%d\"), interval='1d')\n",
    "    df['Return'] = log_return(df)\n",
    "\n",
    "    # Construir DataFrame final, pegando o retorno do dia anterior e o atual\n",
    "    df_final = pd.DataFrame({\n",
    "        'Crypto_Price': np.log(df['Open'].squeeze()),\n",
    "        'Crypto_Return_Today': df['Return']\n",
    "    }).dropna()\n",
    "\n",
    "\n",
    "    data[crypto] = df_final"
   ]
  },
  {
   "cell_type": "code",
   "execution_count": 7,
   "metadata": {
    "colab": {
     "base_uri": "https://localhost:8080/",
     "height": 455
    },
    "id": "JorWvlOweC-X",
    "outputId": "849d7d72-de4e-44d4-a72c-af52b86bd76d"
   },
   "outputs": [
    {
     "data": {
      "text/html": [
       "<div>\n",
       "<style scoped>\n",
       "    .dataframe tbody tr th:only-of-type {\n",
       "        vertical-align: middle;\n",
       "    }\n",
       "\n",
       "    .dataframe tbody tr th {\n",
       "        vertical-align: top;\n",
       "    }\n",
       "\n",
       "    .dataframe thead th {\n",
       "        text-align: right;\n",
       "    }\n",
       "</style>\n",
       "<table border=\"1\" class=\"dataframe\">\n",
       "  <thead>\n",
       "    <tr style=\"text-align: right;\">\n",
       "      <th></th>\n",
       "      <th>Crypto_Price</th>\n",
       "      <th>Crypto_Return_Today</th>\n",
       "    </tr>\n",
       "    <tr>\n",
       "      <th>Date</th>\n",
       "      <th></th>\n",
       "      <th></th>\n",
       "    </tr>\n",
       "  </thead>\n",
       "  <tbody>\n",
       "    <tr>\n",
       "      <th>2017-11-09</th>\n",
       "      <td>-6.073109</td>\n",
       "      <td>0.017212</td>\n",
       "    </tr>\n",
       "    <tr>\n",
       "      <th>2017-11-10</th>\n",
       "      <td>-6.059743</td>\n",
       "      <td>-0.148386</td>\n",
       "    </tr>\n",
       "    <tr>\n",
       "      <th>2017-11-11</th>\n",
       "      <td>-6.201692</td>\n",
       "      <td>-0.011417</td>\n",
       "    </tr>\n",
       "    <tr>\n",
       "      <th>2017-11-12</th>\n",
       "      <td>-6.211613</td>\n",
       "      <td>-0.117845</td>\n",
       "    </tr>\n",
       "    <tr>\n",
       "      <th>2017-11-13</th>\n",
       "      <td>-6.322750</td>\n",
       "      <td>0.162630</td>\n",
       "    </tr>\n",
       "    <tr>\n",
       "      <th>...</th>\n",
       "      <td>...</td>\n",
       "      <td>...</td>\n",
       "    </tr>\n",
       "    <tr>\n",
       "      <th>2024-11-12</th>\n",
       "      <td>-1.784732</td>\n",
       "      <td>0.113839</td>\n",
       "    </tr>\n",
       "    <tr>\n",
       "      <th>2024-11-13</th>\n",
       "      <td>-1.670925</td>\n",
       "      <td>-0.060059</td>\n",
       "    </tr>\n",
       "    <tr>\n",
       "      <th>2024-11-14</th>\n",
       "      <td>-1.730984</td>\n",
       "      <td>-0.003898</td>\n",
       "    </tr>\n",
       "    <tr>\n",
       "      <th>2024-11-15</th>\n",
       "      <td>-1.734882</td>\n",
       "      <td>0.070814</td>\n",
       "    </tr>\n",
       "    <tr>\n",
       "      <th>2024-11-16</th>\n",
       "      <td>-1.655812</td>\n",
       "      <td>0.046689</td>\n",
       "    </tr>\n",
       "  </tbody>\n",
       "</table>\n",
       "<p>2565 rows × 2 columns</p>\n",
       "</div>"
      ],
      "text/plain": [
       "            Crypto_Price  Crypto_Return_Today\n",
       "Date                                         \n",
       "2017-11-09     -6.073109             0.017212\n",
       "2017-11-10     -6.059743            -0.148386\n",
       "2017-11-11     -6.201692            -0.011417\n",
       "2017-11-12     -6.211613            -0.117845\n",
       "2017-11-13     -6.322750             0.162630\n",
       "...                  ...                  ...\n",
       "2024-11-12     -1.784732             0.113839\n",
       "2024-11-13     -1.670925            -0.060059\n",
       "2024-11-14     -1.730984            -0.003898\n",
       "2024-11-15     -1.734882             0.070814\n",
       "2024-11-16     -1.655812             0.046689\n",
       "\n",
       "[2565 rows x 2 columns]"
      ]
     },
     "execution_count": 7,
     "metadata": {},
     "output_type": "execute_result"
    }
   ],
   "source": [
    "data[crypto]"
   ]
  },
  {
   "cell_type": "code",
   "execution_count": 8,
   "metadata": {
    "colab": {
     "base_uri": "https://localhost:8080/"
    },
    "id": "4xmM6IjZ4m_K",
    "outputId": "a8c16ad5-8c73-465c-a406-c6f660589d59"
   },
   "outputs": [
    {
     "name": "stderr",
     "output_type": "stream",
     "text": [
      "[*********************100%%**********************]  1 of 1 completed\n"
     ]
    }
   ],
   "source": [
    "aux = yf.download('BTC-USD', start=start_date, end=pd.to_datetime(\"today\").strftime(\"%Y-%m-%d\"), interval='1d')\n",
    "aux['Return'] = np.log(aux['Open'])\n",
    "aux = pd.DataFrame({'Aux_Price': aux['Return']})\n",
    "\n",
    "for crypto in cryptos:\n",
    "    if crypto != 'BTC-USD':\n",
    "        data[crypto] = pd.merge(aux, data[crypto],  left_index=True, right_index=True, how='outer').dropna()"
   ]
  },
  {
   "cell_type": "code",
   "execution_count": 9,
   "metadata": {
    "colab": {
     "base_uri": "https://localhost:8080/",
     "height": 87
    },
    "id": "0Bv6RCIqYqNz",
    "outputId": "deb80011-364d-415f-97de-095ca4721314"
   },
   "outputs": [
    {
     "name": "stderr",
     "output_type": "stream",
     "text": [
      "[*********************100%%**********************]  1 of 1 completed\n"
     ]
    }
   ],
   "source": [
    "aux = yf.download('ETH-USD', start=start_date, end=pd.to_datetime(\"today\").strftime(\"%Y-%m-%d\"), interval='1d')\n",
    "aux['Return'] = np.log(aux['Open'])\n",
    "aux = pd.DataFrame({'Aux_Price': aux['Return']})\n",
    "\n",
    "data['BTC-USD'] = pd.merge(aux, data['BTC-USD'],  left_index=True, right_index=True, how='outer').dropna()\n"
   ]
  },
  {
   "cell_type": "code",
   "execution_count": 10,
   "metadata": {
    "id": "_G4bMzahY3TT"
   },
   "outputs": [],
   "source": [
    "from statsmodels.tsa.stattools import adfuller\n",
    "\n",
    "# Ajuste para o tamanho desejado do histórico\n",
    "def fracdiff(series, weights):\n",
    "    diff_series = []\n",
    "    for i in range(window_size, len(series)):\n",
    "        window = series[i - window_size:i]\n",
    "        diff_value = np.dot(weights, window)\n",
    "        diff_series.append(diff_value)\n",
    "    return pd.Series(diff_series, index=series.index[window_size:])\n",
    "\n",
    "def find_optimal_d(series, window_size=10, threshold=0.001, d_step=0.01, max_d=1.0):\n",
    "    d = 0.3  # Inicie com d = 0.2\n",
    "    while d <= max_d:\n",
    "        # Calcula os pesos e a série diferenciada fracionariamente\n",
    "        weights = fracdiff_weights(d, window_size)\n",
    "        diff_series = fracdiff(series, weights).dropna()\n",
    "\n",
    "        # Executa o teste ADF\n",
    "        adf_result = adfuller(diff_series)\n",
    "        p_value = adf_result[1]\n",
    "\n",
    "        # Verifica se o p_value é menor que o threshold\n",
    "        if p_value < threshold:\n",
    "            return d, p_value  # Retorna o d encontrado e o p_value correspondente\n",
    "\n",
    "        # Aumenta d pelo passo definido\n",
    "        d += d_step\n",
    "\n",
    "    # Caso não encontre um d adequado\n",
    "    return 1, None"
   ]
  },
  {
   "cell_type": "code",
   "execution_count": 11,
   "metadata": {
    "colab": {
     "base_uri": "https://localhost:8080/",
     "height": 455
    },
    "id": "gaPqWGLafspS",
    "outputId": "00b05c59-5ece-417e-afa4-ea8dd4baf11d"
   },
   "outputs": [
    {
     "data": {
      "text/html": [
       "<div>\n",
       "<style scoped>\n",
       "    .dataframe tbody tr th:only-of-type {\n",
       "        vertical-align: middle;\n",
       "    }\n",
       "\n",
       "    .dataframe tbody tr th {\n",
       "        vertical-align: top;\n",
       "    }\n",
       "\n",
       "    .dataframe thead th {\n",
       "        text-align: right;\n",
       "    }\n",
       "</style>\n",
       "<table border=\"1\" class=\"dataframe\">\n",
       "  <thead>\n",
       "    <tr style=\"text-align: right;\">\n",
       "      <th></th>\n",
       "      <th>Aux_Price</th>\n",
       "      <th>Crypto_Price</th>\n",
       "      <th>Crypto_Return_Today</th>\n",
       "    </tr>\n",
       "    <tr>\n",
       "      <th>Date</th>\n",
       "      <th></th>\n",
       "      <th></th>\n",
       "      <th></th>\n",
       "    </tr>\n",
       "  </thead>\n",
       "  <tbody>\n",
       "    <tr>\n",
       "      <th>2017-11-09</th>\n",
       "      <td>8.915544</td>\n",
       "      <td>-6.073109</td>\n",
       "      <td>0.017212</td>\n",
       "    </tr>\n",
       "    <tr>\n",
       "      <th>2017-11-10</th>\n",
       "      <td>8.878181</td>\n",
       "      <td>-6.059743</td>\n",
       "      <td>-0.148386</td>\n",
       "    </tr>\n",
       "    <tr>\n",
       "      <th>2017-11-11</th>\n",
       "      <td>8.797641</td>\n",
       "      <td>-6.201692</td>\n",
       "      <td>-0.011417</td>\n",
       "    </tr>\n",
       "    <tr>\n",
       "      <th>2017-11-12</th>\n",
       "      <td>8.747582</td>\n",
       "      <td>-6.211613</td>\n",
       "      <td>-0.117845</td>\n",
       "    </tr>\n",
       "    <tr>\n",
       "      <th>2017-11-13</th>\n",
       "      <td>8.689170</td>\n",
       "      <td>-6.322750</td>\n",
       "      <td>0.162630</td>\n",
       "    </tr>\n",
       "    <tr>\n",
       "      <th>...</th>\n",
       "      <td>...</td>\n",
       "      <td>...</td>\n",
       "      <td>...</td>\n",
       "    </tr>\n",
       "    <tr>\n",
       "      <th>2024-11-12</th>\n",
       "      <td>11.393078</td>\n",
       "      <td>-1.784732</td>\n",
       "      <td>0.113839</td>\n",
       "    </tr>\n",
       "    <tr>\n",
       "      <th>2024-11-13</th>\n",
       "      <td>11.384296</td>\n",
       "      <td>-1.670925</td>\n",
       "      <td>-0.060059</td>\n",
       "    </tr>\n",
       "    <tr>\n",
       "      <th>2024-11-14</th>\n",
       "      <td>11.413932</td>\n",
       "      <td>-1.730984</td>\n",
       "      <td>-0.003898</td>\n",
       "    </tr>\n",
       "    <tr>\n",
       "      <th>2024-11-15</th>\n",
       "      <td>11.376925</td>\n",
       "      <td>-1.734882</td>\n",
       "      <td>0.070814</td>\n",
       "    </tr>\n",
       "    <tr>\n",
       "      <th>2024-11-16</th>\n",
       "      <td>11.419322</td>\n",
       "      <td>-1.655812</td>\n",
       "      <td>0.046689</td>\n",
       "    </tr>\n",
       "  </tbody>\n",
       "</table>\n",
       "<p>2565 rows × 3 columns</p>\n",
       "</div>"
      ],
      "text/plain": [
       "            Aux_Price  Crypto_Price  Crypto_Return_Today\n",
       "Date                                                    \n",
       "2017-11-09   8.915544     -6.073109             0.017212\n",
       "2017-11-10   8.878181     -6.059743            -0.148386\n",
       "2017-11-11   8.797641     -6.201692            -0.011417\n",
       "2017-11-12   8.747582     -6.211613            -0.117845\n",
       "2017-11-13   8.689170     -6.322750             0.162630\n",
       "...               ...           ...                  ...\n",
       "2024-11-12  11.393078     -1.784732             0.113839\n",
       "2024-11-13  11.384296     -1.670925            -0.060059\n",
       "2024-11-14  11.413932     -1.730984            -0.003898\n",
       "2024-11-15  11.376925     -1.734882             0.070814\n",
       "2024-11-16  11.419322     -1.655812             0.046689\n",
       "\n",
       "[2565 rows x 3 columns]"
      ]
     },
     "execution_count": 11,
     "metadata": {},
     "output_type": "execute_result"
    }
   ],
   "source": [
    "data[crypto]"
   ]
  },
  {
   "cell_type": "code",
   "execution_count": 12,
   "metadata": {
    "colab": {
     "base_uri": "https://localhost:8080/"
    },
    "collapsed": true,
    "id": "sKhDAT8P4m_M",
    "outputId": "fbd0a844-3bac-43d2-81b4-afa1b97d2b59"
   },
   "outputs": [
    {
     "name": "stderr",
     "output_type": "stream",
     "text": [
      "[*********************100%%**********************]  1 of 1 completed\n",
      "[*********************100%%**********************]  1 of 1 completed\n",
      "[*********************100%%**********************]  1 of 1 completed\n",
      "[*********************100%%**********************]  1 of 1 completed\n",
      "[*********************100%%**********************]  1 of 1 completed\n",
      "[*********************100%%**********************]  1 of 1 completed\n",
      "[*********************100%%**********************]  1 of 1 completed\n",
      "[*********************100%%**********************]  1 of 1 completed\n"
     ]
    }
   ],
   "source": [
    "data_complete = {}\n",
    "for crypto in cryptos:\n",
    "    # Baixar dados e calcular retorno logarítmico\n",
    "    df = yf.download(crypto, start=start_date, end=pd.to_datetime(\"today\").strftime(\"%Y-%m-%d\"), interval='1d')\n",
    "    df['Return'] = log_return(df)\n",
    "\n",
    "    # Construir DataFrame final, pegando o retorno do dia anterior e o atual\n",
    "    df_final = pd.DataFrame({\n",
    "        'Crypto_Return_Today': df['Return']\n",
    "    }).dropna()\n",
    "\n",
    "    # Adicionar a coluna 'exp_value' com valores NaN\n",
    "    df_final['exp_value'] = np.nan\n",
    "\n",
    "    # Armazenar no dicionário\n",
    "    data_complete[crypto] = df_final"
   ]
  },
  {
   "cell_type": "code",
   "execution_count": 13,
   "metadata": {
    "colab": {
     "base_uri": "https://localhost:8080/",
     "height": 472
    },
    "id": "kf9c4Ib34m_M",
    "outputId": "09e5b8bc-72b4-43c5-8478-7147c00c5c60"
   },
   "outputs": [
    {
     "name": "stdout",
     "output_type": "stream",
     "text": [
      "2565\n"
     ]
    },
    {
     "data": {
      "text/html": [
       "<div>\n",
       "<style scoped>\n",
       "    .dataframe tbody tr th:only-of-type {\n",
       "        vertical-align: middle;\n",
       "    }\n",
       "\n",
       "    .dataframe tbody tr th {\n",
       "        vertical-align: top;\n",
       "    }\n",
       "\n",
       "    .dataframe thead th {\n",
       "        text-align: right;\n",
       "    }\n",
       "</style>\n",
       "<table border=\"1\" class=\"dataframe\">\n",
       "  <thead>\n",
       "    <tr style=\"text-align: right;\">\n",
       "      <th></th>\n",
       "      <th>Crypto_Return_Today</th>\n",
       "      <th>exp_value</th>\n",
       "    </tr>\n",
       "    <tr>\n",
       "      <th>Date</th>\n",
       "      <th></th>\n",
       "      <th></th>\n",
       "    </tr>\n",
       "  </thead>\n",
       "  <tbody>\n",
       "    <tr>\n",
       "      <th>2017-11-09</th>\n",
       "      <td>0.038888</td>\n",
       "      <td>NaN</td>\n",
       "    </tr>\n",
       "    <tr>\n",
       "      <th>2017-11-10</th>\n",
       "      <td>-0.069126</td>\n",
       "      <td>NaN</td>\n",
       "    </tr>\n",
       "    <tr>\n",
       "      <th>2017-11-11</th>\n",
       "      <td>0.052501</td>\n",
       "      <td>NaN</td>\n",
       "    </tr>\n",
       "    <tr>\n",
       "      <th>2017-11-12</th>\n",
       "      <td>-0.021787</td>\n",
       "      <td>NaN</td>\n",
       "    </tr>\n",
       "    <tr>\n",
       "      <th>2017-11-13</th>\n",
       "      <td>0.031076</td>\n",
       "      <td>NaN</td>\n",
       "    </tr>\n",
       "    <tr>\n",
       "      <th>...</th>\n",
       "      <td>...</td>\n",
       "      <td>...</td>\n",
       "    </tr>\n",
       "    <tr>\n",
       "      <th>2024-11-12</th>\n",
       "      <td>-0.038938</td>\n",
       "      <td>NaN</td>\n",
       "    </tr>\n",
       "    <tr>\n",
       "      <th>2024-11-13</th>\n",
       "      <td>-0.016140</td>\n",
       "      <td>NaN</td>\n",
       "    </tr>\n",
       "    <tr>\n",
       "      <th>2024-11-14</th>\n",
       "      <td>-0.042739</td>\n",
       "      <td>NaN</td>\n",
       "    </tr>\n",
       "    <tr>\n",
       "      <th>2024-11-15</th>\n",
       "      <td>0.014122</td>\n",
       "      <td>NaN</td>\n",
       "    </tr>\n",
       "    <tr>\n",
       "      <th>2024-11-16</th>\n",
       "      <td>0.013991</td>\n",
       "      <td>NaN</td>\n",
       "    </tr>\n",
       "  </tbody>\n",
       "</table>\n",
       "<p>2565 rows × 2 columns</p>\n",
       "</div>"
      ],
      "text/plain": [
       "            Crypto_Return_Today  exp_value\n",
       "Date                                      \n",
       "2017-11-09             0.038888        NaN\n",
       "2017-11-10            -0.069126        NaN\n",
       "2017-11-11             0.052501        NaN\n",
       "2017-11-12            -0.021787        NaN\n",
       "2017-11-13             0.031076        NaN\n",
       "...                         ...        ...\n",
       "2024-11-12            -0.038938        NaN\n",
       "2024-11-13            -0.016140        NaN\n",
       "2024-11-14            -0.042739        NaN\n",
       "2024-11-15             0.014122        NaN\n",
       "2024-11-16             0.013991        NaN\n",
       "\n",
       "[2565 rows x 2 columns]"
      ]
     },
     "execution_count": 13,
     "metadata": {},
     "output_type": "execute_result"
    }
   ],
   "source": [
    "print(len(data_complete['ETH-USD']))\n",
    "data_complete['ETH-USD']"
   ]
  },
  {
   "cell_type": "code",
   "execution_count": 14,
   "metadata": {
    "id": "gTA-G3hd4m_N"
   },
   "outputs": [],
   "source": [
    "# Criando a função First Transformation, que recebe uma tabela contendo os retornos de todos os dias dos ultimos X anos e retorno um vetor, que cada elemento\n",
    "# é uma tabela do retorno de W+1 dias.\n",
    "def FirstTransform(df, W):\n",
    "    vet = []\n",
    "    Linhas, Colunas = df.shape\n",
    "    for i in range(Linhas, W+1, -1):\n",
    "        vet.append(df.iloc[(i-W-1):i])\n",
    "    return vet"
   ]
  },
  {
   "cell_type": "code",
   "execution_count": 15,
   "metadata": {
    "id": "yM6Ooo734m_O"
   },
   "outputs": [],
   "source": [
    "# Aqui eu perco W+1 dias do meu dataset\n",
    "for crypto in cryptos:\n",
    "    data[crypto] = FirstTransform(data[crypto], W)"
   ]
  },
  {
   "cell_type": "code",
   "execution_count": 16,
   "metadata": {
    "colab": {
     "base_uri": "https://localhost:8080/",
     "height": 472
    },
    "id": "nu2vkqx84m_O",
    "outputId": "4199f17f-796c-496b-a734-1b7f9223fc50"
   },
   "outputs": [
    {
     "name": "stdout",
     "output_type": "stream",
     "text": [
      "2064\n"
     ]
    },
    {
     "data": {
      "text/html": [
       "<div>\n",
       "<style scoped>\n",
       "    .dataframe tbody tr th:only-of-type {\n",
       "        vertical-align: middle;\n",
       "    }\n",
       "\n",
       "    .dataframe tbody tr th {\n",
       "        vertical-align: top;\n",
       "    }\n",
       "\n",
       "    .dataframe thead th {\n",
       "        text-align: right;\n",
       "    }\n",
       "</style>\n",
       "<table border=\"1\" class=\"dataframe\">\n",
       "  <thead>\n",
       "    <tr style=\"text-align: right;\">\n",
       "      <th></th>\n",
       "      <th>Aux_Price</th>\n",
       "      <th>Crypto_Price</th>\n",
       "      <th>Crypto_Return_Today</th>\n",
       "    </tr>\n",
       "    <tr>\n",
       "      <th>Date</th>\n",
       "      <th></th>\n",
       "      <th></th>\n",
       "      <th></th>\n",
       "    </tr>\n",
       "  </thead>\n",
       "  <tbody>\n",
       "    <tr>\n",
       "      <th>2023-07-05</th>\n",
       "      <td>10.334579</td>\n",
       "      <td>7.568791</td>\n",
       "      <td>-0.013624</td>\n",
       "    </tr>\n",
       "    <tr>\n",
       "      <th>2023-07-06</th>\n",
       "      <td>10.325716</td>\n",
       "      <td>7.555077</td>\n",
       "      <td>-0.032873</td>\n",
       "    </tr>\n",
       "    <tr>\n",
       "      <th>2023-07-07</th>\n",
       "      <td>10.305881</td>\n",
       "      <td>7.521595</td>\n",
       "      <td>0.012420</td>\n",
       "    </tr>\n",
       "    <tr>\n",
       "      <th>2023-07-08</th>\n",
       "      <td>10.320450</td>\n",
       "      <td>7.534229</td>\n",
       "      <td>-0.002924</td>\n",
       "    </tr>\n",
       "    <tr>\n",
       "      <th>2023-07-09</th>\n",
       "      <td>10.318626</td>\n",
       "      <td>7.531335</td>\n",
       "      <td>-0.001387</td>\n",
       "    </tr>\n",
       "    <tr>\n",
       "      <th>...</th>\n",
       "      <td>...</td>\n",
       "      <td>...</td>\n",
       "      <td>...</td>\n",
       "    </tr>\n",
       "    <tr>\n",
       "      <th>2024-11-12</th>\n",
       "      <td>11.393078</td>\n",
       "      <td>8.124196</td>\n",
       "      <td>-0.038938</td>\n",
       "    </tr>\n",
       "    <tr>\n",
       "      <th>2024-11-13</th>\n",
       "      <td>11.384296</td>\n",
       "      <td>8.084730</td>\n",
       "      <td>-0.016140</td>\n",
       "    </tr>\n",
       "    <tr>\n",
       "      <th>2024-11-14</th>\n",
       "      <td>11.413932</td>\n",
       "      <td>8.068566</td>\n",
       "      <td>-0.042739</td>\n",
       "    </tr>\n",
       "    <tr>\n",
       "      <th>2024-11-15</th>\n",
       "      <td>11.376925</td>\n",
       "      <td>8.026015</td>\n",
       "      <td>0.014122</td>\n",
       "    </tr>\n",
       "    <tr>\n",
       "      <th>2024-11-16</th>\n",
       "      <td>11.419322</td>\n",
       "      <td>8.035842</td>\n",
       "      <td>0.013991</td>\n",
       "    </tr>\n",
       "  </tbody>\n",
       "</table>\n",
       "<p>501 rows × 3 columns</p>\n",
       "</div>"
      ],
      "text/plain": [
       "            Aux_Price  Crypto_Price  Crypto_Return_Today\n",
       "Date                                                    \n",
       "2023-07-05  10.334579      7.568791            -0.013624\n",
       "2023-07-06  10.325716      7.555077            -0.032873\n",
       "2023-07-07  10.305881      7.521595             0.012420\n",
       "2023-07-08  10.320450      7.534229            -0.002924\n",
       "2023-07-09  10.318626      7.531335            -0.001387\n",
       "...               ...           ...                  ...\n",
       "2024-11-12  11.393078      8.124196            -0.038938\n",
       "2024-11-13  11.384296      8.084730            -0.016140\n",
       "2024-11-14  11.413932      8.068566            -0.042739\n",
       "2024-11-15  11.376925      8.026015             0.014122\n",
       "2024-11-16  11.419322      8.035842             0.013991\n",
       "\n",
       "[501 rows x 3 columns]"
      ]
     },
     "execution_count": 16,
     "metadata": {},
     "output_type": "execute_result"
    }
   ],
   "source": [
    "print(len(data['ETH-USD']))\n",
    "data['ETH-USD'][0]"
   ]
  },
  {
   "cell_type": "markdown",
   "metadata": {
    "id": "emUzQ7oT4m_O"
   },
   "source": [
    "## 2.2 Separar em treinamento e teste - Permitir Bagging"
   ]
  },
  {
   "cell_type": "code",
   "execution_count": 17,
   "metadata": {},
   "outputs": [],
   "source": [
    "optimal_d = {}\n",
    "p_value = {}\n",
    "for crypto in cryptos:\n",
    "    optimal_d[crypto] = {}\n",
    "    p_value[crypto] = {}"
   ]
  },
  {
   "cell_type": "code",
   "execution_count": null,
   "metadata": {
    "colab": {
     "base_uri": "https://localhost:8080/"
    },
    "collapsed": true,
    "id": "3gC4jGk9ZL0_",
    "outputId": "9dcc95a2-b81c-4a2a-ef06-a62601d5207d"
   },
   "outputs": [
    {
     "name": "stdout",
     "output_type": "stream",
     "text": [
      "BTC-USD 0.8300000000000004 2.132367765087565e-08\n",
      "BTC-USD 0.8300000000000004 9.079066683812223e-08\n",
      "BTC-USD 0.8300000000000004 6.930285315584393e-08\n",
      "BTC-USD 0.8300000000000004 1.3754308862910723e-07\n",
      "BTC-USD 0.8200000000000004 1.1235595986430844e-05\n",
      "BTC-USD 0.8300000000000004 2.3832440838113625e-06\n",
      "BTC-USD 0.8300000000000004 3.168676492248333e-06\n",
      "BTC-USD 0.8300000000000004 2.3150964292992247e-06\n",
      "BTC-USD 0.8200000000000004 6.71284164646566e-06\n",
      "BTC-USD 0.8200000000000004 3.5729018996559177e-06\n",
      "BTC-USD 0.8200000000000004 2.9954723648629335e-06\n",
      "BTC-USD 0.8200000000000004 3.5942352289723063e-06\n",
      "BTC-USD 0.8200000000000004 4.0398645865322706e-06\n",
      "BTC-USD 0.8200000000000004 3.7393153829149244e-06\n",
      "BTC-USD 0.8200000000000004 5.062741036255253e-06\n",
      "BTC-USD 0.8200000000000004 8.692299120062896e-06\n",
      "BTC-USD 0.8300000000000004 3.951623834417217e-06\n",
      "BTC-USD 0.8200000000000004 6.500713447274917e-06\n",
      "BTC-USD 0.8100000000000004 1.4317102626932216e-05\n",
      "BTC-USD 0.8100000000000004 1.3374008205398237e-05\n",
      "BTC-USD 0.8100000000000004 1.3382061146419762e-05\n",
      "BTC-USD 0.8200000000000004 5.9025872553267e-06\n",
      "BTC-USD 0.8100000000000004 1.297995604372495e-05\n",
      "BTC-USD 0.8100000000000004 1.3837968004344704e-05\n",
      "BTC-USD 0.8100000000000004 1.341547515715926e-05\n",
      "BTC-USD 0.8100000000000004 1.995692436874209e-05\n",
      "BTC-USD 0.8100000000000004 1.771659287560466e-05\n",
      "BTC-USD 0.8100000000000004 1.9830324785724866e-05\n",
      "BTC-USD 0.8000000000000004 4.4419298335803255e-05\n",
      "BTC-USD 0.8000000000000004 4.1611748390584386e-05\n",
      "BTC-USD 0.8000000000000004 2.83524936422636e-05\n",
      "BTC-USD 0.8000000000000004 2.1547947973214815e-05\n",
      "BTC-USD 0.8100000000000004 7.135302023183286e-06\n",
      "BTC-USD 0.8100000000000004 6.97724190933162e-06\n",
      "BTC-USD 0.8300000000000004 5.783225982644739e-07\n",
      "BTC-USD 0.8300000000000004 1.5497418342329083e-09\n",
      "BTC-USD 0.8300000000000004 1.5346070298660556e-09\n",
      "BTC-USD 0.8300000000000004 7.685656201723941e-07\n",
      "BTC-USD 0.8400000000000004 8.029156087631601e-10\n",
      "BTC-USD 0.8400000000000004 8.422821629916459e-10\n",
      "BTC-USD 0.8400000000000004 8.476586814181839e-10\n",
      "BTC-USD 0.8200000000000004 1.6244070024191177e-08\n",
      "BTC-USD 0.8100000000000004 2.6861456152706482e-08\n",
      "BTC-USD 0.8100000000000004 6.692600106454881e-08\n",
      "BTC-USD 0.8100000000000004 6.822788809725848e-08\n",
      "BTC-USD 0.8200000000000004 2.7612845597765607e-08\n",
      "BTC-USD 0.8200000000000004 3.280989556304646e-08\n",
      "BTC-USD 0.8200000000000004 4.2532204760700383e-08\n",
      "BTC-USD 0.8300000000000004 1.4483228014393503e-08\n",
      "BTC-USD 0.8300000000000004 1.3732087556552006e-08\n",
      "BTC-USD 0.8200000000000004 4.2104276559530026e-08\n",
      "BTC-USD 0.8200000000000004 3.5049221855506333e-08\n",
      "BTC-USD 0.8200000000000004 3.0237702084216635e-08\n",
      "BTC-USD 0.8200000000000004 3.054634364336925e-08\n",
      "BTC-USD 0.8200000000000004 3.331146179964871e-08\n",
      "BTC-USD 0.8300000000000004 1.473043011591246e-08\n",
      "BTC-USD 0.8200000000000004 4.3181466596649404e-08\n",
      "BTC-USD 0.8300000000000004 1.0385155711851865e-08\n",
      "BTC-USD 0.8300000000000004 9.657464156104345e-09\n",
      "BTC-USD 0.8400000000000004 1.8331705743934621e-09\n",
      "BTC-USD 0.8400000000000004 2.2441370665567458e-09\n",
      "BTC-USD 0.8400000000000004 3.6107584845571343e-09\n",
      "BTC-USD 0.8400000000000004 4.341787481374499e-09\n",
      "BTC-USD 0.8400000000000004 2.6720337418488252e-09\n",
      "BTC-USD 0.8400000000000004 2.141554982698992e-09\n",
      "BTC-USD 0.8400000000000004 1.9961236597826725e-09\n",
      "BTC-USD 0.8500000000000004 4.947686017314955e-10\n",
      "BTC-USD 0.8500000000000004 5.961089855978644e-10\n",
      "BTC-USD 0.8500000000000004 1.0745711250604846e-09\n",
      "BTC-USD 0.8500000000000004 1.1128818780304433e-09\n",
      "BTC-USD 0.8600000000000004 1.0082808308611812e-12\n",
      "BTC-USD 0.8600000000000004 1.1226867485260046e-12\n",
      "BTC-USD 0.8600000000000004 1.1876611020417946e-12\n",
      "BTC-USD 0.8700000000000004 5.5045853689154736e-17\n",
      "BTC-USD 0.8600000000000004 1.0768151800248077e-12\n",
      "BTC-USD 0.8700000000000004 3.755588719268236e-17\n",
      "BTC-USD 0.8700000000000004 5.802886416422805e-17\n",
      "BTC-USD 0.8700000000000004 6.386745891335123e-17\n",
      "BTC-USD 0.8700000000000004 8.904680862678853e-17\n",
      "BTC-USD 0.8700000000000004 8.023325549495779e-17\n",
      "BTC-USD 0.8700000000000004 4.1259509616465454e-13\n",
      "BTC-USD 0.8700000000000004 5.941891922003916e-13\n",
      "BTC-USD 0.8700000000000004 7.308750166710695e-13\n",
      "BTC-USD 0.8700000000000004 5.06953719163762e-13\n",
      "BTC-USD 0.8700000000000004 2.2925254450017043e-13\n",
      "BTC-USD 0.8700000000000004 2.1971824554272207e-13\n",
      "BTC-USD 0.8700000000000004 9.911643495555015e-14\n",
      "BTC-USD 0.8700000000000004 2.0804199480408228e-13\n",
      "BTC-USD 0.8600000000000004 3.0597309578352017e-10\n",
      "BTC-USD 0.8600000000000004 4.69818241969115e-10\n",
      "BTC-USD 0.8600000000000004 6.967439751051753e-10\n",
      "BTC-USD 0.8800000000000004 2.5932425914792797e-17\n",
      "BTC-USD 0.8800000000000004 2.7664244570378542e-17\n",
      "BTC-USD 0.8800000000000004 2.7439285294197507e-17\n",
      "BTC-USD 0.8800000000000004 2.726652625865973e-17\n",
      "BTC-USD 0.8800000000000004 2.0560343923849137e-17\n",
      "BTC-USD 0.8800000000000004 7.976727090321543e-17\n",
      "BTC-USD 0.8800000000000004 1.2464370375852075e-16\n",
      "BTC-USD 0.8800000000000004 1.883530254795016e-16\n",
      "BTC-USD 0.8700000000000004 1.2474616299055994e-15\n",
      "BTC-USD 0.8600000000000004 3.3393360140822074e-09\n",
      "BTC-USD 0.8600000000000004 8.652692820309297e-11\n",
      "BTC-USD 0.8600000000000004 2.720273483413086e-11\n",
      "BTC-USD 0.8700000000000004 4.1553218609136295e-12\n",
      "BTC-USD 0.8700000000000004 3.648529236893408e-12\n",
      "BTC-USD 0.8900000000000005 1.4194333365099286e-13\n",
      "BTC-USD 0.8900000000000005 1.4732393281202438e-13\n",
      "BTC-USD 0.8900000000000005 1.4100547137133345e-13\n",
      "BTC-USD 0.8900000000000005 1.486704501550205e-13\n",
      "BTC-USD 0.8900000000000005 2.1065918516835392e-13\n",
      "BTC-USD 0.8900000000000005 1.6048533001650603e-13\n",
      "BTC-USD 0.8900000000000005 1.4931077967444357e-13\n",
      "BTC-USD 0.8800000000000004 7.555675013171465e-13\n",
      "BTC-USD 0.8800000000000004 6.299416539163088e-13\n",
      "BTC-USD 0.8800000000000004 6.892890761464597e-13\n",
      "BTC-USD 0.8800000000000004 1.405865771733782e-12\n",
      "BTC-USD 0.8800000000000004 1.94315067982591e-12\n",
      "BTC-USD 0.8800000000000004 1.6183025766224016e-12\n",
      "BTC-USD 0.8800000000000004 1.2213524856974505e-12\n",
      "BTC-USD 0.8800000000000004 2.784853304545391e-13\n",
      "BTC-USD 0.8800000000000004 5.438741032436415e-13\n",
      "BTC-USD 0.8700000000000004 3.9229561020299536e-12\n",
      "BTC-USD 0.8700000000000004 2.4877335533752603e-11\n",
      "BTC-USD 0.8800000000000004 1.3766011316478903e-12\n",
      "BTC-USD 0.8700000000000004 1.0463652749522946e-12\n",
      "BTC-USD 0.8700000000000004 9.986248070091198e-13\n",
      "BTC-USD 0.8700000000000004 6.767058822977189e-13\n",
      "BTC-USD 0.8600000000000004 4.4564340626936105e-13\n",
      "BTC-USD 0.8600000000000004 1.6699555328222086e-13\n",
      "BTC-USD 0.8600000000000004 1.9200198219403938e-13\n",
      "BTC-USD 0.8600000000000004 1.0530303716178992e-12\n",
      "BTC-USD 0.8500000000000004 5.021060930713541e-12\n",
      "BTC-USD 0.8600000000000004 2.2575450629262886e-12\n",
      "BTC-USD 0.8500000000000004 8.780894330253529e-12\n",
      "BTC-USD 0.8600000000000004 1.97369483178377e-12\n",
      "BTC-USD 0.8600000000000004 2.7865541897699287e-12\n",
      "BTC-USD 0.8600000000000004 6.594749756184647e-12\n",
      "BTC-USD 0.8400000000000004 1.2611560525605385e-10\n",
      "BTC-USD 0.8400000000000004 8.768684117191886e-11\n",
      "BTC-USD 0.8500000000000004 2.552716763940038e-11\n",
      "BTC-USD 0.8400000000000004 1.0372305918839899e-10\n",
      "BTC-USD 0.8300000000000004 3.049724422056998e-10\n",
      "BTC-USD 0.8300000000000004 2.979306186094523e-10\n",
      "BTC-USD 0.8300000000000004 5.041203522841754e-10\n",
      "BTC-USD 0.8400000000000004 1.4257418843193238e-10\n",
      "BTC-USD 0.8500000000000004 3.9960719812497625e-11\n",
      "BTC-USD 0.8500000000000004 3.95839846676514e-11\n",
      "BTC-USD 0.8500000000000004 3.831730326182846e-11\n",
      "BTC-USD 0.8500000000000004 2.8217083937719517e-11\n",
      "BTC-USD 0.8500000000000004 2.350407967772391e-11\n",
      "BTC-USD 0.8500000000000004 2.8335911942434916e-11\n",
      "BTC-USD 0.8500000000000004 2.4099116057251018e-11\n",
      "BTC-USD 0.8400000000000004 8.400051899114713e-11\n",
      "BTC-USD 0.8500000000000004 1.68780930747512e-11\n",
      "BTC-USD 0.8500000000000004 1.5565321508719435e-11\n",
      "BTC-USD 0.8500000000000004 1.5080161227114577e-11\n",
      "BTC-USD 0.8500000000000004 1.0826067981955664e-11\n",
      "BTC-USD 0.8500000000000004 1.4351938207559678e-11\n",
      "BTC-USD 0.8500000000000004 3.2673816680958456e-11\n",
      "BTC-USD 0.8500000000000004 3.52367513311366e-11\n",
      "BTC-USD 0.8500000000000004 2.715022063550073e-11\n",
      "BTC-USD 0.8500000000000004 4.5196989293849466e-11\n",
      "BTC-USD 0.8500000000000004 6.189933185109736e-11\n",
      "BTC-USD 0.8600000000000004 1.4134924938888769e-11\n",
      "BTC-USD 0.8600000000000004 1.1037510317976529e-11\n",
      "BTC-USD 0.8500000000000004 4.152497230393619e-11\n",
      "BTC-USD 0.8600000000000004 8.465082556174403e-12\n",
      "BTC-USD 0.8500000000000004 3.2144449899152364e-11\n",
      "BTC-USD 0.8500000000000004 4.490648341910095e-11\n",
      "BTC-USD 0.8500000000000004 3.7389398069030466e-11\n",
      "BTC-USD 0.8500000000000004 4.222122365191348e-11\n",
      "BTC-USD 0.8500000000000004 5.0198249960720104e-11\n",
      "BTC-USD 0.8500000000000004 4.607922649745515e-11\n",
      "BTC-USD 0.8500000000000004 4.455026156537039e-11\n",
      "BTC-USD 0.8500000000000004 3.43924034200345e-11\n",
      "BTC-USD 0.8500000000000004 2.8471340550269247e-11\n",
      "BTC-USD 0.8500000000000004 3.7793041198202405e-11\n",
      "BTC-USD 0.8500000000000004 5.4939702464012886e-11\n",
      "BTC-USD 0.8500000000000004 7.741128247012056e-11\n",
      "BTC-USD 0.8500000000000004 2.149522044399691e-11\n",
      "BTC-USD 0.8500000000000004 3.003348394773927e-11\n",
      "BTC-USD 0.8500000000000004 2.5552439005258685e-11\n",
      "BTC-USD 0.8500000000000004 1.3023770923003652e-11\n",
      "BTC-USD 0.8500000000000004 9.298346244427777e-12\n",
      "BTC-USD 0.8500000000000004 5.429340287158509e-12\n",
      "BTC-USD 0.8400000000000004 3.12606350952844e-11\n",
      "BTC-USD 0.8400000000000004 2.3615073242298224e-11\n",
      "BTC-USD 0.8400000000000004 1.820850207681615e-11\n",
      "BTC-USD 0.8400000000000004 1.7007071638012695e-11\n",
      "BTC-USD 0.8500000000000004 5.109809488503161e-12\n",
      "BTC-USD 0.8400000000000004 1.581166899972755e-11\n",
      "BTC-USD 0.8400000000000004 1.9776679722433934e-11\n",
      "BTC-USD 0.8400000000000004 2.984842847915213e-11\n",
      "BTC-USD 0.8400000000000004 5.571366476957917e-11\n",
      "BTC-USD 0.8400000000000004 5.3216380625406526e-11\n",
      "BTC-USD 0.8300000000000004 1.880456146272824e-10\n",
      "BTC-USD 0.8300000000000004 1.711963141193179e-10\n",
      "BTC-USD 0.8200000000000004 6.326132578341512e-10\n",
      "BTC-USD 0.8300000000000004 2.003535880772088e-10\n",
      "BTC-USD 0.8200000000000004 9.210531958343983e-10\n",
      "BTC-USD 0.8100000000000004 2.746787088603373e-09\n",
      "BTC-USD 0.8100000000000004 3.4860558404632285e-09\n",
      "BTC-USD 0.8000000000000004 1.486311945203495e-08\n",
      "BTC-USD 0.8000000000000004 1.6047309754015975e-08\n",
      "BTC-USD 0.8000000000000004 1.6696705226937268e-08\n",
      "BTC-USD 0.8000000000000004 3.075107939250306e-08\n",
      "BTC-USD 0.8000000000000004 4.022103641507571e-08\n",
      "BTC-USD 0.8000000000000004 2.70085975090566e-08\n",
      "BTC-USD 0.8000000000000004 2.9706942807311037e-08\n",
      "BTC-USD 0.8000000000000004 1.2679548183913443e-08\n",
      "BTC-USD 0.7900000000000004 5.0357168221770616e-08\n"
     ]
    }
   ],
   "source": [
    "optimal_d = {}\n",
    "p_value = {}\n",
    "for crypto in cryptos:\n",
    "    optimal_d[crypto] = {}\n",
    "    p_value[crypto] = {}\n",
    "\n",
    "window_size = 10\n",
    "\n",
    "for crypto in cryptos:\n",
    "  for day in range(len(data[crypto])):\n",
    "    close_prices = data[crypto][day]['Crypto_Price']\n",
    "    optimal_d[crypto][day], p_value[crypto][day] = find_optimal_d(close_prices, window_size=10, threshold=0.001, d_step=0.01, max_d=1.0)\n",
    "    print(crypto, optimal_d[crypto][day], p_value[crypto][day])\n"
   ]
  },
  {
   "cell_type": "code",
   "execution_count": null,
   "metadata": {},
   "outputs": [],
   "source": [
    "import winsound\n",
    "\n",
    "# Frequência em Hertz e duração em milissegundos\n",
    "frequencia = 1000  # 1 kHz\n",
    "duracao = 500      # 500 ms\n",
    "\n",
    "# Emite o som\n",
    "winsound.Beep(frequencia, duracao)\n"
   ]
  },
  {
   "cell_type": "code",
   "execution_count": 87,
   "metadata": {},
   "outputs": [
    {
     "data": {
      "text/plain": [
       "'df = pd.DataFrame(optimal_d[\\'BTC-USD\\'].values(), columns=[\\'Value\\'])\\nfor crypto in cryptos:\\n  pd.DataFrame(optimal_d[crypto].values(), columns=[\\'Value\\']).to_csv(f\"{crypto}_optimal_d2.csv\")\\ndf'"
      ]
     },
     "execution_count": 87,
     "metadata": {},
     "output_type": "execute_result"
    }
   ],
   "source": [
    "'''df = pd.DataFrame(optimal_d['BTC-USD'].values(), columns=['Value'])\n",
    "for crypto in cryptos:\n",
    "  pd.DataFrame(optimal_d[crypto].values(), columns=['Value']).to_csv(f\"{crypto}_optimal_d2.csv\")\n",
    "df'''"
   ]
  },
  {
   "cell_type": "code",
   "execution_count": 88,
   "metadata": {
    "id": "s7Jn3j3rzOwO"
   },
   "outputs": [
    {
     "data": {
      "text/plain": [
       "'for crypto in cryptos:\\n  optimal_d[crypto] = pd.read_csv(f\"{crypto}_optimal_d2.csv\", index_col = 0)'"
      ]
     },
     "execution_count": 88,
     "metadata": {},
     "output_type": "execute_result"
    }
   ],
   "source": [
    "'''for crypto in cryptos:\n",
    "  optimal_d[crypto] = pd.read_csv(f\"{crypto}_optimal_d2.csv\", index_col = 0)'''"
   ]
  },
  {
   "cell_type": "code",
   "execution_count": 89,
   "metadata": {
    "id": "Zb4yQ9JM3M2H"
   },
   "outputs": [
    {
     "data": {
      "text/plain": [
       "'for crypto in cryptos:\\n  optimal_d[crypto] = optimal_d[crypto].to_numpy().flatten()'"
      ]
     },
     "execution_count": 89,
     "metadata": {},
     "output_type": "execute_result"
    }
   ],
   "source": [
    "'''for crypto in cryptos:\n",
    "  optimal_d[crypto] = optimal_d[crypto].to_numpy().flatten()'''"
   ]
  },
  {
   "cell_type": "code",
   "execution_count": 90,
   "metadata": {
    "colab": {
     "base_uri": "https://localhost:8080/",
     "height": 455
    },
    "id": "brCZh3ov3zDv",
    "outputId": "e2c159d4-1bcb-43f1-8767-24043fa445d5"
   },
   "outputs": [
    {
     "data": {
      "text/html": [
       "<div>\n",
       "<style scoped>\n",
       "    .dataframe tbody tr th:only-of-type {\n",
       "        vertical-align: middle;\n",
       "    }\n",
       "\n",
       "    .dataframe tbody tr th {\n",
       "        vertical-align: top;\n",
       "    }\n",
       "\n",
       "    .dataframe thead th {\n",
       "        text-align: right;\n",
       "    }\n",
       "</style>\n",
       "<table border=\"1\" class=\"dataframe\">\n",
       "  <thead>\n",
       "    <tr style=\"text-align: right;\">\n",
       "      <th></th>\n",
       "      <th>Aux_Price</th>\n",
       "      <th>Crypto_Price</th>\n",
       "      <th>Crypto_Return_Today</th>\n",
       "    </tr>\n",
       "    <tr>\n",
       "      <th>Date</th>\n",
       "      <th></th>\n",
       "      <th></th>\n",
       "      <th></th>\n",
       "    </tr>\n",
       "  </thead>\n",
       "  <tbody>\n",
       "    <tr>\n",
       "      <th>2024-01-21</th>\n",
       "      <td>7.811892</td>\n",
       "      <td>10.637572</td>\n",
       "      <td>-0.003021</td>\n",
       "    </tr>\n",
       "    <tr>\n",
       "      <th>2024-01-22</th>\n",
       "      <td>7.805877</td>\n",
       "      <td>10.634741</td>\n",
       "      <td>-0.050498</td>\n",
       "    </tr>\n",
       "    <tr>\n",
       "      <th>2024-01-23</th>\n",
       "      <td>7.745415</td>\n",
       "      <td>10.584530</td>\n",
       "      <td>0.008236</td>\n",
       "    </tr>\n",
       "    <tr>\n",
       "      <th>2024-01-24</th>\n",
       "      <td>7.715012</td>\n",
       "      <td>10.593570</td>\n",
       "      <td>0.004990</td>\n",
       "    </tr>\n",
       "    <tr>\n",
       "      <th>2024-01-25</th>\n",
       "      <td>7.711536</td>\n",
       "      <td>10.598522</td>\n",
       "      <td>-0.003543</td>\n",
       "    </tr>\n",
       "    <tr>\n",
       "      <th>...</th>\n",
       "      <td>...</td>\n",
       "      <td>...</td>\n",
       "      <td>...</td>\n",
       "    </tr>\n",
       "    <tr>\n",
       "      <th>2024-11-12</th>\n",
       "      <td>8.124196</td>\n",
       "      <td>11.393078</td>\n",
       "      <td>-0.008488</td>\n",
       "    </tr>\n",
       "    <tr>\n",
       "      <th>2024-11-13</th>\n",
       "      <td>8.084730</td>\n",
       "      <td>11.384296</td>\n",
       "      <td>0.029739</td>\n",
       "    </tr>\n",
       "    <tr>\n",
       "      <th>2024-11-14</th>\n",
       "      <td>8.068566</td>\n",
       "      <td>11.413932</td>\n",
       "      <td>-0.037394</td>\n",
       "    </tr>\n",
       "    <tr>\n",
       "      <th>2024-11-15</th>\n",
       "      <td>8.026015</td>\n",
       "      <td>11.376925</td>\n",
       "      <td>0.042415</td>\n",
       "    </tr>\n",
       "    <tr>\n",
       "      <th>2024-11-16</th>\n",
       "      <td>8.035842</td>\n",
       "      <td>11.419322</td>\n",
       "      <td>-0.005571</td>\n",
       "    </tr>\n",
       "  </tbody>\n",
       "</table>\n",
       "<p>301 rows × 3 columns</p>\n",
       "</div>"
      ],
      "text/plain": [
       "            Aux_Price  Crypto_Price  Crypto_Return_Today\n",
       "Date                                                    \n",
       "2024-01-21   7.811892     10.637572            -0.003021\n",
       "2024-01-22   7.805877     10.634741            -0.050498\n",
       "2024-01-23   7.745415     10.584530             0.008236\n",
       "2024-01-24   7.715012     10.593570             0.004990\n",
       "2024-01-25   7.711536     10.598522            -0.003543\n",
       "...               ...           ...                  ...\n",
       "2024-11-12   8.124196     11.393078            -0.008488\n",
       "2024-11-13   8.084730     11.384296             0.029739\n",
       "2024-11-14   8.068566     11.413932            -0.037394\n",
       "2024-11-15   8.026015     11.376925             0.042415\n",
       "2024-11-16   8.035842     11.419322            -0.005571\n",
       "\n",
       "[301 rows x 3 columns]"
      ]
     },
     "execution_count": 90,
     "metadata": {},
     "output_type": "execute_result"
    }
   ],
   "source": [
    "data['BTC-USD'][0]"
   ]
  },
  {
   "cell_type": "code",
   "execution_count": 91,
   "metadata": {},
   "outputs": [],
   "source": [
    "for crypto in cryptos:\n",
    "    del data[crypto][0]"
   ]
  },
  {
   "cell_type": "code",
   "execution_count": 92,
   "metadata": {},
   "outputs": [],
   "source": [
    "for crypto in cryptos:\n",
    "    for day in range(len(data[crypto])):\n",
    "        data[crypto][day] =pd.read_csv(f\"C:\\\\Users\\\\delve\\\\OneDrive\\\\Eu\\\\GitHub\\\\Quantamental\\\\Código\\\\Backtest\\\\BackTest LSTMinator\\\\series_fracionada\\\\{crypto}_{day}.csv\", index_col = 'Date')"
   ]
  },
  {
   "cell_type": "code",
   "execution_count": 93,
   "metadata": {
    "colab": {
     "base_uri": "https://localhost:8080/"
    },
    "collapsed": true,
    "id": "3s8dza81ZOh_",
    "outputId": "cf2ddb9d-944b-4da4-971f-499bfb4123a3"
   },
   "outputs": [
    {
     "data": {
      "text/plain": [
       "\"window_size = 10\\n\\nfor crypto in cryptos:\\n  if crypto != 'BTC-USD':\\n    for day in range(len(data[crypto])):\\n      if day < len(data['BTC-USD']):\\n        daily_data = data[crypto][day].copy()\\n        d = optimal_d['BTC-USD'][day] ## LEMBRAR DE RECORRIGIR\\n        weights = fracdiff_weights(d, window_size)\\n        daily_data['diff_Aux_Price'] = fracdiff(daily_data['Aux_Price'], weights).shift(-1)\\n\\n        columns = list(daily_data.columns)\\n        columns[-2], columns[-1] = columns[-1], columns[-2]\\n        data[crypto][day] = daily_data[columns]\\n\\n\\n        daily_data2 = data[crypto][day].copy()\\n        d = optimal_d[crypto][day]\\n        weights = fracdiff_weights(d, window_size)\\n        daily_data2['diff_Crypto_Price'] = fracdiff(daily_data2['Crypto_Price'], weights).shift(-1)\\n\\n        columns = list(daily_data2.columns)\\n        columns[-2], columns[-1] = columns[-1], columns[-2]\\n        data[crypto][day] = daily_data2[columns]\\n  if crypto == 'BTC-USD':\\n      for day in range(len(data[crypto])):\\n        daily_data = data[crypto][day].copy()\\n        d = optimal_d['ETH-USD'][day]\\n        weights = fracdiff_weights(d, window_size)\\n        daily_data['diff_Aux_Price'] = fracdiff(daily_data['Aux_Price'], weights).shift(-1)\\n\\n        columns = list(daily_data.columns)\\n        columns[-2], columns[-1] = columns[-1], columns[-2]\\n        data[crypto][day] = daily_data[columns]\\n\\n\\n        daily_data2 = data[crypto][day].copy()\\n        d = optimal_d[crypto][day]\\n        weights = fracdiff_weights(d, window_size)\\n        daily_data2['diff_Crypto_Price'] = fracdiff(daily_data2['Crypto_Price'], weights).shift(-1)\\n\\n        columns = list(daily_data2.columns)\\n        columns[-2], columns[-1] = columns[-1], columns[-2]\\n        data[crypto][day] = daily_data2[columns]\""
      ]
     },
     "execution_count": 93,
     "metadata": {},
     "output_type": "execute_result"
    }
   ],
   "source": [
    "'''window_size = 10\n",
    "\n",
    "for crypto in cryptos:\n",
    "  if crypto != 'BTC-USD':\n",
    "    for day in range(len(data[crypto])):\n",
    "      if day < len(data['BTC-USD']):\n",
    "        daily_data = data[crypto][day].copy()\n",
    "        d = optimal_d['BTC-USD'][day] ## LEMBRAR DE RECORRIGIR\n",
    "        weights = fracdiff_weights(d, window_size)\n",
    "        daily_data['diff_Aux_Price'] = fracdiff(daily_data['Aux_Price'], weights).shift(-1)\n",
    "\n",
    "        columns = list(daily_data.columns)\n",
    "        columns[-2], columns[-1] = columns[-1], columns[-2]\n",
    "        data[crypto][day] = daily_data[columns]\n",
    "\n",
    "\n",
    "        daily_data2 = data[crypto][day].copy()\n",
    "        d = optimal_d[crypto][day]\n",
    "        weights = fracdiff_weights(d, window_size)\n",
    "        daily_data2['diff_Crypto_Price'] = fracdiff(daily_data2['Crypto_Price'], weights).shift(-1)\n",
    "\n",
    "        columns = list(daily_data2.columns)\n",
    "        columns[-2], columns[-1] = columns[-1], columns[-2]\n",
    "        data[crypto][day] = daily_data2[columns]\n",
    "  if crypto == 'BTC-USD':\n",
    "      for day in range(len(data[crypto])):\n",
    "        daily_data = data[crypto][day].copy()\n",
    "        d = optimal_d['ETH-USD'][day]\n",
    "        weights = fracdiff_weights(d, window_size)\n",
    "        daily_data['diff_Aux_Price'] = fracdiff(daily_data['Aux_Price'], weights).shift(-1)\n",
    "\n",
    "        columns = list(daily_data.columns)\n",
    "        columns[-2], columns[-1] = columns[-1], columns[-2]\n",
    "        data[crypto][day] = daily_data[columns]\n",
    "\n",
    "\n",
    "        daily_data2 = data[crypto][day].copy()\n",
    "        d = optimal_d[crypto][day]\n",
    "        weights = fracdiff_weights(d, window_size)\n",
    "        daily_data2['diff_Crypto_Price'] = fracdiff(daily_data2['Crypto_Price'], weights).shift(-1)\n",
    "\n",
    "        columns = list(daily_data2.columns)\n",
    "        columns[-2], columns[-1] = columns[-1], columns[-2]\n",
    "        data[crypto][day] = daily_data2[columns]'''"
   ]
  },
  {
   "cell_type": "code",
   "execution_count": 94,
   "metadata": {},
   "outputs": [
    {
     "data": {
      "text/html": [
       "<div>\n",
       "<style scoped>\n",
       "    .dataframe tbody tr th:only-of-type {\n",
       "        vertical-align: middle;\n",
       "    }\n",
       "\n",
       "    .dataframe tbody tr th {\n",
       "        vertical-align: top;\n",
       "    }\n",
       "\n",
       "    .dataframe thead th {\n",
       "        text-align: right;\n",
       "    }\n",
       "</style>\n",
       "<table border=\"1\" class=\"dataframe\">\n",
       "  <thead>\n",
       "    <tr style=\"text-align: right;\">\n",
       "      <th></th>\n",
       "      <th>diff_Aux_Price</th>\n",
       "      <th>diff_Crypto_Price</th>\n",
       "      <th>Crypto_Return_Today</th>\n",
       "    </tr>\n",
       "    <tr>\n",
       "      <th>Date</th>\n",
       "      <th></th>\n",
       "      <th></th>\n",
       "      <th></th>\n",
       "    </tr>\n",
       "  </thead>\n",
       "  <tbody>\n",
       "    <tr>\n",
       "      <th>2023-10-22</th>\n",
       "      <td>0.515021</td>\n",
       "      <td>0.791998</td>\n",
       "      <td>0.002512</td>\n",
       "    </tr>\n",
       "    <tr>\n",
       "      <th>2023-10-23</th>\n",
       "      <td>0.529324</td>\n",
       "      <td>0.789193</td>\n",
       "      <td>0.093241</td>\n",
       "    </tr>\n",
       "    <tr>\n",
       "      <th>2023-10-24</th>\n",
       "      <td>0.560107</td>\n",
       "      <td>0.873860</td>\n",
       "      <td>0.024613</td>\n",
       "    </tr>\n",
       "    <tr>\n",
       "      <th>2023-10-25</th>\n",
       "      <td>0.528982</td>\n",
       "      <td>0.832092</td>\n",
       "      <td>0.017153</td>\n",
       "    </tr>\n",
       "    <tr>\n",
       "      <th>2023-10-26</th>\n",
       "      <td>0.515403</td>\n",
       "      <td>0.820499</td>\n",
       "      <td>-0.010126</td>\n",
       "    </tr>\n",
       "    <tr>\n",
       "      <th>...</th>\n",
       "      <td>...</td>\n",
       "      <td>...</td>\n",
       "      <td>...</td>\n",
       "    </tr>\n",
       "    <tr>\n",
       "      <th>2024-08-02</th>\n",
       "      <td>0.528453</td>\n",
       "      <td>0.835141</td>\n",
       "      <td>-0.062156</td>\n",
       "    </tr>\n",
       "    <tr>\n",
       "      <th>2024-08-03</th>\n",
       "      <td>0.467246</td>\n",
       "      <td>0.768436</td>\n",
       "      <td>-0.012035</td>\n",
       "    </tr>\n",
       "    <tr>\n",
       "      <th>2024-08-04</th>\n",
       "      <td>0.490334</td>\n",
       "      <td>0.799430</td>\n",
       "      <td>-0.043092</td>\n",
       "    </tr>\n",
       "    <tr>\n",
       "      <th>2024-08-05</th>\n",
       "      <td>0.440408</td>\n",
       "      <td>0.771535</td>\n",
       "      <td>-0.073517</td>\n",
       "    </tr>\n",
       "    <tr>\n",
       "      <th>2024-08-06</th>\n",
       "      <td>0.396635</td>\n",
       "      <td>0.732439</td>\n",
       "      <td>0.037140</td>\n",
       "    </tr>\n",
       "  </tbody>\n",
       "</table>\n",
       "<p>290 rows × 3 columns</p>\n",
       "</div>"
      ],
      "text/plain": [
       "            diff_Aux_Price  diff_Crypto_Price  Crypto_Return_Today\n",
       "Date                                                              \n",
       "2023-10-22        0.515021           0.791998             0.002512\n",
       "2023-10-23        0.529324           0.789193             0.093241\n",
       "2023-10-24        0.560107           0.873860             0.024613\n",
       "2023-10-25        0.528982           0.832092             0.017153\n",
       "2023-10-26        0.515403           0.820499            -0.010126\n",
       "...                    ...                ...                  ...\n",
       "2024-08-02        0.528453           0.835141            -0.062156\n",
       "2024-08-03        0.467246           0.768436            -0.012035\n",
       "2024-08-04        0.490334           0.799430            -0.043092\n",
       "2024-08-05        0.440408           0.771535            -0.073517\n",
       "2024-08-06        0.396635           0.732439             0.037140\n",
       "\n",
       "[290 rows x 3 columns]"
      ]
     },
     "execution_count": 94,
     "metadata": {},
     "output_type": "execute_result"
    }
   ],
   "source": [
    "data['BTC-USD'][100]"
   ]
  },
  {
   "cell_type": "code",
   "execution_count": 95,
   "metadata": {
    "colab": {
     "base_uri": "https://localhost:8080/",
     "height": 629
    },
    "id": "k0G14EX-wmid",
    "outputId": "07225a0e-9f24-4a53-adf7-42d9753a20ef"
   },
   "outputs": [
    {
     "data": {
      "text/html": [
       "<div>\n",
       "<style scoped>\n",
       "    .dataframe tbody tr th:only-of-type {\n",
       "        vertical-align: middle;\n",
       "    }\n",
       "\n",
       "    .dataframe tbody tr th {\n",
       "        vertical-align: top;\n",
       "    }\n",
       "\n",
       "    .dataframe thead th {\n",
       "        text-align: right;\n",
       "    }\n",
       "</style>\n",
       "<table border=\"1\" class=\"dataframe\">\n",
       "  <thead>\n",
       "    <tr style=\"text-align: right;\">\n",
       "      <th></th>\n",
       "      <th>diff_Aux_Price</th>\n",
       "      <th>diff_Crypto_Price</th>\n",
       "      <th>Crypto_Return_Today</th>\n",
       "    </tr>\n",
       "    <tr>\n",
       "      <th>Date</th>\n",
       "      <th></th>\n",
       "      <th></th>\n",
       "      <th></th>\n",
       "    </tr>\n",
       "  </thead>\n",
       "  <tbody>\n",
       "    <tr>\n",
       "      <th>2024-01-30</th>\n",
       "      <td>0.943695</td>\n",
       "      <td>1.301644</td>\n",
       "      <td>-0.008060</td>\n",
       "    </tr>\n",
       "    <tr>\n",
       "      <th>2024-01-31</th>\n",
       "      <td>0.940170</td>\n",
       "      <td>1.274320</td>\n",
       "      <td>-0.008503</td>\n",
       "    </tr>\n",
       "    <tr>\n",
       "      <th>2024-02-01</th>\n",
       "      <td>0.904486</td>\n",
       "      <td>1.266025</td>\n",
       "      <td>0.011817</td>\n",
       "    </tr>\n",
       "    <tr>\n",
       "      <th>2024-02-02</th>\n",
       "      <td>0.927151</td>\n",
       "      <td>1.281540</td>\n",
       "      <td>0.002509</td>\n",
       "    </tr>\n",
       "    <tr>\n",
       "      <th>2024-02-03</th>\n",
       "      <td>0.924965</td>\n",
       "      <td>1.276756</td>\n",
       "      <td>-0.004473</td>\n",
       "    </tr>\n",
       "    <tr>\n",
       "      <th>...</th>\n",
       "      <td>...</td>\n",
       "      <td>...</td>\n",
       "      <td>...</td>\n",
       "    </tr>\n",
       "    <tr>\n",
       "      <th>2024-11-10</th>\n",
       "      <td>1.034182</td>\n",
       "      <td>1.354057</td>\n",
       "      <td>0.047050</td>\n",
       "    </tr>\n",
       "    <tr>\n",
       "      <th>2024-11-11</th>\n",
       "      <td>1.010710</td>\n",
       "      <td>1.395153</td>\n",
       "      <td>0.097375</td>\n",
       "    </tr>\n",
       "    <tr>\n",
       "      <th>2024-11-12</th>\n",
       "      <td>1.042769</td>\n",
       "      <td>1.461348</td>\n",
       "      <td>-0.008488</td>\n",
       "    </tr>\n",
       "    <tr>\n",
       "      <th>2024-11-13</th>\n",
       "      <td>0.960464</td>\n",
       "      <td>1.386409</td>\n",
       "      <td>0.029739</td>\n",
       "    </tr>\n",
       "    <tr>\n",
       "      <th>2024-11-14</th>\n",
       "      <td>0.955374</td>\n",
       "      <td>1.405403</td>\n",
       "      <td>-0.037394</td>\n",
       "    </tr>\n",
       "  </tbody>\n",
       "</table>\n",
       "<p>290 rows × 3 columns</p>\n",
       "</div>"
      ],
      "text/plain": [
       "            diff_Aux_Price  diff_Crypto_Price  Crypto_Return_Today\n",
       "Date                                                              \n",
       "2024-01-30        0.943695           1.301644            -0.008060\n",
       "2024-01-31        0.940170           1.274320            -0.008503\n",
       "2024-02-01        0.904486           1.266025             0.011817\n",
       "2024-02-02        0.927151           1.281540             0.002509\n",
       "2024-02-03        0.924965           1.276756            -0.004473\n",
       "...                    ...                ...                  ...\n",
       "2024-11-10        1.034182           1.354057             0.047050\n",
       "2024-11-11        1.010710           1.395153             0.097375\n",
       "2024-11-12        1.042769           1.461348            -0.008488\n",
       "2024-11-13        0.960464           1.386409             0.029739\n",
       "2024-11-14        0.955374           1.405403            -0.037394\n",
       "\n",
       "[290 rows x 3 columns]"
      ]
     },
     "execution_count": 95,
     "metadata": {},
     "output_type": "execute_result"
    }
   ],
   "source": [
    "data['BTC-USD'][0].dropna()"
   ]
  },
  {
   "cell_type": "code",
   "execution_count": 96,
   "metadata": {
    "id": "H-00Mzhf0FHQ"
   },
   "outputs": [
    {
     "data": {
      "text/plain": [
       "\"for crypto in cryptos:\\n  for day in range(len(data[crypto])):\\n    data[crypto][day] = data[crypto][day].dropna()\\n    data[crypto][day] = data[crypto][day].drop(columns = ['Aux_Price', 'Crypto_Price'])\""
      ]
     },
     "execution_count": 96,
     "metadata": {},
     "output_type": "execute_result"
    }
   ],
   "source": [
    "'''for crypto in cryptos:\n",
    "  for day in range(len(data[crypto])):\n",
    "    data[crypto][day] = data[crypto][day].dropna()\n",
    "    data[crypto][day] = data[crypto][day].drop(columns = ['Aux_Price', 'Crypto_Price'])'''"
   ]
  },
  {
   "cell_type": "code",
   "execution_count": 97,
   "metadata": {
    "colab": {
     "base_uri": "https://localhost:8080/",
     "height": 455
    },
    "id": "oxk5_sNc1MwT",
    "outputId": "71c20bb0-ac41-47e2-df7e-941ac530d92f"
   },
   "outputs": [
    {
     "data": {
      "text/html": [
       "<div>\n",
       "<style scoped>\n",
       "    .dataframe tbody tr th:only-of-type {\n",
       "        vertical-align: middle;\n",
       "    }\n",
       "\n",
       "    .dataframe tbody tr th {\n",
       "        vertical-align: top;\n",
       "    }\n",
       "\n",
       "    .dataframe thead th {\n",
       "        text-align: right;\n",
       "    }\n",
       "</style>\n",
       "<table border=\"1\" class=\"dataframe\">\n",
       "  <thead>\n",
       "    <tr style=\"text-align: right;\">\n",
       "      <th></th>\n",
       "      <th>diff_Aux_Price</th>\n",
       "      <th>diff_Crypto_Price</th>\n",
       "      <th>Crypto_Return_Today</th>\n",
       "    </tr>\n",
       "    <tr>\n",
       "      <th>Date</th>\n",
       "      <th></th>\n",
       "      <th></th>\n",
       "      <th></th>\n",
       "    </tr>\n",
       "  </thead>\n",
       "  <tbody>\n",
       "    <tr>\n",
       "      <th>2024-01-30</th>\n",
       "      <td>1.301644</td>\n",
       "      <td>-0.138511</td>\n",
       "      <td>-0.008903</td>\n",
       "    </tr>\n",
       "    <tr>\n",
       "      <th>2024-01-31</th>\n",
       "      <td>1.274320</td>\n",
       "      <td>-0.152742</td>\n",
       "      <td>0.001730</td>\n",
       "    </tr>\n",
       "    <tr>\n",
       "      <th>2024-02-01</th>\n",
       "      <td>1.266025</td>\n",
       "      <td>-0.145643</td>\n",
       "      <td>0.029220</td>\n",
       "    </tr>\n",
       "    <tr>\n",
       "      <th>2024-02-02</th>\n",
       "      <td>1.281540</td>\n",
       "      <td>-0.117175</td>\n",
       "      <td>0.006099</td>\n",
       "    </tr>\n",
       "    <tr>\n",
       "      <th>2024-02-03</th>\n",
       "      <td>1.276756</td>\n",
       "      <td>-0.132139</td>\n",
       "      <td>0.008095</td>\n",
       "    </tr>\n",
       "    <tr>\n",
       "      <th>...</th>\n",
       "      <td>...</td>\n",
       "      <td>...</td>\n",
       "      <td>...</td>\n",
       "    </tr>\n",
       "    <tr>\n",
       "      <th>2024-11-10</th>\n",
       "      <td>1.354057</td>\n",
       "      <td>-0.116745</td>\n",
       "      <td>0.011919</td>\n",
       "    </tr>\n",
       "    <tr>\n",
       "      <th>2024-11-11</th>\n",
       "      <td>1.395153</td>\n",
       "      <td>-0.109210</td>\n",
       "      <td>0.022699</td>\n",
       "    </tr>\n",
       "    <tr>\n",
       "      <th>2024-11-12</th>\n",
       "      <td>1.461348</td>\n",
       "      <td>-0.095358</td>\n",
       "      <td>0.113839</td>\n",
       "    </tr>\n",
       "    <tr>\n",
       "      <th>2024-11-13</th>\n",
       "      <td>1.386409</td>\n",
       "      <td>0.001025</td>\n",
       "      <td>-0.060059</td>\n",
       "    </tr>\n",
       "    <tr>\n",
       "      <th>2024-11-14</th>\n",
       "      <td>1.405403</td>\n",
       "      <td>-0.142719</td>\n",
       "      <td>-0.003898</td>\n",
       "    </tr>\n",
       "  </tbody>\n",
       "</table>\n",
       "<p>290 rows × 3 columns</p>\n",
       "</div>"
      ],
      "text/plain": [
       "            diff_Aux_Price  diff_Crypto_Price  Crypto_Return_Today\n",
       "Date                                                              \n",
       "2024-01-30        1.301644          -0.138511            -0.008903\n",
       "2024-01-31        1.274320          -0.152742             0.001730\n",
       "2024-02-01        1.266025          -0.145643             0.029220\n",
       "2024-02-02        1.281540          -0.117175             0.006099\n",
       "2024-02-03        1.276756          -0.132139             0.008095\n",
       "...                    ...                ...                  ...\n",
       "2024-11-10        1.354057          -0.116745             0.011919\n",
       "2024-11-11        1.395153          -0.109210             0.022699\n",
       "2024-11-12        1.461348          -0.095358             0.113839\n",
       "2024-11-13        1.386409           0.001025            -0.060059\n",
       "2024-11-14        1.405403          -0.142719            -0.003898\n",
       "\n",
       "[290 rows x 3 columns]"
      ]
     },
     "execution_count": 97,
     "metadata": {},
     "output_type": "execute_result"
    }
   ],
   "source": [
    "data[crypto][0]"
   ]
  },
  {
   "cell_type": "code",
   "execution_count": 98,
   "metadata": {},
   "outputs": [
    {
     "data": {
      "text/plain": [
       "'for crypto in cryptos:\\n    for day in range(len(data[crypto])):\\n        data[crypto][day].to_csv(f\"C:\\\\Users\\\\delve\\\\OneDrive\\\\Eu\\\\GitHub\\\\Quantamental\\\\Código\\\\Backtest\\\\BackTest LSTMinator\\\\series_fracionada\\\\{crypto}_{day}.csv\")'"
      ]
     },
     "execution_count": 98,
     "metadata": {},
     "output_type": "execute_result"
    }
   ],
   "source": [
    "'''for crypto in cryptos:\n",
    "    for day in range(len(data[crypto])):\n",
    "        data[crypto][day].to_csv(f\"C:\\\\Users\\\\delve\\\\OneDrive\\\\Eu\\\\GitHub\\\\Quantamental\\\\Código\\\\Backtest\\\\BackTest LSTMinator\\\\series_fracionada\\\\{crypto}_{day}.csv\")'''"
   ]
  },
  {
   "cell_type": "code",
   "execution_count": 99,
   "metadata": {
    "id": "Evamk5LK4m_O"
   },
   "outputs": [],
   "source": [
    "test_target = {}\n",
    "for crypto in cryptos:\n",
    "    row = []\n",
    "    for i in range(len(data[crypto])):\n",
    "        row.append((pd.DataFrame(data[crypto][i].iloc[-1])).T)\n",
    "        data[crypto][i] = data[crypto][i].drop(data[crypto][i].index[-1])\n",
    "    test_target[crypto] = row"
   ]
  },
  {
   "cell_type": "code",
   "execution_count": 100,
   "metadata": {
    "colab": {
     "base_uri": "https://localhost:8080/"
    },
    "id": "U-oxtp4r4m_O",
    "outputId": "3224b2ae-8461-44d3-a107-b23a1827f54b"
   },
   "outputs": [
    {
     "data": {
      "text/plain": [
       "(            diff_Aux_Price  diff_Crypto_Price  Crypto_Return_Today\n",
       " Date                                                              \n",
       " 2024-01-30        1.301644           0.943695             0.011608\n",
       " 2024-01-31        1.274320           0.940170            -0.026380\n",
       " 2024-02-01        1.266025           0.904486             0.009442\n",
       " 2024-02-02        1.281540           0.927151             0.001879\n",
       " 2024-02-03        1.276756           0.924965            -0.005188\n",
       " ...                    ...                ...                  ...\n",
       " 2024-11-09        1.361528           1.005684             0.055267\n",
       " 2024-11-10        1.354057           1.034182             0.019172\n",
       " 2024-11-11        1.395153           1.010710             0.055800\n",
       " 2024-11-12        1.461348           1.042769            -0.038938\n",
       " 2024-11-13        1.386409           0.960464            -0.016140\n",
       " \n",
       " [289 rows x 3 columns],\n",
       " 2024-11-14   -0.042739\n",
       " Name: Crypto_Return_Today, dtype: float64)"
      ]
     },
     "execution_count": 100,
     "metadata": {},
     "output_type": "execute_result"
    }
   ],
   "source": [
    "data['ETH-USD'][0], test_target['ETH-USD'][0]['Crypto_Return_Today']"
   ]
  },
  {
   "cell_type": "markdown",
   "metadata": {
    "id": "GzKbsiqG4m_P"
   },
   "source": [
    "## 2.3 Bagging"
   ]
  },
  {
   "cell_type": "code",
   "execution_count": 101,
   "metadata": {
    "id": "fbWiBtka4m_P"
   },
   "outputs": [],
   "source": [
    "# Definindo uma função bagging, que recebe um dataframe e retorna um vetor de dataframes.\n",
    "def Bagging(df, n, gamma):\n",
    "    df_bagged = []\n",
    "    for i in range(gamma):\n",
    "        aux = df.sample(n = n, random_state = i)\n",
    "        aux = aux.sort_index()\n",
    "        df_bagged.append(aux)\n",
    "    return df_bagged"
   ]
  },
  {
   "cell_type": "markdown",
   "metadata": {
    "id": "yvyFl8gs4m_P"
   },
   "source": [
    "# 3. Machine Learning"
   ]
  },
  {
   "cell_type": "markdown",
   "metadata": {
    "id": "4FTPX1Ph4m_P"
   },
   "source": [
    "* vamos peimeiro fazer do modo 1 para todos os dias\n",
    "* depois aplicar para os ultimos 290 dias o modo 2 (contém bagging e purge K-Fold-CV)"
   ]
  },
  {
   "cell_type": "markdown",
   "metadata": {
    "id": "9zUoSh9g4m_P"
   },
   "source": [
    "## 3.1 Função do Modelo\n"
   ]
  },
  {
   "cell_type": "code",
   "execution_count": 102,
   "metadata": {
    "id": "7HDF-f2F4m_Q"
   },
   "outputs": [],
   "source": [
    "from tensorflow.keras.models import Sequential\n",
    "from tensorflow.keras.layers import LSTM, Dense, Dropout, BatchNormalization, Conv1D, MaxPooling1D\n",
    "from tensorflow.keras.optimizers import Adam, RMSprop\n",
    "from tensorflow.keras.regularizers import l2\n",
    "from tensorflow.keras.callbacks import ReduceLROnPlateau\n",
    "\n",
    "\n",
    "def create_model(a, b):\n",
    "    model = Sequential([\n",
    "        Input(shape=(a, b)),\n",
    "        Conv1D(15, kernel_size=3, activation='relu'),\n",
    "        MaxPooling1D(pool_size=2),\n",
    "        LSTM(units=50, return_sequences=False),\n",
    "        BatchNormalization(),\n",
    "        Dropout(0.5),\n",
    "        Dense(units=128, activation='relu'),\n",
    "        BatchNormalization(),\n",
    "        Dropout(0.2),\n",
    "        Dense(units=1)\n",
    "    ])\n",
    "    optimizer = RMSprop(learning_rate=1e-4)\n",
    "    model.compile(optimizer=optimizer, loss='mean_squared_error')\n",
    "    return model\n"
   ]
  },
  {
   "cell_type": "code",
   "execution_count": 103,
   "metadata": {
    "id": "o7csbit-4m_Q"
   },
   "outputs": [],
   "source": [
    "# Função do modelo LSTM\n",
    "def Model(df, time_step, features, model=None):\n",
    "    # Normalizando o dataframe\n",
    "    #scaler = StandardScaler()\n",
    "    #df_scaled = scaler.fit_transform(df)\n",
    "    #df_array = np.array(df_scaled)\n",
    "    df_array = np.array(df)\n",
    "\n",
    "    # Transformando no formato LSTM\n",
    "    X_lstm = []\n",
    "    y_lstm = []\n",
    "    for i in range(time_step, len(df_array)):\n",
    "        X_lstm.append(df_array[i-time_step:i+1, :-1])  # Pega 'timesteps' linhas anteriores\n",
    "        y_lstm.append(df_array[i, -1])  # Alvo é o valor do dia seguinte\n",
    "    X_lstm = np.array(X_lstm)\n",
    "    y_lstm = np.array(y_lstm)\n",
    "\n",
    "\n",
    "    # Conjunto de validação - primeiros 30 elementos\n",
    "    X_val = X_lstm[-20:-1]\n",
    "    y_val = y_lstm[-20:-1]\n",
    "    y_val = pd.DataFrame(y_val).to_numpy().reshape((len(y_val), 1))\n",
    "\n",
    "    # Separar o X_train (todos exceto o último elemento)\n",
    "    X_train = X_lstm[:-20]\n",
    "    y_train = y_lstm[:-20]\n",
    "    y_train = pd.DataFrame(y_train).to_numpy()\n",
    "    y_train = y_train.reshape((len(y_train), 1))\n",
    "    y_train.shape\n",
    "\n",
    "    # X_test e y_test\n",
    "    X_test = X_lstm[-1:]\n",
    "    y_test = y_lstm[-1:]\n",
    "    y_test = y_lstm[-1:]\n",
    "    y_test = pd.DataFrame(y_test).to_numpy()\n",
    "    y_test = y_test.reshape((len(y_test), 1))\n",
    "\n",
    "    # Treinar o modelo específico para a criptomoeda\n",
    "\n",
    "    # Arquitetura 1:\n",
    "    #reduce_lr = ReduceLROnPlateau(monitor='val_loss', factor=0.5, patience=20, min_lr=1e-6, verbose=0)\n",
    "    #model.fit(X_train, y_train, epochs=200, batch_size=32, verbose=0, callbacks=[reduce_lr])\n",
    "\n",
    "    early_stopping = EarlyStopping(monitor='val_loss', patience=40, restore_best_weights=True)\n",
    "    # Arquitetura 2:\n",
    "    model.fit(X_train, y_train, validation_data=(X_val, y_val), epochs= 300, verbose=0, callbacks=[early_stopping])\n",
    "    # Fazer a previsão\n",
    "    y_hat_scaled = model.predict(X_test)\n",
    "\n",
    "\n",
    "    return y_hat_scaled"
   ]
  },
  {
   "cell_type": "markdown",
   "metadata": {
    "id": "MJcsYqyk4m_Q"
   },
   "source": [
    "##  3.2 Treinamento com Paralelismo e Geração dos Expected Values"
   ]
  },
  {
   "cell_type": "code",
   "execution_count": 104,
   "metadata": {
    "id": "HXI8wihE4m_Q"
   },
   "outputs": [],
   "source": [
    "def Add(y_hat, data_complete, ind, crypto):\n",
    "    data_complete[crypto].at[ind, 'exp_value'] = y_hat"
   ]
  },
  {
   "cell_type": "code",
   "execution_count": 105,
   "metadata": {
    "colab": {
     "base_uri": "https://localhost:8080/"
    },
    "id": "44TACuZj4m_Q",
    "outputId": "8037f856-95f8-4c70-f8a4-c7841857e26d"
   },
   "outputs": [
    {
     "name": "stdout",
     "output_type": "stream",
     "text": [
      "Usando CPU\n"
     ]
    }
   ],
   "source": [
    "import tensorflow as tf\n",
    "physical_devices = tf.config.list_physical_devices('GPU')\n",
    "if physical_devices:\n",
    "    tf.config.experimental.set_memory_growth(physical_devices[0], True)\n",
    "    print(\"Usando GPU:\", physical_devices[0])\n",
    "else:\n",
    "    print(\"Usando CPU\")"
   ]
  },
  {
   "cell_type": "code",
   "execution_count": 106,
   "metadata": {
    "colab": {
     "base_uri": "https://localhost:8080/"
    },
    "id": "QY6MGz6a4m_Q",
    "outputId": "7420a535-a533-4636-8fd7-4b8053449953"
   },
   "outputs": [
    {
     "name": "stdout",
     "output_type": "stream",
     "text": [
      "2263\n",
      "2263\n",
      "3412\n",
      "2263\n",
      "1248\n",
      "2263\n",
      "1380\n",
      "2263\n"
     ]
    },
    {
     "data": {
      "text/plain": [
       "289"
      ]
     },
     "execution_count": 106,
     "metadata": {},
     "output_type": "execute_result"
    }
   ],
   "source": [
    "for crypto in cryptos:\n",
    "    print(len(data[crypto]))\n",
    "len(data['ETH-USD'][0])"
   ]
  },
  {
   "cell_type": "code",
   "execution_count": 107,
   "metadata": {
    "colab": {
     "base_uri": "https://localhost:8080/",
     "height": 81
    },
    "id": "PORdVJtg5D10",
    "outputId": "95760640-cd3c-4006-caac-eead04a65d3a"
   },
   "outputs": [
    {
     "data": {
      "text/html": [
       "<div>\n",
       "<style scoped>\n",
       "    .dataframe tbody tr th:only-of-type {\n",
       "        vertical-align: middle;\n",
       "    }\n",
       "\n",
       "    .dataframe tbody tr th {\n",
       "        vertical-align: top;\n",
       "    }\n",
       "\n",
       "    .dataframe thead th {\n",
       "        text-align: right;\n",
       "    }\n",
       "</style>\n",
       "<table border=\"1\" class=\"dataframe\">\n",
       "  <thead>\n",
       "    <tr style=\"text-align: right;\">\n",
       "      <th></th>\n",
       "      <th>diff_Aux_Price</th>\n",
       "      <th>diff_Crypto_Price</th>\n",
       "      <th>Crypto_Return_Today</th>\n",
       "    </tr>\n",
       "  </thead>\n",
       "  <tbody>\n",
       "    <tr>\n",
       "      <th>2019-04-13</th>\n",
       "      <td>0.005448</td>\n",
       "      <td>0.19039</td>\n",
       "      <td>-0.000665</td>\n",
       "    </tr>\n",
       "  </tbody>\n",
       "</table>\n",
       "</div>"
      ],
      "text/plain": [
       "            diff_Aux_Price  diff_Crypto_Price  Crypto_Return_Today\n",
       "2019-04-13        0.005448            0.19039            -0.000665"
      ]
     },
     "execution_count": 107,
     "metadata": {},
     "output_type": "execute_result"
    }
   ],
   "source": [
    "test_target['ETH-USD'][2042]\n",
    "#test_target['ETH-USD'][2138]"
   ]
  },
  {
   "cell_type": "code",
   "execution_count": 108,
   "metadata": {
    "colab": {
     "base_uri": "https://localhost:8080/"
    },
    "id": "fxKRwnKLX9a0",
    "outputId": "a79fa310-b128-4bde-9041-334d132a935c"
   },
   "outputs": [
    {
     "name": "stdout",
     "output_type": "stream",
     "text": [
      "\n",
      "\n",
      "--------------------------------------------------------\n",
      "\n",
      "\n",
      "Criptomoeda:  ETH\n",
      "\n",
      "                              Real\n",
      "\n",
      "Numero de Subidas:  48    |    50.0 %\n",
      "\n",
      "Numero de Quedas :  48    |    50.0 %\n"
     ]
    }
   ],
   "source": [
    "aux = data_complete['ETH-USD'].loc['2019-01-05':'2019-04-10']\n",
    "num_positive = (aux['Crypto_Return_Today'] > 0).sum()\n",
    "num_negative = (aux['Crypto_Return_Today'] < 0).sum()\n",
    "\n",
    "print(\"\\n\\n--------------------------------------------------------\")\n",
    "print(\"\\n\\nCriptomoeda: \", 'ETH')\n",
    "print(\"\\n                              Real\")\n",
    "print(\"\\nNumero de Subidas: \",num_positive,\"   |   \",100*num_positive / (num_negative + num_positive),\"%\")\n",
    "print(\"\\nNumero de Quedas : \",num_negative,\"   |   \",100*num_negative / (num_negative + num_positive),\"%\")"
   ]
  },
  {
   "cell_type": "code",
   "execution_count": 109,
   "metadata": {},
   "outputs": [
    {
     "data": {
      "text/html": [
       "<div>\n",
       "<style scoped>\n",
       "    .dataframe tbody tr th:only-of-type {\n",
       "        vertical-align: middle;\n",
       "    }\n",
       "\n",
       "    .dataframe tbody tr th {\n",
       "        vertical-align: top;\n",
       "    }\n",
       "\n",
       "    .dataframe thead th {\n",
       "        text-align: right;\n",
       "    }\n",
       "</style>\n",
       "<table border=\"1\" class=\"dataframe\">\n",
       "  <thead>\n",
       "    <tr style=\"text-align: right;\">\n",
       "      <th></th>\n",
       "      <th>diff_Aux_Price</th>\n",
       "      <th>diff_Crypto_Price</th>\n",
       "      <th>Crypto_Return_Today</th>\n",
       "    </tr>\n",
       "    <tr>\n",
       "      <th>Date</th>\n",
       "      <th></th>\n",
       "      <th></th>\n",
       "      <th></th>\n",
       "    </tr>\n",
       "  </thead>\n",
       "  <tbody>\n",
       "    <tr>\n",
       "      <th>2024-01-30</th>\n",
       "      <td>1.301644</td>\n",
       "      <td>0.507830</td>\n",
       "      <td>-0.013842</td>\n",
       "    </tr>\n",
       "    <tr>\n",
       "      <th>2024-01-31</th>\n",
       "      <td>1.274320</td>\n",
       "      <td>0.492329</td>\n",
       "      <td>-0.011368</td>\n",
       "    </tr>\n",
       "    <tr>\n",
       "      <th>2024-02-01</th>\n",
       "      <td>1.266025</td>\n",
       "      <td>0.488623</td>\n",
       "      <td>0.011410</td>\n",
       "    </tr>\n",
       "    <tr>\n",
       "      <th>2024-02-02</th>\n",
       "      <td>1.281540</td>\n",
       "      <td>0.507840</td>\n",
       "      <td>0.007183</td>\n",
       "    </tr>\n",
       "    <tr>\n",
       "      <th>2024-02-03</th>\n",
       "      <td>1.276756</td>\n",
       "      <td>0.509632</td>\n",
       "      <td>0.012181</td>\n",
       "    </tr>\n",
       "    <tr>\n",
       "      <th>...</th>\n",
       "      <td>...</td>\n",
       "      <td>...</td>\n",
       "      <td>...</td>\n",
       "    </tr>\n",
       "    <tr>\n",
       "      <th>2024-11-09</th>\n",
       "      <td>1.361528</td>\n",
       "      <td>0.537656</td>\n",
       "      <td>0.017163</td>\n",
       "    </tr>\n",
       "    <tr>\n",
       "      <th>2024-11-10</th>\n",
       "      <td>1.354057</td>\n",
       "      <td>0.539984</td>\n",
       "      <td>0.032670</td>\n",
       "    </tr>\n",
       "    <tr>\n",
       "      <th>2024-11-11</th>\n",
       "      <td>1.395153</td>\n",
       "      <td>0.557895</td>\n",
       "      <td>0.045925</td>\n",
       "    </tr>\n",
       "    <tr>\n",
       "      <th>2024-11-12</th>\n",
       "      <td>1.461348</td>\n",
       "      <td>0.579808</td>\n",
       "      <td>-0.040611</td>\n",
       "    </tr>\n",
       "    <tr>\n",
       "      <th>2024-11-13</th>\n",
       "      <td>1.386409</td>\n",
       "      <td>0.505104</td>\n",
       "      <td>-0.019436</td>\n",
       "    </tr>\n",
       "  </tbody>\n",
       "</table>\n",
       "<p>289 rows × 3 columns</p>\n",
       "</div>"
      ],
      "text/plain": [
       "            diff_Aux_Price  diff_Crypto_Price  Crypto_Return_Today\n",
       "Date                                                              \n",
       "2024-01-30        1.301644           0.507830            -0.013842\n",
       "2024-01-31        1.274320           0.492329            -0.011368\n",
       "2024-02-01        1.266025           0.488623             0.011410\n",
       "2024-02-02        1.281540           0.507840             0.007183\n",
       "2024-02-03        1.276756           0.509632             0.012181\n",
       "...                    ...                ...                  ...\n",
       "2024-11-09        1.361528           0.537656             0.017163\n",
       "2024-11-10        1.354057           0.539984             0.032670\n",
       "2024-11-11        1.395153           0.557895             0.045925\n",
       "2024-11-12        1.461348           0.579808            -0.040611\n",
       "2024-11-13        1.386409           0.505104            -0.019436\n",
       "\n",
       "[289 rows x 3 columns]"
      ]
     },
     "execution_count": 109,
     "metadata": {},
     "output_type": "execute_result"
    }
   ],
   "source": [
    "data['LTC-USD'][0]"
   ]
  },
  {
   "cell_type": "code",
   "execution_count": null,
   "metadata": {
    "colab": {
     "base_uri": "https://localhost:8080/",
     "height": 1000
    },
    "id": "SXaruqzt4m_W",
    "outputId": "10d50b37-c49f-4155-8b86-378feabbcdb6"
   },
   "outputs": [
    {
     "name": "stdout",
     "output_type": "stream",
     "text": [
      "\u001b[1m1/1\u001b[0m \u001b[32m━━━━━━━━━━━━━━━━━━━━\u001b[0m\u001b[37m\u001b[0m \u001b[1m0s\u001b[0m 242ms/step\n",
      "\u001b[1m1/1\u001b[0m \u001b[32m━━━━━━━━━━━━━━━━━━━━\u001b[0m\u001b[37m\u001b[0m \u001b[1m0s\u001b[0m 284ms/step\n",
      "\u001b[1m1/1\u001b[0m \u001b[32m━━━━━━━━━━━━━━━━━━━━\u001b[0m\u001b[37m\u001b[0m \u001b[1m0s\u001b[0m 267ms/step\n",
      "\u001b[1m1/1\u001b[0m \u001b[32m━━━━━━━━━━━━━━━━━━━━\u001b[0m\u001b[37m\u001b[0m \u001b[1m0s\u001b[0m 266ms/step\n",
      "WARNING:tensorflow:5 out of the last 5 calls to <function TensorFlowTrainer.make_predict_function.<locals>.one_step_on_data_distributed at 0x000002C8F791BD80> triggered tf.function retracing. Tracing is expensive and the excessive number of tracings could be due to (1) creating @tf.function repeatedly in a loop, (2) passing tensors with different shapes, (3) passing Python objects instead of tensors. For (1), please define your @tf.function outside of the loop. For (2), @tf.function has reduce_retracing=True option that can avoid unnecessary retracing. For (3), please refer to https://www.tensorflow.org/guide/function#controlling_retracing and https://www.tensorflow.org/api_docs/python/tf/function for  more details.\n",
      "\u001b[1m1/1\u001b[0m \u001b[32m━━━━━━━━━━━━━━━━━━━━\u001b[0m\u001b[37m\u001b[0m \u001b[1m0s\u001b[0m 263ms/step\n",
      "WARNING:tensorflow:6 out of the last 6 calls to <function TensorFlowTrainer.make_predict_function.<locals>.one_step_on_data_distributed at 0x000002C8FEB27CE0> triggered tf.function retracing. Tracing is expensive and the excessive number of tracings could be due to (1) creating @tf.function repeatedly in a loop, (2) passing tensors with different shapes, (3) passing Python objects instead of tensors. For (1), please define your @tf.function outside of the loop. For (2), @tf.function has reduce_retracing=True option that can avoid unnecessary retracing. For (3), please refer to https://www.tensorflow.org/guide/function#controlling_retracing and https://www.tensorflow.org/api_docs/python/tf/function for  more details.\n",
      "\u001b[1m1/1\u001b[0m \u001b[32m━━━━━━━━━━━━━━━━━━━━\u001b[0m\u001b[37m\u001b[0m \u001b[1m0s\u001b[0m 318ms/step\n",
      "\u001b[1m1/1\u001b[0m \u001b[32m━━━━━━━━━━━━━━━━━━━━\u001b[0m\u001b[37m\u001b[0m \u001b[1m0s\u001b[0m 236ms/step\n",
      "\u001b[1m1/1\u001b[0m \u001b[32m━━━━━━━━━━━━━━━━━━━━\u001b[0m\u001b[37m\u001b[0m \u001b[1m0s\u001b[0m 277ms/step\n",
      "\u001b[1m1/1\u001b[0m \u001b[32m━━━━━━━━━━━━━━━━━━━━\u001b[0m\u001b[37m\u001b[0m \u001b[1m0s\u001b[0m 219ms/step\n",
      "\u001b[1m1/1\u001b[0m \u001b[32m━━━━━━━━━━━━━━━━━━━━\u001b[0m\u001b[37m\u001b[0m \u001b[1m0s\u001b[0m 305ms/step\n",
      "\u001b[1m1/1\u001b[0m \u001b[32m━━━━━━━━━━━━━━━━━━━━\u001b[0m\u001b[37m\u001b[0m \u001b[1m0s\u001b[0m 236ms/step\n",
      "\u001b[1m1/1\u001b[0m \u001b[32m━━━━━━━━━━━━━━━━━━━━\u001b[0m\u001b[37m\u001b[0m \u001b[1m0s\u001b[0m 216ms/step\n",
      "\u001b[1m1/1\u001b[0m \u001b[32m━━━━━━━━━━━━━━━━━━━━\u001b[0m\u001b[37m\u001b[0m \u001b[1m0s\u001b[0m 270ms/step\n",
      "\u001b[1m1/1\u001b[0m \u001b[32m━━━━━━━━━━━━━━━━━━━━\u001b[0m\u001b[37m\u001b[0m \u001b[1m0s\u001b[0m 209ms/step\n",
      "\u001b[1m1/1\u001b[0m \u001b[32m━━━━━━━━━━━━━━━━━━━━\u001b[0m\u001b[37m\u001b[0m \u001b[1m0s\u001b[0m 209ms/step\n",
      "\u001b[1m1/1\u001b[0m \u001b[32m━━━━━━━━━━━━━━━━━━━━\u001b[0m\u001b[37m\u001b[0m \u001b[1m0s\u001b[0m 251ms/step\n",
      "\u001b[1m1/1\u001b[0m \u001b[32m━━━━━━━━━━━━━━━━━━━━\u001b[0m\u001b[37m\u001b[0m \u001b[1m0s\u001b[0m 243ms/step\n",
      "\u001b[1m1/1\u001b[0m \u001b[32m━━━━━━━━━━━━━━━━━━━━\u001b[0m\u001b[37m\u001b[0m \u001b[1m0s\u001b[0m 280ms/step\n"
     ]
    }
   ],
   "source": [
    "cryptos = ['BTC-USD', 'ETH-USD']\n",
    "# Função que processa cada criptomoeda (paralelismo será aplicado aqui)\n",
    "def process_crypto(crypto, data, test_target, data_complete, time_step, features):\n",
    "    # Criar um modelo para cada criptomoeda\n",
    "    for day in range(1900, 2000):\n",
    "        model = create_model(time_step, features)\n",
    "\n",
    "        df_train = data[crypto][day].copy()  # df é uma tabela de 300 linhas e uma coluna\n",
    "        df_test = test_target[crypto][day].copy()  # df_test é uma tabela com 1 linha e uma coluna\n",
    "        df = pd.concat([df_train, df_test], ignore_index=True)  # Unindo as duas tabelas\n",
    "\n",
    "        scaler = StandardScaler()\n",
    "        df = scaler.fit_transform(df)\n",
    "\n",
    "        y_hat_scaled = Model(df, time_step, features, model=model)  # Chamar o modelo para previsão\n",
    "\n",
    "        y_hat_scaled = np.repeat(y_hat_scaled, features+1, axis=1)\n",
    "        y_hat_scaled = pd.DataFrame(y_hat_scaled, columns=(['Predictions_1'], ['Predictions_2'],  ['Predictions_3']))\n",
    "\n",
    "        y_hat = scaler.inverse_transform(y_hat_scaled)[0][features]\n",
    "\n",
    "        Add(y_hat, data_complete, df_test.index[0], crypto)  # Adicionar o resultado na tabela final\n",
    "\n",
    "    print(\"\\nMoeda: \", crypto, \" processada\")\n",
    "\n",
    "# Número de samples que vamos testar o modelo\n",
    "time_step = w\n",
    "features = 2\n",
    "\n",
    "# Criar o executor para rodar as criptomoedas em paralelo\n",
    "with ThreadPoolExecutor() as executor:\n",
    "    # Executar o processo para cada criptomoeda simultaneamente\n",
    "    futures = [\n",
    "        executor.submit(process_crypto, crypto, data, test_target, data_complete, time_step, features)\n",
    "        for crypto in cryptos\n",
    "    ]\n",
    "\n",
    "    # Aguardar a conclusão de todas as threads\n",
    "    for future in futures:\n",
    "        future.result()\n",
    "\n",
    "print(\"Processamento em paralelo finalizado.\")"
   ]
  },
  {
   "cell_type": "markdown",
   "metadata": {
    "id": "l5P8MZMpg_ic"
   },
   "source": [
    "42min para 100 dias\n"
   ]
  },
  {
   "cell_type": "code",
   "execution_count": null,
   "metadata": {},
   "outputs": [],
   "source": [
    "import winsound\n",
    "\n",
    "# Frequência em Hertz e duração em milissegundos\n",
    "frequencia = 1000  # 1 kHz\n",
    "duracao = 500      # 500 ms\n",
    "\n",
    "# Emite o som\n",
    "winsound.Beep(frequencia, duracao)"
   ]
  },
  {
   "cell_type": "code",
   "execution_count": 49,
   "metadata": {
    "colab": {
     "base_uri": "https://localhost:8080/",
     "height": 159
    },
    "id": "Z5B_u6sF4m_X",
    "outputId": "baaf9e9d-2941-415f-f807-fba8375fb1c3"
   },
   "outputs": [
    {
     "data": {
      "text/html": [
       "<div>\n",
       "<style scoped>\n",
       "    .dataframe tbody tr th:only-of-type {\n",
       "        vertical-align: middle;\n",
       "    }\n",
       "\n",
       "    .dataframe tbody tr th {\n",
       "        vertical-align: top;\n",
       "    }\n",
       "\n",
       "    .dataframe thead th {\n",
       "        text-align: right;\n",
       "    }\n",
       "</style>\n",
       "<table border=\"1\" class=\"dataframe\">\n",
       "  <thead>\n",
       "    <tr style=\"text-align: right;\">\n",
       "      <th></th>\n",
       "      <th>Crypto_Return_Today</th>\n",
       "      <th>exp_value</th>\n",
       "    </tr>\n",
       "    <tr>\n",
       "      <th>Date</th>\n",
       "      <th></th>\n",
       "      <th></th>\n",
       "    </tr>\n",
       "  </thead>\n",
       "  <tbody>\n",
       "    <tr>\n",
       "      <th>2019-05-26</th>\n",
       "      <td>0.073921</td>\n",
       "      <td>0.016281</td>\n",
       "    </tr>\n",
       "    <tr>\n",
       "      <th>2019-05-27</th>\n",
       "      <td>0.015070</td>\n",
       "      <td>0.003935</td>\n",
       "    </tr>\n",
       "    <tr>\n",
       "      <th>2019-05-28</th>\n",
       "      <td>-0.009450</td>\n",
       "      <td>-0.001473</td>\n",
       "    </tr>\n",
       "    <tr>\n",
       "      <th>2019-05-29</th>\n",
       "      <td>-0.006802</td>\n",
       "      <td>0.006515</td>\n",
       "    </tr>\n",
       "    <tr>\n",
       "      <th>2019-05-30</th>\n",
       "      <td>-0.040319</td>\n",
       "      <td>0.001706</td>\n",
       "    </tr>\n",
       "    <tr>\n",
       "      <th>...</th>\n",
       "      <td>...</td>\n",
       "      <td>...</td>\n",
       "    </tr>\n",
       "    <tr>\n",
       "      <th>2019-08-29</th>\n",
       "      <td>-0.025598</td>\n",
       "      <td>-0.006729</td>\n",
       "    </tr>\n",
       "    <tr>\n",
       "      <th>2019-08-30</th>\n",
       "      <td>0.008720</td>\n",
       "      <td>0.001604</td>\n",
       "    </tr>\n",
       "    <tr>\n",
       "      <th>2019-08-31</th>\n",
       "      <td>0.003445</td>\n",
       "      <td>-0.011613</td>\n",
       "    </tr>\n",
       "    <tr>\n",
       "      <th>2019-09-01</th>\n",
       "      <td>0.013140</td>\n",
       "      <td>-0.007865</td>\n",
       "    </tr>\n",
       "    <tr>\n",
       "      <th>2019-09-02</th>\n",
       "      <td>0.058640</td>\n",
       "      <td>-0.002710</td>\n",
       "    </tr>\n",
       "  </tbody>\n",
       "</table>\n",
       "<p>100 rows × 2 columns</p>\n",
       "</div>"
      ],
      "text/plain": [
       "            Crypto_Return_Today  exp_value\n",
       "Date                                      \n",
       "2019-05-26             0.073921   0.016281\n",
       "2019-05-27             0.015070   0.003935\n",
       "2019-05-28            -0.009450  -0.001473\n",
       "2019-05-29            -0.006802   0.006515\n",
       "2019-05-30            -0.040319   0.001706\n",
       "...                         ...        ...\n",
       "2019-08-29            -0.025598  -0.006729\n",
       "2019-08-30             0.008720   0.001604\n",
       "2019-08-31             0.003445  -0.011613\n",
       "2019-09-01             0.013140  -0.007865\n",
       "2019-09-02             0.058640  -0.002710\n",
       "\n",
       "[100 rows x 2 columns]"
      ]
     },
     "execution_count": 49,
     "metadata": {},
     "output_type": "execute_result"
    }
   ],
   "source": [
    "df = data_complete['BTC-USD']\n",
    "df.dropna()"
   ]
  },
  {
   "cell_type": "code",
   "execution_count": null,
   "metadata": {
    "id": "DOsSsKY64m_Y"
   },
   "outputs": [],
   "source": [
    "data_aux = {}\n",
    "for crypto in cryptos:\n",
    "    data_aux[crypto] = pd.read_csv(f\"{crypto}.csv\", index_col='Date')"
   ]
  },
  {
   "cell_type": "code",
   "execution_count": null,
   "metadata": {
    "id": "0bsOIKxm4m_Y",
    "outputId": "d59f7722-cd01-487a-d8a0-40542e405a59"
   },
   "outputs": [
    {
     "data": {
      "text/html": [
       "<div>\n",
       "<style scoped>\n",
       "    .dataframe tbody tr th:only-of-type {\n",
       "        vertical-align: middle;\n",
       "    }\n",
       "\n",
       "    .dataframe tbody tr th {\n",
       "        vertical-align: top;\n",
       "    }\n",
       "\n",
       "    .dataframe thead th {\n",
       "        text-align: right;\n",
       "    }\n",
       "</style>\n",
       "<table border=\"1\" class=\"dataframe\">\n",
       "  <thead>\n",
       "    <tr style=\"text-align: right;\">\n",
       "      <th></th>\n",
       "      <th>Crypto_Return_Today</th>\n",
       "      <th>exp_value</th>\n",
       "      <th>ae</th>\n",
       "    </tr>\n",
       "    <tr>\n",
       "      <th>Date</th>\n",
       "      <th></th>\n",
       "      <th></th>\n",
       "      <th></th>\n",
       "    </tr>\n",
       "  </thead>\n",
       "  <tbody>\n",
       "    <tr>\n",
       "      <th>2019-02-13</th>\n",
       "      <td>-0.005911</td>\n",
       "      <td>-0.000663</td>\n",
       "      <td>0.005248</td>\n",
       "    </tr>\n",
       "    <tr>\n",
       "      <th>2019-02-14</th>\n",
       "      <td>-0.003943</td>\n",
       "      <td>-0.000381</td>\n",
       "      <td>0.003561</td>\n",
       "    </tr>\n",
       "    <tr>\n",
       "      <th>2019-02-15</th>\n",
       "      <td>0.000951</td>\n",
       "      <td>-0.002385</td>\n",
       "      <td>0.003336</td>\n",
       "    </tr>\n",
       "    <tr>\n",
       "      <th>2019-02-16</th>\n",
       "      <td>0.004008</td>\n",
       "      <td>-0.000742</td>\n",
       "      <td>0.004749</td>\n",
       "    </tr>\n",
       "    <tr>\n",
       "      <th>2019-02-17</th>\n",
       "      <td>0.011079</td>\n",
       "      <td>-0.000184</td>\n",
       "      <td>0.011263</td>\n",
       "    </tr>\n",
       "    <tr>\n",
       "      <th>...</th>\n",
       "      <td>...</td>\n",
       "      <td>...</td>\n",
       "      <td>...</td>\n",
       "    </tr>\n",
       "    <tr>\n",
       "      <th>2019-10-29</th>\n",
       "      <td>0.019196</td>\n",
       "      <td>0.005857</td>\n",
       "      <td>0.013339</td>\n",
       "    </tr>\n",
       "    <tr>\n",
       "      <th>2019-10-30</th>\n",
       "      <td>-0.023271</td>\n",
       "      <td>0.004103</td>\n",
       "      <td>0.027373</td>\n",
       "    </tr>\n",
       "    <tr>\n",
       "      <th>2019-10-31</th>\n",
       "      <td>-0.000312</td>\n",
       "      <td>0.005313</td>\n",
       "      <td>0.005625</td>\n",
       "    </tr>\n",
       "    <tr>\n",
       "      <th>2019-11-01</th>\n",
       "      <td>0.007273</td>\n",
       "      <td>-0.000666</td>\n",
       "      <td>0.007939</td>\n",
       "    </tr>\n",
       "    <tr>\n",
       "      <th>2019-11-02</th>\n",
       "      <td>0.006988</td>\n",
       "      <td>0.006134</td>\n",
       "      <td>0.000854</td>\n",
       "    </tr>\n",
       "  </tbody>\n",
       "</table>\n",
       "<p>263 rows × 3 columns</p>\n",
       "</div>"
      ],
      "text/plain": [
       "            Crypto_Return_Today  exp_value        ae\n",
       "Date                                                \n",
       "2019-02-13            -0.005911  -0.000663  0.005248\n",
       "2019-02-14            -0.003943  -0.000381  0.003561\n",
       "2019-02-15             0.000951  -0.002385  0.003336\n",
       "2019-02-16             0.004008  -0.000742  0.004749\n",
       "2019-02-17             0.011079  -0.000184  0.011263\n",
       "...                         ...        ...       ...\n",
       "2019-10-29             0.019196   0.005857  0.013339\n",
       "2019-10-30            -0.023271   0.004103  0.027373\n",
       "2019-10-31            -0.000312   0.005313  0.005625\n",
       "2019-11-01             0.007273  -0.000666  0.007939\n",
       "2019-11-02             0.006988   0.006134  0.000854\n",
       "\n",
       "[263 rows x 3 columns]"
      ]
     },
     "execution_count": 32,
     "metadata": {},
     "output_type": "execute_result"
    }
   ],
   "source": [
    "data_aux['BTC-USD'].dropna()"
   ]
  },
  {
   "cell_type": "code",
   "execution_count": null,
   "metadata": {
    "id": "qKXPffH04m_Y",
    "outputId": "ad559cba-487b-4cf7-e68a-88b120976ae7"
   },
   "outputs": [
    {
     "data": {
      "text/html": [
       "<div>\n",
       "<style scoped>\n",
       "    .dataframe tbody tr th:only-of-type {\n",
       "        vertical-align: middle;\n",
       "    }\n",
       "\n",
       "    .dataframe tbody tr th {\n",
       "        vertical-align: top;\n",
       "    }\n",
       "\n",
       "    .dataframe thead th {\n",
       "        text-align: right;\n",
       "    }\n",
       "</style>\n",
       "<table border=\"1\" class=\"dataframe\">\n",
       "  <thead>\n",
       "    <tr style=\"text-align: right;\">\n",
       "      <th></th>\n",
       "      <th>Crypto_Return_Today</th>\n",
       "      <th>exp_value</th>\n",
       "      <th>ae</th>\n",
       "    </tr>\n",
       "    <tr>\n",
       "      <th>Date</th>\n",
       "      <th></th>\n",
       "      <th></th>\n",
       "      <th></th>\n",
       "    </tr>\n",
       "  </thead>\n",
       "  <tbody>\n",
       "    <tr>\n",
       "      <th>2019-02-13</th>\n",
       "      <td>-0.005911</td>\n",
       "      <td>-0.000663</td>\n",
       "      <td>0.005248</td>\n",
       "    </tr>\n",
       "    <tr>\n",
       "      <th>2019-02-14</th>\n",
       "      <td>-0.003943</td>\n",
       "      <td>-0.000381</td>\n",
       "      <td>0.003561</td>\n",
       "    </tr>\n",
       "    <tr>\n",
       "      <th>2019-02-15</th>\n",
       "      <td>0.000951</td>\n",
       "      <td>-0.002385</td>\n",
       "      <td>0.003336</td>\n",
       "    </tr>\n",
       "    <tr>\n",
       "      <th>2019-02-16</th>\n",
       "      <td>0.004008</td>\n",
       "      <td>-0.000742</td>\n",
       "      <td>0.004749</td>\n",
       "    </tr>\n",
       "    <tr>\n",
       "      <th>2019-02-17</th>\n",
       "      <td>0.011079</td>\n",
       "      <td>-0.000184</td>\n",
       "      <td>0.011263</td>\n",
       "    </tr>\n",
       "    <tr>\n",
       "      <th>...</th>\n",
       "      <td>...</td>\n",
       "      <td>...</td>\n",
       "      <td>...</td>\n",
       "    </tr>\n",
       "    <tr>\n",
       "      <th>2024-11-08</th>\n",
       "      <td>0.008431</td>\n",
       "      <td>NaN</td>\n",
       "      <td>NaN</td>\n",
       "    </tr>\n",
       "    <tr>\n",
       "      <th>2024-11-09</th>\n",
       "      <td>0.002904</td>\n",
       "      <td>NaN</td>\n",
       "      <td>NaN</td>\n",
       "    </tr>\n",
       "    <tr>\n",
       "      <th>2024-11-10</th>\n",
       "      <td>0.047050</td>\n",
       "      <td>NaN</td>\n",
       "      <td>NaN</td>\n",
       "    </tr>\n",
       "    <tr>\n",
       "      <th>2024-11-11</th>\n",
       "      <td>0.097375</td>\n",
       "      <td>NaN</td>\n",
       "      <td>NaN</td>\n",
       "    </tr>\n",
       "    <tr>\n",
       "      <th>2024-11-12</th>\n",
       "      <td>-0.008488</td>\n",
       "      <td>NaN</td>\n",
       "      <td>NaN</td>\n",
       "    </tr>\n",
       "  </tbody>\n",
       "</table>\n",
       "<p>2100 rows × 3 columns</p>\n",
       "</div>"
      ],
      "text/plain": [
       "            Crypto_Return_Today  exp_value        ae\n",
       "Date                                                \n",
       "2019-02-13            -0.005911  -0.000663  0.005248\n",
       "2019-02-14            -0.003943  -0.000381  0.003561\n",
       "2019-02-15             0.000951  -0.002385  0.003336\n",
       "2019-02-16             0.004008  -0.000742  0.004749\n",
       "2019-02-17             0.011079  -0.000184  0.011263\n",
       "...                         ...        ...       ...\n",
       "2024-11-08             0.008431        NaN       NaN\n",
       "2024-11-09             0.002904        NaN       NaN\n",
       "2024-11-10             0.047050        NaN       NaN\n",
       "2024-11-11             0.097375        NaN       NaN\n",
       "2024-11-12            -0.008488        NaN       NaN\n",
       "\n",
       "[2100 rows x 3 columns]"
      ]
     },
     "execution_count": 37,
     "metadata": {},
     "output_type": "execute_result"
    }
   ],
   "source": [
    "data_aux['BTC-USD'][-2100:]\n",
    "#data_complete['BTC-USD'][:-2100]"
   ]
  },
  {
   "cell_type": "code",
   "execution_count": null,
   "metadata": {
    "id": "icM_K8yJ4m_Y"
   },
   "outputs": [],
   "source": [
    "for crypto in cryptos:\n",
    "    df_aux = data_complete[crypto]\n",
    "    df_aux = pd.concat([df_aux[:-2100], data_aux[crypto][-2100:]])\n",
    "    df_aux.index = pd.to_datetime(df_aux.index)\n",
    "    data_complete[crypto] = df_aux\n"
   ]
  },
  {
   "cell_type": "code",
   "execution_count": null,
   "metadata": {
    "id": "We9JjEsm4m_Z"
   },
   "outputs": [],
   "source": [
    "for crypto in cryptos:\n",
    "    data_complete[crypto]= data_complete[crypto][~data_complete[crypto].index.duplicated(keep='first')]"
   ]
  },
  {
   "cell_type": "code",
   "execution_count": null,
   "metadata": {
    "id": "PGFhRpKg4m_Z",
    "outputId": "3dfce4f4-6cdf-4540-f4a8-11511ec682c8"
   },
   "outputs": [
    {
     "data": {
      "text/html": [
       "<div>\n",
       "<style scoped>\n",
       "    .dataframe tbody tr th:only-of-type {\n",
       "        vertical-align: middle;\n",
       "    }\n",
       "\n",
       "    .dataframe tbody tr th {\n",
       "        vertical-align: top;\n",
       "    }\n",
       "\n",
       "    .dataframe thead th {\n",
       "        text-align: right;\n",
       "    }\n",
       "</style>\n",
       "<table border=\"1\" class=\"dataframe\">\n",
       "  <thead>\n",
       "    <tr style=\"text-align: right;\">\n",
       "      <th></th>\n",
       "      <th>Crypto_Return_Today</th>\n",
       "      <th>exp_value</th>\n",
       "      <th>ae</th>\n",
       "    </tr>\n",
       "    <tr>\n",
       "      <th>Date</th>\n",
       "      <th></th>\n",
       "      <th></th>\n",
       "      <th></th>\n",
       "    </tr>\n",
       "  </thead>\n",
       "  <tbody>\n",
       "    <tr>\n",
       "      <th>2018-07-28</th>\n",
       "      <td>0.002823</td>\n",
       "      <td>0.009356</td>\n",
       "      <td>0.006534</td>\n",
       "    </tr>\n",
       "    <tr>\n",
       "      <th>2018-07-29</th>\n",
       "      <td>0.001539</td>\n",
       "      <td>-0.000135</td>\n",
       "      <td>0.001674</td>\n",
       "    </tr>\n",
       "    <tr>\n",
       "      <th>2018-07-30</th>\n",
       "      <td>-0.005012</td>\n",
       "      <td>0.002088</td>\n",
       "      <td>0.007099</td>\n",
       "    </tr>\n",
       "    <tr>\n",
       "      <th>2018-07-31</th>\n",
       "      <td>-0.050226</td>\n",
       "      <td>0.014113</td>\n",
       "      <td>0.064339</td>\n",
       "    </tr>\n",
       "    <tr>\n",
       "      <th>2018-08-01</th>\n",
       "      <td>-0.018726</td>\n",
       "      <td>0.012572</td>\n",
       "      <td>0.031298</td>\n",
       "    </tr>\n",
       "    <tr>\n",
       "      <th>...</th>\n",
       "      <td>...</td>\n",
       "      <td>...</td>\n",
       "      <td>...</td>\n",
       "    </tr>\n",
       "    <tr>\n",
       "      <th>2019-10-29</th>\n",
       "      <td>0.019196</td>\n",
       "      <td>0.005857</td>\n",
       "      <td>0.013339</td>\n",
       "    </tr>\n",
       "    <tr>\n",
       "      <th>2019-10-30</th>\n",
       "      <td>-0.023271</td>\n",
       "      <td>0.004103</td>\n",
       "      <td>0.027373</td>\n",
       "    </tr>\n",
       "    <tr>\n",
       "      <th>2019-10-31</th>\n",
       "      <td>-0.000312</td>\n",
       "      <td>0.005313</td>\n",
       "      <td>0.005625</td>\n",
       "    </tr>\n",
       "    <tr>\n",
       "      <th>2019-11-01</th>\n",
       "      <td>0.007273</td>\n",
       "      <td>-0.000666</td>\n",
       "      <td>0.007939</td>\n",
       "    </tr>\n",
       "    <tr>\n",
       "      <th>2019-11-02</th>\n",
       "      <td>0.006988</td>\n",
       "      <td>0.006134</td>\n",
       "      <td>0.000854</td>\n",
       "    </tr>\n",
       "  </tbody>\n",
       "</table>\n",
       "<p>463 rows × 3 columns</p>\n",
       "</div>"
      ],
      "text/plain": [
       "            Crypto_Return_Today  exp_value        ae\n",
       "Date                                                \n",
       "2018-07-28             0.002823   0.009356  0.006534\n",
       "2018-07-29             0.001539  -0.000135  0.001674\n",
       "2018-07-30            -0.005012   0.002088  0.007099\n",
       "2018-07-31            -0.050226   0.014113  0.064339\n",
       "2018-08-01            -0.018726   0.012572  0.031298\n",
       "...                         ...        ...       ...\n",
       "2019-10-29             0.019196   0.005857  0.013339\n",
       "2019-10-30            -0.023271   0.004103  0.027373\n",
       "2019-10-31            -0.000312   0.005313  0.005625\n",
       "2019-11-01             0.007273  -0.000666  0.007939\n",
       "2019-11-02             0.006988   0.006134  0.000854\n",
       "\n",
       "[463 rows x 3 columns]"
      ]
     },
     "execution_count": 40,
     "metadata": {},
     "output_type": "execute_result"
    }
   ],
   "source": [
    "data_complete['BTC-USD'].dropna()"
   ]
  },
  {
   "cell_type": "code",
   "execution_count": null,
   "metadata": {
    "colab": {
     "base_uri": "https://localhost:8080/"
    },
    "id": "SSHTFWTU4m_Z",
    "outputId": "a86a7ecc-cc7b-41bc-de90-93b5e5e21ee5"
   },
   "outputs": [
    {
     "name": "stdout",
     "output_type": "stream",
     "text": [
      "Arquivo BTC-USD.csv salvo com sucesso!\n",
      "Arquivo LTC-USD.csv salvo com sucesso!\n"
     ]
    }
   ],
   "source": [
    "for crypto in cryptos:\n",
    "    # Define o nome do arquivo como o nome da criptomoeda seguido de .csv\n",
    "    filename = f\"{crypto}.csv\"\n",
    "\n",
    "    # Salva o DataFrame data_complete[crypto] no arquivo .csv\n",
    "    data_complete[crypto].to_csv(filename, index=True)\n",
    "\n",
    "    print(f\"Arquivo {filename} salvo com sucesso!\")"
   ]
  },
  {
   "cell_type": "code",
   "execution_count": 50,
   "metadata": {
    "id": "LpVgYxD8X9a4"
   },
   "outputs": [],
   "source": [
    "data_visual = data_complete.copy()"
   ]
  },
  {
   "cell_type": "code",
   "execution_count": 51,
   "metadata": {
    "id": "lqUcWrTAX9a4",
    "outputId": "5ff9e898-3bbb-4a76-9354-2d594105fc8b"
   },
   "outputs": [
    {
     "data": {
      "text/html": [
       "<div>\n",
       "<style scoped>\n",
       "    .dataframe tbody tr th:only-of-type {\n",
       "        vertical-align: middle;\n",
       "    }\n",
       "\n",
       "    .dataframe tbody tr th {\n",
       "        vertical-align: top;\n",
       "    }\n",
       "\n",
       "    .dataframe thead th {\n",
       "        text-align: right;\n",
       "    }\n",
       "</style>\n",
       "<table border=\"1\" class=\"dataframe\">\n",
       "  <thead>\n",
       "    <tr style=\"text-align: right;\">\n",
       "      <th></th>\n",
       "      <th>Crypto</th>\n",
       "      <th>Num Subidas (Real)</th>\n",
       "      <th>Perc Subidas (Real)</th>\n",
       "      <th>Num Quedas (Real)</th>\n",
       "      <th>Num Subidas (Pred)</th>\n",
       "      <th>Perc Subidas (Pred)</th>\n",
       "      <th>Num Quedas (Pred)</th>\n",
       "      <th>MAE</th>\n",
       "      <th>Acc</th>\n",
       "      <th>Sen</th>\n",
       "      <th>Spe</th>\n",
       "      <th>Pre</th>\n",
       "      <th>Lower bound dos 10% maiores</th>\n",
       "      <th>Precisao para maiores que 0.008</th>\n",
       "    </tr>\n",
       "  </thead>\n",
       "  <tbody>\n",
       "    <tr>\n",
       "      <th>0</th>\n",
       "      <td>BTC-USD</td>\n",
       "      <td>56</td>\n",
       "      <td>56.0</td>\n",
       "      <td>44</td>\n",
       "      <td>70</td>\n",
       "      <td>70.0</td>\n",
       "      <td>30</td>\n",
       "      <td>0.035818</td>\n",
       "      <td>0.46</td>\n",
       "      <td>0.642857</td>\n",
       "      <td>0.227273</td>\n",
       "      <td>0.514286</td>\n",
       "      <td>0.003503</td>\n",
       "      <td>0.52</td>\n",
       "    </tr>\n",
       "    <tr>\n",
       "      <th>1</th>\n",
       "      <td>ETH-USD</td>\n",
       "      <td>52</td>\n",
       "      <td>52.0</td>\n",
       "      <td>48</td>\n",
       "      <td>52</td>\n",
       "      <td>52.0</td>\n",
       "      <td>48</td>\n",
       "      <td>0.033729</td>\n",
       "      <td>0.60</td>\n",
       "      <td>0.615385</td>\n",
       "      <td>0.583333</td>\n",
       "      <td>0.615385</td>\n",
       "      <td>0.002097</td>\n",
       "      <td>0.64</td>\n",
       "    </tr>\n",
       "  </tbody>\n",
       "</table>\n",
       "</div>"
      ],
      "text/plain": [
       "    Crypto  Num Subidas (Real)  Perc Subidas (Real)  Num Quedas (Real)  \\\n",
       "0  BTC-USD                  56                 56.0                 44   \n",
       "1  ETH-USD                  52                 52.0                 48   \n",
       "\n",
       "   Num Subidas (Pred)  Perc Subidas (Pred)  Num Quedas (Pred)       MAE   Acc  \\\n",
       "0                  70                 70.0                 30  0.035818  0.46   \n",
       "1                  52                 52.0                 48  0.033729  0.60   \n",
       "\n",
       "        Sen       Spe       Pre  Lower bound dos 10% maiores  \\\n",
       "0  0.642857  0.227273  0.514286                     0.003503   \n",
       "1  0.615385  0.583333  0.615385                     0.002097   \n",
       "\n",
       "   Precisao para maiores que 0.008  \n",
       "0                             0.52  \n",
       "1                             0.64  "
      ]
     },
     "execution_count": 51,
     "metadata": {},
     "output_type": "execute_result"
    }
   ],
   "source": [
    "results = []\n",
    "\n",
    "for crypto in cryptos:\n",
    "    df = data_visual[crypto]\n",
    "    df['ae'] = df['exp_value'] - df['Crypto_Return_Today']\n",
    "    df['ae'] = abs(df['ae'])\n",
    "    df = df.dropna()\n",
    "\n",
    "    # Cálculos dos valores\n",
    "    num_positive = (df['Crypto_Return_Today'] > 0).sum()\n",
    "    num_negative = (df['Crypto_Return_Today'] < 0).sum()\n",
    "    hat_pos = (df['exp_value'] > 0).sum()\n",
    "    hat_neg = (df['exp_value'] < 0).sum()\n",
    "\n",
    "    # Calcula a porcentagem de subidas e quedas reais e previstas\n",
    "    total_real = num_positive + num_negative\n",
    "    total_pred = hat_pos + hat_neg\n",
    "    perc_positive_real = (100 * num_positive / total_real) if total_real > 0 else None\n",
    "    perc_positive_pred = (100 * hat_pos / total_pred) if total_pred > 0 else None\n",
    "\n",
    "    # Calcular métricas de avaliação\n",
    "    TP = ((df['Crypto_Return_Today'] > 0) & (df['exp_value'] > 0)).sum()\n",
    "    TN = ((df['Crypto_Return_Today'] < 0) & (df['exp_value'] < 0)).sum()\n",
    "    FP = ((df['Crypto_Return_Today'] < 0) & (df['exp_value'] > 0)).sum()\n",
    "    FN = ((df['Crypto_Return_Today'] > 0) & (df['exp_value'] < 0)).sum()\n",
    "    mae = df['ae'].mean()\n",
    "    acc = (TP + TN) / (TP + FP + FN + TN) if (TP + FP + FN + FP) > 0 else None\n",
    "    sen = TP / (TP + FN) if (TP + FN) > 0 else None\n",
    "    spe = TN / (TN + FP) if (TN + FP) > 0 else None\n",
    "    pre = TP / (TP + FP) if (TP + FP) > 0 else None\n",
    "\n",
    "    # Lower bound dos 10% maiores\n",
    "    limite_90 = df['exp_value'].quantile(0.75)\n",
    "    menor_valor_10_maiores = df[df['exp_value'] >= limite_90]['exp_value'].min()\n",
    "\n",
    "    # Precisão para valores maiores que 0.008\n",
    "    TP_threshold = ((df['Crypto_Return_Today'] > 0) & (df['exp_value'] > 0) & (df['exp_value'] >= limite_90)).sum()\n",
    "    FP_threshold = ((df['Crypto_Return_Today'] < 0) & (df['exp_value'] > 0) & (df['exp_value'] >= limite_90)).sum()\n",
    "    prec_maior_008 = TP_threshold / (TP_threshold + FP_threshold) if (TP_threshold + FP_threshold) > 0 else None\n",
    "\n",
    "    # Adicionando os resultados para a criptomoeda atual\n",
    "    results.append({\n",
    "        \"Crypto\": crypto,\n",
    "        \"Num Subidas (Real)\": num_positive,\n",
    "        \"Perc Subidas (Real)\": perc_positive_real,\n",
    "        \"Num Quedas (Real)\": num_negative,\n",
    "        \"Num Subidas (Pred)\": hat_pos,\n",
    "        \"Perc Subidas (Pred)\": perc_positive_pred,\n",
    "        \"Num Quedas (Pred)\": hat_neg,\n",
    "        \"MAE\": mae,\n",
    "        \"Acc\": acc,\n",
    "        \"Sen\": sen,\n",
    "        \"Spe\": spe,\n",
    "        \"Pre\": pre,\n",
    "        \"Lower bound dos 10% maiores\": menor_valor_10_maiores,\n",
    "        \"Precisao para maiores que 0.008\": prec_maior_008\n",
    "    })\n",
    "\n",
    "# Criando um DataFrame com os resultados\n",
    "results_df = pd.DataFrame(results)\n",
    "\n",
    "# Exibindo a tabela com os resultados\n",
    "\n",
    "# Exibindo a tabela com os resultados\n",
    "#results_df.to_csv(\"resultado_arquitetura_2.csv\", index = True)\n",
    "results_df"
   ]
  },
  {
   "cell_type": "code",
   "execution_count": null,
   "metadata": {
    "id": "i6Wo9pfJX9a5",
    "outputId": "c76a490e-7e62-44ba-c38e-0402057d7beb"
   },
   "outputs": [
    {
     "name": "stdout",
     "output_type": "stream",
     "text": [
      "Pre_media  0.5117948717948718\n",
      "Acc_media  0.5172786177105831\n",
      "MAE_media  0.029441449071043672\n",
      "Precisao_25_media 0.5086206896551724\n"
     ]
    }
   ],
   "source": [
    "Pre_media = results_df['Pre'].mean()\n",
    "Acc_media = results_df['Acc'].mean()\n",
    "MAE_media = results_df['MAE'].mean()\n",
    "Precisao_25_media = results_df['Precisao para maiores que 0.008'].mean()\n",
    "print(\"Pre_media \", Pre_media)\n",
    "print(\"Acc_media \", Acc_media)\n",
    "print(\"MAE_media \", MAE_media)\n",
    "print(\"Precisao_25_media\", Precisao_25_media)"
   ]
  },
  {
   "cell_type": "markdown",
   "metadata": {
    "id": "2tVYBdoQ4m_a"
   },
   "source": [
    "## 3.3 Método 2 para os ultimos X intervalos"
   ]
  },
  {
   "cell_type": "markdown",
   "metadata": {
    "id": "6nsikEqU4m_a"
   },
   "source": [
    "* Aplicar bagging\n",
    "* Aplicar CV e Otimização de HP\n",
    "* Fazer treinamento para uma janela W maior de tempo"
   ]
  },
  {
   "cell_type": "code",
   "execution_count": null,
   "metadata": {
    "id": "Pgj_ZRMu4m_a"
   },
   "outputs": [],
   "source": [
    "# for day in data[crypto]:\n",
    "#       day = bagging(day)\n",
    "\n",
    "# for day in data[crypto]:\n",
    "#       for sample in day:\n",
    "#               sample = CV(sample) # transforma sample em um vetor de folds. Ultimos 10% do fold são validation e 90% são pure train\n",
    "\n",
    "# for day in data[crypto]:\n",
    "#       for sample in day:\n",
    "#               for fold in sample:\n",
    "#                       y_hat = model(fold)\n",
    "#               y_hat_mean = y_hat / len(sample)\n",
    "#       y_hat_mean_mean = y_hat_mean / len(day)"
   ]
  }
 ],
 "metadata": {
  "colab": {
   "provenance": []
  },
  "kernelspec": {
   "display_name": "Python 3",
   "name": "python3"
  },
  "language_info": {
   "codemirror_mode": {
    "name": "ipython",
    "version": 3
   },
   "file_extension": ".py",
   "mimetype": "text/x-python",
   "name": "python",
   "nbconvert_exporter": "python",
   "pygments_lexer": "ipython3",
   "version": "3.11.9"
  }
 },
 "nbformat": 4,
 "nbformat_minor": 0
}
