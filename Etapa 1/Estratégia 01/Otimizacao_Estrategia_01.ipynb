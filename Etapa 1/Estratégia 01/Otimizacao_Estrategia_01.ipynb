{
 "cells": [
  {
   "cell_type": "code",
   "execution_count": 6,
   "metadata": {},
   "outputs": [],
   "source": [
    "import yfinance as yf\n",
    "import numpy as np\n",
    "import matplotlib.pyplot as plt\n",
    "import math\n",
    "import pandas as pd"
   ]
  },
  {
   "cell_type": "code",
   "execution_count": 7,
   "metadata": {},
   "outputs": [
    {
     "name": "stderr",
     "output_type": "stream",
     "text": [
      "[*********************100%%**********************]  1 of 1 completed\n",
      "[*********************100%%**********************]  1 of 1 completed\n",
      "[*********************100%%**********************]  1 of 1 completed\n",
      "[*********************100%%**********************]  1 of 1 completed\n",
      "[*********************100%%**********************]  1 of 1 completed\n",
      "[*********************100%%**********************]  1 of 1 completed\n",
      "[*********************100%%**********************]  1 of 1 completed\n",
      "[*********************100%%**********************]  1 of 1 completed\n",
      "[*********************100%%**********************]  1 of 1 completed\n",
      "[*********************100%%**********************]  1 of 1 completed\n",
      "[*********************100%%**********************]  1 of 1 completed\n",
      "[*********************100%%**********************]  1 of 1 completed\n",
      "[*********************100%%**********************]  1 of 1 completed\n",
      "[*********************100%%**********************]  1 of 1 completed\n",
      "[*********************100%%**********************]  1 of 1 completed\n",
      "[*********************100%%**********************]  1 of 1 completed\n",
      "[*********************100%%**********************]  1 of 1 completed\n",
      "[*********************100%%**********************]  1 of 1 completed\n",
      "[*********************100%%**********************]  1 of 1 completed\n",
      "[*********************100%%**********************]  1 of 1 completed\n",
      "[*********************100%%**********************]  1 of 1 completed\n"
     ]
    }
   ],
   "source": [
    "cryptos = [\n",
    "    'BTC-USD', 'ETH-USD', 'XRP-USD', 'LTC-USD', 'BCH-USD', 'ADA-USD',\n",
    "    'DOT-USD', 'LINK-USD', 'DOGE-USD', 'MATIC-USD', 'UNI-USD', 'SOL-USD',\n",
    "    'TRX-USD', 'XLM-USD', 'AVAX-USD', 'SHIB-USD', 'FIL-USD', 'ALGO-USD',\n",
    "    'VET-USD', 'XTZ-USD', 'EOS-USD'\n",
    "]\n",
    "\n",
    "datas = []\n",
    "for crypto in cryptos:\n",
    "    datas.append(yf.download(crypto, start='2010-01-01', end='2022-12-31'))\n",
    "\n",
    "\n",
    "def calculate_mse(data, N, x_days):\n",
    "    resample_period = f'{x_days}D'\n",
    "    data = data.resample(resample_period).agg({'Open': 'first', 'Close': 'last'})\n",
    "    data['Log Return'] = (data['Close'] / data['Open']).apply(math.log)\n",
    "    data['Predicted Value'] = data['Log Return'].rolling(window=N).mean().shift(1)\n",
    "    data['Predicted Risk'] = data['Log Return'].rolling(window=N).std().shift(1)\n",
    "    data = data.dropna()\n",
    "    data['Squared Error'] = (data['Log Return'] - data['Predicted Value'])**2\n",
    "    mse = data['Squared Error'].mean()\n",
    "    return mse\n",
    "\n",
    "results = []"
   ]
  },
  {
   "cell_type": "code",
   "execution_count": 8,
   "metadata": {},
   "outputs": [],
   "source": [
    "for x_days in range(1, 360):\n",
    "    for N in range(2, 400):\n",
    "        mse_list = []\n",
    "        for data in datas:\n",
    "            mse = calculate_mse(data, N, x_days)\n",
    "            mse_list.append(mse)\n",
    "        \n",
    "        mean_mse = sum(mse_list) / len(mse_list)\n",
    "        \n",
    "        results.append((mean_mse, N, x_days))"
   ]
  },
  {
   "cell_type": "code",
   "execution_count": 9,
   "metadata": {},
   "outputs": [
    {
     "name": "stdout",
     "output_type": "stream",
     "text": [
      "Média MSE: 0.014484, N: 62, x_days: 1\n",
      "Média MSE: 0.014487, N: 59, x_days: 1\n",
      "Média MSE: 0.014487, N: 69, x_days: 1\n",
      "Média MSE: 0.014487, N: 60, x_days: 1\n",
      "Média MSE: 0.014488, N: 61, x_days: 1\n",
      "Média MSE: 0.014489, N: 70, x_days: 1\n",
      "Média MSE: 0.014490, N: 64, x_days: 1\n",
      "Média MSE: 0.014491, N: 58, x_days: 1\n",
      "Média MSE: 0.014494, N: 63, x_days: 1\n",
      "Média MSE: 0.014494, N: 71, x_days: 1\n"
     ]
    }
   ],
   "source": [
    "results.sort()\n",
    "\n",
    "top_10_results = results[:10]\n",
    "\n",
    "for result in top_10_results:\n",
    "    mean_mse, N, x_days = result\n",
    "    print(f'Média MSE: {mean_mse:.6f}, N: {N}, x_days: {x_days}')"
   ]
  },
  {
   "cell_type": "code",
   "execution_count": 11,
   "metadata": {},
   "outputs": [
    {
     "ename": "AttributeError",
     "evalue": "'list' object has no attribute 'tail'",
     "output_type": "error",
     "traceback": [
      "\u001b[1;31m---------------------------------------------------------------------------\u001b[0m",
      "\u001b[1;31mAttributeError\u001b[0m                            Traceback (most recent call last)",
      "Cell \u001b[1;32mIn[11], line 1\u001b[0m\n\u001b[1;32m----> 1\u001b[0m \u001b[43mresults\u001b[49m\u001b[38;5;241;43m.\u001b[39;49m\u001b[43mtail\u001b[49m()\n",
      "\u001b[1;31mAttributeError\u001b[0m: 'list' object has no attribute 'tail'"
     ]
    }
   ],
   "source": []
  }
 ],
 "metadata": {
  "kernelspec": {
   "display_name": "Python 3",
   "language": "python",
   "name": "python3"
  },
  "language_info": {
   "codemirror_mode": {
    "name": "ipython",
    "version": 3
   },
   "file_extension": ".py",
   "mimetype": "text/x-python",
   "name": "python",
   "nbconvert_exporter": "python",
   "pygments_lexer": "ipython3",
   "version": "3.11.9"
  }
 },
 "nbformat": 4,
 "nbformat_minor": 2
}
